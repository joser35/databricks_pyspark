{
 "cells": [
  {
   "cell_type": "markdown",
   "metadata": {
    "application/vnd.databricks.v1+cell": {
     "cellMetadata": {},
     "inputWidgets": {},
     "nuid": "58cfe1ea-b0db-4762-b2e6-45c7f78ec03e",
     "showTitle": false,
     "tableResultSettingsMap": {},
     "title": ""
    }
   },
   "source": [
    "# Regresión lineal usando Pyspark\n",
    "**Elaborado por: Naren Castellon**\n",
    "\n",
    "Como hablamos sobre el aprendizaje automático, es un campo muy amplio y hay múltiples algoritmos que se clasifican en varias categorías, pero la regresión lineal es uno de los algoritmos de aprendizaje automático más fundamentales. Este capítulo se centra en la construcción de un modelo de regresión lineal con PySpark y profundiza en el funcionamiento de un modelo LR. Cubrirá varios supuestos a considerar antes de usar LR junto con diferentes métricas de evaluación. Pero antes incluso de intentar comprender la regresión lineal, debemos comprender los tipos de variables."
   ]
  },
  {
   "cell_type": "markdown",
   "metadata": {
    "application/vnd.databricks.v1+cell": {
     "cellMetadata": {},
     "inputWidgets": {},
     "nuid": "7abcaa5f-3032-4d8c-8e98-1ed0da312464",
     "showTitle": false,
     "tableResultSettingsMap": {},
     "title": ""
    }
   },
   "source": [
    "## Variables\n",
    "Las variables capturan información de datos en diferentes formas. Hay principalmente dos categorías de variables que se usan ampliamente, como se muestra en la Figura"
   ]
  },
  {
   "cell_type": "markdown",
   "metadata": {
    "application/vnd.databricks.v1+cell": {
     "cellMetadata": {},
     "inputWidgets": {},
     "nuid": "fe201f85-5283-4836-9802-767697e753d5",
     "showTitle": false,
     "tableResultSettingsMap": {},
     "title": ""
    }
   },
   "source": [
    "<center><img src=\"https://raw.githubusercontent.com/narencastellon/databricks_pyspark/refs/heads/main/imagen/tipos-de-variables.png\" width=\"800\" height=\"500\"></center>"
   ]
  },
  {
   "cell_type": "markdown",
   "metadata": {
    "application/vnd.databricks.v1+cell": {
     "cellMetadata": {},
     "inputWidgets": {},
     "nuid": "1b130b59-5723-4d41-9a16-4169ac3223e4",
     "showTitle": false,
     "tableResultSettingsMap": {},
     "title": ""
    }
   },
   "source": [
    "Incluso podemos dividir estas variables en subcategorías, pero nos limitaremos a estos dos tipos a lo largo de este libro.\n",
    "\n",
    "Las variables numéricas son ese tipo de valores que son de naturaleza cuantitativa, como los números (enteros/flotantes). Por ejemplo, los registros de salarios, los puntajes de los exámenes, la edad o la estatura de una persona y los precios de las acciones se incluyen en la categoría de variables numéricas.\n",
    "\n",
    "Las variables categóricas, por otro lado, son de naturaleza cualitativa y representan principalmente categorías de datos que se están midiendo. Por ejemplo, colores, resultado (Sí/No), Calificaciones (Bueno/Deficiente/Promedio).\n",
    "\n",
    "Para construir cualquier tipo de modelo de aprendizaje automático, necesitamos tener variables de entrada y salida. Las variables de entrada son aquellos valores que se utilizan para construir y entrenar el modelo de aprendizaje automático para predecir la variable de destino o de salida. Tomemos un ejemplo simple. Supongamos que queremos predecir el salario de una persona dada la edad de la persona que usa el aprendizaje automático. En este caso, el salario es nuestra variable de salida/objetivo/dependiente ya que depende de la edad, lo que se conoce como entrada o variable independiente. Ahora la variable de salida puede ser de naturaleza categórica o numérica y dependiendo de su tipo se eligen modelos de aprendizaje automático."
   ]
  },
  {
   "cell_type": "markdown",
   "metadata": {
    "application/vnd.databricks.v1+cell": {
     "cellMetadata": {},
     "inputWidgets": {},
     "nuid": "b3fa96f4-ca80-4d84-9ddc-cfd8436ffb47",
     "showTitle": false,
     "tableResultSettingsMap": {},
     "title": ""
    }
   },
   "source": [
    "Ahora, volviendo a la regresión lineal, se usa principalmente en los casos en que intentamos predecir una variable de salida numérica. La regresión lineal se usa para predecir una línea que se ajusta a los datos de entrada, apunta de la mejor manera posible y puede ayudar en las predicciones de datos no vistos, pero el punto a notar aquí es cómo puede un modelo aprender solo de la \"edad\" y predecir el salario. cantidad para una persona dada? Por supuesto, debe haber algún tipo de relación entre estas dos variables (salario y edad). Hay dos tipos principales de relaciones variables:\n",
    "* Lineal\n",
    "* No lineal"
   ]
  },
  {
   "cell_type": "markdown",
   "metadata": {
    "application/vnd.databricks.v1+cell": {
     "cellMetadata": {},
     "inputWidgets": {},
     "nuid": "5432319b-c115-452f-9090-b40b51807fd5",
     "showTitle": false,
     "tableResultSettingsMap": {},
     "title": ""
    }
   },
   "source": [
    "La noción de una relación lineal entre dos variables sugiere que ambas son proporcionales entre sí de alguna manera. La correlación entre dos variables nos da una indicación de cuán fuerte o débil es la relación lineal entre ellas. El coeficiente de correlación puede variar de -1 a + 1. La correlación negativa significa que al aumentar una de las variables, la otra variable disminuye. Por ejemplo, la potencia y el kilometraje de un vehículo pueden tener una correlación negativa porque a medida que aumentamos la potencia, el kilometraje de un vehículo disminuye. Por otro lado, el salario y los años de experiencia laboral son un ejemplo de variables correlacionadas positivamente. Las relaciones no lineales son de naturaleza comparativamente compleja y, por lo tanto, requieren una cantidad adicional de detalles para predecir las variables objetivo. Por ejemplo, en un automóvil autónomo, la relación entre las variables de entrada, como el terreno, el sistema de señales y el peatón, y la velocidad del automóvil no son lineales.\n",
    "\n",
    "**Nota** La siguiente sección incluye la teoría detrás de la regresión lineal y podría ser redundante para muchos lectores. Por favor, siéntase libre de omitir la sección si este es el caso."
   ]
  },
  {
   "cell_type": "markdown",
   "metadata": {
    "application/vnd.databricks.v1+cell": {
     "cellMetadata": {},
     "inputWidgets": {},
     "nuid": "c01acc02-5f7c-4d40-bd43-401e9ed4f633",
     "showTitle": false,
     "tableResultSettingsMap": {},
     "title": ""
    }
   },
   "source": [
    "## Teoría\n",
    "Ahora que comprendemos los conceptos básicos de las variables y las relaciones entre ellas, construyamos sobre el ejemplo de la edad y el salario para comprender la regresión lineal en profundidad.\n",
    "\n",
    "El objetivo general de la regresión lineal es predecir una línea recta a través de los datos, de modo que la distancia vertical de cada uno de estos puntos sea mínima desde esa línea. Entonces, en este caso, predeciremos el salario de una persona dada una edad. "
   ]
  },
  {
   "cell_type": "markdown",
   "metadata": {
    "application/vnd.databricks.v1+cell": {
     "cellMetadata": {},
     "inputWidgets": {},
     "nuid": "1372668e-f3f4-4dcb-b318-08d55aab0107",
     "showTitle": false,
     "tableResultSettingsMap": {},
     "title": ""
    }
   },
   "source": [
    "### Paso 1: crear el objeto SparkSession\n",
    "Iniciamos Jupyter Notebook e importamos SparkSession y creamos un nuevo objeto `SparkSession` para usar Spark:"
   ]
  },
  {
   "cell_type": "code",
   "execution_count": 0,
   "metadata": {
    "application/vnd.databricks.v1+cell": {
     "cellMetadata": {
      "byteLimit": 2048000,
      "rowLimit": 10000
     },
     "inputWidgets": {},
     "nuid": "03a84119-cae4-482d-9b37-e17d3e59251f",
     "showTitle": false,
     "tableResultSettingsMap": {},
     "title": ""
    }
   },
   "outputs": [],
   "source": [
    "#create sparksession object\n",
    "from pyspark.sql import SparkSession\n",
    "spark=SparkSession.builder.appName('Regresión_lineal').getOrCreate()\n",
    "\n",
    "import warnings\n",
    "warnings.filterwarnings(\"ignore\")"
   ]
  },
  {
   "cell_type": "markdown",
   "metadata": {
    "application/vnd.databricks.v1+cell": {
     "cellMetadata": {},
     "inputWidgets": {},
     "nuid": "0948a7d4-6542-42c1-8a9b-4d37505e8611",
     "showTitle": false,
     "tableResultSettingsMap": {},
     "title": ""
    }
   },
   "source": [
    "### Paso 2: Leer el conjunto de datos\n",
    "Luego cargamos y leemos el conjunto de datos dentro de Spark usando Dataframe. Tenemos que asegurarnos de haber abierto PySpark desde la misma carpeta de directorio donde está disponible el conjunto de datos o, de lo contrario, debemos mencionar la ruta del directorio de la carpeta de datos:"
   ]
  },
  {
   "cell_type": "code",
   "execution_count": 0,
   "metadata": {
    "application/vnd.databricks.v1+cell": {
     "cellMetadata": {
      "byteLimit": 2048000,
      "rowLimit": 10000
     },
     "inputWidgets": {},
     "nuid": "17ec4998-47da-45bc-9a88-f2f91adc5409",
     "showTitle": false,
     "tableResultSettingsMap": {},
     "title": ""
    }
   },
   "outputs": [],
   "source": [
    "#import Linear Regression from spark's MLlib\n",
    "from pyspark.ml.regression import LinearRegression\n",
    "from pyspark.sql import functions as F"
   ]
  },
  {
   "cell_type": "code",
   "execution_count": 0,
   "metadata": {
    "application/vnd.databricks.v1+cell": {
     "cellMetadata": {
      "byteLimit": 2048000,
      "rowLimit": 10000
     },
     "inputWidgets": {},
     "nuid": "262b86ff-6af5-4e63-aae0-b9c480770395",
     "showTitle": false,
     "tableResultSettingsMap": {},
     "title": ""
    }
   },
   "outputs": [
    {
     "output_type": "stream",
     "name": "stdout",
     "output_type": "stream",
     "text": [
      "+---------+--------+------------------+-----------+--------------+----------+----------+-------------+------------------+---------------+\n|longitude|latitude|housing_median_age|total_rooms|total_bedrooms|population|households|median_income|median_house_value|ocean_proximity|\n+---------+--------+------------------+-----------+--------------+----------+----------+-------------+------------------+---------------+\n|  -122.23|   37.88|              41.0|      880.0|         129.0|     322.0|     126.0|       8.3252|          452600.0|       NEAR BAY|\n|  -122.22|   37.86|              21.0|     7099.0|        1106.0|    2401.0|    1138.0|       8.3014|          358500.0|       NEAR BAY|\n|  -122.24|   37.85|              52.0|     1467.0|         190.0|     496.0|     177.0|       7.2574|          352100.0|       NEAR BAY|\n|  -122.25|   37.85|              52.0|     1274.0|         235.0|     558.0|     219.0|       5.6431|          341300.0|       NEAR BAY|\n|  -122.25|   37.85|              52.0|     1627.0|         280.0|     565.0|     259.0|       3.8462|          342200.0|       NEAR BAY|\n+---------+--------+------------------+-----------+--------------+----------+----------+-------------+------------------+---------------+\nonly showing top 5 rows\n\n"
     ]
    }
   ],
   "source": [
    "# Cargamos los datos\n",
    "\n",
    "#filename = \"/FileStore/tables/Linear_regression_dataset.csv\"\n",
    "\n",
    "filename = \"/FileStore/tables/housing.csv\"\n",
    "\n",
    "df = spark.read.csv(filename, header=True, inferSchema=True, sep=',')\n",
    "#display(df)\n",
    "df.show(5)"
   ]
  },
  {
   "cell_type": "markdown",
   "metadata": {
    "application/vnd.databricks.v1+cell": {
     "cellMetadata": {},
     "inputWidgets": {},
     "nuid": "fb302c04-bc58-46e6-b121-cc58dea4b32c",
     "showTitle": false,
     "tableResultSettingsMap": {},
     "title": ""
    }
   },
   "source": [
    "### Paso 3: Análisis de datos exploratorios\n",
    "En esta sección, profundizamos en el conjunto de datos mediante la visualización del conjunto de datos, la validación de la forma del conjunto de datos, varias medidas estadísticas y las correlaciones entre las variables de entrada y salida. Empezamos comprobando la forma del conjunto de datos."
   ]
  },
  {
   "cell_type": "code",
   "execution_count": 0,
   "metadata": {
    "application/vnd.databricks.v1+cell": {
     "cellMetadata": {
      "byteLimit": 2048000,
      "rowLimit": 10000
     },
     "inputWidgets": {},
     "nuid": "f84890f8-0638-4496-8055-4b4d738a833e",
     "showTitle": false,
     "tableResultSettingsMap": {},
     "title": ""
    }
   },
   "outputs": [
    {
     "output_type": "stream",
     "name": "stdout",
     "output_type": "stream",
     "text": [
      "(20640, 10)\n"
     ]
    }
   ],
   "source": [
    "# Tamaño de mis datos \n",
    "print((df.count(), len(df.columns)))"
   ]
  },
  {
   "cell_type": "markdown",
   "metadata": {
    "application/vnd.databricks.v1+cell": {
     "cellMetadata": {},
     "inputWidgets": {},
     "nuid": "231a010b-176e-4684-93c6-00b9f16d43af",
     "showTitle": false,
     "tableResultSettingsMap": {},
     "title": ""
    }
   },
   "source": [
    "El resultado anterior confirma el tamaño de nuestro conjunto de datos, y podemos validar los tipos de datos de los valores de entrada para verificar si necesitamos cambiar/convertir los tipos de datos de las columnas. En este ejemplo, todas las columnas contienen valores enteros o dobles."
   ]
  },
  {
   "cell_type": "code",
   "execution_count": 0,
   "metadata": {
    "application/vnd.databricks.v1+cell": {
     "cellMetadata": {
      "byteLimit": 2048000,
      "rowLimit": 10000
     },
     "inputWidgets": {},
     "nuid": "5984e794-7da7-4ff3-bfcf-c899b7857ffa",
     "showTitle": false,
     "tableResultSettingsMap": {},
     "title": ""
    }
   },
   "outputs": [
    {
     "output_type": "stream",
     "name": "stdout",
     "output_type": "stream",
     "text": [
      "root\n |-- longitude: double (nullable = true)\n |-- latitude: double (nullable = true)\n |-- housing_median_age: double (nullable = true)\n |-- total_rooms: double (nullable = true)\n |-- total_bedrooms: double (nullable = true)\n |-- population: double (nullable = true)\n |-- households: double (nullable = true)\n |-- median_income: double (nullable = true)\n |-- median_house_value: double (nullable = true)\n |-- ocean_proximity: string (nullable = true)\n\n"
     ]
    }
   ],
   "source": [
    "#explore the data\n",
    "df.printSchema()"
   ]
  },
  {
   "cell_type": "markdown",
   "metadata": {
    "application/vnd.databricks.v1+cell": {
     "cellMetadata": {},
     "inputWidgets": {},
     "nuid": "4beba21c-e9ed-49f6-a02a-23814237667b",
     "showTitle": false,
     "tableResultSettingsMap": {},
     "title": ""
    }
   },
   "source": [
    "Hay un total de seis columnas, de las cuales cinco son columnas de entrada (var_1 a var_5) y columna de destino (salida). Ahora podemos usar la función de descripción para repasar las medidas estadísticas del conjunto de datos."
   ]
  },
  {
   "cell_type": "code",
   "execution_count": 0,
   "metadata": {
    "application/vnd.databricks.v1+cell": {
     "cellMetadata": {
      "byteLimit": 2048000,
      "rowLimit": 10000
     },
     "inputWidgets": {},
     "nuid": "5ee2b40d-f45d-48ad-9f18-337cb91c3129",
     "showTitle": false,
     "tableResultSettingsMap": {},
     "title": ""
    }
   },
   "outputs": [
    {
     "output_type": "stream",
     "name": "stdout",
     "output_type": "stream",
     "text": [
      "+-------+-------------------+-----------------+------------------+------------------+------------------+------------------+-----------------+------------------+------------------+---------------+\n|summary|longitude          |latitude         |housing_median_age|total_rooms       |total_bedrooms    |population        |households       |median_income     |median_house_value|ocean_proximity|\n+-------+-------------------+-----------------+------------------+------------------+------------------+------------------+-----------------+------------------+------------------+---------------+\n|count  |20640              |20640            |20640             |20640             |20433             |20640             |20640            |20640             |20640             |20640          |\n|mean   |-119.56970445736148|35.6318614341087 |28.639486434108527|2635.7630813953488|537.8705525375618 |1425.4767441860465|499.5396802325581|3.8706710029070246|206855.81690891474|null           |\n|stddev |2.003531723502584  |2.135952397457101|12.58555761211163 |2181.6152515827944|421.38507007403115|1132.46212176534  |382.3297528316098|1.899821717945263 |115395.61587441359|null           |\n|min    |-124.35            |32.54            |1.0               |2.0               |1.0               |3.0               |1.0              |0.4999            |14999.0           |<1H OCEAN      |\n|max    |-114.31            |41.95            |52.0              |39320.0           |6445.0            |35682.0           |6082.0           |15.0001           |500001.0          |NEAR OCEAN     |\n+-------+-------------------+-----------------+------------------+------------------+------------------+------------------+-----------------+------------------+------------------+---------------+\n\n"
     ]
    }
   ],
   "source": [
    "#view statistical measures of data \n",
    "df.describe().show(5,False)"
   ]
  },
  {
   "cell_type": "code",
   "execution_count": 0,
   "metadata": {
    "application/vnd.databricks.v1+cell": {
     "cellMetadata": {
      "byteLimit": 2048000,
      "rowLimit": 10000
     },
     "inputWidgets": {},
     "nuid": "44a93956-1a98-41e9-acfe-312cd7c11935",
     "showTitle": false,
     "tableResultSettingsMap": {},
     "title": ""
    }
   },
   "outputs": [
    {
     "output_type": "stream",
     "name": "stdout",
     "output_type": "stream",
     "text": [
      "+-------+-------------------+-----------------+------------------+------------------+------------------+------------------+-----------------+------------------+------------------+---------------+\n|summary|          longitude|         latitude|housing_median_age|       total_rooms|    total_bedrooms|        population|       households|     median_income|median_house_value|ocean_proximity|\n+-------+-------------------+-----------------+------------------+------------------+------------------+------------------+-----------------+------------------+------------------+---------------+\n|  count|              20640|            20640|             20640|             20640|             20433|             20640|            20640|             20640|             20640|          20640|\n|   mean|-119.56970445736148| 35.6318614341087|28.639486434108527|2635.7630813953488| 537.8705525375618|1425.4767441860465|499.5396802325581|3.8706710029070246|206855.81690891474|           null|\n| stddev|  2.003531723502584|2.135952397457101| 12.58555761211163|2181.6152515827944|421.38507007403115|  1132.46212176534|382.3297528316098| 1.899821717945263|115395.61587441359|           null|\n|    min|            -124.35|            32.54|               1.0|               2.0|               1.0|               3.0|              1.0|            0.4999|           14999.0|      <1H OCEAN|\n|    25%|             -121.8|            33.93|              18.0|            1447.0|             296.0|             787.0|            280.0|            2.5625|          119600.0|           null|\n|    50%|            -118.49|            34.26|              29.0|            2127.0|             435.0|            1166.0|            409.0|            3.5347|          179700.0|           null|\n|    75%|            -118.01|            37.71|              37.0|            3146.0|             647.0|            1724.0|            605.0|            4.7426|          264700.0|           null|\n|    max|            -114.31|            41.95|              52.0|           39320.0|            6445.0|           35682.0|           6082.0|           15.0001|          500001.0|     NEAR OCEAN|\n+-------+-------------------+-----------------+------------------+------------------+------------------+------------------+-----------------+------------------+------------------+---------------+\n\n"
     ]
    }
   ],
   "source": [
    "#df.summary().display()\n",
    "\n",
    "df.summary().show()"
   ]
  },
  {
   "cell_type": "markdown",
   "metadata": {
    "application/vnd.databricks.v1+cell": {
     "cellMetadata": {},
     "inputWidgets": {},
     "nuid": "d056c7ac-655e-406a-9e6d-fc839b645bfa",
     "showTitle": false,
     "tableResultSettingsMap": {},
     "title": ""
    }
   },
   "source": [
    "Esto nos permite tener una idea de la distribución, la medida del centro y la dispersión de las columnas de nuestro conjunto de datos. Luego echamos un vistazo al conjunto de datos usando la función head y pasamos el número de filas que queremos ver."
   ]
  },
  {
   "cell_type": "code",
   "execution_count": 0,
   "metadata": {
    "application/vnd.databricks.v1+cell": {
     "cellMetadata": {
      "byteLimit": 2048000,
      "rowLimit": 10000
     },
     "inputWidgets": {},
     "nuid": "6169fcde-ae95-4a95-abf7-f1135cf3bba4",
     "showTitle": false,
     "tableResultSettingsMap": {},
     "title": ""
    }
   },
   "outputs": [],
   "source": [
    "from pyspark.sql.types import * \n",
    "from pyspark.sql.functions import * "
   ]
  },
  {
   "cell_type": "code",
   "execution_count": 0,
   "metadata": {
    "application/vnd.databricks.v1+cell": {
     "cellMetadata": {
      "byteLimit": 2048000,
      "rowLimit": 10000
     },
     "inputWidgets": {},
     "nuid": "9b289c0a-3730-4c67-9d0b-76dfa1e45d34",
     "showTitle": false,
     "tableResultSettingsMap": {},
     "title": ""
    }
   },
   "outputs": [
    {
     "output_type": "stream",
     "name": "stdout",
     "output_type": "stream",
     "text": [
      "longitude columna 0 tiene missing value.\nlatitude columna 0 tiene missing value.\nhousing_median_age columna 0 tiene missing value.\ntotal_rooms columna 0 tiene missing value.\ntotal_bedrooms columna 207 tiene missing value.\npopulation columna 0 tiene missing value.\nhouseholds columna 0 tiene missing value.\nmedian_income columna 0 tiene missing value.\nmedian_house_value columna 0 tiene missing value.\nocean_proximity columna 0 tiene missing value.\n"
     ]
    }
   ],
   "source": [
    "for colu in df.columns:\n",
    "    miss = df.filter(col(colu).isNull()).count()\n",
    "    print(f\"{colu} columna {miss} tiene missing value.\")"
   ]
  },
  {
   "cell_type": "code",
   "execution_count": 0,
   "metadata": {
    "application/vnd.databricks.v1+cell": {
     "cellMetadata": {
      "byteLimit": 2048000,
      "rowLimit": 10000
     },
     "inputWidgets": {},
     "nuid": "49d8c901-b283-49f5-9f4a-9ae60a508ff1",
     "showTitle": false,
     "tableResultSettingsMap": {},
     "title": ""
    }
   },
   "outputs": [
    {
     "output_type": "stream",
     "name": "stdout",
     "output_type": "stream",
     "text": [
      "Out[11]: 537.8705525375618"
     ]
    }
   ],
   "source": [
    "# estimamo la media\n",
    "mean_bedroom = df.select(mean(df['total_bedrooms'])).collect()[0][0]\n",
    "mean_bedroom"
   ]
  },
  {
   "cell_type": "code",
   "execution_count": 0,
   "metadata": {
    "application/vnd.databricks.v1+cell": {
     "cellMetadata": {
      "byteLimit": 2048000,
      "rowLimit": 10000
     },
     "inputWidgets": {},
     "nuid": "e9c1b90b-4c70-42f9-9a6e-a44ad1d6fde4",
     "showTitle": false,
     "tableResultSettingsMap": {},
     "title": ""
    }
   },
   "outputs": [
    {
     "output_type": "stream",
     "name": "stdout",
     "output_type": "stream",
     "text": [
      "Out[12]: 0"
     ]
    }
   ],
   "source": [
    "df = df.na.fill({'total_bedrooms': mean_bedroom})\n",
    "#la función de control tiene algún valor faltante\n",
    "df.filter(col(\"total_bedrooms\").isNull()).count()"
   ]
  },
  {
   "cell_type": "markdown",
   "metadata": {
    "application/vnd.databricks.v1+cell": {
     "cellMetadata": {},
     "inputWidgets": {},
     "nuid": "a2625e16-c126-4a5b-83ca-fdd0bf8db48e",
     "showTitle": false,
     "tableResultSettingsMap": {},
     "title": ""
    }
   },
   "source": [
    "Podemos verificar la correlación entre las variables de entrada y las variables de salida usando la función corr:"
   ]
  },
  {
   "cell_type": "code",
   "execution_count": 0,
   "metadata": {
    "application/vnd.databricks.v1+cell": {
     "cellMetadata": {
      "byteLimit": 2048000,
      "rowLimit": 10000
     },
     "inputWidgets": {},
     "nuid": "6a6c9d74-be61-4d13-83a8-2771502f488e",
     "showTitle": false,
     "tableResultSettingsMap": {},
     "title": ""
    }
   },
   "outputs": [],
   "source": [
    "#import corr function from pyspark functions\n",
    "from pyspark.sql.functions import corr"
   ]
  },
  {
   "cell_type": "code",
   "execution_count": 0,
   "metadata": {
    "application/vnd.databricks.v1+cell": {
     "cellMetadata": {
      "byteLimit": 2048000,
      "rowLimit": 10000
     },
     "inputWidgets": {},
     "nuid": "e5017760-ac77-4563-bb10-c06f6a6d34d9",
     "showTitle": false,
     "tableResultSettingsMap": {},
     "title": ""
    }
   },
   "outputs": [
    {
     "output_type": "stream",
     "name": "stdout",
     "output_type": "stream",
     "text": [
      "+-------------------------------+\n|corr(population, median_income)|\n+-------------------------------+\n|           0.004834345627653...|\n+-------------------------------+\n\n"
     ]
    }
   ],
   "source": [
    "# check for correlation\n",
    "df.select(corr(\"population\",  \"median_income\")).show()"
   ]
  },
  {
   "cell_type": "markdown",
   "metadata": {
    "application/vnd.databricks.v1+cell": {
     "cellMetadata": {},
     "inputWidgets": {},
     "nuid": "63089546-d079-4228-b091-f0a91bf9b5c8",
     "showTitle": false,
     "tableResultSettingsMap": {},
     "title": ""
    }
   },
   "source": [
    "var_1 parece estar más fuertemente correlacionado con la columna de salida."
   ]
  },
  {
   "cell_type": "markdown",
   "metadata": {
    "application/vnd.databricks.v1+cell": {
     "cellMetadata": {},
     "inputWidgets": {},
     "nuid": "b80b49fb-55b2-44a5-81d6-f632bf0f0656",
     "showTitle": false,
     "tableResultSettingsMap": {},
     "title": ""
    }
   },
   "source": [
    "### Paso 4: Ingeniería de características\n",
    "Esta es la parte en la que creamos un solo vector que combina todas las características de entrada mediante el `VectorAssembler` de Spark. Crea solo una característica única que captura los valores de entrada para esa fila. Entonces, en lugar de cinco columnas de entrada, esencialmente fusiona todas las columnas de entrada en una sola columna de vector de características."
   ]
  },
  {
   "cell_type": "code",
   "execution_count": 0,
   "metadata": {
    "application/vnd.databricks.v1+cell": {
     "cellMetadata": {
      "byteLimit": 2048000,
      "rowLimit": 10000
     },
     "inputWidgets": {},
     "nuid": "1f299312-3b99-44de-8833-36e05016f062",
     "showTitle": false,
     "tableResultSettingsMap": {},
     "title": ""
    }
   },
   "outputs": [
    {
     "output_type": "stream",
     "name": "stdout",
     "output_type": "stream",
     "text": [
      "+---------+--------+------------------+-----------+--------------+----------+----------+-------------+------------------+---------------+\n|longitude|latitude|housing_median_age|total_rooms|total_bedrooms|population|households|median_income|median_house_value|ocean_proximity|\n+---------+--------+------------------+-----------+--------------+----------+----------+-------------+------------------+---------------+\n|  -122.23|   37.88|              41.0|      880.0|         129.0|     322.0|     126.0|       8.3252|          452600.0|       NEAR BAY|\n|  -122.22|   37.86|              21.0|     7099.0|        1106.0|    2401.0|    1138.0|       8.3014|          358500.0|       NEAR BAY|\n|  -122.24|   37.85|              52.0|     1467.0|         190.0|     496.0|     177.0|       7.2574|          352100.0|       NEAR BAY|\n|  -122.25|   37.85|              52.0|     1274.0|         235.0|     558.0|     219.0|       5.6431|          341300.0|       NEAR BAY|\n|  -122.25|   37.85|              52.0|     1627.0|         280.0|     565.0|     259.0|       3.8462|          342200.0|       NEAR BAY|\n|  -122.25|   37.85|              52.0|      919.0|         213.0|     413.0|     193.0|       4.0368|          269700.0|       NEAR BAY|\n|  -122.25|   37.84|              52.0|     2535.0|         489.0|    1094.0|     514.0|       3.6591|          299200.0|       NEAR BAY|\n|  -122.25|   37.84|              52.0|     3104.0|         687.0|    1157.0|     647.0|         3.12|          241400.0|       NEAR BAY|\n|  -122.26|   37.84|              42.0|     2555.0|         665.0|    1206.0|     595.0|       2.0804|          226700.0|       NEAR BAY|\n|  -122.25|   37.84|              52.0|     3549.0|         707.0|    1551.0|     714.0|       3.6912|          261100.0|       NEAR BAY|\n|  -122.26|   37.85|              52.0|     2202.0|         434.0|     910.0|     402.0|       3.2031|          281500.0|       NEAR BAY|\n|  -122.26|   37.85|              52.0|     3503.0|         752.0|    1504.0|     734.0|       3.2705|          241800.0|       NEAR BAY|\n|  -122.26|   37.85|              52.0|     2491.0|         474.0|    1098.0|     468.0|        3.075|          213500.0|       NEAR BAY|\n|  -122.26|   37.84|              52.0|      696.0|         191.0|     345.0|     174.0|       2.6736|          191300.0|       NEAR BAY|\n|  -122.26|   37.85|              52.0|     2643.0|         626.0|    1212.0|     620.0|       1.9167|          159200.0|       NEAR BAY|\n|  -122.26|   37.85|              50.0|     1120.0|         283.0|     697.0|     264.0|        2.125|          140000.0|       NEAR BAY|\n|  -122.27|   37.85|              52.0|     1966.0|         347.0|     793.0|     331.0|        2.775|          152500.0|       NEAR BAY|\n|  -122.27|   37.85|              52.0|     1228.0|         293.0|     648.0|     303.0|       2.1202|          155500.0|       NEAR BAY|\n|  -122.26|   37.84|              50.0|     2239.0|         455.0|     990.0|     419.0|       1.9911|          158700.0|       NEAR BAY|\n|  -122.27|   37.84|              52.0|     1503.0|         298.0|     690.0|     275.0|       2.6033|          162900.0|       NEAR BAY|\n+---------+--------+------------------+-----------+--------------+----------+----------+-------------+------------------+---------------+\nonly showing top 20 rows\n\n"
     ]
    }
   ],
   "source": [
    "df.show()\n",
    "#display(df)"
   ]
  },
  {
   "cell_type": "code",
   "execution_count": 0,
   "metadata": {
    "application/vnd.databricks.v1+cell": {
     "cellMetadata": {
      "byteLimit": 2048000,
      "rowLimit": 10000
     },
     "inputWidgets": {},
     "nuid": "7aad1af1-9d47-4b03-aada-81d8c6008685",
     "showTitle": false,
     "tableResultSettingsMap": {},
     "title": ""
    }
   },
   "outputs": [],
   "source": [
    "from pyspark.ml.feature import StringIndexer \n",
    "from pyspark.ml.feature import VectorAssembler\n",
    "\n",
    "# StringIndexer ile 'ocean_proximity' label to numeric\n",
    "stringIndexer = StringIndexer(inputCol=\"ocean_proximity\", outputCol=\"ocean_proximity_idx\")\n",
    "stringIndexerModel = stringIndexer.fit(df)  # Ftting Traing\n",
    "df_transformed = stringIndexerModel.transform(df)"
   ]
  },
  {
   "cell_type": "code",
   "execution_count": 0,
   "metadata": {
    "application/vnd.databricks.v1+cell": {
     "cellMetadata": {
      "byteLimit": 2048000,
      "rowLimit": 10000
     },
     "inputWidgets": {},
     "nuid": "1a9969c0-afe5-43eb-9694-fea6b9bdea7c",
     "showTitle": false,
     "tableResultSettingsMap": {},
     "title": ""
    }
   },
   "outputs": [
    {
     "output_type": "stream",
     "name": "stdout",
     "output_type": "stream",
     "text": [
      "+---------+--------+------------------+-----------+--------------+----------+----------+-------------+------------------+---------------+-------------------+\n|longitude|latitude|housing_median_age|total_rooms|total_bedrooms|population|households|median_income|median_house_value|ocean_proximity|ocean_proximity_idx|\n+---------+--------+------------------+-----------+--------------+----------+----------+-------------+------------------+---------------+-------------------+\n|  -122.23|   37.88|              41.0|      880.0|         129.0|     322.0|     126.0|       8.3252|          452600.0|       NEAR BAY|                3.0|\n|  -122.22|   37.86|              21.0|     7099.0|        1106.0|    2401.0|    1138.0|       8.3014|          358500.0|       NEAR BAY|                3.0|\n|  -122.24|   37.85|              52.0|     1467.0|         190.0|     496.0|     177.0|       7.2574|          352100.0|       NEAR BAY|                3.0|\n|  -122.25|   37.85|              52.0|     1274.0|         235.0|     558.0|     219.0|       5.6431|          341300.0|       NEAR BAY|                3.0|\n|  -122.25|   37.85|              52.0|     1627.0|         280.0|     565.0|     259.0|       3.8462|          342200.0|       NEAR BAY|                3.0|\n+---------+--------+------------------+-----------+--------------+----------+----------+-------------+------------------+---------------+-------------------+\nonly showing top 5 rows\n\n"
     ]
    }
   ],
   "source": [
    "df_transformed.show(5)\n",
    "#display(df_transformed)"
   ]
  },
  {
   "cell_type": "code",
   "execution_count": 0,
   "metadata": {
    "application/vnd.databricks.v1+cell": {
     "cellMetadata": {
      "byteLimit": 2048000,
      "rowLimit": 10000
     },
     "inputWidgets": {},
     "nuid": "b7690e62-215a-4541-b329-7729cfce6659",
     "showTitle": false,
     "tableResultSettingsMap": {},
     "title": ""
    }
   },
   "outputs": [],
   "source": [
    "df1 = df_transformed.drop(\"ocean_proximity\")"
   ]
  },
  {
   "cell_type": "code",
   "execution_count": 0,
   "metadata": {
    "application/vnd.databricks.v1+cell": {
     "cellMetadata": {
      "byteLimit": 2048000,
      "rowLimit": 10000
     },
     "inputWidgets": {},
     "nuid": "edff0b2e-2dd9-49df-bde2-3ba4f1c1048b",
     "showTitle": false,
     "tableResultSettingsMap": {},
     "title": ""
    }
   },
   "outputs": [
    {
     "output_type": "stream",
     "name": "stdout",
     "output_type": "stream",
     "text": [
      "+---------+--------+------------------+-----------+--------------+----------+----------+-------------+------------------+-------------------+\n|longitude|latitude|housing_median_age|total_rooms|total_bedrooms|population|households|median_income|median_house_value|ocean_proximity_idx|\n+---------+--------+------------------+-----------+--------------+----------+----------+-------------+------------------+-------------------+\n|  -122.23|   37.88|              41.0|      880.0|         129.0|     322.0|     126.0|       8.3252|          452600.0|                3.0|\n|  -122.22|   37.86|              21.0|     7099.0|        1106.0|    2401.0|    1138.0|       8.3014|          358500.0|                3.0|\n|  -122.24|   37.85|              52.0|     1467.0|         190.0|     496.0|     177.0|       7.2574|          352100.0|                3.0|\n|  -122.25|   37.85|              52.0|     1274.0|         235.0|     558.0|     219.0|       5.6431|          341300.0|                3.0|\n|  -122.25|   37.85|              52.0|     1627.0|         280.0|     565.0|     259.0|       3.8462|          342200.0|                3.0|\n|  -122.25|   37.85|              52.0|      919.0|         213.0|     413.0|     193.0|       4.0368|          269700.0|                3.0|\n|  -122.25|   37.84|              52.0|     2535.0|         489.0|    1094.0|     514.0|       3.6591|          299200.0|                3.0|\n|  -122.25|   37.84|              52.0|     3104.0|         687.0|    1157.0|     647.0|         3.12|          241400.0|                3.0|\n|  -122.26|   37.84|              42.0|     2555.0|         665.0|    1206.0|     595.0|       2.0804|          226700.0|                3.0|\n|  -122.25|   37.84|              52.0|     3549.0|         707.0|    1551.0|     714.0|       3.6912|          261100.0|                3.0|\n|  -122.26|   37.85|              52.0|     2202.0|         434.0|     910.0|     402.0|       3.2031|          281500.0|                3.0|\n|  -122.26|   37.85|              52.0|     3503.0|         752.0|    1504.0|     734.0|       3.2705|          241800.0|                3.0|\n|  -122.26|   37.85|              52.0|     2491.0|         474.0|    1098.0|     468.0|        3.075|          213500.0|                3.0|\n|  -122.26|   37.84|              52.0|      696.0|         191.0|     345.0|     174.0|       2.6736|          191300.0|                3.0|\n|  -122.26|   37.85|              52.0|     2643.0|         626.0|    1212.0|     620.0|       1.9167|          159200.0|                3.0|\n|  -122.26|   37.85|              50.0|     1120.0|         283.0|     697.0|     264.0|        2.125|          140000.0|                3.0|\n|  -122.27|   37.85|              52.0|     1966.0|         347.0|     793.0|     331.0|        2.775|          152500.0|                3.0|\n|  -122.27|   37.85|              52.0|     1228.0|         293.0|     648.0|     303.0|       2.1202|          155500.0|                3.0|\n|  -122.26|   37.84|              50.0|     2239.0|         455.0|     990.0|     419.0|       1.9911|          158700.0|                3.0|\n|  -122.27|   37.84|              52.0|     1503.0|         298.0|     690.0|     275.0|       2.6033|          162900.0|                3.0|\n+---------+--------+------------------+-----------+--------------+----------+----------+-------------+------------------+-------------------+\nonly showing top 20 rows\n\n"
     ]
    }
   ],
   "source": [
    "df1.show()\n",
    "#display(df1)"
   ]
  },
  {
   "cell_type": "code",
   "execution_count": 0,
   "metadata": {
    "application/vnd.databricks.v1+cell": {
     "cellMetadata": {
      "byteLimit": 2048000,
      "rowLimit": 10000
     },
     "inputWidgets": {},
     "nuid": "f566561f-1447-474b-9447-653e2bab1fc4",
     "showTitle": false,
     "tableResultSettingsMap": {},
     "title": ""
    }
   },
   "outputs": [],
   "source": [
    "#import vectorassembler to create dense vectors\n",
    "from pyspark.ml.linalg import Vector\n",
    "from pyspark.ml.feature import VectorAssembler"
   ]
  },
  {
   "cell_type": "markdown",
   "metadata": {
    "application/vnd.databricks.v1+cell": {
     "cellMetadata": {},
     "inputWidgets": {},
     "nuid": "620f532e-9d45-428e-b72d-f4fa99dbeeba",
     "showTitle": false,
     "tableResultSettingsMap": {},
     "title": ""
    }
   },
   "source": [
    "Se puede seleccionar la cantidad de columnas que se usarían como características de entrada y solo se pueden pasar esas columnas a través de VectorAssembler. En nuestro caso, pasaremos las cinco columnas de entrada para crear una única columna de vector de características."
   ]
  },
  {
   "cell_type": "code",
   "execution_count": 0,
   "metadata": {
    "application/vnd.databricks.v1+cell": {
     "cellMetadata": {
      "byteLimit": 2048000,
      "rowLimit": 10000
     },
     "inputWidgets": {},
     "nuid": "4404ae4e-2e3f-4eb3-8c5e-1c9d63317dc2",
     "showTitle": false,
     "tableResultSettingsMap": {},
     "title": ""
    }
   },
   "outputs": [
    {
     "output_type": "stream",
     "name": "stdout",
     "output_type": "stream",
     "text": [
      "Out[35]: ['longitude',\n 'latitude',\n 'housing_median_age',\n 'total_rooms',\n 'total_bedrooms',\n 'population',\n 'households',\n 'median_income',\n 'median_house_value',\n 'ocean_proximity']"
     ]
    }
   ],
   "source": [
    "#select the columns to create input vector\n",
    "df.columns"
   ]
  },
  {
   "cell_type": "code",
   "execution_count": 0,
   "metadata": {
    "application/vnd.databricks.v1+cell": {
     "cellMetadata": {
      "byteLimit": 2048000,
      "rowLimit": 10000
     },
     "inputWidgets": {},
     "nuid": "d9bf175a-9070-43fc-8427-9e9086aec835",
     "showTitle": false,
     "tableResultSettingsMap": {},
     "title": ""
    }
   },
   "outputs": [],
   "source": [
    "# Creamos el vector assembler             Variables independientes                         Vector \n",
    "vec_assmebler = VectorAssembler(inputCols=[\"ocean_proximity_idx\", \"longitude\", \"latitude\", \"housing_median_age\", \"total_rooms\", \"total_bedrooms\", \"population\", \"households\", \"median_income\"],\n",
    "    outputCol=\"features\")"
   ]
  },
  {
   "cell_type": "code",
   "execution_count": 0,
   "metadata": {
    "application/vnd.databricks.v1+cell": {
     "cellMetadata": {
      "byteLimit": 2048000,
      "rowLimit": 10000
     },
     "inputWidgets": {},
     "nuid": "868bd2ba-196a-4724-88e8-96d65c6812b1",
     "showTitle": false,
     "tableResultSettingsMap": {},
     "title": ""
    }
   },
   "outputs": [],
   "source": [
    "#transform the values\n",
    "features_df = vec_assmebler.transform(df1)"
   ]
  },
  {
   "cell_type": "code",
   "execution_count": 0,
   "metadata": {
    "application/vnd.databricks.v1+cell": {
     "cellMetadata": {
      "byteLimit": 2048000,
      "rowLimit": 10000
     },
     "inputWidgets": {},
     "nuid": "a3315210-93bf-46f5-85c3-1c3ef02cb450",
     "showTitle": false,
     "tableResultSettingsMap": {},
     "title": ""
    }
   },
   "outputs": [
    {
     "output_type": "stream",
     "name": "stdout",
     "output_type": "stream",
     "text": [
      "root\n |-- longitude: double (nullable = true)\n |-- latitude: double (nullable = true)\n |-- housing_median_age: double (nullable = true)\n |-- total_rooms: double (nullable = true)\n |-- total_bedrooms: double (nullable = false)\n |-- population: double (nullable = true)\n |-- households: double (nullable = true)\n |-- median_income: double (nullable = true)\n |-- median_house_value: double (nullable = true)\n |-- ocean_proximity_idx: double (nullable = false)\n |-- features: vector (nullable = true)\n\n"
     ]
    }
   ],
   "source": [
    "#validate the presence of dense vectors \n",
    "features_df.printSchema()"
   ]
  },
  {
   "cell_type": "code",
   "execution_count": 0,
   "metadata": {
    "application/vnd.databricks.v1+cell": {
     "cellMetadata": {
      "byteLimit": 2048000,
      "rowLimit": 10000
     },
     "inputWidgets": {},
     "nuid": "541f7749-63a3-46e0-9cfb-f2e8683689e2",
     "showTitle": false,
     "tableResultSettingsMap": {},
     "title": ""
    }
   },
   "outputs": [
    {
     "output_type": "stream",
     "name": "stdout",
     "output_type": "stream",
     "text": [
      "+---------+--------+------------------+-----------+--------------+----------+----------+-------------+------------------+-------------------+--------------------+\n|longitude|latitude|housing_median_age|total_rooms|total_bedrooms|population|households|median_income|median_house_value|ocean_proximity_idx|            features|\n+---------+--------+------------------+-----------+--------------+----------+----------+-------------+------------------+-------------------+--------------------+\n|  -122.23|   37.88|              41.0|      880.0|         129.0|     322.0|     126.0|       8.3252|          452600.0|                3.0|[3.0,-122.23,37.8...|\n|  -122.22|   37.86|              21.0|     7099.0|        1106.0|    2401.0|    1138.0|       8.3014|          358500.0|                3.0|[3.0,-122.22,37.8...|\n|  -122.24|   37.85|              52.0|     1467.0|         190.0|     496.0|     177.0|       7.2574|          352100.0|                3.0|[3.0,-122.24,37.8...|\n|  -122.25|   37.85|              52.0|     1274.0|         235.0|     558.0|     219.0|       5.6431|          341300.0|                3.0|[3.0,-122.25,37.8...|\n|  -122.25|   37.85|              52.0|     1627.0|         280.0|     565.0|     259.0|       3.8462|          342200.0|                3.0|[3.0,-122.25,37.8...|\n+---------+--------+------------------+-----------+--------------+----------+----------+-------------+------------------+-------------------+--------------------+\nonly showing top 5 rows\n\n"
     ]
    }
   ],
   "source": [
    "#features_df.display()\n",
    "features_df.show(5)"
   ]
  },
  {
   "cell_type": "markdown",
   "metadata": {
    "application/vnd.databricks.v1+cell": {
     "cellMetadata": {},
     "inputWidgets": {},
     "nuid": "c0ae8c07-a45d-46d6-bbf6-9e2351fcca1f",
     "showTitle": false,
     "tableResultSettingsMap": {},
     "title": ""
    }
   },
   "source": [
    "Como podemos ver, tenemos una columna adicional (\"características\") que contiene el único vector denso para todas las entradas."
   ]
  },
  {
   "cell_type": "code",
   "execution_count": 0,
   "metadata": {
    "application/vnd.databricks.v1+cell": {
     "cellMetadata": {
      "byteLimit": 2048000,
      "rowLimit": 10000
     },
     "inputWidgets": {},
     "nuid": "d0ec30bc-449a-4a62-addf-4478f33e1a15",
     "showTitle": false,
     "tableResultSettingsMap": {},
     "title": ""
    }
   },
   "outputs": [
    {
     "output_type": "stream",
     "name": "stdout",
     "output_type": "stream",
     "text": [
      "+-----------------------------------------------------------+\n|features                                                   |\n+-----------------------------------------------------------+\n|[3.0,-122.23,37.88,41.0,880.0,129.0,322.0,126.0,8.3252]    |\n|[3.0,-122.22,37.86,21.0,7099.0,1106.0,2401.0,1138.0,8.3014]|\n|[3.0,-122.24,37.85,52.0,1467.0,190.0,496.0,177.0,7.2574]   |\n|[3.0,-122.25,37.85,52.0,1274.0,235.0,558.0,219.0,5.6431]   |\n|[3.0,-122.25,37.85,52.0,1627.0,280.0,565.0,259.0,3.8462]   |\n+-----------------------------------------------------------+\nonly showing top 5 rows\n\n"
     ]
    }
   ],
   "source": [
    "#view the details of dense vector\n",
    "features_df.select('features').show(5,False)"
   ]
  },
  {
   "cell_type": "markdown",
   "metadata": {
    "application/vnd.databricks.v1+cell": {
     "cellMetadata": {},
     "inputWidgets": {},
     "nuid": "87144f97-9a27-47a7-bc8e-54875edaacb6",
     "showTitle": false,
     "tableResultSettingsMap": {},
     "title": ""
    }
   },
   "source": [
    "Tomamos el subconjunto del marco de datos y seleccionamos solo la columna de características y la columna de salida para construir el modelo de regresión lineal."
   ]
  },
  {
   "cell_type": "code",
   "execution_count": 0,
   "metadata": {
    "application/vnd.databricks.v1+cell": {
     "cellMetadata": {
      "byteLimit": 2048000,
      "rowLimit": 10000
     },
     "inputWidgets": {},
     "nuid": "04940e8f-7501-4383-bb54-e98f7460295d",
     "showTitle": false,
     "tableResultSettingsMap": {},
     "title": ""
    }
   },
   "outputs": [],
   "source": [
    "# Creamos una nueva tabla con el vector y la variable de salidad\n",
    "model_df = features_df.select('features',\"median_house_value\")"
   ]
  },
  {
   "cell_type": "code",
   "execution_count": 0,
   "metadata": {
    "application/vnd.databricks.v1+cell": {
     "cellMetadata": {
      "byteLimit": 2048000,
      "rowLimit": 10000
     },
     "inputWidgets": {},
     "nuid": "cc5e8cf5-7df4-46b2-8191-566ebc30040b",
     "showTitle": false,
     "tableResultSettingsMap": {},
     "title": ""
    }
   },
   "outputs": [
    {
     "output_type": "stream",
     "name": "stdout",
     "output_type": "stream",
     "text": [
      "+-----------------------------------------------------------+------------------+\n|features                                                   |median_house_value|\n+-----------------------------------------------------------+------------------+\n|[3.0,-122.23,37.88,41.0,880.0,129.0,322.0,126.0,8.3252]    |452600.0          |\n|[3.0,-122.22,37.86,21.0,7099.0,1106.0,2401.0,1138.0,8.3014]|358500.0          |\n|[3.0,-122.24,37.85,52.0,1467.0,190.0,496.0,177.0,7.2574]   |352100.0          |\n|[3.0,-122.25,37.85,52.0,1274.0,235.0,558.0,219.0,5.6431]   |341300.0          |\n|[3.0,-122.25,37.85,52.0,1627.0,280.0,565.0,259.0,3.8462]   |342200.0          |\n+-----------------------------------------------------------+------------------+\nonly showing top 5 rows\n\n"
     ]
    }
   ],
   "source": [
    "model_df.show(5,False)"
   ]
  },
  {
   "cell_type": "code",
   "execution_count": 0,
   "metadata": {
    "application/vnd.databricks.v1+cell": {
     "cellMetadata": {
      "byteLimit": 2048000,
      "rowLimit": 10000
     },
     "inputWidgets": {},
     "nuid": "bd1ef6a5-92d4-45f1-804a-3f6e9ce587b3",
     "showTitle": false,
     "tableResultSettingsMap": {},
     "title": ""
    }
   },
   "outputs": [
    {
     "output_type": "stream",
     "name": "stdout",
     "output_type": "stream",
     "text": [
      "(20640, 2)\n"
     ]
    }
   ],
   "source": [
    "#size of model df\n",
    "print((model_df.count(), len(model_df.columns)))"
   ]
  },
  {
   "cell_type": "markdown",
   "metadata": {
    "application/vnd.databricks.v1+cell": {
     "cellMetadata": {},
     "inputWidgets": {},
     "nuid": "becf2a53-f456-4980-be38-f7f60cba5cfe",
     "showTitle": false,
     "tableResultSettingsMap": {},
     "title": ""
    }
   },
   "source": [
    "### Paso 5: dividir el conjunto de datos\n",
    "Tenemos que dividir el conjunto de datos en un conjunto de datos de prueba y entrenamiento para entrenar y evaluar el rendimiento del modelo de regresión lineal construido. Lo dividimos en una proporción de 70/30 y entrenamos nuestro modelo en el 70 % del conjunto de datos. Podemos imprimir la forma del tren y probar los datos para validar el tamaño."
   ]
  },
  {
   "cell_type": "code",
   "execution_count": 0,
   "metadata": {
    "application/vnd.databricks.v1+cell": {
     "cellMetadata": {
      "byteLimit": 2048000,
      "rowLimit": 10000
     },
     "inputWidgets": {},
     "nuid": "ef9fb4ec-07bf-43ff-a22e-990459305cd4",
     "showTitle": false,
     "tableResultSettingsMap": {},
     "title": ""
    }
   },
   "outputs": [],
   "source": [
    "# Dividir los datos en entrenamiento y en datos de prueba\n",
    "train_df,test_df = model_df.randomSplit([0.7,0.3])"
   ]
  },
  {
   "cell_type": "code",
   "execution_count": 0,
   "metadata": {
    "application/vnd.databricks.v1+cell": {
     "cellMetadata": {
      "byteLimit": 2048000,
      "rowLimit": 10000
     },
     "inputWidgets": {},
     "nuid": "f8f9c5a2-f197-47d7-b897-ddf1b2b4e9c6",
     "showTitle": false,
     "tableResultSettingsMap": {},
     "title": ""
    }
   },
   "outputs": [
    {
     "output_type": "stream",
     "name": "stdout",
     "output_type": "stream",
     "text": [
      "+--------------------+------------------+\n|            features|median_house_value|\n+--------------------+------------------+\n|[0.0,-124.14,40.5...|           92500.0|\n|[0.0,-124.13,40.5...|           94800.0|\n|[0.0,-124.11,40.5...|           74100.0|\n|[0.0,-124.1,40.47...|           55000.0|\n|[0.0,-124.1,40.5,...|           57500.0|\n|[0.0,-124.09,40.4...|           70500.0|\n|[0.0,-124.05,40.5...|           95200.0|\n|[0.0,-124.02,40.7...|          119900.0|\n|[0.0,-124.02,40.8...|          133900.0|\n|[0.0,-124.01,40.8...|           75600.0|\n|[0.0,-124.0,40.22...|           70700.0|\n|[0.0,-123.96,40.5...|           92600.0|\n|[0.0,-123.85,39.3...|          140500.0|\n|[0.0,-123.85,39.4...|          150000.0|\n|[0.0,-123.84,39.4...|          110400.0|\n|[0.0,-123.84,40.2...|           74000.0|\n|[0.0,-123.83,41.8...|          116700.0|\n|[0.0,-123.82,40.1...|           82400.0|\n|[0.0,-123.82,40.1...|           76800.0|\n|[0.0,-123.81,39.3...|          277000.0|\n+--------------------+------------------+\nonly showing top 20 rows\n\n"
     ]
    }
   ],
   "source": [
    "train_df.show()"
   ]
  },
  {
   "cell_type": "code",
   "execution_count": 0,
   "metadata": {
    "application/vnd.databricks.v1+cell": {
     "cellMetadata": {
      "byteLimit": 2048000,
      "rowLimit": 10000
     },
     "inputWidgets": {},
     "nuid": "06a3d20f-de2b-4491-98d0-a7f681abbc88",
     "showTitle": false,
     "tableResultSettingsMap": {},
     "title": ""
    }
   },
   "outputs": [
    {
     "output_type": "stream",
     "name": "stdout",
     "output_type": "stream",
     "text": [
      "(14369, 2)\n"
     ]
    }
   ],
   "source": [
    "print((train_df.count(), len(train_df.columns)))"
   ]
  },
  {
   "cell_type": "code",
   "execution_count": 0,
   "metadata": {
    "application/vnd.databricks.v1+cell": {
     "cellMetadata": {
      "byteLimit": 2048000,
      "rowLimit": 10000
     },
     "inputWidgets": {},
     "nuid": "37abbdc1-3cc0-4d2b-b0d0-0ba3f080b99e",
     "showTitle": false,
     "tableResultSettingsMap": {},
     "title": ""
    }
   },
   "outputs": [
    {
     "output_type": "stream",
     "name": "stdout",
     "output_type": "stream",
     "text": [
      "(6271, 2)\n"
     ]
    }
   ],
   "source": [
    "print((test_df.count(), len(test_df.columns)))"
   ]
  },
  {
   "cell_type": "code",
   "execution_count": 0,
   "metadata": {
    "application/vnd.databricks.v1+cell": {
     "cellMetadata": {
      "byteLimit": 2048000,
      "rowLimit": 10000
     },
     "inputWidgets": {},
     "nuid": "ca612ce9-115d-4dbb-bff1-eefd1022ee2f",
     "showTitle": false,
     "tableResultSettingsMap": {},
     "title": ""
    }
   },
   "outputs": [
    {
     "output_type": "stream",
     "name": "stdout",
     "output_type": "stream",
     "text": [
      "+-------+------------------+\n|summary|median_house_value|\n+-------+------------------+\n|  count|             14369|\n|   mean|206373.64256385274|\n| stddev|115272.75365586905|\n|    min|           14999.0|\n|    max|          500001.0|\n+-------+------------------+\n\n"
     ]
    }
   ],
   "source": [
    "train_df.describe().show()"
   ]
  },
  {
   "cell_type": "markdown",
   "metadata": {
    "application/vnd.databricks.v1+cell": {
     "cellMetadata": {},
     "inputWidgets": {},
     "nuid": "61f461ad-cfa9-4e27-a075-6dc119d65a80",
     "showTitle": false,
     "tableResultSettingsMap": {},
     "title": ""
    }
   },
   "source": [
    "### Paso 6: construir y entrenar el modelo de regresión lineal\n",
    "En esta parte, construimos y entrenamos el modelo de regresión lineal utilizando las funciones de las columnas de entrada y salida. También podemos obtener los valores de los coeficientes (B1, B2, B3, B4, B5) e interceptar (B0) del modelo. También podemos evaluar el rendimiento del modelo en los datos de entrenamiento usando r2. Este modelo ofrece una muy buena precisión (86 %) en conjuntos de datos de entrenamiento."
   ]
  },
  {
   "cell_type": "code",
   "execution_count": 0,
   "metadata": {
    "application/vnd.databricks.v1+cell": {
     "cellMetadata": {
      "byteLimit": 2048000,
      "rowLimit": 10000
     },
     "inputWidgets": {},
     "nuid": "100d0e7c-869b-46a0-a3d2-af8746958bc5",
     "showTitle": false,
     "tableResultSettingsMap": {},
     "title": ""
    }
   },
   "outputs": [],
   "source": [
    "from pyspark.ml.regression import LinearRegression"
   ]
  },
  {
   "cell_type": "code",
   "execution_count": 0,
   "metadata": {
    "application/vnd.databricks.v1+cell": {
     "cellMetadata": {
      "byteLimit": 2048000,
      "rowLimit": 10000
     },
     "inputWidgets": {},
     "nuid": "94a263a0-f71f-4361-9f67-ae53000e9c77",
     "showTitle": false,
     "tableResultSettingsMap": {},
     "title": ""
    }
   },
   "outputs": [],
   "source": [
    "# construyo Linear Regression model \n",
    "lin_Reg = LinearRegression(labelCol = 'median_house_value') # labelcol= la variable objetivo o Target "
   ]
  },
  {
   "cell_type": "code",
   "execution_count": 0,
   "metadata": {
    "application/vnd.databricks.v1+cell": {
     "cellMetadata": {
      "byteLimit": 2048000,
      "rowLimit": 10000
     },
     "inputWidgets": {},
     "nuid": "c592ab51-d7fe-43b0-b0d6-a4bee5dc7e56",
     "showTitle": false,
     "tableResultSettingsMap": {},
     "title": ""
    }
   },
   "outputs": [],
   "source": [
    "# Se entrena el modelo\n",
    "lr_model = lin_Reg.fit(train_df) # utliza los datos de entrenamiento"
   ]
  },
  {
   "cell_type": "code",
   "execution_count": 0,
   "metadata": {
    "application/vnd.databricks.v1+cell": {
     "cellMetadata": {
      "byteLimit": 2048000,
      "rowLimit": 10000
     },
     "inputWidgets": {},
     "nuid": "cf0c9aaf-d368-4c45-950f-bfff5b39d301",
     "showTitle": false,
     "tableResultSettingsMap": {},
     "title": ""
    }
   },
   "outputs": [
    {
     "output_type": "stream",
     "name": "stdout",
     "output_type": "stream",
     "text": [
      "+--------------------+------------------+------------------+\n|            features|median_house_value|        prediction|\n+--------------------+------------------+------------------+\n|[0.0,-124.14,40.5...|           75100.0| 140308.6643600231|\n|[0.0,-124.1,40.5,...|           72300.0|133778.79907925613|\n|[0.0,-124.09,40.5...|           97300.0| 145010.5823822678|\n|[0.0,-124.03,40.4...|           71300.0|148804.60690590693|\n|[0.0,-124.01,40.9...|          102700.0| 144358.1706643547|\n|[0.0,-124.0,40.92...|           98800.0| 159510.9085718603|\n|[0.0,-123.98,40.8...|           84200.0| 146779.7477645902|\n|[0.0,-123.91,41.6...|          152700.0| 98173.41901279287|\n|[0.0,-123.88,40.9...|          106300.0|145758.68061415944|\n|[0.0,-123.85,41.3...|           36700.0| 41735.05574668199|\n|[0.0,-123.8,39.44...|           95000.0|184271.47211451596|\n|[0.0,-123.8,39.47...|          150300.0| 188229.9204102992|\n|[0.0,-123.79,39.4...|          116200.0|185439.59222637024|\n|[0.0,-123.79,39.5...|          157300.0| 161979.3913040636|\n|[0.0,-123.76,41.0...|           79800.0|  94976.2139993948|\n|[0.0,-123.75,39.3...|          151400.0|184851.19504370913|\n|[0.0,-123.75,40.1...|          101500.0|142486.91024916945|\n|[0.0,-123.73,39.4...|          165000.0|177142.26647681044|\n|[0.0,-123.66,41.3...|           62700.0| 58761.98908207286|\n|[0.0,-123.58,39.6...|          100000.0|139096.48868096806|\n+--------------------+------------------+------------------+\nonly showing top 20 rows\n\n"
     ]
    }
   ],
   "source": [
    "pred = lr_model.transform(test_df)\n",
    "pred.show()"
   ]
  },
  {
   "cell_type": "code",
   "execution_count": 0,
   "metadata": {
    "application/vnd.databricks.v1+cell": {
     "cellMetadata": {
      "byteLimit": 2048000,
      "rowLimit": 10000
     },
     "inputWidgets": {},
     "nuid": "3874f963-3938-433e-8712-f378fedf9ed3",
     "showTitle": false,
     "tableResultSettingsMap": {},
     "title": ""
    }
   },
   "outputs": [
    {
     "output_type": "stream",
     "name": "stdout",
     "output_type": "stream",
     "text": [
      "La intercepción del Modelo es: -3613942.5041313637\n"
     ]
    }
   ],
   "source": [
    "print(\"La intercepción del Modelo es:\",lr_model.intercept)"
   ]
  },
  {
   "cell_type": "code",
   "execution_count": 0,
   "metadata": {
    "application/vnd.databricks.v1+cell": {
     "cellMetadata": {
      "byteLimit": 2048000,
      "rowLimit": 10000
     },
     "inputWidgets": {},
     "nuid": "fcfbc62a-5df4-465a-9c3b-8add5f1c8067",
     "showTitle": false,
     "tableResultSettingsMap": {},
     "title": ""
    }
   },
   "outputs": [
    {
     "output_type": "stream",
     "name": "stdout",
     "output_type": "stream",
     "text": [
      "Los coeficiente del modelos son: [-1724.585224657371,-42877.099498899,-42188.39803139559,1208.0792720413178,-7.072015351788792,86.57533661519366,-38.25393184331701,73.66305073262359,39904.995725099296]\n"
     ]
    }
   ],
   "source": [
    "print(\"Los coeficiente del modelos son:\", lr_model.coefficients)"
   ]
  },
  {
   "cell_type": "code",
   "execution_count": 0,
   "metadata": {
    "application/vnd.databricks.v1+cell": {
     "cellMetadata": {
      "byteLimit": 2048000,
      "rowLimit": 10000
     },
     "inputWidgets": {},
     "nuid": "f2c3f5da-cb62-4b43-853b-f2fd3ebccf1d",
     "showTitle": false,
     "tableResultSettingsMap": {},
     "title": ""
    }
   },
   "outputs": [
    {
     "output_type": "stream",
     "name": "stdout",
     "output_type": "stream",
     "text": [
      "Out[31]: <pyspark.ml.regression.LinearRegressionSummary at 0x7f5722fb8a30>"
     ]
    }
   ],
   "source": [
    "# predición del modelo \n",
    "training_predictions = lr_model.evaluate(train_df)\n",
    "training_predictions"
   ]
  },
  {
   "cell_type": "code",
   "execution_count": 0,
   "metadata": {
    "application/vnd.databricks.v1+cell": {
     "cellMetadata": {
      "byteLimit": 2048000,
      "rowLimit": 10000
     },
     "inputWidgets": {},
     "nuid": "3066f86f-1008-4b3d-9716-31781f84a2b8",
     "showTitle": false,
     "tableResultSettingsMap": {},
     "title": ""
    }
   },
   "outputs": [
    {
     "output_type": "stream",
     "name": "stdout",
     "output_type": "stream",
     "text": [
      "El MSE es: 4862583157.624832\n"
     ]
    }
   ],
   "source": [
    "print(\"El MSE es:\", training_predictions.meanSquaredError)"
   ]
  },
  {
   "cell_type": "code",
   "execution_count": 0,
   "metadata": {
    "application/vnd.databricks.v1+cell": {
     "cellMetadata": {
      "byteLimit": 2048000,
      "rowLimit": 10000
     },
     "inputWidgets": {},
     "nuid": "f1f0128d-4c5c-43f3-9bdd-e1333b8d0f1d",
     "showTitle": false,
     "tableResultSettingsMap": {},
     "title": ""
    }
   },
   "outputs": [
    {
     "output_type": "stream",
     "name": "stdout",
     "output_type": "stream",
     "text": [
      "El R2 es: 0.6348355985695227\n"
     ]
    }
   ],
   "source": [
    "print(\"El R2 es:\",training_predictions.r2)"
   ]
  },
  {
   "cell_type": "markdown",
   "metadata": {
    "application/vnd.databricks.v1+cell": {
     "cellMetadata": {},
     "inputWidgets": {},
     "nuid": "cd2867ae-3646-4c2e-b948-5a96c242514d",
     "showTitle": false,
     "tableResultSettingsMap": {},
     "title": ""
    }
   },
   "source": [
    "### Paso 7: evaluar el modelo de regresión lineal en datos de prueba\n",
    "La parte final de todo este ejercicio es verificar el rendimiento del modelo en datos no vistos o de prueba. Usamos la función de evaluación para hacer predicciones para los datos de prueba y podemos usar r2 para verificar la precisión del modelo en los datos de prueba. El rendimiento parece ser casi similar al del entrenamiento."
   ]
  },
  {
   "cell_type": "code",
   "execution_count": 0,
   "metadata": {
    "application/vnd.databricks.v1+cell": {
     "cellMetadata": {
      "byteLimit": 2048000,
      "rowLimit": 10000
     },
     "inputWidgets": {},
     "nuid": "984fca41-75c8-449c-8edc-13a032cf9cd3",
     "showTitle": false,
     "tableResultSettingsMap": {},
     "title": ""
    }
   },
   "outputs": [],
   "source": [
    "# Haciendo la prediciones con los datos de prueba\n",
    "test_results = lr_model.evaluate(test_df)"
   ]
  },
  {
   "cell_type": "code",
   "execution_count": 0,
   "metadata": {
    "application/vnd.databricks.v1+cell": {
     "cellMetadata": {
      "byteLimit": 2048000,
      "rowLimit": 10000
     },
     "inputWidgets": {},
     "nuid": "53f29866-9849-4b98-b5a9-a0b847c93e19",
     "showTitle": false,
     "tableResultSettingsMap": {},
     "title": ""
    }
   },
   "outputs": [
    {
     "output_type": "stream",
     "name": "stdout",
     "output_type": "stream",
     "text": [
      "Out[38]: <pyspark.ml.regression.LinearRegressionSummary at 0x7f572805efa0>"
     ]
    }
   ],
   "source": [
    "test_results"
   ]
  },
  {
   "cell_type": "code",
   "execution_count": 0,
   "metadata": {
    "application/vnd.databricks.v1+cell": {
     "cellMetadata": {
      "byteLimit": 2048000,
      "rowLimit": 10000
     },
     "inputWidgets": {},
     "nuid": "1232486f-d038-4f59-b38d-9532a33cb8c7",
     "showTitle": false,
     "tableResultSettingsMap": {},
     "title": ""
    }
   },
   "outputs": [
    {
     "output_type": "stream",
     "name": "stdout",
     "output_type": "stream",
     "text": [
      "+-------------------+\n|          residuals|\n+-------------------+\n|-65208.664360023104|\n| -61478.79907925613|\n| -47710.58238226781|\n| -77504.60690590693|\n| -41658.17066435469|\n| -60710.90857186029|\n|-62579.747764590196|\n| 54526.580987207126|\n| -39458.68061415944|\n| -5035.055746681988|\n+-------------------+\nonly showing top 10 rows\n\n"
     ]
    }
   ],
   "source": [
    "#view the residual errors based on predictions \n",
    "test_results.residuals.show(10)"
   ]
  },
  {
   "cell_type": "code",
   "execution_count": 0,
   "metadata": {
    "application/vnd.databricks.v1+cell": {
     "cellMetadata": {
      "byteLimit": 2048000,
      "rowLimit": 10000
     },
     "inputWidgets": {},
     "nuid": "c01b4885-fea1-458c-b4e0-e3b7dc5f796f",
     "showTitle": false,
     "tableResultSettingsMap": {},
     "title": ""
    }
   },
   "outputs": [
    {
     "output_type": "stream",
     "name": "stdout",
     "output_type": "stream",
     "text": [
      "El R2 para el conjunto de Prueba es. 0.6374754868251551\n"
     ]
    }
   ],
   "source": [
    "#coefficient of determination value for model\n",
    "print(\"El R2 para el conjunto de Prueba es.\",test_results.r2)"
   ]
  },
  {
   "cell_type": "code",
   "execution_count": 0,
   "metadata": {
    "application/vnd.databricks.v1+cell": {
     "cellMetadata": {
      "byteLimit": 2048000,
      "rowLimit": 10000
     },
     "inputWidgets": {},
     "nuid": "0bb95f37-84ae-45f3-85a3-a34dc0b2591d",
     "showTitle": false,
     "tableResultSettingsMap": {},
     "title": ""
    }
   },
   "outputs": [
    {
     "output_type": "stream",
     "name": "stdout",
     "output_type": "stream",
     "text": [
      "EL RMSE para el Test es: 69474.11860217551\n"
     ]
    }
   ],
   "source": [
    "print(\"EL RMSE para el Test es:\",test_results.rootMeanSquaredError)"
   ]
  },
  {
   "cell_type": "code",
   "execution_count": 0,
   "metadata": {
    "application/vnd.databricks.v1+cell": {
     "cellMetadata": {
      "byteLimit": 2048000,
      "rowLimit": 10000
     },
     "inputWidgets": {},
     "nuid": "a09fb460-3388-456f-8d9a-3a7d42873228",
     "showTitle": false,
     "tableResultSettingsMap": {},
     "title": ""
    }
   },
   "outputs": [
    {
     "output_type": "stream",
     "name": "stdout",
     "output_type": "stream",
     "text": [
      "EL MSE para el Test es: 4826653155.54915\n"
     ]
    }
   ],
   "source": [
    "print(\"EL MSE para el Test es:\",test_results.meanSquaredError)"
   ]
  },
  {
   "cell_type": "code",
   "execution_count": 0,
   "metadata": {
    "application/vnd.databricks.v1+cell": {
     "cellMetadata": {
      "byteLimit": 2048000,
      "rowLimit": 10000
     },
     "inputWidgets": {},
     "nuid": "0b1c8dc9-4b0a-46de-a2a1-1e9e25de9e6a",
     "showTitle": false,
     "tableResultSettingsMap": {},
     "title": ""
    }
   },
   "outputs": [],
   "source": [
    "from pyspark.ml.evaluation import RegressionEvaluator"
   ]
  },
  {
   "cell_type": "code",
   "execution_count": 0,
   "metadata": {
    "application/vnd.databricks.v1+cell": {
     "cellMetadata": {
      "byteLimit": 2048000,
      "rowLimit": 10000
     },
     "inputWidgets": {},
     "nuid": "e5e26c3e-d79b-415e-a821-9fbb34a8622f",
     "showTitle": false,
     "tableResultSettingsMap": {},
     "title": ""
    }
   },
   "outputs": [
    {
     "output_type": "stream",
     "name": "stdout",
     "output_type": "stream",
     "text": [
      "Linear Regression - RMSE: 69474.11860217551\nLinear Regression - MAE: 50866.896068147194\nLinear Regression - R^2: 0.6374754868251551\n"
     ]
    }
   ],
   "source": [
    "# Performans Metric\n",
    "evaluator = RegressionEvaluator(labelCol = \"median_house_value\", predictionCol=\"prediction\")\n",
    "lrRmse = evaluator.evaluate(pred, {evaluator.metricName: \"rmse\"})\n",
    "lrMae = evaluator.evaluate(pred, {evaluator.metricName: \"mae\"})\n",
    "lrR2 = evaluator.evaluate(pred, {evaluator.metricName: \"r2\"})\n",
    "print(f\"Linear Regression - RMSE: {lrRmse}\")\n",
    "print(f\"Linear Regression - MAE: {lrMae}\")\n",
    "print(f\"Linear Regression - R^2: {lrR2}\")"
   ]
  },
  {
   "cell_type": "code",
   "execution_count": 0,
   "metadata": {
    "application/vnd.databricks.v1+cell": {
     "cellMetadata": {
      "byteLimit": 2048000,
      "rowLimit": 10000
     },
     "inputWidgets": {},
     "nuid": "c2eca026-11fd-41cd-bcf3-d7b3e2c78240",
     "showTitle": false,
     "tableResultSettingsMap": {},
     "title": ""
    }
   },
   "outputs": [
    {
     "output_type": "stream",
     "name": "stdout",
     "output_type": "stream",
     "text": [
      "+--------------------+------------------+------------------+\n|            features|median_house_value|        prediction|\n+--------------------+------------------+------------------+\n|[0.0,-124.14,40.5...|           75100.0| 140308.6643600231|\n|[0.0,-124.1,40.5,...|           72300.0|133778.79907925613|\n|[0.0,-124.09,40.5...|           97300.0| 145010.5823822678|\n|[0.0,-124.03,40.4...|           71300.0|148804.60690590693|\n|[0.0,-124.01,40.9...|          102700.0| 144358.1706643547|\n+--------------------+------------------+------------------+\nonly showing top 5 rows\n\n"
     ]
    }
   ],
   "source": [
    "pred.show(5)"
   ]
  },
  {
   "cell_type": "code",
   "execution_count": 0,
   "metadata": {
    "application/vnd.databricks.v1+cell": {
     "cellMetadata": {
      "byteLimit": 2048000,
      "rowLimit": 10000
     },
     "inputWidgets": {},
     "nuid": "fe187745-3216-4da0-964e-b77b3b9760aa",
     "showTitle": false,
     "tableResultSettingsMap": {},
     "title": ""
    }
   },
   "outputs": [
    {
     "output_type": "display_data",
     "data": {
      "image/png": "[encoded data removed]"
     },
     "metadata": {
      "application/vnd.databricks.v1+output": {
       "addedWidgets": {},
       "arguments": {},
       "data": "data:image/png;base64,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\n",
       "datasetInfos": [],
       "metadata": {},
       "removedWidgets": [],
       "type": "image"
      }
     },
     "output_type": "display_data"
    }
   ],
   "source": [
    "import matplotlib.pyplot as plt\n",
    "\n",
    "# Pandas DataFrame\n",
    "resultado = pred.select(\"prediction\", \"median_house_value\").toPandas()\n",
    "# Graph for Linear Regression\n",
    "plt.figure(figsize=(10, 6))\n",
    "plt.scatter(resultado[\"median_house_value\"], resultado['prediction'], alpha=0.5)\n",
    "plt.xlabel('True Label')\n",
    "plt.ylabel('Prediction')\n",
    "plt.title('Prediction vs \"median_house_value\"')\n",
    "plt.grid(True)\n",
    "plt.show()"
   ]
  },
  {
   "cell_type": "markdown",
   "metadata": {
    "application/vnd.databricks.v1+cell": {
     "cellMetadata": {},
     "inputWidgets": {},
     "nuid": "94d0dcd5-e1bd-4bdb-833e-feda4bc8265d",
     "showTitle": false,
     "tableResultSettingsMap": {},
     "title": ""
    }
   },
   "source": [
    "## Conclusión\n",
    "En este modulo, repasamos el proceso de construcción de un modelo de regresión lineal usando PySpark y también explicamos el proceso detrás de encontrar los coeficientes y valores de intercepción más óptimos."
   ]
  },
  {
   "cell_type": "markdown",
   "metadata": {
    "application/vnd.databricks.v1+cell": {
     "cellMetadata": {},
     "inputWidgets": {},
     "nuid": "fe87765d-8d0e-4d6b-9b3d-e5ae86e8fa8e",
     "showTitle": false,
     "tableResultSettingsMap": {},
     "title": ""
    }
   },
   "source": [
    " \n",
    "# MLFlow"
   ]
  },
  {
   "cell_type": "code",
   "execution_count": 0,
   "metadata": {
    "application/vnd.databricks.v1+cell": {
     "cellMetadata": {
      "byteLimit": 2048000,
      "rowLimit": 10000
     },
     "inputWidgets": {},
     "nuid": "7b9d8b37-cd45-4d71-b2b1-9d7525c42b17",
     "showTitle": false,
     "tableResultSettingsMap": {},
     "title": ""
    }
   },
   "outputs": [],
   "source": [
    "import mlflow\n",
    "import mlflow.spark"
   ]
  },
  {
   "cell_type": "code",
   "execution_count": 0,
   "metadata": {
    "application/vnd.databricks.v1+cell": {
     "cellMetadata": {
      "byteLimit": 2048000,
      "rowLimit": 10000
     },
     "inputWidgets": {},
     "nuid": "e0d08950-11a1-4afb-b519-225e76100361",
     "showTitle": false,
     "tableResultSettingsMap": {},
     "title": ""
    }
   },
   "outputs": [
    {
     "output_type": "stream",
     "name": "stdout",
     "output_type": "stream",
     "text": [
      "+--------------------+------------------+------------------+\n|            features|median_house_value|        prediction|\n+--------------------+------------------+------------------+\n|[0.0,-124.14,40.5...|           75100.0| 140308.6643600231|\n|[0.0,-124.1,40.5,...|           72300.0|133778.79907925613|\n|[0.0,-124.09,40.5...|           97300.0| 145010.5823822678|\n|[0.0,-124.03,40.4...|           71300.0|148804.60690590693|\n|[0.0,-124.01,40.9...|          102700.0| 144358.1706643547|\n+--------------------+------------------+------------------+\nonly showing top 5 rows\n\n"
     ]
    },
    {
     "output_type": "stream",
     "name": "stderr",
     "output_type": "stream",
     "text": [
      "2024/11/05 22:49:59 INFO mlflow.spark: Inferring pip requirements by reloading the logged model from the databricks artifact repository, which can be time-consuming. To speed up, explicitly specify the conda_env or pip_requirements when calling log_model().\n2024/11/05 22:50:20 WARNING mlflow.utils.environment: Encountered an unexpected error while inferring pip requirements (model URI: dbfs:/databricks/mlflow-tracking/375575719403548/3c4aeb1d6b0c4ff5b69c88cd755705e6/artifacts/model/sparkml, flavor: spark). Fall back to return ['pyspark==3.3.2', 'pandas<2']. Set logging level to DEBUG to see the full traceback. \n2024/11/05 22:50:21 INFO mlflow.tracking._tracking_service.client: 🏃 View run flawless-shrimp-354 at: https://community.cloud.databricks.com/ml/experiments/375575719403548/runs/3c4aeb1d6b0c4ff5b69c88cd755705e6.\n2024/11/05 22:50:21 INFO mlflow.tracking._tracking_service.client: 🧪 View experiment at: https://community.cloud.databricks.com/ml/experiments/375575719403548.\n"
     ]
    },
    {
     "output_type": "stream",
     "name": "stdout",
     "output_type": "stream",
     "text": [
      "Modelo registrado y parámetros guardados con MLflow\n"
     ]
    }
   ],
   "source": [
    "from pyspark.ml.regression import LinearRegression\n",
    "\n",
    "# Iniciar una nueva corrida de MLflow\n",
    "with mlflow.start_run():\n",
    "    # Crear y entrenar el modelo de regresión lineal\n",
    "    lr = LinearRegression(featuresCol='features', labelCol='median_house_value')\n",
    "    lr_model = lr.fit(train_df)\n",
    "    \n",
    "    # Hacer predicciones\n",
    "    predictions = lr_model.transform(test_df)\n",
    "    predictions.show(5)\n",
    "\n",
    "    # Registrar el modelo con MLflow\n",
    "    mlflow.spark.log_model(lr_model, \"model\")\n",
    "\n",
    "    # Registrar métricas y parámetros\n",
    "    mlflow.log_param(\"intercept\", lr_model.intercept)\n",
    "    mlflow.log_param(\"num_features\", len(lr_model.coefficients))\n",
    "    mlflow.log_metric(\"rmse\", lr_model.summary.rootMeanSquaredError)\n",
    "    mlflow.log_metric(\"r2\", lr_model.summary.r2)\n",
    "\n",
    "\n",
    "    print(\"Modelo registrado y parámetros guardados con MLflow\")\n"
   ]
  }
 ],
 "metadata": {
  "application/vnd.databricks.v1+notebook": {
   "dashboards": [],
   "environmentMetadata": null,
   "language": "python",
   "notebookMetadata": {
    "pythonIndentUnit": 4
   },
   "notebookName": "Regresión lineal y MLFlow con PySpark",
   "widgets": {}
  },
  "kernelspec": {
   "display_name": "Python 3 (ipykernel)",
   "language": "python",
   "name": "python3"
  },
  "language_info": {
   "codemirror_mode": {
    "name": "ipython",
    "version": 3
   },
   "file_extension": ".py",
   "mimetype": "text/x-python",
   "name": "python",
   "nbconvert_exporter": "python",
   "pygments_lexer": "ipython3",
   "version": "3.10.9"
  }
 },
 "nbformat": 4,
 "nbformat_minor": 0
}
