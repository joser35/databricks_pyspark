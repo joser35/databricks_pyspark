{
 "cells": [
  {
   "cell_type": "markdown",
   "metadata": {
    "application/vnd.databricks.v1+cell": {
     "cellMetadata": {},
     "inputWidgets": {},
     "nuid": "5114b320-3605-4c52-ac50-57d704451b31",
     "showTitle": false,
     "title": ""
    },
    "papermill": {
     "duration": 0.016306,
     "end_time": "2022-08-26T14:23:42.392249",
     "exception": false,
     "start_time": "2022-08-26T14:23:42.375943",
     "status": "completed"
    },
    "tags": []
   },
   "source": [
    "# Manipulación de Datos con `PySpark`"
   ]
  },
  {
   "cell_type": "markdown",
   "metadata": {
    "application/vnd.databricks.v1+cell": {
     "cellMetadata": {},
     "inputWidgets": {},
     "nuid": "6f545224-9010-4673-a0e2-ac3d3d3d29f6",
     "showTitle": false,
     "title": ""
    },
    "papermill": {
     "duration": 0.014821,
     "end_time": "2022-08-26T14:23:42.452150",
     "exception": false,
     "start_time": "2022-08-26T14:23:42.437329",
     "status": "completed"
    },
    "tags": []
   },
   "source": [
    "\n",
    "# Contenido\n",
    "---\n",
    "**1.**  [**Introducción**](#Step1)<br>\n",
    "**2.**  [**Operaciones**](#Step2)<br>\n",
    "**3.**  [**Creating SparkSession**](#Step3)<br>\n",
    "**4.**  [**Reading Data**](#Step4)<br>\n",
    "**5.**  [**Understanding Data**](#Step5)<br>\n",
    "**6.**  [**Selecting Columns**](#Step6)<br>\n",
    "**7.**  [**Data Filtering**](#Step7)<br>\n",
    "**8.**  [**Adding New Columns**](#Step8)<br>\n",
    "**9.**  [**Grouping Data**](#Step9)<br>\n",
    "**10.**  [**Applying User-Defined Functions**](#Step10)<br>\n",
    "**11.**  [**Deleting Data**](#Step11)<br>\n",
    "**12.** [**Writing Data**](#Step12)<br>"
   ]
  },
  {
   "cell_type": "markdown",
   "metadata": {
    "application/vnd.databricks.v1+cell": {
     "cellMetadata": {},
     "inputWidgets": {},
     "nuid": "6d71fb08-d710-4ad5-9ccd-f2f882f9d824",
     "showTitle": false,
     "title": ""
    },
    "papermill": {
     "duration": 0.015716,
     "end_time": "2022-08-26T14:23:42.481923",
     "exception": false,
     "start_time": "2022-08-26T14:23:42.466207",
     "status": "completed"
    },
    "tags": []
   },
   "source": [
    "# 1. Introducción\n",
    "\n",
    "La manipulación de datos es un proceso fundamental en el ámbito de la ciencia de datos y el análisis de datos. Consiste en la `transformación, limpieza, reorganización o modificación de conjuntos de datos` con el objetivo de prepararlos para su análisis, visualización o modelado. \n",
    "\n",
    "### Importancia de la manipulación de datos:\n",
    "\n",
    "1. **Preparación de datos**:\n",
    "   - Antes de poder realizar un análisis significativo, es crucial preparar los datos de manera adecuada, lo que implica limpiarlos, transformarlos y estructurarlos de manera que sean aptos para el análisis.\n",
    "\n",
    "2. **Calidad de los datos**:\n",
    "   - La calidad de los datos influye directamente en la calidad de los resultados obtenidos. La manipulación de datos incluye la identificación y corrección de errores, valores atípicos, datos faltantes y otros problemas que puedan afectar la integridad de los datos.\n",
    "\n",
    "3. **Toma de decisiones informadas**:\n",
    "   - Una manipulación efectiva de los datos proporciona una base sólida para la toma de decisiones informadas. Los datos limpios y bien estructurados permiten extraer información significativa y generar conocimientos útiles.\n",
    "\n",
    "### Procesos comunes de manipulación de datos:\n",
    "\n",
    "1. **Limpieza de datos**:\n",
    "   - Esto implica identificar y corregir errores en los datos, eliminar duplicados, tratar valores faltantes y valores atípicos, y asegurarse de que los datos estén en el formato correcto.\n",
    "\n",
    "2. **Transformación de datos**:\n",
    "   - Incluye convertir datos a un formato adecuado, realizar cálculos, aplicar funciones matemáticas o estadísticas, normalizar datos y crear nuevas variables derivadas.\n",
    "\n",
    "3. **Filtrado y selección de datos**:\n",
    "   - Consiste en seleccionar columnas o filas específicas, filtrar datos basados en condiciones específicas y eliminar datos irrelevantes para el análisis.\n",
    "\n",
    "4. **Agregación y agrupación de datos**:\n",
    "   - Implica combinar datos en grupos, calcular estadísticas resumidas como sumas, promedios, máximos, mínimos, contar valores, etc., dentro de esos grupos.\n",
    "\n",
    "5. **Unión y combinación de datos**:\n",
    "   - Permite combinar múltiples conjuntos de datos en uno solo, ya sea mediante uniones por columnas comunes o a través de concatenación.\n",
    "\n",
    "### Herramientas para la manipulación de datos:\n",
    "\n",
    "- **Lenguajes de programación** como Python, R, SQL, que ofrecen bibliotecas y funciones especializadas para la manipulación de datos.\n",
    "- **Bibliotecas y herramientas** como pandas, NumPy, dplyr, SQL, PySpark, que facilitan operaciones específicas de manipulación de datos.\n",
    "- **Herramientas de visualización de datos** que pueden ayudar a comprender mejor los datos durante el proceso de manipulación.\n",
    "\n",
    "En resumen, la manipulación de datos es una etapa crítica en el proceso de análisis de datos que implica limpiar, transformar y preparar los datos para su posterior análisis, visualización y modelado. Una manipulación efectiva de los datos es esencial para garantizar la calidad y la integridad de los resultados obtenidos a partir de ellos."
   ]
  },
  {
   "cell_type": "markdown",
   "metadata": {
    "application/vnd.databricks.v1+cell": {
     "cellMetadata": {},
     "inputWidgets": {},
     "nuid": "54769113-ea83-41fa-95c2-013a18a6e372",
     "showTitle": false,
     "title": ""
    }
   },
   "source": [
    "# 2. Operaciones con Pyspark\n",
    "\n",
    "La manipulación de datos con `PySpark` es una parte fundamental del análisis de datos a gran escala en entornos distribuidos. `PySpark` proporciona una interfaz de alto nivel para trabajar con conjuntos de datos distribuidos a través de la API `DataFrame`, que permite manipular datos de manera eficiente y escalable. A continuación, se presentan algunas de las operaciones comunes de manipulación de datos que se pueden realizar con PySpark:\n",
    "\n",
    "### Lectura y escritura de datos:\n",
    "- PySpark permite leer y escribir datos desde y hacia una variedad de fuentes de datos como archivos CSV, JSON, Parquet, bases de datos, etc., utilizando métodos como `spark.read.format()` y `df.write.format()`.\n",
    "\n",
    "### Selección y filtrado de datos:\n",
    "- Puedes seleccionar columnas específicas de un DataFrame utilizando `df.select()` o filtrar filas basadas en una condición utilizando `df.filter()` o `df.where()`.\n",
    "\n",
    "### Agregaciones y agrupaciones:\n",
    "- PySpark permite realizar operaciones de agregación como `groupby()`, `agg()` para realizar cálculos estadísticos en grupos de datos, y funciones de agregación como `sum()`, `mean()`, `max()`, `min()`.\n",
    "\n",
    "### Creación y modificación de columnas:\n",
    "- Puedes añadir, renombrar o eliminar columnas en un DataFrame utilizando métodos como `withColumn()`, `withColumnRenamed()`, `drop()`, y también aplicar transformaciones a columnas existentes.\n",
    "\n",
    "### Unión de DataFrames:\n",
    "- PySpark permite unir DataFrames utilizando diferentes tipos de uniones como `join()`, `union()`, `intersect()`, `subtract()`, etc., para combinar datos de múltiples fuentes.\n",
    "\n",
    "### Operaciones de ventana:\n",
    "- Puedes realizar operaciones de ventana como `rank()`, `lead()`, `lag()`, `row_number()` para realizar cálculos en grupos de filas en un DataFrame.\n",
    "\n",
    "### Manejo de valores nulos:\n",
    "- PySpark proporciona funciones para manejar valores nulos como `fillna()`, `dropna()`, `na.drop()`, `na.fill()` para limpiar los datos antes de realizar análisis.\n",
    "\n",
    "\n",
    "La manipulación de datos en `PySpark` es una parte esencial del flujo de trabajo de análisis de datos a gran escala, permitiendo realizar transformaciones complejas y operaciones estadísticas en conjuntos de datos distribuidos de manera eficiente."
   ]
  },
  {
   "cell_type": "markdown",
   "metadata": {
    "application/vnd.databricks.v1+cell": {
     "cellMetadata": {},
     "inputWidgets": {},
     "nuid": "b8ff7e19-a829-4a5d-ad6d-ad7c55fb54c2",
     "showTitle": false,
     "title": ""
    },
    "papermill": {
     "duration": 0.024052,
     "end_time": "2022-08-26T14:24:34.387498",
     "exception": false,
     "start_time": "2022-08-26T14:24:34.363446",
     "status": "completed"
    },
    "tags": []
   },
   "source": [
    "\n",
    "# 3. Creating SparkSession\n"
   ]
  },
  {
   "cell_type": "markdown",
   "metadata": {
    "application/vnd.databricks.v1+cell": {
     "cellMetadata": {},
     "inputWidgets": {},
     "nuid": "65a90909-4e79-4700-b957-81aec2a6704b",
     "showTitle": false,
     "title": ""
    },
    "papermill": {
     "duration": 0.023789,
     "end_time": "2022-08-26T14:24:34.435478",
     "exception": false,
     "start_time": "2022-08-26T14:24:34.411689",
     "status": "completed"
    },
    "tags": []
   },
   "source": [
    "Para trabajar con `PySpark`, primero debes crear `SparkSession`. `SparkSession` es un punto de entrada a la funcionalidad de `PySpark`.\n",
    "\n",
    "Cargamos las librerias que vamos a usar, para luego crear nuestro `SparkSession`"
   ]
  },
  {
   "cell_type": "code",
   "execution_count": 0,
   "metadata": {
    "application/vnd.databricks.v1+cell": {
     "cellMetadata": {
      "byteLimit": 2048000,
      "rowLimit": 10000
     },
     "inputWidgets": {},
     "nuid": "2fdadc7f-1481-4da8-b365-c6f5ede9f128",
     "showTitle": false,
     "title": ""
    },
    "execution": {
     "iopub.execute_input": "2022-08-26T14:24:34.487356Z",
     "iopub.status.busy": "2022-08-26T14:24:34.486306Z",
     "iopub.status.idle": "2022-08-26T14:24:40.291776Z",
     "shell.execute_reply": "2022-08-26T14:24:40.290494Z"
    },
    "papermill": {
     "duration": 5.835552,
     "end_time": "2022-08-26T14:24:40.295087",
     "exception": false,
     "start_time": "2022-08-26T14:24:34.459535",
     "status": "completed"
    },
    "tags": []
   },
   "outputs": [],
   "source": [
    "from pyspark.sql import SparkSession\n",
    "import requests\n",
    "import pandas as pd\n",
    "import io\n",
    "import warnings\n",
    "warnings.filterwarnings(\"ignore\")\n"
   ]
  },
  {
   "cell_type": "code",
   "execution_count": 0,
   "metadata": {
    "application/vnd.databricks.v1+cell": {
     "cellMetadata": {
      "byteLimit": 2048000,
      "rowLimit": 10000
     },
     "inputWidgets": {},
     "nuid": "e84b63ac-d3de-43aa-8a75-fd374b67f8a8",
     "showTitle": false,
     "title": ""
    }
   },
   "outputs": [],
   "source": [
    "# Creating spar session object\n",
    "spark = SparkSession.builder.appName('manipulacion_data').getOrCreate()"
   ]
  },
  {
   "cell_type": "markdown",
   "metadata": {
    "application/vnd.databricks.v1+cell": {
     "cellMetadata": {},
     "inputWidgets": {},
     "nuid": "bc035611-4ebb-46b2-9bbb-9b4ee53e7db8",
     "showTitle": false,
     "title": ""
    },
    "papermill": {
     "duration": 0.024203,
     "end_time": "2022-08-26T14:24:40.344078",
     "exception": false,
     "start_time": "2022-08-26T14:24:40.319875",
     "status": "completed"
    },
    "tags": []
   },
   "source": [
    "\n",
    "# 4. Reading Data\n"
   ]
  },
  {
   "cell_type": "markdown",
   "metadata": {
    "application/vnd.databricks.v1+cell": {
     "cellMetadata": {},
     "inputWidgets": {},
     "nuid": "8fd6fad5-e4eb-425d-9bab-ceb056458d67",
     "showTitle": false,
     "title": ""
    },
    "papermill": {
     "duration": 0.024121,
     "end_time": "2022-08-26T14:24:40.392536",
     "exception": false,
     "start_time": "2022-08-26T14:24:40.368415",
     "status": "completed"
    },
    "tags": []
   },
   "source": [
    "`PySpark` ofrece dos estructuras principales para almacenar datos al realizar manipulaciones: el RDD y el DataFrame. Puedes pensar en el RDD como una colección distribuida de objetos (o filas). Puedes pensar en el DataFrame como si fuera una tabla. Leamos nuestro conjunto de datos como DataFrame."
   ]
  },
  {
   "cell_type": "code",
   "execution_count": 0,
   "metadata": {
    "application/vnd.databricks.v1+cell": {
     "cellMetadata": {
      "byteLimit": 2048000,
      "rowLimit": 10000
     },
     "inputWidgets": {},
     "nuid": "bbe05c07-af21-4f35-9906-4d0043a8559b",
     "showTitle": false,
     "title": ""
    }
   },
   "outputs": [],
   "source": [
    "df_url = \"https://raw.githubusercontent.com/narencastellon/Mi-Dataset/refs/heads/main/diabetes_data.csv\""
   ]
  },
  {
   "cell_type": "code",
   "execution_count": 0,
   "metadata": {
    "application/vnd.databricks.v1+cell": {
     "cellMetadata": {
      "byteLimit": 2048000,
      "rowLimit": 10000
     },
     "inputWidgets": {},
     "nuid": "282a252b-a749-4ab7-bf4f-b1fc4bf7dadf",
     "showTitle": false,
     "title": ""
    },
    "execution": {
     "iopub.execute_input": "2022-08-26T14:24:40.443968Z",
     "iopub.status.busy": "2022-08-26T14:24:40.442658Z",
     "iopub.status.idle": "2022-08-26T14:24:47.867217Z",
     "shell.execute_reply": "2022-08-26T14:24:47.865878Z"
    },
    "papermill": {
     "duration": 7.454437,
     "end_time": "2022-08-26T14:24:47.871203",
     "exception": false,
     "start_time": "2022-08-26T14:24:40.416766",
     "status": "completed"
    },
    "tags": []
   },
   "outputs": [
    {
     "output_type": "display_data",
     "data": {
      "text/html": [
       "<style scoped>\n",
       "  .table-result-container {\n",
       "    max-height: 300px;\n",
       "    overflow: auto;\n",
       "  }\n",
       "  table, th, td {\n",
       "    border: 1px solid black;\n",
       "    border-collapse: collapse;\n",
       "  }\n",
       "  th, td {\n",
       "    padding: 5px;\n",
       "  }\n",
       "  th {\n",
       "    text-align: left;\n",
       "  }\n",
       "</style><div class='table-result-container'><table class='table-result'><thead style='background-color: white'><tr><th>Pregnancies</th><th>Glucose</th><th>BloodPressure</th><th>SkinThickness</th><th>Insulin</th><th>BMI</th><th>DiabetesPedigreeFunction</th><th>Age</th><th>Outcome</th></tr></thead><tbody><tr><td>6</td><td>148</td><td>72</td><td>35</td><td>0</td><td>33.6</td><td>0.627</td><td>50</td><td>1</td></tr><tr><td>1</td><td>85</td><td>66</td><td>29</td><td>0</td><td>26.6</td><td>0.351</td><td>31</td><td>0</td></tr><tr><td>8</td><td>183</td><td>64</td><td>0</td><td>0</td><td>23.3</td><td>0.672</td><td>32</td><td>1</td></tr><tr><td>1</td><td>89</td><td>66</td><td>23</td><td>94</td><td>28.1</td><td>0.167</td><td>21</td><td>0</td></tr><tr><td>0</td><td>137</td><td>40</td><td>35</td><td>168</td><td>43.1</td><td>2.288</td><td>33</td><td>1</td></tr><tr><td>5</td><td>116</td><td>74</td><td>0</td><td>0</td><td>25.6</td><td>0.201</td><td>30</td><td>0</td></tr><tr><td>3</td><td>78</td><td>50</td><td>32</td><td>88</td><td>31.0</td><td>0.248</td><td>26</td><td>1</td></tr><tr><td>10</td><td>115</td><td>0</td><td>0</td><td>0</td><td>35.3</td><td>0.134</td><td>29</td><td>0</td></tr><tr><td>2</td><td>197</td><td>70</td><td>45</td><td>543</td><td>30.5</td><td>0.158</td><td>53</td><td>1</td></tr><tr><td>8</td><td>125</td><td>96</td><td>0</td><td>0</td><td>0.0</td><td>0.232</td><td>54</td><td>1</td></tr><tr><td>4</td><td>110</td><td>92</td><td>0</td><td>0</td><td>37.6</td><td>0.191</td><td>30</td><td>0</td></tr><tr><td>10</td><td>168</td><td>74</td><td>0</td><td>0</td><td>38.0</td><td>0.537</td><td>34</td><td>1</td></tr><tr><td>10</td><td>139</td><td>80</td><td>0</td><td>0</td><td>27.1</td><td>1.441</td><td>57</td><td>0</td></tr><tr><td>1</td><td>189</td><td>60</td><td>23</td><td>846</td><td>30.1</td><td>0.398</td><td>59</td><td>1</td></tr><tr><td>5</td><td>166</td><td>72</td><td>19</td><td>175</td><td>25.8</td><td>0.587</td><td>51</td><td>1</td></tr><tr><td>7</td><td>100</td><td>0</td><td>0</td><td>0</td><td>30.0</td><td>0.484</td><td>32</td><td>1</td></tr><tr><td>0</td><td>118</td><td>84</td><td>47</td><td>230</td><td>45.8</td><td>0.551</td><td>31</td><td>1</td></tr><tr><td>7</td><td>107</td><td>74</td><td>0</td><td>0</td><td>29.6</td><td>0.254</td><td>31</td><td>1</td></tr><tr><td>1</td><td>103</td><td>30</td><td>38</td><td>83</td><td>43.3</td><td>0.183</td><td>33</td><td>0</td></tr><tr><td>1</td><td>115</td><td>70</td><td>30</td><td>96</td><td>34.6</td><td>0.529</td><td>32</td><td>1</td></tr><tr><td>3</td><td>126</td><td>88</td><td>41</td><td>235</td><td>39.3</td><td>0.704</td><td>27</td><td>0</td></tr><tr><td>8</td><td>99</td><td>84</td><td>0</td><td>0</td><td>35.4</td><td>0.388</td><td>50</td><td>0</td></tr><tr><td>7</td><td>196</td><td>90</td><td>0</td><td>0</td><td>39.8</td><td>0.451</td><td>41</td><td>1</td></tr><tr><td>9</td><td>119</td><td>80</td><td>35</td><td>0</td><td>29.0</td><td>0.263</td><td>29</td><td>1</td></tr><tr><td>11</td><td>143</td><td>94</td><td>33</td><td>146</td><td>36.6</td><td>0.254</td><td>51</td><td>1</td></tr><tr><td>10</td><td>125</td><td>70</td><td>26</td><td>115</td><td>31.1</td><td>0.205</td><td>41</td><td>1</td></tr><tr><td>7</td><td>147</td><td>76</td><td>0</td><td>0</td><td>39.4</td><td>0.257</td><td>43</td><td>1</td></tr><tr><td>1</td><td>97</td><td>66</td><td>15</td><td>140</td><td>23.2</td><td>0.487</td><td>22</td><td>0</td></tr><tr><td>13</td><td>145</td><td>82</td><td>19</td><td>110</td><td>22.2</td><td>0.245</td><td>57</td><td>0</td></tr><tr><td>5</td><td>117</td><td>92</td><td>0</td><td>0</td><td>34.1</td><td>0.337</td><td>38</td><td>0</td></tr><tr><td>5</td><td>109</td><td>75</td><td>26</td><td>0</td><td>36.0</td><td>0.546</td><td>60</td><td>0</td></tr><tr><td>3</td><td>158</td><td>76</td><td>36</td><td>245</td><td>31.6</td><td>0.851</td><td>28</td><td>1</td></tr><tr><td>3</td><td>88</td><td>58</td><td>11</td><td>54</td><td>24.8</td><td>0.267</td><td>22</td><td>0</td></tr><tr><td>6</td><td>92</td><td>92</td><td>0</td><td>0</td><td>19.9</td><td>0.188</td><td>28</td><td>0</td></tr><tr><td>10</td><td>122</td><td>78</td><td>31</td><td>0</td><td>27.6</td><td>0.512</td><td>45</td><td>0</td></tr><tr><td>4</td><td>103</td><td>60</td><td>33</td><td>192</td><td>24.0</td><td>0.966</td><td>33</td><td>0</td></tr><tr><td>11</td><td>138</td><td>76</td><td>0</td><td>0</td><td>33.2</td><td>0.42</td><td>35</td><td>0</td></tr><tr><td>9</td><td>102</td><td>76</td><td>37</td><td>0</td><td>32.9</td><td>0.665</td><td>46</td><td>1</td></tr><tr><td>2</td><td>90</td><td>68</td><td>42</td><td>0</td><td>38.2</td><td>0.503</td><td>27</td><td>1</td></tr><tr><td>4</td><td>111</td><td>72</td><td>47</td><td>207</td><td>37.1</td><td>1.39</td><td>56</td><td>1</td></tr><tr><td>3</td><td>180</td><td>64</td><td>25</td><td>70</td><td>34.0</td><td>0.271</td><td>26</td><td>0</td></tr><tr><td>7</td><td>133</td><td>84</td><td>0</td><td>0</td><td>40.2</td><td>0.696</td><td>37</td><td>0</td></tr><tr><td>7</td><td>106</td><td>92</td><td>18</td><td>0</td><td>22.7</td><td>0.235</td><td>48</td><td>0</td></tr><tr><td>9</td><td>171</td><td>110</td><td>24</td><td>240</td><td>45.4</td><td>0.721</td><td>54</td><td>1</td></tr><tr><td>7</td><td>159</td><td>64</td><td>0</td><td>0</td><td>27.4</td><td>0.294</td><td>40</td><td>0</td></tr><tr><td>0</td><td>180</td><td>66</td><td>39</td><td>0</td><td>42.0</td><td>1.893</td><td>25</td><td>1</td></tr><tr><td>1</td><td>146</td><td>56</td><td>0</td><td>0</td><td>29.7</td><td>0.564</td><td>29</td><td>0</td></tr><tr><td>2</td><td>71</td><td>70</td><td>27</td><td>0</td><td>28.0</td><td>0.586</td><td>22</td><td>0</td></tr><tr><td>7</td><td>103</td><td>66</td><td>32</td><td>0</td><td>39.1</td><td>0.344</td><td>31</td><td>1</td></tr><tr><td>7</td><td>105</td><td>0</td><td>0</td><td>0</td><td>0.0</td><td>0.305</td><td>24</td><td>0</td></tr><tr><td>1</td><td>103</td><td>80</td><td>11</td><td>82</td><td>19.4</td><td>0.491</td><td>22</td><td>0</td></tr><tr><td>1</td><td>101</td><td>50</td><td>15</td><td>36</td><td>24.2</td><td>0.526</td><td>26</td><td>0</td></tr><tr><td>5</td><td>88</td><td>66</td><td>21</td><td>23</td><td>24.4</td><td>0.342</td><td>30</td><td>0</td></tr><tr><td>8</td><td>176</td><td>90</td><td>34</td><td>300</td><td>33.7</td><td>0.467</td><td>58</td><td>1</td></tr><tr><td>7</td><td>150</td><td>66</td><td>42</td><td>342</td><td>34.7</td><td>0.718</td><td>42</td><td>0</td></tr><tr><td>1</td><td>73</td><td>50</td><td>10</td><td>0</td><td>23.0</td><td>0.248</td><td>21</td><td>0</td></tr><tr><td>7</td><td>187</td><td>68</td><td>39</td><td>304</td><td>37.7</td><td>0.254</td><td>41</td><td>1</td></tr><tr><td>0</td><td>100</td><td>88</td><td>60</td><td>110</td><td>46.8</td><td>0.962</td><td>31</td><td>0</td></tr><tr><td>0</td><td>146</td><td>82</td><td>0</td><td>0</td><td>40.5</td><td>1.781</td><td>44</td><td>0</td></tr><tr><td>0</td><td>105</td><td>64</td><td>41</td><td>142</td><td>41.5</td><td>0.173</td><td>22</td><td>0</td></tr><tr><td>2</td><td>84</td><td>0</td><td>0</td><td>0</td><td>0.0</td><td>0.304</td><td>21</td><td>0</td></tr><tr><td>8</td><td>133</td><td>72</td><td>0</td><td>0</td><td>32.9</td><td>0.27</td><td>39</td><td>1</td></tr><tr><td>5</td><td>44</td><td>62</td><td>0</td><td>0</td><td>25.0</td><td>0.587</td><td>36</td><td>0</td></tr><tr><td>2</td><td>141</td><td>58</td><td>34</td><td>128</td><td>25.4</td><td>0.699</td><td>24</td><td>0</td></tr><tr><td>7</td><td>114</td><td>66</td><td>0</td><td>0</td><td>32.8</td><td>0.258</td><td>42</td><td>1</td></tr><tr><td>5</td><td>99</td><td>74</td><td>27</td><td>0</td><td>29.0</td><td>0.203</td><td>32</td><td>0</td></tr><tr><td>0</td><td>109</td><td>88</td><td>30</td><td>0</td><td>32.5</td><td>0.855</td><td>38</td><td>1</td></tr><tr><td>2</td><td>109</td><td>92</td><td>0</td><td>0</td><td>42.7</td><td>0.845</td><td>54</td><td>0</td></tr><tr><td>1</td><td>95</td><td>66</td><td>13</td><td>38</td><td>19.6</td><td>0.334</td><td>25</td><td>0</td></tr><tr><td>4</td><td>146</td><td>85</td><td>27</td><td>100</td><td>28.9</td><td>0.189</td><td>27</td><td>0</td></tr><tr><td>2</td><td>100</td><td>66</td><td>20</td><td>90</td><td>32.9</td><td>0.867</td><td>28</td><td>1</td></tr><tr><td>5</td><td>139</td><td>64</td><td>35</td><td>140</td><td>28.6</td><td>0.411</td><td>26</td><td>0</td></tr><tr><td>13</td><td>126</td><td>90</td><td>0</td><td>0</td><td>43.4</td><td>0.583</td><td>42</td><td>1</td></tr><tr><td>4</td><td>129</td><td>86</td><td>20</td><td>270</td><td>35.1</td><td>0.231</td><td>23</td><td>0</td></tr><tr><td>1</td><td>79</td><td>75</td><td>30</td><td>0</td><td>32.0</td><td>0.396</td><td>22</td><td>0</td></tr><tr><td>1</td><td>0</td><td>48</td><td>20</td><td>0</td><td>24.7</td><td>0.14</td><td>22</td><td>0</td></tr><tr><td>7</td><td>62</td><td>78</td><td>0</td><td>0</td><td>32.6</td><td>0.391</td><td>41</td><td>0</td></tr><tr><td>5</td><td>95</td><td>72</td><td>33</td><td>0</td><td>37.7</td><td>0.37</td><td>27</td><td>0</td></tr><tr><td>0</td><td>131</td><td>0</td><td>0</td><td>0</td><td>43.2</td><td>0.27</td><td>26</td><td>1</td></tr><tr><td>2</td><td>112</td><td>66</td><td>22</td><td>0</td><td>25.0</td><td>0.307</td><td>24</td><td>0</td></tr><tr><td>3</td><td>113</td><td>44</td><td>13</td><td>0</td><td>22.4</td><td>0.14</td><td>22</td><td>0</td></tr><tr><td>2</td><td>74</td><td>0</td><td>0</td><td>0</td><td>0.0</td><td>0.102</td><td>22</td><td>0</td></tr><tr><td>7</td><td>83</td><td>78</td><td>26</td><td>71</td><td>29.3</td><td>0.767</td><td>36</td><td>0</td></tr><tr><td>0</td><td>101</td><td>65</td><td>28</td><td>0</td><td>24.6</td><td>0.237</td><td>22</td><td>0</td></tr><tr><td>5</td><td>137</td><td>108</td><td>0</td><td>0</td><td>48.8</td><td>0.227</td><td>37</td><td>1</td></tr><tr><td>2</td><td>110</td><td>74</td><td>29</td><td>125</td><td>32.4</td><td>0.698</td><td>27</td><td>0</td></tr><tr><td>13</td><td>106</td><td>72</td><td>54</td><td>0</td><td>36.6</td><td>0.178</td><td>45</td><td>0</td></tr><tr><td>2</td><td>100</td><td>68</td><td>25</td><td>71</td><td>38.5</td><td>0.324</td><td>26</td><td>0</td></tr><tr><td>15</td><td>136</td><td>70</td><td>32</td><td>110</td><td>37.1</td><td>0.153</td><td>43</td><td>1</td></tr><tr><td>1</td><td>107</td><td>68</td><td>19</td><td>0</td><td>26.5</td><td>0.165</td><td>24</td><td>0</td></tr><tr><td>1</td><td>80</td><td>55</td><td>0</td><td>0</td><td>19.1</td><td>0.258</td><td>21</td><td>0</td></tr><tr><td>4</td><td>123</td><td>80</td><td>15</td><td>176</td><td>32.0</td><td>0.443</td><td>34</td><td>0</td></tr><tr><td>7</td><td>81</td><td>78</td><td>40</td><td>48</td><td>46.7</td><td>0.261</td><td>42</td><td>0</td></tr><tr><td>4</td><td>134</td><td>72</td><td>0</td><td>0</td><td>23.8</td><td>0.277</td><td>60</td><td>1</td></tr><tr><td>2</td><td>142</td><td>82</td><td>18</td><td>64</td><td>24.7</td><td>0.761</td><td>21</td><td>0</td></tr><tr><td>6</td><td>144</td><td>72</td><td>27</td><td>228</td><td>33.9</td><td>0.255</td><td>40</td><td>0</td></tr><tr><td>2</td><td>92</td><td>62</td><td>28</td><td>0</td><td>31.6</td><td>0.13</td><td>24</td><td>0</td></tr><tr><td>1</td><td>71</td><td>48</td><td>18</td><td>76</td><td>20.4</td><td>0.323</td><td>22</td><td>0</td></tr><tr><td>6</td><td>93</td><td>50</td><td>30</td><td>64</td><td>28.7</td><td>0.356</td><td>23</td><td>0</td></tr><tr><td>1</td><td>122</td><td>90</td><td>51</td><td>220</td><td>49.7</td><td>0.325</td><td>31</td><td>1</td></tr><tr><td>1</td><td>163</td><td>72</td><td>0</td><td>0</td><td>39.0</td><td>1.222</td><td>33</td><td>1</td></tr><tr><td>1</td><td>151</td><td>60</td><td>0</td><td>0</td><td>26.1</td><td>0.179</td><td>22</td><td>0</td></tr><tr><td>0</td><td>125</td><td>96</td><td>0</td><td>0</td><td>22.5</td><td>0.262</td><td>21</td><td>0</td></tr><tr><td>1</td><td>81</td><td>72</td><td>18</td><td>40</td><td>26.6</td><td>0.283</td><td>24</td><td>0</td></tr><tr><td>2</td><td>85</td><td>65</td><td>0</td><td>0</td><td>39.6</td><td>0.93</td><td>27</td><td>0</td></tr><tr><td>1</td><td>126</td><td>56</td><td>29</td><td>152</td><td>28.7</td><td>0.801</td><td>21</td><td>0</td></tr><tr><td>1</td><td>96</td><td>122</td><td>0</td><td>0</td><td>22.4</td><td>0.207</td><td>27</td><td>0</td></tr><tr><td>4</td><td>144</td><td>58</td><td>28</td><td>140</td><td>29.5</td><td>0.287</td><td>37</td><td>0</td></tr><tr><td>3</td><td>83</td><td>58</td><td>31</td><td>18</td><td>34.3</td><td>0.336</td><td>25</td><td>0</td></tr><tr><td>0</td><td>95</td><td>85</td><td>25</td><td>36</td><td>37.4</td><td>0.247</td><td>24</td><td>1</td></tr><tr><td>3</td><td>171</td><td>72</td><td>33</td><td>135</td><td>33.3</td><td>0.199</td><td>24</td><td>1</td></tr><tr><td>8</td><td>155</td><td>62</td><td>26</td><td>495</td><td>34.0</td><td>0.543</td><td>46</td><td>1</td></tr><tr><td>1</td><td>89</td><td>76</td><td>34</td><td>37</td><td>31.2</td><td>0.192</td><td>23</td><td>0</td></tr><tr><td>4</td><td>76</td><td>62</td><td>0</td><td>0</td><td>34.0</td><td>0.391</td><td>25</td><td>0</td></tr><tr><td>7</td><td>160</td><td>54</td><td>32</td><td>175</td><td>30.5</td><td>0.588</td><td>39</td><td>1</td></tr><tr><td>4</td><td>146</td><td>92</td><td>0</td><td>0</td><td>31.2</td><td>0.539</td><td>61</td><td>1</td></tr><tr><td>5</td><td>124</td><td>74</td><td>0</td><td>0</td><td>34.0</td><td>0.22</td><td>38</td><td>1</td></tr><tr><td>5</td><td>78</td><td>48</td><td>0</td><td>0</td><td>33.7</td><td>0.654</td><td>25</td><td>0</td></tr><tr><td>4</td><td>97</td><td>60</td><td>23</td><td>0</td><td>28.2</td><td>0.443</td><td>22</td><td>0</td></tr><tr><td>4</td><td>99</td><td>76</td><td>15</td><td>51</td><td>23.2</td><td>0.223</td><td>21</td><td>0</td></tr><tr><td>0</td><td>162</td><td>76</td><td>56</td><td>100</td><td>53.2</td><td>0.759</td><td>25</td><td>1</td></tr><tr><td>6</td><td>111</td><td>64</td><td>39</td><td>0</td><td>34.2</td><td>0.26</td><td>24</td><td>0</td></tr><tr><td>2</td><td>107</td><td>74</td><td>30</td><td>100</td><td>33.6</td><td>0.404</td><td>23</td><td>0</td></tr><tr><td>5</td><td>132</td><td>80</td><td>0</td><td>0</td><td>26.8</td><td>0.186</td><td>69</td><td>0</td></tr><tr><td>0</td><td>113</td><td>76</td><td>0</td><td>0</td><td>33.3</td><td>0.278</td><td>23</td><td>1</td></tr><tr><td>1</td><td>88</td><td>30</td><td>42</td><td>99</td><td>55.0</td><td>0.496</td><td>26</td><td>1</td></tr><tr><td>3</td><td>120</td><td>70</td><td>30</td><td>135</td><td>42.9</td><td>0.452</td><td>30</td><td>0</td></tr><tr><td>1</td><td>118</td><td>58</td><td>36</td><td>94</td><td>33.3</td><td>0.261</td><td>23</td><td>0</td></tr><tr><td>1</td><td>117</td><td>88</td><td>24</td><td>145</td><td>34.5</td><td>0.403</td><td>40</td><td>1</td></tr><tr><td>0</td><td>105</td><td>84</td><td>0</td><td>0</td><td>27.9</td><td>0.741</td><td>62</td><td>1</td></tr><tr><td>4</td><td>173</td><td>70</td><td>14</td><td>168</td><td>29.7</td><td>0.361</td><td>33</td><td>1</td></tr><tr><td>9</td><td>122</td><td>56</td><td>0</td><td>0</td><td>33.3</td><td>1.114</td><td>33</td><td>1</td></tr><tr><td>3</td><td>170</td><td>64</td><td>37</td><td>225</td><td>34.5</td><td>0.356</td><td>30</td><td>1</td></tr><tr><td>8</td><td>84</td><td>74</td><td>31</td><td>0</td><td>38.3</td><td>0.457</td><td>39</td><td>0</td></tr><tr><td>2</td><td>96</td><td>68</td><td>13</td><td>49</td><td>21.1</td><td>0.647</td><td>26</td><td>0</td></tr><tr><td>2</td><td>125</td><td>60</td><td>20</td><td>140</td><td>33.8</td><td>0.088</td><td>31</td><td>0</td></tr><tr><td>0</td><td>100</td><td>70</td><td>26</td><td>50</td><td>30.8</td><td>0.597</td><td>21</td><td>0</td></tr><tr><td>0</td><td>93</td><td>60</td><td>25</td><td>92</td><td>28.7</td><td>0.532</td><td>22</td><td>0</td></tr><tr><td>0</td><td>129</td><td>80</td><td>0</td><td>0</td><td>31.2</td><td>0.703</td><td>29</td><td>0</td></tr><tr><td>5</td><td>105</td><td>72</td><td>29</td><td>325</td><td>36.9</td><td>0.159</td><td>28</td><td>0</td></tr><tr><td>3</td><td>128</td><td>78</td><td>0</td><td>0</td><td>21.1</td><td>0.268</td><td>55</td><td>0</td></tr><tr><td>5</td><td>106</td><td>82</td><td>30</td><td>0</td><td>39.5</td><td>0.286</td><td>38</td><td>0</td></tr><tr><td>2</td><td>108</td><td>52</td><td>26</td><td>63</td><td>32.5</td><td>0.318</td><td>22</td><td>0</td></tr><tr><td>10</td><td>108</td><td>66</td><td>0</td><td>0</td><td>32.4</td><td>0.272</td><td>42</td><td>1</td></tr><tr><td>4</td><td>154</td><td>62</td><td>31</td><td>284</td><td>32.8</td><td>0.237</td><td>23</td><td>0</td></tr><tr><td>0</td><td>102</td><td>75</td><td>23</td><td>0</td><td>0.0</td><td>0.572</td><td>21</td><td>0</td></tr><tr><td>9</td><td>57</td><td>80</td><td>37</td><td>0</td><td>32.8</td><td>0.096</td><td>41</td><td>0</td></tr><tr><td>2</td><td>106</td><td>64</td><td>35</td><td>119</td><td>30.5</td><td>1.4</td><td>34</td><td>0</td></tr><tr><td>5</td><td>147</td><td>78</td><td>0</td><td>0</td><td>33.7</td><td>0.218</td><td>65</td><td>0</td></tr><tr><td>2</td><td>90</td><td>70</td><td>17</td><td>0</td><td>27.3</td><td>0.085</td><td>22</td><td>0</td></tr><tr><td>1</td><td>136</td><td>74</td><td>50</td><td>204</td><td>37.4</td><td>0.399</td><td>24</td><td>0</td></tr><tr><td>4</td><td>114</td><td>65</td><td>0</td><td>0</td><td>21.9</td><td>0.432</td><td>37</td><td>0</td></tr><tr><td>9</td><td>156</td><td>86</td><td>28</td><td>155</td><td>34.3</td><td>1.189</td><td>42</td><td>1</td></tr><tr><td>1</td><td>153</td><td>82</td><td>42</td><td>485</td><td>40.6</td><td>0.687</td><td>23</td><td>0</td></tr><tr><td>8</td><td>188</td><td>78</td><td>0</td><td>0</td><td>47.9</td><td>0.137</td><td>43</td><td>1</td></tr><tr><td>7</td><td>152</td><td>88</td><td>44</td><td>0</td><td>50.0</td><td>0.337</td><td>36</td><td>1</td></tr><tr><td>2</td><td>99</td><td>52</td><td>15</td><td>94</td><td>24.6</td><td>0.637</td><td>21</td><td>0</td></tr><tr><td>1</td><td>109</td><td>56</td><td>21</td><td>135</td><td>25.2</td><td>0.833</td><td>23</td><td>0</td></tr><tr><td>2</td><td>88</td><td>74</td><td>19</td><td>53</td><td>29.0</td><td>0.229</td><td>22</td><td>0</td></tr><tr><td>17</td><td>163</td><td>72</td><td>41</td><td>114</td><td>40.9</td><td>0.817</td><td>47</td><td>1</td></tr><tr><td>4</td><td>151</td><td>90</td><td>38</td><td>0</td><td>29.7</td><td>0.294</td><td>36</td><td>0</td></tr><tr><td>7</td><td>102</td><td>74</td><td>40</td><td>105</td><td>37.2</td><td>0.204</td><td>45</td><td>0</td></tr><tr><td>0</td><td>114</td><td>80</td><td>34</td><td>285</td><td>44.2</td><td>0.167</td><td>27</td><td>0</td></tr><tr><td>2</td><td>100</td><td>64</td><td>23</td><td>0</td><td>29.7</td><td>0.368</td><td>21</td><td>0</td></tr><tr><td>0</td><td>131</td><td>88</td><td>0</td><td>0</td><td>31.6</td><td>0.743</td><td>32</td><td>1</td></tr><tr><td>6</td><td>104</td><td>74</td><td>18</td><td>156</td><td>29.9</td><td>0.722</td><td>41</td><td>1</td></tr><tr><td>3</td><td>148</td><td>66</td><td>25</td><td>0</td><td>32.5</td><td>0.256</td><td>22</td><td>0</td></tr><tr><td>4</td><td>120</td><td>68</td><td>0</td><td>0</td><td>29.6</td><td>0.709</td><td>34</td><td>0</td></tr><tr><td>4</td><td>110</td><td>66</td><td>0</td><td>0</td><td>31.9</td><td>0.471</td><td>29</td><td>0</td></tr><tr><td>3</td><td>111</td><td>90</td><td>12</td><td>78</td><td>28.4</td><td>0.495</td><td>29</td><td>0</td></tr><tr><td>6</td><td>102</td><td>82</td><td>0</td><td>0</td><td>30.8</td><td>0.18</td><td>36</td><td>1</td></tr><tr><td>6</td><td>134</td><td>70</td><td>23</td><td>130</td><td>35.4</td><td>0.542</td><td>29</td><td>1</td></tr><tr><td>2</td><td>87</td><td>0</td><td>23</td><td>0</td><td>28.9</td><td>0.773</td><td>25</td><td>0</td></tr><tr><td>1</td><td>79</td><td>60</td><td>42</td><td>48</td><td>43.5</td><td>0.678</td><td>23</td><td>0</td></tr><tr><td>2</td><td>75</td><td>64</td><td>24</td><td>55</td><td>29.7</td><td>0.37</td><td>33</td><td>0</td></tr><tr><td>8</td><td>179</td><td>72</td><td>42</td><td>130</td><td>32.7</td><td>0.719</td><td>36</td><td>1</td></tr><tr><td>6</td><td>85</td><td>78</td><td>0</td><td>0</td><td>31.2</td><td>0.382</td><td>42</td><td>0</td></tr><tr><td>0</td><td>129</td><td>110</td><td>46</td><td>130</td><td>67.1</td><td>0.319</td><td>26</td><td>1</td></tr><tr><td>5</td><td>143</td><td>78</td><td>0</td><td>0</td><td>45.0</td><td>0.19</td><td>47</td><td>0</td></tr><tr><td>5</td><td>130</td><td>82</td><td>0</td><td>0</td><td>39.1</td><td>0.956</td><td>37</td><td>1</td></tr><tr><td>6</td><td>87</td><td>80</td><td>0</td><td>0</td><td>23.2</td><td>0.084</td><td>32</td><td>0</td></tr><tr><td>0</td><td>119</td><td>64</td><td>18</td><td>92</td><td>34.9</td><td>0.725</td><td>23</td><td>0</td></tr><tr><td>1</td><td>0</td><td>74</td><td>20</td><td>23</td><td>27.7</td><td>0.299</td><td>21</td><td>0</td></tr><tr><td>5</td><td>73</td><td>60</td><td>0</td><td>0</td><td>26.8</td><td>0.268</td><td>27</td><td>0</td></tr><tr><td>4</td><td>141</td><td>74</td><td>0</td><td>0</td><td>27.6</td><td>0.244</td><td>40</td><td>0</td></tr><tr><td>7</td><td>194</td><td>68</td><td>28</td><td>0</td><td>35.9</td><td>0.745</td><td>41</td><td>1</td></tr><tr><td>8</td><td>181</td><td>68</td><td>36</td><td>495</td><td>30.1</td><td>0.615</td><td>60</td><td>1</td></tr><tr><td>1</td><td>128</td><td>98</td><td>41</td><td>58</td><td>32.0</td><td>1.321</td><td>33</td><td>1</td></tr><tr><td>8</td><td>109</td><td>76</td><td>39</td><td>114</td><td>27.9</td><td>0.64</td><td>31</td><td>1</td></tr><tr><td>5</td><td>139</td><td>80</td><td>35</td><td>160</td><td>31.6</td><td>0.361</td><td>25</td><td>1</td></tr><tr><td>3</td><td>111</td><td>62</td><td>0</td><td>0</td><td>22.6</td><td>0.142</td><td>21</td><td>0</td></tr><tr><td>9</td><td>123</td><td>70</td><td>44</td><td>94</td><td>33.1</td><td>0.374</td><td>40</td><td>0</td></tr><tr><td>7</td><td>159</td><td>66</td><td>0</td><td>0</td><td>30.4</td><td>0.383</td><td>36</td><td>1</td></tr><tr><td>11</td><td>135</td><td>0</td><td>0</td><td>0</td><td>52.3</td><td>0.578</td><td>40</td><td>1</td></tr><tr><td>8</td><td>85</td><td>55</td><td>20</td><td>0</td><td>24.4</td><td>0.136</td><td>42</td><td>0</td></tr><tr><td>5</td><td>158</td><td>84</td><td>41</td><td>210</td><td>39.4</td><td>0.395</td><td>29</td><td>1</td></tr><tr><td>1</td><td>105</td><td>58</td><td>0</td><td>0</td><td>24.3</td><td>0.187</td><td>21</td><td>0</td></tr><tr><td>3</td><td>107</td><td>62</td><td>13</td><td>48</td><td>22.9</td><td>0.678</td><td>23</td><td>1</td></tr><tr><td>4</td><td>109</td><td>64</td><td>44</td><td>99</td><td>34.8</td><td>0.905</td><td>26</td><td>1</td></tr><tr><td>4</td><td>148</td><td>60</td><td>27</td><td>318</td><td>30.9</td><td>0.15</td><td>29</td><td>1</td></tr><tr><td>0</td><td>113</td><td>80</td><td>16</td><td>0</td><td>31.0</td><td>0.874</td><td>21</td><td>0</td></tr><tr><td>1</td><td>138</td><td>82</td><td>0</td><td>0</td><td>40.1</td><td>0.236</td><td>28</td><td>0</td></tr><tr><td>0</td><td>108</td><td>68</td><td>20</td><td>0</td><td>27.3</td><td>0.787</td><td>32</td><td>0</td></tr><tr><td>2</td><td>99</td><td>70</td><td>16</td><td>44</td><td>20.4</td><td>0.235</td><td>27</td><td>0</td></tr><tr><td>6</td><td>103</td><td>72</td><td>32</td><td>190</td><td>37.7</td><td>0.324</td><td>55</td><td>0</td></tr><tr><td>5</td><td>111</td><td>72</td><td>28</td><td>0</td><td>23.9</td><td>0.407</td><td>27</td><td>0</td></tr><tr><td>8</td><td>196</td><td>76</td><td>29</td><td>280</td><td>37.5</td><td>0.605</td><td>57</td><td>1</td></tr><tr><td>5</td><td>162</td><td>104</td><td>0</td><td>0</td><td>37.7</td><td>0.151</td><td>52</td><td>1</td></tr><tr><td>1</td><td>96</td><td>64</td><td>27</td><td>87</td><td>33.2</td><td>0.289</td><td>21</td><td>0</td></tr><tr><td>7</td><td>184</td><td>84</td><td>33</td><td>0</td><td>35.5</td><td>0.355</td><td>41</td><td>1</td></tr><tr><td>2</td><td>81</td><td>60</td><td>22</td><td>0</td><td>27.7</td><td>0.29</td><td>25</td><td>0</td></tr><tr><td>0</td><td>147</td><td>85</td><td>54</td><td>0</td><td>42.8</td><td>0.375</td><td>24</td><td>0</td></tr><tr><td>7</td><td>179</td><td>95</td><td>31</td><td>0</td><td>34.2</td><td>0.164</td><td>60</td><td>0</td></tr><tr><td>0</td><td>140</td><td>65</td><td>26</td><td>130</td><td>42.6</td><td>0.431</td><td>24</td><td>1</td></tr><tr><td>9</td><td>112</td><td>82</td><td>32</td><td>175</td><td>34.2</td><td>0.26</td><td>36</td><td>1</td></tr><tr><td>12</td><td>151</td><td>70</td><td>40</td><td>271</td><td>41.8</td><td>0.742</td><td>38</td><td>1</td></tr><tr><td>5</td><td>109</td><td>62</td><td>41</td><td>129</td><td>35.8</td><td>0.514</td><td>25</td><td>1</td></tr><tr><td>6</td><td>125</td><td>68</td><td>30</td><td>120</td><td>30.0</td><td>0.464</td><td>32</td><td>0</td></tr><tr><td>5</td><td>85</td><td>74</td><td>22</td><td>0</td><td>29.0</td><td>1.224</td><td>32</td><td>1</td></tr><tr><td>5</td><td>112</td><td>66</td><td>0</td><td>0</td><td>37.8</td><td>0.261</td><td>41</td><td>1</td></tr><tr><td>0</td><td>177</td><td>60</td><td>29</td><td>478</td><td>34.6</td><td>1.072</td><td>21</td><td>1</td></tr><tr><td>2</td><td>158</td><td>90</td><td>0</td><td>0</td><td>31.6</td><td>0.805</td><td>66</td><td>1</td></tr><tr><td>7</td><td>119</td><td>0</td><td>0</td><td>0</td><td>25.2</td><td>0.209</td><td>37</td><td>0</td></tr><tr><td>7</td><td>142</td><td>60</td><td>33</td><td>190</td><td>28.8</td><td>0.687</td><td>61</td><td>0</td></tr><tr><td>1</td><td>100</td><td>66</td><td>15</td><td>56</td><td>23.6</td><td>0.666</td><td>26</td><td>0</td></tr><tr><td>1</td><td>87</td><td>78</td><td>27</td><td>32</td><td>34.6</td><td>0.101</td><td>22</td><td>0</td></tr><tr><td>0</td><td>101</td><td>76</td><td>0</td><td>0</td><td>35.7</td><td>0.198</td><td>26</td><td>0</td></tr><tr><td>3</td><td>162</td><td>52</td><td>38</td><td>0</td><td>37.2</td><td>0.652</td><td>24</td><td>1</td></tr><tr><td>4</td><td>197</td><td>70</td><td>39</td><td>744</td><td>36.7</td><td>2.329</td><td>31</td><td>0</td></tr><tr><td>0</td><td>117</td><td>80</td><td>31</td><td>53</td><td>45.2</td><td>0.089</td><td>24</td><td>0</td></tr><tr><td>4</td><td>142</td><td>86</td><td>0</td><td>0</td><td>44.0</td><td>0.645</td><td>22</td><td>1</td></tr><tr><td>6</td><td>134</td><td>80</td><td>37</td><td>370</td><td>46.2</td><td>0.238</td><td>46</td><td>1</td></tr><tr><td>1</td><td>79</td><td>80</td><td>25</td><td>37</td><td>25.4</td><td>0.583</td><td>22</td><td>0</td></tr><tr><td>4</td><td>122</td><td>68</td><td>0</td><td>0</td><td>35.0</td><td>0.394</td><td>29</td><td>0</td></tr><tr><td>3</td><td>74</td><td>68</td><td>28</td><td>45</td><td>29.7</td><td>0.293</td><td>23</td><td>0</td></tr><tr><td>4</td><td>171</td><td>72</td><td>0</td><td>0</td><td>43.6</td><td>0.479</td><td>26</td><td>1</td></tr><tr><td>7</td><td>181</td><td>84</td><td>21</td><td>192</td><td>35.9</td><td>0.586</td><td>51</td><td>1</td></tr><tr><td>0</td><td>179</td><td>90</td><td>27</td><td>0</td><td>44.1</td><td>0.686</td><td>23</td><td>1</td></tr><tr><td>9</td><td>164</td><td>84</td><td>21</td><td>0</td><td>30.8</td><td>0.831</td><td>32</td><td>1</td></tr><tr><td>0</td><td>104</td><td>76</td><td>0</td><td>0</td><td>18.4</td><td>0.582</td><td>27</td><td>0</td></tr><tr><td>1</td><td>91</td><td>64</td><td>24</td><td>0</td><td>29.2</td><td>0.192</td><td>21</td><td>0</td></tr><tr><td>4</td><td>91</td><td>70</td><td>32</td><td>88</td><td>33.1</td><td>0.446</td><td>22</td><td>0</td></tr><tr><td>3</td><td>139</td><td>54</td><td>0</td><td>0</td><td>25.6</td><td>0.402</td><td>22</td><td>1</td></tr><tr><td>6</td><td>119</td><td>50</td><td>22</td><td>176</td><td>27.1</td><td>1.318</td><td>33</td><td>1</td></tr><tr><td>2</td><td>146</td><td>76</td><td>35</td><td>194</td><td>38.2</td><td>0.329</td><td>29</td><td>0</td></tr><tr><td>9</td><td>184</td><td>85</td><td>15</td><td>0</td><td>30.0</td><td>1.213</td><td>49</td><td>1</td></tr><tr><td>10</td><td>122</td><td>68</td><td>0</td><td>0</td><td>31.2</td><td>0.258</td><td>41</td><td>0</td></tr><tr><td>0</td><td>165</td><td>90</td><td>33</td><td>680</td><td>52.3</td><td>0.427</td><td>23</td><td>0</td></tr><tr><td>9</td><td>124</td><td>70</td><td>33</td><td>402</td><td>35.4</td><td>0.282</td><td>34</td><td>0</td></tr><tr><td>1</td><td>111</td><td>86</td><td>19</td><td>0</td><td>30.1</td><td>0.143</td><td>23</td><td>0</td></tr><tr><td>9</td><td>106</td><td>52</td><td>0</td><td>0</td><td>31.2</td><td>0.38</td><td>42</td><td>0</td></tr><tr><td>2</td><td>129</td><td>84</td><td>0</td><td>0</td><td>28.0</td><td>0.284</td><td>27</td><td>0</td></tr><tr><td>2</td><td>90</td><td>80</td><td>14</td><td>55</td><td>24.4</td><td>0.249</td><td>24</td><td>0</td></tr><tr><td>0</td><td>86</td><td>68</td><td>32</td><td>0</td><td>35.8</td><td>0.238</td><td>25</td><td>0</td></tr><tr><td>12</td><td>92</td><td>62</td><td>7</td><td>258</td><td>27.6</td><td>0.926</td><td>44</td><td>1</td></tr><tr><td>1</td><td>113</td><td>64</td><td>35</td><td>0</td><td>33.6</td><td>0.543</td><td>21</td><td>1</td></tr><tr><td>3</td><td>111</td><td>56</td><td>39</td><td>0</td><td>30.1</td><td>0.557</td><td>30</td><td>0</td></tr><tr><td>2</td><td>114</td><td>68</td><td>22</td><td>0</td><td>28.7</td><td>0.092</td><td>25</td><td>0</td></tr><tr><td>1</td><td>193</td><td>50</td><td>16</td><td>375</td><td>25.9</td><td>0.655</td><td>24</td><td>0</td></tr><tr><td>11</td><td>155</td><td>76</td><td>28</td><td>150</td><td>33.3</td><td>1.353</td><td>51</td><td>1</td></tr><tr><td>3</td><td>191</td><td>68</td><td>15</td><td>130</td><td>30.9</td><td>0.299</td><td>34</td><td>0</td></tr><tr><td>3</td><td>141</td><td>0</td><td>0</td><td>0</td><td>30.0</td><td>0.761</td><td>27</td><td>1</td></tr><tr><td>4</td><td>95</td><td>70</td><td>32</td><td>0</td><td>32.1</td><td>0.612</td><td>24</td><td>0</td></tr><tr><td>3</td><td>142</td><td>80</td><td>15</td><td>0</td><td>32.4</td><td>0.2</td><td>63</td><td>0</td></tr><tr><td>4</td><td>123</td><td>62</td><td>0</td><td>0</td><td>32.0</td><td>0.226</td><td>35</td><td>1</td></tr><tr><td>5</td><td>96</td><td>74</td><td>18</td><td>67</td><td>33.6</td><td>0.997</td><td>43</td><td>0</td></tr><tr><td>0</td><td>138</td><td>0</td><td>0</td><td>0</td><td>36.3</td><td>0.933</td><td>25</td><td>1</td></tr><tr><td>2</td><td>128</td><td>64</td><td>42</td><td>0</td><td>40.0</td><td>1.101</td><td>24</td><td>0</td></tr><tr><td>0</td><td>102</td><td>52</td><td>0</td><td>0</td><td>25.1</td><td>0.078</td><td>21</td><td>0</td></tr><tr><td>2</td><td>146</td><td>0</td><td>0</td><td>0</td><td>27.5</td><td>0.24</td><td>28</td><td>1</td></tr><tr><td>10</td><td>101</td><td>86</td><td>37</td><td>0</td><td>45.6</td><td>1.136</td><td>38</td><td>1</td></tr><tr><td>2</td><td>108</td><td>62</td><td>32</td><td>56</td><td>25.2</td><td>0.128</td><td>21</td><td>0</td></tr><tr><td>3</td><td>122</td><td>78</td><td>0</td><td>0</td><td>23.0</td><td>0.254</td><td>40</td><td>0</td></tr><tr><td>1</td><td>71</td><td>78</td><td>50</td><td>45</td><td>33.2</td><td>0.422</td><td>21</td><td>0</td></tr><tr><td>13</td><td>106</td><td>70</td><td>0</td><td>0</td><td>34.2</td><td>0.251</td><td>52</td><td>0</td></tr><tr><td>2</td><td>100</td><td>70</td><td>52</td><td>57</td><td>40.5</td><td>0.677</td><td>25</td><td>0</td></tr><tr><td>7</td><td>106</td><td>60</td><td>24</td><td>0</td><td>26.5</td><td>0.296</td><td>29</td><td>1</td></tr><tr><td>0</td><td>104</td><td>64</td><td>23</td><td>116</td><td>27.8</td><td>0.454</td><td>23</td><td>0</td></tr><tr><td>5</td><td>114</td><td>74</td><td>0</td><td>0</td><td>24.9</td><td>0.744</td><td>57</td><td>0</td></tr><tr><td>2</td><td>108</td><td>62</td><td>10</td><td>278</td><td>25.3</td><td>0.881</td><td>22</td><td>0</td></tr><tr><td>0</td><td>146</td><td>70</td><td>0</td><td>0</td><td>37.9</td><td>0.334</td><td>28</td><td>1</td></tr><tr><td>10</td><td>129</td><td>76</td><td>28</td><td>122</td><td>35.9</td><td>0.28</td><td>39</td><td>0</td></tr><tr><td>7</td><td>133</td><td>88</td><td>15</td><td>155</td><td>32.4</td><td>0.262</td><td>37</td><td>0</td></tr><tr><td>7</td><td>161</td><td>86</td><td>0</td><td>0</td><td>30.4</td><td>0.165</td><td>47</td><td>1</td></tr><tr><td>2</td><td>108</td><td>80</td><td>0</td><td>0</td><td>27.0</td><td>0.259</td><td>52</td><td>1</td></tr><tr><td>7</td><td>136</td><td>74</td><td>26</td><td>135</td><td>26.0</td><td>0.647</td><td>51</td><td>0</td></tr><tr><td>5</td><td>155</td><td>84</td><td>44</td><td>545</td><td>38.7</td><td>0.619</td><td>34</td><td>0</td></tr><tr><td>1</td><td>119</td><td>86</td><td>39</td><td>220</td><td>45.6</td><td>0.808</td><td>29</td><td>1</td></tr><tr><td>4</td><td>96</td><td>56</td><td>17</td><td>49</td><td>20.8</td><td>0.34</td><td>26</td><td>0</td></tr><tr><td>5</td><td>108</td><td>72</td><td>43</td><td>75</td><td>36.1</td><td>0.263</td><td>33</td><td>0</td></tr><tr><td>0</td><td>78</td><td>88</td><td>29</td><td>40</td><td>36.9</td><td>0.434</td><td>21</td><td>0</td></tr><tr><td>0</td><td>107</td><td>62</td><td>30</td><td>74</td><td>36.6</td><td>0.757</td><td>25</td><td>1</td></tr><tr><td>2</td><td>128</td><td>78</td><td>37</td><td>182</td><td>43.3</td><td>1.224</td><td>31</td><td>1</td></tr><tr><td>1</td><td>128</td><td>48</td><td>45</td><td>194</td><td>40.5</td><td>0.613</td><td>24</td><td>1</td></tr><tr><td>0</td><td>161</td><td>50</td><td>0</td><td>0</td><td>21.9</td><td>0.254</td><td>65</td><td>0</td></tr><tr><td>6</td><td>151</td><td>62</td><td>31</td><td>120</td><td>35.5</td><td>0.692</td><td>28</td><td>0</td></tr><tr><td>2</td><td>146</td><td>70</td><td>38</td><td>360</td><td>28.0</td><td>0.337</td><td>29</td><td>1</td></tr><tr><td>0</td><td>126</td><td>84</td><td>29</td><td>215</td><td>30.7</td><td>0.52</td><td>24</td><td>0</td></tr><tr><td>14</td><td>100</td><td>78</td><td>25</td><td>184</td><td>36.6</td><td>0.412</td><td>46</td><td>1</td></tr><tr><td>8</td><td>112</td><td>72</td><td>0</td><td>0</td><td>23.6</td><td>0.84</td><td>58</td><td>0</td></tr><tr><td>0</td><td>167</td><td>0</td><td>0</td><td>0</td><td>32.3</td><td>0.839</td><td>30</td><td>1</td></tr><tr><td>2</td><td>144</td><td>58</td><td>33</td><td>135</td><td>31.6</td><td>0.422</td><td>25</td><td>1</td></tr><tr><td>5</td><td>77</td><td>82</td><td>41</td><td>42</td><td>35.8</td><td>0.156</td><td>35</td><td>0</td></tr><tr><td>5</td><td>115</td><td>98</td><td>0</td><td>0</td><td>52.9</td><td>0.209</td><td>28</td><td>1</td></tr><tr><td>3</td><td>150</td><td>76</td><td>0</td><td>0</td><td>21.0</td><td>0.207</td><td>37</td><td>0</td></tr><tr><td>2</td><td>120</td><td>76</td><td>37</td><td>105</td><td>39.7</td><td>0.215</td><td>29</td><td>0</td></tr><tr><td>10</td><td>161</td><td>68</td><td>23</td><td>132</td><td>25.5</td><td>0.326</td><td>47</td><td>1</td></tr><tr><td>0</td><td>137</td><td>68</td><td>14</td><td>148</td><td>24.8</td><td>0.143</td><td>21</td><td>0</td></tr><tr><td>0</td><td>128</td><td>68</td><td>19</td><td>180</td><td>30.5</td><td>1.391</td><td>25</td><td>1</td></tr><tr><td>2</td><td>124</td><td>68</td><td>28</td><td>205</td><td>32.9</td><td>0.875</td><td>30</td><td>1</td></tr><tr><td>6</td><td>80</td><td>66</td><td>30</td><td>0</td><td>26.2</td><td>0.313</td><td>41</td><td>0</td></tr><tr><td>0</td><td>106</td><td>70</td><td>37</td><td>148</td><td>39.4</td><td>0.605</td><td>22</td><td>0</td></tr><tr><td>2</td><td>155</td><td>74</td><td>17</td><td>96</td><td>26.6</td><td>0.433</td><td>27</td><td>1</td></tr><tr><td>3</td><td>113</td><td>50</td><td>10</td><td>85</td><td>29.5</td><td>0.626</td><td>25</td><td>0</td></tr><tr><td>7</td><td>109</td><td>80</td><td>31</td><td>0</td><td>35.9</td><td>1.127</td><td>43</td><td>1</td></tr><tr><td>2</td><td>112</td><td>68</td><td>22</td><td>94</td><td>34.1</td><td>0.315</td><td>26</td><td>0</td></tr><tr><td>3</td><td>99</td><td>80</td><td>11</td><td>64</td><td>19.3</td><td>0.284</td><td>30</td><td>0</td></tr><tr><td>3</td><td>182</td><td>74</td><td>0</td><td>0</td><td>30.5</td><td>0.345</td><td>29</td><td>1</td></tr><tr><td>3</td><td>115</td><td>66</td><td>39</td><td>140</td><td>38.1</td><td>0.15</td><td>28</td><td>0</td></tr><tr><td>6</td><td>194</td><td>78</td><td>0</td><td>0</td><td>23.5</td><td>0.129</td><td>59</td><td>1</td></tr><tr><td>4</td><td>129</td><td>60</td><td>12</td><td>231</td><td>27.5</td><td>0.527</td><td>31</td><td>0</td></tr><tr><td>3</td><td>112</td><td>74</td><td>30</td><td>0</td><td>31.6</td><td>0.197</td><td>25</td><td>1</td></tr><tr><td>0</td><td>124</td><td>70</td><td>20</td><td>0</td><td>27.4</td><td>0.254</td><td>36</td><td>1</td></tr><tr><td>13</td><td>152</td><td>90</td><td>33</td><td>29</td><td>26.8</td><td>0.731</td><td>43</td><td>1</td></tr><tr><td>2</td><td>112</td><td>75</td><td>32</td><td>0</td><td>35.7</td><td>0.148</td><td>21</td><td>0</td></tr><tr><td>1</td><td>157</td><td>72</td><td>21</td><td>168</td><td>25.6</td><td>0.123</td><td>24</td><td>0</td></tr><tr><td>1</td><td>122</td><td>64</td><td>32</td><td>156</td><td>35.1</td><td>0.692</td><td>30</td><td>1</td></tr><tr><td>10</td><td>179</td><td>70</td><td>0</td><td>0</td><td>35.1</td><td>0.2</td><td>37</td><td>0</td></tr><tr><td>2</td><td>102</td><td>86</td><td>36</td><td>120</td><td>45.5</td><td>0.127</td><td>23</td><td>1</td></tr><tr><td>6</td><td>105</td><td>70</td><td>32</td><td>68</td><td>30.8</td><td>0.122</td><td>37</td><td>0</td></tr><tr><td>8</td><td>118</td><td>72</td><td>19</td><td>0</td><td>23.1</td><td>1.476</td><td>46</td><td>0</td></tr><tr><td>2</td><td>87</td><td>58</td><td>16</td><td>52</td><td>32.7</td><td>0.166</td><td>25</td><td>0</td></tr><tr><td>1</td><td>180</td><td>0</td><td>0</td><td>0</td><td>43.3</td><td>0.282</td><td>41</td><td>1</td></tr><tr><td>12</td><td>106</td><td>80</td><td>0</td><td>0</td><td>23.6</td><td>0.137</td><td>44</td><td>0</td></tr><tr><td>1</td><td>95</td><td>60</td><td>18</td><td>58</td><td>23.9</td><td>0.26</td><td>22</td><td>0</td></tr><tr><td>0</td><td>165</td><td>76</td><td>43</td><td>255</td><td>47.9</td><td>0.259</td><td>26</td><td>0</td></tr><tr><td>0</td><td>117</td><td>0</td><td>0</td><td>0</td><td>33.8</td><td>0.932</td><td>44</td><td>0</td></tr><tr><td>5</td><td>115</td><td>76</td><td>0</td><td>0</td><td>31.2</td><td>0.343</td><td>44</td><td>1</td></tr><tr><td>9</td><td>152</td><td>78</td><td>34</td><td>171</td><td>34.2</td><td>0.893</td><td>33</td><td>1</td></tr><tr><td>7</td><td>178</td><td>84</td><td>0</td><td>0</td><td>39.9</td><td>0.331</td><td>41</td><td>1</td></tr><tr><td>1</td><td>130</td><td>70</td><td>13</td><td>105</td><td>25.9</td><td>0.472</td><td>22</td><td>0</td></tr><tr><td>1</td><td>95</td><td>74</td><td>21</td><td>73</td><td>25.9</td><td>0.673</td><td>36</td><td>0</td></tr><tr><td>1</td><td>0</td><td>68</td><td>35</td><td>0</td><td>32.0</td><td>0.389</td><td>22</td><td>0</td></tr><tr><td>5</td><td>122</td><td>86</td><td>0</td><td>0</td><td>34.7</td><td>0.29</td><td>33</td><td>0</td></tr><tr><td>8</td><td>95</td><td>72</td><td>0</td><td>0</td><td>36.8</td><td>0.485</td><td>57</td><td>0</td></tr><tr><td>8</td><td>126</td><td>88</td><td>36</td><td>108</td><td>38.5</td><td>0.349</td><td>49</td><td>0</td></tr><tr><td>1</td><td>139</td><td>46</td><td>19</td><td>83</td><td>28.7</td><td>0.654</td><td>22</td><td>0</td></tr><tr><td>3</td><td>116</td><td>0</td><td>0</td><td>0</td><td>23.5</td><td>0.187</td><td>23</td><td>0</td></tr><tr><td>3</td><td>99</td><td>62</td><td>19</td><td>74</td><td>21.8</td><td>0.279</td><td>26</td><td>0</td></tr><tr><td>5</td><td>0</td><td>80</td><td>32</td><td>0</td><td>41.0</td><td>0.346</td><td>37</td><td>1</td></tr><tr><td>4</td><td>92</td><td>80</td><td>0</td><td>0</td><td>42.2</td><td>0.237</td><td>29</td><td>0</td></tr><tr><td>4</td><td>137</td><td>84</td><td>0</td><td>0</td><td>31.2</td><td>0.252</td><td>30</td><td>0</td></tr><tr><td>3</td><td>61</td><td>82</td><td>28</td><td>0</td><td>34.4</td><td>0.243</td><td>46</td><td>0</td></tr><tr><td>1</td><td>90</td><td>62</td><td>12</td><td>43</td><td>27.2</td><td>0.58</td><td>24</td><td>0</td></tr><tr><td>3</td><td>90</td><td>78</td><td>0</td><td>0</td><td>42.7</td><td>0.559</td><td>21</td><td>0</td></tr><tr><td>9</td><td>165</td><td>88</td><td>0</td><td>0</td><td>30.4</td><td>0.302</td><td>49</td><td>1</td></tr><tr><td>1</td><td>125</td><td>50</td><td>40</td><td>167</td><td>33.3</td><td>0.962</td><td>28</td><td>1</td></tr><tr><td>13</td><td>129</td><td>0</td><td>30</td><td>0</td><td>39.9</td><td>0.569</td><td>44</td><td>1</td></tr><tr><td>12</td><td>88</td><td>74</td><td>40</td><td>54</td><td>35.3</td><td>0.378</td><td>48</td><td>0</td></tr><tr><td>1</td><td>196</td><td>76</td><td>36</td><td>249</td><td>36.5</td><td>0.875</td><td>29</td><td>1</td></tr><tr><td>5</td><td>189</td><td>64</td><td>33</td><td>325</td><td>31.2</td><td>0.583</td><td>29</td><td>1</td></tr><tr><td>5</td><td>158</td><td>70</td><td>0</td><td>0</td><td>29.8</td><td>0.207</td><td>63</td><td>0</td></tr><tr><td>5</td><td>103</td><td>108</td><td>37</td><td>0</td><td>39.2</td><td>0.305</td><td>65</td><td>0</td></tr><tr><td>4</td><td>146</td><td>78</td><td>0</td><td>0</td><td>38.5</td><td>0.52</td><td>67</td><td>1</td></tr><tr><td>4</td><td>147</td><td>74</td><td>25</td><td>293</td><td>34.9</td><td>0.385</td><td>30</td><td>0</td></tr><tr><td>5</td><td>99</td><td>54</td><td>28</td><td>83</td><td>34.0</td><td>0.499</td><td>30</td><td>0</td></tr><tr><td>6</td><td>124</td><td>72</td><td>0</td><td>0</td><td>27.6</td><td>0.368</td><td>29</td><td>1</td></tr><tr><td>0</td><td>101</td><td>64</td><td>17</td><td>0</td><td>21.0</td><td>0.252</td><td>21</td><td>0</td></tr><tr><td>3</td><td>81</td><td>86</td><td>16</td><td>66</td><td>27.5</td><td>0.306</td><td>22</td><td>0</td></tr><tr><td>1</td><td>133</td><td>102</td><td>28</td><td>140</td><td>32.8</td><td>0.234</td><td>45</td><td>1</td></tr><tr><td>3</td><td>173</td><td>82</td><td>48</td><td>465</td><td>38.4</td><td>2.137</td><td>25</td><td>1</td></tr><tr><td>0</td><td>118</td><td>64</td><td>23</td><td>89</td><td>0.0</td><td>1.731</td><td>21</td><td>0</td></tr><tr><td>0</td><td>84</td><td>64</td><td>22</td><td>66</td><td>35.8</td><td>0.545</td><td>21</td><td>0</td></tr><tr><td>2</td><td>105</td><td>58</td><td>40</td><td>94</td><td>34.9</td><td>0.225</td><td>25</td><td>0</td></tr><tr><td>2</td><td>122</td><td>52</td><td>43</td><td>158</td><td>36.2</td><td>0.816</td><td>28</td><td>0</td></tr><tr><td>12</td><td>140</td><td>82</td><td>43</td><td>325</td><td>39.2</td><td>0.528</td><td>58</td><td>1</td></tr><tr><td>0</td><td>98</td><td>82</td><td>15</td><td>84</td><td>25.2</td><td>0.299</td><td>22</td><td>0</td></tr><tr><td>1</td><td>87</td><td>60</td><td>37</td><td>75</td><td>37.2</td><td>0.509</td><td>22</td><td>0</td></tr><tr><td>4</td><td>156</td><td>75</td><td>0</td><td>0</td><td>48.3</td><td>0.238</td><td>32</td><td>1</td></tr><tr><td>0</td><td>93</td><td>100</td><td>39</td><td>72</td><td>43.4</td><td>1.021</td><td>35</td><td>0</td></tr><tr><td>1</td><td>107</td><td>72</td><td>30</td><td>82</td><td>30.8</td><td>0.821</td><td>24</td><td>0</td></tr><tr><td>0</td><td>105</td><td>68</td><td>22</td><td>0</td><td>20.0</td><td>0.236</td><td>22</td><td>0</td></tr><tr><td>1</td><td>109</td><td>60</td><td>8</td><td>182</td><td>25.4</td><td>0.947</td><td>21</td><td>0</td></tr><tr><td>1</td><td>90</td><td>62</td><td>18</td><td>59</td><td>25.1</td><td>1.268</td><td>25</td><td>0</td></tr><tr><td>1</td><td>125</td><td>70</td><td>24</td><td>110</td><td>24.3</td><td>0.221</td><td>25</td><td>0</td></tr><tr><td>1</td><td>119</td><td>54</td><td>13</td><td>50</td><td>22.3</td><td>0.205</td><td>24</td><td>0</td></tr><tr><td>5</td><td>116</td><td>74</td><td>29</td><td>0</td><td>32.3</td><td>0.66</td><td>35</td><td>1</td></tr><tr><td>8</td><td>105</td><td>100</td><td>36</td><td>0</td><td>43.3</td><td>0.239</td><td>45</td><td>1</td></tr><tr><td>5</td><td>144</td><td>82</td><td>26</td><td>285</td><td>32.0</td><td>0.452</td><td>58</td><td>1</td></tr><tr><td>3</td><td>100</td><td>68</td><td>23</td><td>81</td><td>31.6</td><td>0.949</td><td>28</td><td>0</td></tr><tr><td>1</td><td>100</td><td>66</td><td>29</td><td>196</td><td>32.0</td><td>0.444</td><td>42</td><td>0</td></tr><tr><td>5</td><td>166</td><td>76</td><td>0</td><td>0</td><td>45.7</td><td>0.34</td><td>27</td><td>1</td></tr><tr><td>1</td><td>131</td><td>64</td><td>14</td><td>415</td><td>23.7</td><td>0.389</td><td>21</td><td>0</td></tr><tr><td>4</td><td>116</td><td>72</td><td>12</td><td>87</td><td>22.1</td><td>0.463</td><td>37</td><td>0</td></tr><tr><td>4</td><td>158</td><td>78</td><td>0</td><td>0</td><td>32.9</td><td>0.803</td><td>31</td><td>1</td></tr><tr><td>2</td><td>127</td><td>58</td><td>24</td><td>275</td><td>27.7</td><td>1.6</td><td>25</td><td>0</td></tr><tr><td>3</td><td>96</td><td>56</td><td>34</td><td>115</td><td>24.7</td><td>0.944</td><td>39</td><td>0</td></tr><tr><td>0</td><td>131</td><td>66</td><td>40</td><td>0</td><td>34.3</td><td>0.196</td><td>22</td><td>1</td></tr><tr><td>3</td><td>82</td><td>70</td><td>0</td><td>0</td><td>21.1</td><td>0.389</td><td>25</td><td>0</td></tr><tr><td>3</td><td>193</td><td>70</td><td>31</td><td>0</td><td>34.9</td><td>0.241</td><td>25</td><td>1</td></tr><tr><td>4</td><td>95</td><td>64</td><td>0</td><td>0</td><td>32.0</td><td>0.161</td><td>31</td><td>1</td></tr><tr><td>6</td><td>137</td><td>61</td><td>0</td><td>0</td><td>24.2</td><td>0.151</td><td>55</td><td>0</td></tr><tr><td>5</td><td>136</td><td>84</td><td>41</td><td>88</td><td>35.0</td><td>0.286</td><td>35</td><td>1</td></tr><tr><td>9</td><td>72</td><td>78</td><td>25</td><td>0</td><td>31.6</td><td>0.28</td><td>38</td><td>0</td></tr><tr><td>5</td><td>168</td><td>64</td><td>0</td><td>0</td><td>32.9</td><td>0.135</td><td>41</td><td>1</td></tr><tr><td>2</td><td>123</td><td>48</td><td>32</td><td>165</td><td>42.1</td><td>0.52</td><td>26</td><td>0</td></tr><tr><td>4</td><td>115</td><td>72</td><td>0</td><td>0</td><td>28.9</td><td>0.376</td><td>46</td><td>1</td></tr><tr><td>0</td><td>101</td><td>62</td><td>0</td><td>0</td><td>21.9</td><td>0.336</td><td>25</td><td>0</td></tr><tr><td>8</td><td>197</td><td>74</td><td>0</td><td>0</td><td>25.9</td><td>1.191</td><td>39</td><td>1</td></tr><tr><td>1</td><td>172</td><td>68</td><td>49</td><td>579</td><td>42.4</td><td>0.702</td><td>28</td><td>1</td></tr><tr><td>6</td><td>102</td><td>90</td><td>39</td><td>0</td><td>35.7</td><td>0.674</td><td>28</td><td>0</td></tr><tr><td>1</td><td>112</td><td>72</td><td>30</td><td>176</td><td>34.4</td><td>0.528</td><td>25</td><td>0</td></tr><tr><td>1</td><td>143</td><td>84</td><td>23</td><td>310</td><td>42.4</td><td>1.076</td><td>22</td><td>0</td></tr><tr><td>1</td><td>143</td><td>74</td><td>22</td><td>61</td><td>26.2</td><td>0.256</td><td>21</td><td>0</td></tr><tr><td>0</td><td>138</td><td>60</td><td>35</td><td>167</td><td>34.6</td><td>0.534</td><td>21</td><td>1</td></tr><tr><td>3</td><td>173</td><td>84</td><td>33</td><td>474</td><td>35.7</td><td>0.258</td><td>22</td><td>1</td></tr><tr><td>1</td><td>97</td><td>68</td><td>21</td><td>0</td><td>27.2</td><td>1.095</td><td>22</td><td>0</td></tr><tr><td>4</td><td>144</td><td>82</td><td>32</td><td>0</td><td>38.5</td><td>0.554</td><td>37</td><td>1</td></tr><tr><td>1</td><td>83</td><td>68</td><td>0</td><td>0</td><td>18.2</td><td>0.624</td><td>27</td><td>0</td></tr><tr><td>3</td><td>129</td><td>64</td><td>29</td><td>115</td><td>26.4</td><td>0.219</td><td>28</td><td>1</td></tr><tr><td>1</td><td>119</td><td>88</td><td>41</td><td>170</td><td>45.3</td><td>0.507</td><td>26</td><td>0</td></tr><tr><td>2</td><td>94</td><td>68</td><td>18</td><td>76</td><td>26.0</td><td>0.561</td><td>21</td><td>0</td></tr><tr><td>0</td><td>102</td><td>64</td><td>46</td><td>78</td><td>40.6</td><td>0.496</td><td>21</td><td>0</td></tr><tr><td>2</td><td>115</td><td>64</td><td>22</td><td>0</td><td>30.8</td><td>0.421</td><td>21</td><td>0</td></tr><tr><td>8</td><td>151</td><td>78</td><td>32</td><td>210</td><td>42.9</td><td>0.516</td><td>36</td><td>1</td></tr><tr><td>4</td><td>184</td><td>78</td><td>39</td><td>277</td><td>37.0</td><td>0.264</td><td>31</td><td>1</td></tr><tr><td>0</td><td>94</td><td>0</td><td>0</td><td>0</td><td>0.0</td><td>0.256</td><td>25</td><td>0</td></tr><tr><td>1</td><td>181</td><td>64</td><td>30</td><td>180</td><td>34.1</td><td>0.328</td><td>38</td><td>1</td></tr><tr><td>0</td><td>135</td><td>94</td><td>46</td><td>145</td><td>40.6</td><td>0.284</td><td>26</td><td>0</td></tr><tr><td>1</td><td>95</td><td>82</td><td>25</td><td>180</td><td>35.0</td><td>0.233</td><td>43</td><td>1</td></tr><tr><td>2</td><td>99</td><td>0</td><td>0</td><td>0</td><td>22.2</td><td>0.108</td><td>23</td><td>0</td></tr><tr><td>3</td><td>89</td><td>74</td><td>16</td><td>85</td><td>30.4</td><td>0.551</td><td>38</td><td>0</td></tr><tr><td>1</td><td>80</td><td>74</td><td>11</td><td>60</td><td>30.0</td><td>0.527</td><td>22</td><td>0</td></tr><tr><td>2</td><td>139</td><td>75</td><td>0</td><td>0</td><td>25.6</td><td>0.167</td><td>29</td><td>0</td></tr><tr><td>1</td><td>90</td><td>68</td><td>8</td><td>0</td><td>24.5</td><td>1.138</td><td>36</td><td>0</td></tr><tr><td>0</td><td>141</td><td>0</td><td>0</td><td>0</td><td>42.4</td><td>0.205</td><td>29</td><td>1</td></tr><tr><td>12</td><td>140</td><td>85</td><td>33</td><td>0</td><td>37.4</td><td>0.244</td><td>41</td><td>0</td></tr><tr><td>5</td><td>147</td><td>75</td><td>0</td><td>0</td><td>29.9</td><td>0.434</td><td>28</td><td>0</td></tr><tr><td>1</td><td>97</td><td>70</td><td>15</td><td>0</td><td>18.2</td><td>0.147</td><td>21</td><td>0</td></tr><tr><td>6</td><td>107</td><td>88</td><td>0</td><td>0</td><td>36.8</td><td>0.727</td><td>31</td><td>0</td></tr><tr><td>0</td><td>189</td><td>104</td><td>25</td><td>0</td><td>34.3</td><td>0.435</td><td>41</td><td>1</td></tr><tr><td>2</td><td>83</td><td>66</td><td>23</td><td>50</td><td>32.2</td><td>0.497</td><td>22</td><td>0</td></tr><tr><td>4</td><td>117</td><td>64</td><td>27</td><td>120</td><td>33.2</td><td>0.23</td><td>24</td><td>0</td></tr><tr><td>8</td><td>108</td><td>70</td><td>0</td><td>0</td><td>30.5</td><td>0.955</td><td>33</td><td>1</td></tr><tr><td>4</td><td>117</td><td>62</td><td>12</td><td>0</td><td>29.7</td><td>0.38</td><td>30</td><td>1</td></tr><tr><td>0</td><td>180</td><td>78</td><td>63</td><td>14</td><td>59.4</td><td>2.42</td><td>25</td><td>1</td></tr><tr><td>1</td><td>100</td><td>72</td><td>12</td><td>70</td><td>25.3</td><td>0.658</td><td>28</td><td>0</td></tr><tr><td>0</td><td>95</td><td>80</td><td>45</td><td>92</td><td>36.5</td><td>0.33</td><td>26</td><td>0</td></tr><tr><td>0</td><td>104</td><td>64</td><td>37</td><td>64</td><td>33.6</td><td>0.51</td><td>22</td><td>1</td></tr><tr><td>0</td><td>120</td><td>74</td><td>18</td><td>63</td><td>30.5</td><td>0.285</td><td>26</td><td>0</td></tr><tr><td>1</td><td>82</td><td>64</td><td>13</td><td>95</td><td>21.2</td><td>0.415</td><td>23</td><td>0</td></tr><tr><td>2</td><td>134</td><td>70</td><td>0</td><td>0</td><td>28.9</td><td>0.542</td><td>23</td><td>1</td></tr><tr><td>0</td><td>91</td><td>68</td><td>32</td><td>210</td><td>39.9</td><td>0.381</td><td>25</td><td>0</td></tr><tr><td>2</td><td>119</td><td>0</td><td>0</td><td>0</td><td>19.6</td><td>0.832</td><td>72</td><td>0</td></tr><tr><td>2</td><td>100</td><td>54</td><td>28</td><td>105</td><td>37.8</td><td>0.498</td><td>24</td><td>0</td></tr><tr><td>14</td><td>175</td><td>62</td><td>30</td><td>0</td><td>33.6</td><td>0.212</td><td>38</td><td>1</td></tr><tr><td>1</td><td>135</td><td>54</td><td>0</td><td>0</td><td>26.7</td><td>0.687</td><td>62</td><td>0</td></tr><tr><td>5</td><td>86</td><td>68</td><td>28</td><td>71</td><td>30.2</td><td>0.364</td><td>24</td><td>0</td></tr><tr><td>10</td><td>148</td><td>84</td><td>48</td><td>237</td><td>37.6</td><td>1.001</td><td>51</td><td>1</td></tr><tr><td>9</td><td>134</td><td>74</td><td>33</td><td>60</td><td>25.9</td><td>0.46</td><td>81</td><td>0</td></tr><tr><td>9</td><td>120</td><td>72</td><td>22</td><td>56</td><td>20.8</td><td>0.733</td><td>48</td><td>0</td></tr><tr><td>1</td><td>71</td><td>62</td><td>0</td><td>0</td><td>21.8</td><td>0.416</td><td>26</td><td>0</td></tr><tr><td>8</td><td>74</td><td>70</td><td>40</td><td>49</td><td>35.3</td><td>0.705</td><td>39</td><td>0</td></tr><tr><td>5</td><td>88</td><td>78</td><td>30</td><td>0</td><td>27.6</td><td>0.258</td><td>37</td><td>0</td></tr><tr><td>10</td><td>115</td><td>98</td><td>0</td><td>0</td><td>24.0</td><td>1.022</td><td>34</td><td>0</td></tr><tr><td>0</td><td>124</td><td>56</td><td>13</td><td>105</td><td>21.8</td><td>0.452</td><td>21</td><td>0</td></tr><tr><td>0</td><td>74</td><td>52</td><td>10</td><td>36</td><td>27.8</td><td>0.269</td><td>22</td><td>0</td></tr><tr><td>0</td><td>97</td><td>64</td><td>36</td><td>100</td><td>36.8</td><td>0.6</td><td>25</td><td>0</td></tr><tr><td>8</td><td>120</td><td>0</td><td>0</td><td>0</td><td>30.0</td><td>0.183</td><td>38</td><td>1</td></tr><tr><td>6</td><td>154</td><td>78</td><td>41</td><td>140</td><td>46.1</td><td>0.571</td><td>27</td><td>0</td></tr><tr><td>1</td><td>144</td><td>82</td><td>40</td><td>0</td><td>41.3</td><td>0.607</td><td>28</td><td>0</td></tr><tr><td>0</td><td>137</td><td>70</td><td>38</td><td>0</td><td>33.2</td><td>0.17</td><td>22</td><td>0</td></tr><tr><td>0</td><td>119</td><td>66</td><td>27</td><td>0</td><td>38.8</td><td>0.259</td><td>22</td><td>0</td></tr><tr><td>7</td><td>136</td><td>90</td><td>0</td><td>0</td><td>29.9</td><td>0.21</td><td>50</td><td>0</td></tr><tr><td>4</td><td>114</td><td>64</td><td>0</td><td>0</td><td>28.9</td><td>0.126</td><td>24</td><td>0</td></tr><tr><td>0</td><td>137</td><td>84</td><td>27</td><td>0</td><td>27.3</td><td>0.231</td><td>59</td><td>0</td></tr><tr><td>2</td><td>105</td><td>80</td><td>45</td><td>191</td><td>33.7</td><td>0.711</td><td>29</td><td>1</td></tr><tr><td>7</td><td>114</td><td>76</td><td>17</td><td>110</td><td>23.8</td><td>0.466</td><td>31</td><td>0</td></tr><tr><td>8</td><td>126</td><td>74</td><td>38</td><td>75</td><td>25.9</td><td>0.162</td><td>39</td><td>0</td></tr><tr><td>4</td><td>132</td><td>86</td><td>31</td><td>0</td><td>28.0</td><td>0.419</td><td>63</td><td>0</td></tr><tr><td>3</td><td>158</td><td>70</td><td>30</td><td>328</td><td>35.5</td><td>0.344</td><td>35</td><td>1</td></tr><tr><td>0</td><td>123</td><td>88</td><td>37</td><td>0</td><td>35.2</td><td>0.197</td><td>29</td><td>0</td></tr><tr><td>4</td><td>85</td><td>58</td><td>22</td><td>49</td><td>27.8</td><td>0.306</td><td>28</td><td>0</td></tr><tr><td>0</td><td>84</td><td>82</td><td>31</td><td>125</td><td>38.2</td><td>0.233</td><td>23</td><td>0</td></tr><tr><td>0</td><td>145</td><td>0</td><td>0</td><td>0</td><td>44.2</td><td>0.63</td><td>31</td><td>1</td></tr><tr><td>0</td><td>135</td><td>68</td><td>42</td><td>250</td><td>42.3</td><td>0.365</td><td>24</td><td>1</td></tr><tr><td>1</td><td>139</td><td>62</td><td>41</td><td>480</td><td>40.7</td><td>0.536</td><td>21</td><td>0</td></tr><tr><td>0</td><td>173</td><td>78</td><td>32</td><td>265</td><td>46.5</td><td>1.159</td><td>58</td><td>0</td></tr><tr><td>4</td><td>99</td><td>72</td><td>17</td><td>0</td><td>25.6</td><td>0.294</td><td>28</td><td>0</td></tr><tr><td>8</td><td>194</td><td>80</td><td>0</td><td>0</td><td>26.1</td><td>0.551</td><td>67</td><td>0</td></tr><tr><td>2</td><td>83</td><td>65</td><td>28</td><td>66</td><td>36.8</td><td>0.629</td><td>24</td><td>0</td></tr><tr><td>2</td><td>89</td><td>90</td><td>30</td><td>0</td><td>33.5</td><td>0.292</td><td>42</td><td>0</td></tr><tr><td>4</td><td>99</td><td>68</td><td>38</td><td>0</td><td>32.8</td><td>0.145</td><td>33</td><td>0</td></tr><tr><td>4</td><td>125</td><td>70</td><td>18</td><td>122</td><td>28.9</td><td>1.144</td><td>45</td><td>1</td></tr><tr><td>3</td><td>80</td><td>0</td><td>0</td><td>0</td><td>0.0</td><td>0.174</td><td>22</td><td>0</td></tr><tr><td>6</td><td>166</td><td>74</td><td>0</td><td>0</td><td>26.6</td><td>0.304</td><td>66</td><td>0</td></tr><tr><td>5</td><td>110</td><td>68</td><td>0</td><td>0</td><td>26.0</td><td>0.292</td><td>30</td><td>0</td></tr><tr><td>2</td><td>81</td><td>72</td><td>15</td><td>76</td><td>30.1</td><td>0.547</td><td>25</td><td>0</td></tr><tr><td>7</td><td>195</td><td>70</td><td>33</td><td>145</td><td>25.1</td><td>0.163</td><td>55</td><td>1</td></tr><tr><td>6</td><td>154</td><td>74</td><td>32</td><td>193</td><td>29.3</td><td>0.839</td><td>39</td><td>0</td></tr><tr><td>2</td><td>117</td><td>90</td><td>19</td><td>71</td><td>25.2</td><td>0.313</td><td>21</td><td>0</td></tr><tr><td>3</td><td>84</td><td>72</td><td>32</td><td>0</td><td>37.2</td><td>0.267</td><td>28</td><td>0</td></tr><tr><td>6</td><td>0</td><td>68</td><td>41</td><td>0</td><td>39.0</td><td>0.727</td><td>41</td><td>1</td></tr><tr><td>7</td><td>94</td><td>64</td><td>25</td><td>79</td><td>33.3</td><td>0.738</td><td>41</td><td>0</td></tr><tr><td>3</td><td>96</td><td>78</td><td>39</td><td>0</td><td>37.3</td><td>0.238</td><td>40</td><td>0</td></tr><tr><td>10</td><td>75</td><td>82</td><td>0</td><td>0</td><td>33.3</td><td>0.263</td><td>38</td><td>0</td></tr><tr><td>0</td><td>180</td><td>90</td><td>26</td><td>90</td><td>36.5</td><td>0.314</td><td>35</td><td>1</td></tr><tr><td>1</td><td>130</td><td>60</td><td>23</td><td>170</td><td>28.6</td><td>0.692</td><td>21</td><td>0</td></tr><tr><td>2</td><td>84</td><td>50</td><td>23</td><td>76</td><td>30.4</td><td>0.968</td><td>21</td><td>0</td></tr><tr><td>8</td><td>120</td><td>78</td><td>0</td><td>0</td><td>25.0</td><td>0.409</td><td>64</td><td>0</td></tr><tr><td>12</td><td>84</td><td>72</td><td>31</td><td>0</td><td>29.7</td><td>0.297</td><td>46</td><td>1</td></tr><tr><td>0</td><td>139</td><td>62</td><td>17</td><td>210</td><td>22.1</td><td>0.207</td><td>21</td><td>0</td></tr><tr><td>9</td><td>91</td><td>68</td><td>0</td><td>0</td><td>24.2</td><td>0.2</td><td>58</td><td>0</td></tr><tr><td>2</td><td>91</td><td>62</td><td>0</td><td>0</td><td>27.3</td><td>0.525</td><td>22</td><td>0</td></tr><tr><td>3</td><td>99</td><td>54</td><td>19</td><td>86</td><td>25.6</td><td>0.154</td><td>24</td><td>0</td></tr><tr><td>3</td><td>163</td><td>70</td><td>18</td><td>105</td><td>31.6</td><td>0.268</td><td>28</td><td>1</td></tr><tr><td>9</td><td>145</td><td>88</td><td>34</td><td>165</td><td>30.3</td><td>0.771</td><td>53</td><td>1</td></tr><tr><td>7</td><td>125</td><td>86</td><td>0</td><td>0</td><td>37.6</td><td>0.304</td><td>51</td><td>0</td></tr><tr><td>13</td><td>76</td><td>60</td><td>0</td><td>0</td><td>32.8</td><td>0.18</td><td>41</td><td>0</td></tr><tr><td>6</td><td>129</td><td>90</td><td>7</td><td>326</td><td>19.6</td><td>0.582</td><td>60</td><td>0</td></tr><tr><td>2</td><td>68</td><td>70</td><td>32</td><td>66</td><td>25.0</td><td>0.187</td><td>25</td><td>0</td></tr><tr><td>3</td><td>124</td><td>80</td><td>33</td><td>130</td><td>33.2</td><td>0.305</td><td>26</td><td>0</td></tr><tr><td>6</td><td>114</td><td>0</td><td>0</td><td>0</td><td>0.0</td><td>0.189</td><td>26</td><td>0</td></tr><tr><td>9</td><td>130</td><td>70</td><td>0</td><td>0</td><td>34.2</td><td>0.652</td><td>45</td><td>1</td></tr><tr><td>3</td><td>125</td><td>58</td><td>0</td><td>0</td><td>31.6</td><td>0.151</td><td>24</td><td>0</td></tr><tr><td>3</td><td>87</td><td>60</td><td>18</td><td>0</td><td>21.8</td><td>0.444</td><td>21</td><td>0</td></tr><tr><td>1</td><td>97</td><td>64</td><td>19</td><td>82</td><td>18.2</td><td>0.299</td><td>21</td><td>0</td></tr><tr><td>3</td><td>116</td><td>74</td><td>15</td><td>105</td><td>26.3</td><td>0.107</td><td>24</td><td>0</td></tr><tr><td>0</td><td>117</td><td>66</td><td>31</td><td>188</td><td>30.8</td><td>0.493</td><td>22</td><td>0</td></tr><tr><td>0</td><td>111</td><td>65</td><td>0</td><td>0</td><td>24.6</td><td>0.66</td><td>31</td><td>0</td></tr><tr><td>2</td><td>122</td><td>60</td><td>18</td><td>106</td><td>29.8</td><td>0.717</td><td>22</td><td>0</td></tr><tr><td>0</td><td>107</td><td>76</td><td>0</td><td>0</td><td>45.3</td><td>0.686</td><td>24</td><td>0</td></tr><tr><td>1</td><td>86</td><td>66</td><td>52</td><td>65</td><td>41.3</td><td>0.917</td><td>29</td><td>0</td></tr><tr><td>6</td><td>91</td><td>0</td><td>0</td><td>0</td><td>29.8</td><td>0.501</td><td>31</td><td>0</td></tr><tr><td>1</td><td>77</td><td>56</td><td>30</td><td>56</td><td>33.3</td><td>1.251</td><td>24</td><td>0</td></tr><tr><td>4</td><td>132</td><td>0</td><td>0</td><td>0</td><td>32.9</td><td>0.302</td><td>23</td><td>1</td></tr><tr><td>0</td><td>105</td><td>90</td><td>0</td><td>0</td><td>29.6</td><td>0.197</td><td>46</td><td>0</td></tr><tr><td>0</td><td>57</td><td>60</td><td>0</td><td>0</td><td>21.7</td><td>0.735</td><td>67</td><td>0</td></tr><tr><td>0</td><td>127</td><td>80</td><td>37</td><td>210</td><td>36.3</td><td>0.804</td><td>23</td><td>0</td></tr><tr><td>3</td><td>129</td><td>92</td><td>49</td><td>155</td><td>36.4</td><td>0.968</td><td>32</td><td>1</td></tr><tr><td>8</td><td>100</td><td>74</td><td>40</td><td>215</td><td>39.4</td><td>0.661</td><td>43</td><td>1</td></tr><tr><td>3</td><td>128</td><td>72</td><td>25</td><td>190</td><td>32.4</td><td>0.549</td><td>27</td><td>1</td></tr><tr><td>10</td><td>90</td><td>85</td><td>32</td><td>0</td><td>34.9</td><td>0.825</td><td>56</td><td>1</td></tr><tr><td>4</td><td>84</td><td>90</td><td>23</td><td>56</td><td>39.5</td><td>0.159</td><td>25</td><td>0</td></tr><tr><td>1</td><td>88</td><td>78</td><td>29</td><td>76</td><td>32.0</td><td>0.365</td><td>29</td><td>0</td></tr><tr><td>8</td><td>186</td><td>90</td><td>35</td><td>225</td><td>34.5</td><td>0.423</td><td>37</td><td>1</td></tr><tr><td>5</td><td>187</td><td>76</td><td>27</td><td>207</td><td>43.6</td><td>1.034</td><td>53</td><td>1</td></tr><tr><td>4</td><td>131</td><td>68</td><td>21</td><td>166</td><td>33.1</td><td>0.16</td><td>28</td><td>0</td></tr><tr><td>1</td><td>164</td><td>82</td><td>43</td><td>67</td><td>32.8</td><td>0.341</td><td>50</td><td>0</td></tr><tr><td>4</td><td>189</td><td>110</td><td>31</td><td>0</td><td>28.5</td><td>0.68</td><td>37</td><td>0</td></tr><tr><td>1</td><td>116</td><td>70</td><td>28</td><td>0</td><td>27.4</td><td>0.204</td><td>21</td><td>0</td></tr><tr><td>3</td><td>84</td><td>68</td><td>30</td><td>106</td><td>31.9</td><td>0.591</td><td>25</td><td>0</td></tr><tr><td>6</td><td>114</td><td>88</td><td>0</td><td>0</td><td>27.8</td><td>0.247</td><td>66</td><td>0</td></tr><tr><td>1</td><td>88</td><td>62</td><td>24</td><td>44</td><td>29.9</td><td>0.422</td><td>23</td><td>0</td></tr><tr><td>1</td><td>84</td><td>64</td><td>23</td><td>115</td><td>36.9</td><td>0.471</td><td>28</td><td>0</td></tr><tr><td>7</td><td>124</td><td>70</td><td>33</td><td>215</td><td>25.5</td><td>0.161</td><td>37</td><td>0</td></tr><tr><td>1</td><td>97</td><td>70</td><td>40</td><td>0</td><td>38.1</td><td>0.218</td><td>30</td><td>0</td></tr><tr><td>8</td><td>110</td><td>76</td><td>0</td><td>0</td><td>27.8</td><td>0.237</td><td>58</td><td>0</td></tr><tr><td>11</td><td>103</td><td>68</td><td>40</td><td>0</td><td>46.2</td><td>0.126</td><td>42</td><td>0</td></tr><tr><td>11</td><td>85</td><td>74</td><td>0</td><td>0</td><td>30.1</td><td>0.3</td><td>35</td><td>0</td></tr><tr><td>6</td><td>125</td><td>76</td><td>0</td><td>0</td><td>33.8</td><td>0.121</td><td>54</td><td>1</td></tr><tr><td>0</td><td>198</td><td>66</td><td>32</td><td>274</td><td>41.3</td><td>0.502</td><td>28</td><td>1</td></tr><tr><td>1</td><td>87</td><td>68</td><td>34</td><td>77</td><td>37.6</td><td>0.401</td><td>24</td><td>0</td></tr><tr><td>6</td><td>99</td><td>60</td><td>19</td><td>54</td><td>26.9</td><td>0.497</td><td>32</td><td>0</td></tr><tr><td>0</td><td>91</td><td>80</td><td>0</td><td>0</td><td>32.4</td><td>0.601</td><td>27</td><td>0</td></tr><tr><td>2</td><td>95</td><td>54</td><td>14</td><td>88</td><td>26.1</td><td>0.748</td><td>22</td><td>0</td></tr><tr><td>1</td><td>99</td><td>72</td><td>30</td><td>18</td><td>38.6</td><td>0.412</td><td>21</td><td>0</td></tr><tr><td>6</td><td>92</td><td>62</td><td>32</td><td>126</td><td>32.0</td><td>0.085</td><td>46</td><td>0</td></tr><tr><td>4</td><td>154</td><td>72</td><td>29</td><td>126</td><td>31.3</td><td>0.338</td><td>37</td><td>0</td></tr><tr><td>0</td><td>121</td><td>66</td><td>30</td><td>165</td><td>34.3</td><td>0.203</td><td>33</td><td>1</td></tr><tr><td>3</td><td>78</td><td>70</td><td>0</td><td>0</td><td>32.5</td><td>0.27</td><td>39</td><td>0</td></tr><tr><td>2</td><td>130</td><td>96</td><td>0</td><td>0</td><td>22.6</td><td>0.268</td><td>21</td><td>0</td></tr><tr><td>3</td><td>111</td><td>58</td><td>31</td><td>44</td><td>29.5</td><td>0.43</td><td>22</td><td>0</td></tr><tr><td>2</td><td>98</td><td>60</td><td>17</td><td>120</td><td>34.7</td><td>0.198</td><td>22</td><td>0</td></tr><tr><td>1</td><td>143</td><td>86</td><td>30</td><td>330</td><td>30.1</td><td>0.892</td><td>23</td><td>0</td></tr><tr><td>1</td><td>119</td><td>44</td><td>47</td><td>63</td><td>35.5</td><td>0.28</td><td>25</td><td>0</td></tr><tr><td>6</td><td>108</td><td>44</td><td>20</td><td>130</td><td>24.0</td><td>0.813</td><td>35</td><td>0</td></tr><tr><td>2</td><td>118</td><td>80</td><td>0</td><td>0</td><td>42.9</td><td>0.693</td><td>21</td><td>1</td></tr><tr><td>10</td><td>133</td><td>68</td><td>0</td><td>0</td><td>27.0</td><td>0.245</td><td>36</td><td>0</td></tr><tr><td>2</td><td>197</td><td>70</td><td>99</td><td>0</td><td>34.7</td><td>0.575</td><td>62</td><td>1</td></tr><tr><td>0</td><td>151</td><td>90</td><td>46</td><td>0</td><td>42.1</td><td>0.371</td><td>21</td><td>1</td></tr><tr><td>6</td><td>109</td><td>60</td><td>27</td><td>0</td><td>25.0</td><td>0.206</td><td>27</td><td>0</td></tr><tr><td>12</td><td>121</td><td>78</td><td>17</td><td>0</td><td>26.5</td><td>0.259</td><td>62</td><td>0</td></tr><tr><td>8</td><td>100</td><td>76</td><td>0</td><td>0</td><td>38.7</td><td>0.19</td><td>42</td><td>0</td></tr><tr><td>8</td><td>124</td><td>76</td><td>24</td><td>600</td><td>28.7</td><td>0.687</td><td>52</td><td>1</td></tr><tr><td>1</td><td>93</td><td>56</td><td>11</td><td>0</td><td>22.5</td><td>0.417</td><td>22</td><td>0</td></tr><tr><td>8</td><td>143</td><td>66</td><td>0</td><td>0</td><td>34.9</td><td>0.129</td><td>41</td><td>1</td></tr><tr><td>6</td><td>103</td><td>66</td><td>0</td><td>0</td><td>24.3</td><td>0.249</td><td>29</td><td>0</td></tr><tr><td>3</td><td>176</td><td>86</td><td>27</td><td>156</td><td>33.3</td><td>1.154</td><td>52</td><td>1</td></tr><tr><td>0</td><td>73</td><td>0</td><td>0</td><td>0</td><td>21.1</td><td>0.342</td><td>25</td><td>0</td></tr><tr><td>11</td><td>111</td><td>84</td><td>40</td><td>0</td><td>46.8</td><td>0.925</td><td>45</td><td>1</td></tr><tr><td>2</td><td>112</td><td>78</td><td>50</td><td>140</td><td>39.4</td><td>0.175</td><td>24</td><td>0</td></tr><tr><td>3</td><td>132</td><td>80</td><td>0</td><td>0</td><td>34.4</td><td>0.402</td><td>44</td><td>1</td></tr><tr><td>2</td><td>82</td><td>52</td><td>22</td><td>115</td><td>28.5</td><td>1.699</td><td>25</td><td>0</td></tr><tr><td>6</td><td>123</td><td>72</td><td>45</td><td>230</td><td>33.6</td><td>0.733</td><td>34</td><td>0</td></tr><tr><td>0</td><td>188</td><td>82</td><td>14</td><td>185</td><td>32.0</td><td>0.682</td><td>22</td><td>1</td></tr><tr><td>0</td><td>67</td><td>76</td><td>0</td><td>0</td><td>45.3</td><td>0.194</td><td>46</td><td>0</td></tr><tr><td>1</td><td>89</td><td>24</td><td>19</td><td>25</td><td>27.8</td><td>0.559</td><td>21</td><td>0</td></tr><tr><td>1</td><td>173</td><td>74</td><td>0</td><td>0</td><td>36.8</td><td>0.088</td><td>38</td><td>1</td></tr><tr><td>1</td><td>109</td><td>38</td><td>18</td><td>120</td><td>23.1</td><td>0.407</td><td>26</td><td>0</td></tr><tr><td>1</td><td>108</td><td>88</td><td>19</td><td>0</td><td>27.1</td><td>0.4</td><td>24</td><td>0</td></tr><tr><td>6</td><td>96</td><td>0</td><td>0</td><td>0</td><td>23.7</td><td>0.19</td><td>28</td><td>0</td></tr><tr><td>1</td><td>124</td><td>74</td><td>36</td><td>0</td><td>27.8</td><td>0.1</td><td>30</td><td>0</td></tr><tr><td>7</td><td>150</td><td>78</td><td>29</td><td>126</td><td>35.2</td><td>0.692</td><td>54</td><td>1</td></tr><tr><td>4</td><td>183</td><td>0</td><td>0</td><td>0</td><td>28.4</td><td>0.212</td><td>36</td><td>1</td></tr><tr><td>1</td><td>124</td><td>60</td><td>32</td><td>0</td><td>35.8</td><td>0.514</td><td>21</td><td>0</td></tr><tr><td>1</td><td>181</td><td>78</td><td>42</td><td>293</td><td>40.0</td><td>1.258</td><td>22</td><td>1</td></tr><tr><td>1</td><td>92</td><td>62</td><td>25</td><td>41</td><td>19.5</td><td>0.482</td><td>25</td><td>0</td></tr><tr><td>0</td><td>152</td><td>82</td><td>39</td><td>272</td><td>41.5</td><td>0.27</td><td>27</td><td>0</td></tr><tr><td>1</td><td>111</td><td>62</td><td>13</td><td>182</td><td>24.0</td><td>0.138</td><td>23</td><td>0</td></tr><tr><td>3</td><td>106</td><td>54</td><td>21</td><td>158</td><td>30.9</td><td>0.292</td><td>24</td><td>0</td></tr><tr><td>3</td><td>174</td><td>58</td><td>22</td><td>194</td><td>32.9</td><td>0.593</td><td>36</td><td>1</td></tr><tr><td>7</td><td>168</td><td>88</td><td>42</td><td>321</td><td>38.2</td><td>0.787</td><td>40</td><td>1</td></tr><tr><td>6</td><td>105</td><td>80</td><td>28</td><td>0</td><td>32.5</td><td>0.878</td><td>26</td><td>0</td></tr><tr><td>11</td><td>138</td><td>74</td><td>26</td><td>144</td><td>36.1</td><td>0.557</td><td>50</td><td>1</td></tr><tr><td>3</td><td>106</td><td>72</td><td>0</td><td>0</td><td>25.8</td><td>0.207</td><td>27</td><td>0</td></tr><tr><td>6</td><td>117</td><td>96</td><td>0</td><td>0</td><td>28.7</td><td>0.157</td><td>30</td><td>0</td></tr><tr><td>2</td><td>68</td><td>62</td><td>13</td><td>15</td><td>20.1</td><td>0.257</td><td>23</td><td>0</td></tr><tr><td>9</td><td>112</td><td>82</td><td>24</td><td>0</td><td>28.2</td><td>1.282</td><td>50</td><td>1</td></tr><tr><td>0</td><td>119</td><td>0</td><td>0</td><td>0</td><td>32.4</td><td>0.141</td><td>24</td><td>1</td></tr><tr><td>2</td><td>112</td><td>86</td><td>42</td><td>160</td><td>38.4</td><td>0.246</td><td>28</td><td>0</td></tr><tr><td>2</td><td>92</td><td>76</td><td>20</td><td>0</td><td>24.2</td><td>1.698</td><td>28</td><td>0</td></tr><tr><td>6</td><td>183</td><td>94</td><td>0</td><td>0</td><td>40.8</td><td>1.461</td><td>45</td><td>0</td></tr><tr><td>0</td><td>94</td><td>70</td><td>27</td><td>115</td><td>43.5</td><td>0.347</td><td>21</td><td>0</td></tr><tr><td>2</td><td>108</td><td>64</td><td>0</td><td>0</td><td>30.8</td><td>0.158</td><td>21</td><td>0</td></tr><tr><td>4</td><td>90</td><td>88</td><td>47</td><td>54</td><td>37.7</td><td>0.362</td><td>29</td><td>0</td></tr><tr><td>0</td><td>125</td><td>68</td><td>0</td><td>0</td><td>24.7</td><td>0.206</td><td>21</td><td>0</td></tr><tr><td>0</td><td>132</td><td>78</td><td>0</td><td>0</td><td>32.4</td><td>0.393</td><td>21</td><td>0</td></tr><tr><td>5</td><td>128</td><td>80</td><td>0</td><td>0</td><td>34.6</td><td>0.144</td><td>45</td><td>0</td></tr><tr><td>4</td><td>94</td><td>65</td><td>22</td><td>0</td><td>24.7</td><td>0.148</td><td>21</td><td>0</td></tr><tr><td>7</td><td>114</td><td>64</td><td>0</td><td>0</td><td>27.4</td><td>0.732</td><td>34</td><td>1</td></tr><tr><td>0</td><td>102</td><td>78</td><td>40</td><td>90</td><td>34.5</td><td>0.238</td><td>24</td><td>0</td></tr><tr><td>2</td><td>111</td><td>60</td><td>0</td><td>0</td><td>26.2</td><td>0.343</td><td>23</td><td>0</td></tr><tr><td>1</td><td>128</td><td>82</td><td>17</td><td>183</td><td>27.5</td><td>0.115</td><td>22</td><td>0</td></tr><tr><td>10</td><td>92</td><td>62</td><td>0</td><td>0</td><td>25.9</td><td>0.167</td><td>31</td><td>0</td></tr><tr><td>13</td><td>104</td><td>72</td><td>0</td><td>0</td><td>31.2</td><td>0.465</td><td>38</td><td>1</td></tr><tr><td>5</td><td>104</td><td>74</td><td>0</td><td>0</td><td>28.8</td><td>0.153</td><td>48</td><td>0</td></tr><tr><td>2</td><td>94</td><td>76</td><td>18</td><td>66</td><td>31.6</td><td>0.649</td><td>23</td><td>0</td></tr><tr><td>7</td><td>97</td><td>76</td><td>32</td><td>91</td><td>40.9</td><td>0.871</td><td>32</td><td>1</td></tr><tr><td>1</td><td>100</td><td>74</td><td>12</td><td>46</td><td>19.5</td><td>0.149</td><td>28</td><td>0</td></tr><tr><td>0</td><td>102</td><td>86</td><td>17</td><td>105</td><td>29.3</td><td>0.695</td><td>27</td><td>0</td></tr><tr><td>4</td><td>128</td><td>70</td><td>0</td><td>0</td><td>34.3</td><td>0.303</td><td>24</td><td>0</td></tr><tr><td>6</td><td>147</td><td>80</td><td>0</td><td>0</td><td>29.5</td><td>0.178</td><td>50</td><td>1</td></tr><tr><td>4</td><td>90</td><td>0</td><td>0</td><td>0</td><td>28.0</td><td>0.61</td><td>31</td><td>0</td></tr><tr><td>3</td><td>103</td><td>72</td><td>30</td><td>152</td><td>27.6</td><td>0.73</td><td>27</td><td>0</td></tr><tr><td>2</td><td>157</td><td>74</td><td>35</td><td>440</td><td>39.4</td><td>0.134</td><td>30</td><td>0</td></tr><tr><td>1</td><td>167</td><td>74</td><td>17</td><td>144</td><td>23.4</td><td>0.447</td><td>33</td><td>1</td></tr><tr><td>0</td><td>179</td><td>50</td><td>36</td><td>159</td><td>37.8</td><td>0.455</td><td>22</td><td>1</td></tr><tr><td>11</td><td>136</td><td>84</td><td>35</td><td>130</td><td>28.3</td><td>0.26</td><td>42</td><td>1</td></tr><tr><td>0</td><td>107</td><td>60</td><td>25</td><td>0</td><td>26.4</td><td>0.133</td><td>23</td><td>0</td></tr><tr><td>1</td><td>91</td><td>54</td><td>25</td><td>100</td><td>25.2</td><td>0.234</td><td>23</td><td>0</td></tr><tr><td>1</td><td>117</td><td>60</td><td>23</td><td>106</td><td>33.8</td><td>0.466</td><td>27</td><td>0</td></tr><tr><td>5</td><td>123</td><td>74</td><td>40</td><td>77</td><td>34.1</td><td>0.269</td><td>28</td><td>0</td></tr><tr><td>2</td><td>120</td><td>54</td><td>0</td><td>0</td><td>26.8</td><td>0.455</td><td>27</td><td>0</td></tr><tr><td>1</td><td>106</td><td>70</td><td>28</td><td>135</td><td>34.2</td><td>0.142</td><td>22</td><td>0</td></tr><tr><td>2</td><td>155</td><td>52</td><td>27</td><td>540</td><td>38.7</td><td>0.24</td><td>25</td><td>1</td></tr><tr><td>2</td><td>101</td><td>58</td><td>35</td><td>90</td><td>21.8</td><td>0.155</td><td>22</td><td>0</td></tr><tr><td>1</td><td>120</td><td>80</td><td>48</td><td>200</td><td>38.9</td><td>1.162</td><td>41</td><td>0</td></tr><tr><td>11</td><td>127</td><td>106</td><td>0</td><td>0</td><td>39.0</td><td>0.19</td><td>51</td><td>0</td></tr><tr><td>3</td><td>80</td><td>82</td><td>31</td><td>70</td><td>34.2</td><td>1.292</td><td>27</td><td>1</td></tr><tr><td>10</td><td>162</td><td>84</td><td>0</td><td>0</td><td>27.7</td><td>0.182</td><td>54</td><td>0</td></tr><tr><td>1</td><td>199</td><td>76</td><td>43</td><td>0</td><td>42.9</td><td>1.394</td><td>22</td><td>1</td></tr><tr><td>8</td><td>167</td><td>106</td><td>46</td><td>231</td><td>37.6</td><td>0.165</td><td>43</td><td>1</td></tr><tr><td>9</td><td>145</td><td>80</td><td>46</td><td>130</td><td>37.9</td><td>0.637</td><td>40</td><td>1</td></tr><tr><td>6</td><td>115</td><td>60</td><td>39</td><td>0</td><td>33.7</td><td>0.245</td><td>40</td><td>1</td></tr><tr><td>1</td><td>112</td><td>80</td><td>45</td><td>132</td><td>34.8</td><td>0.217</td><td>24</td><td>0</td></tr><tr><td>4</td><td>145</td><td>82</td><td>18</td><td>0</td><td>32.5</td><td>0.235</td><td>70</td><td>1</td></tr><tr><td>10</td><td>111</td><td>70</td><td>27</td><td>0</td><td>27.5</td><td>0.141</td><td>40</td><td>1</td></tr><tr><td>6</td><td>98</td><td>58</td><td>33</td><td>190</td><td>34.0</td><td>0.43</td><td>43</td><td>0</td></tr><tr><td>9</td><td>154</td><td>78</td><td>30</td><td>100</td><td>30.9</td><td>0.164</td><td>45</td><td>0</td></tr><tr><td>6</td><td>165</td><td>68</td><td>26</td><td>168</td><td>33.6</td><td>0.631</td><td>49</td><td>0</td></tr><tr><td>1</td><td>99</td><td>58</td><td>10</td><td>0</td><td>25.4</td><td>0.551</td><td>21</td><td>0</td></tr><tr><td>10</td><td>68</td><td>106</td><td>23</td><td>49</td><td>35.5</td><td>0.285</td><td>47</td><td>0</td></tr><tr><td>3</td><td>123</td><td>100</td><td>35</td><td>240</td><td>57.3</td><td>0.88</td><td>22</td><td>0</td></tr><tr><td>8</td><td>91</td><td>82</td><td>0</td><td>0</td><td>35.6</td><td>0.587</td><td>68</td><td>0</td></tr><tr><td>6</td><td>195</td><td>70</td><td>0</td><td>0</td><td>30.9</td><td>0.328</td><td>31</td><td>1</td></tr><tr><td>9</td><td>156</td><td>86</td><td>0</td><td>0</td><td>24.8</td><td>0.23</td><td>53</td><td>1</td></tr><tr><td>0</td><td>93</td><td>60</td><td>0</td><td>0</td><td>35.3</td><td>0.263</td><td>25</td><td>0</td></tr><tr><td>3</td><td>121</td><td>52</td><td>0</td><td>0</td><td>36.0</td><td>0.127</td><td>25</td><td>1</td></tr><tr><td>2</td><td>101</td><td>58</td><td>17</td><td>265</td><td>24.2</td><td>0.614</td><td>23</td><td>0</td></tr><tr><td>2</td><td>56</td><td>56</td><td>28</td><td>45</td><td>24.2</td><td>0.332</td><td>22</td><td>0</td></tr><tr><td>0</td><td>162</td><td>76</td><td>36</td><td>0</td><td>49.6</td><td>0.364</td><td>26</td><td>1</td></tr><tr><td>0</td><td>95</td><td>64</td><td>39</td><td>105</td><td>44.6</td><td>0.366</td><td>22</td><td>0</td></tr><tr><td>4</td><td>125</td><td>80</td><td>0</td><td>0</td><td>32.3</td><td>0.536</td><td>27</td><td>1</td></tr><tr><td>5</td><td>136</td><td>82</td><td>0</td><td>0</td><td>0.0</td><td>0.64</td><td>69</td><td>0</td></tr><tr><td>2</td><td>129</td><td>74</td><td>26</td><td>205</td><td>33.2</td><td>0.591</td><td>25</td><td>0</td></tr><tr><td>3</td><td>130</td><td>64</td><td>0</td><td>0</td><td>23.1</td><td>0.314</td><td>22</td><td>0</td></tr><tr><td>1</td><td>107</td><td>50</td><td>19</td><td>0</td><td>28.3</td><td>0.181</td><td>29</td><td>0</td></tr><tr><td>1</td><td>140</td><td>74</td><td>26</td><td>180</td><td>24.1</td><td>0.828</td><td>23</td><td>0</td></tr><tr><td>1</td><td>144</td><td>82</td><td>46</td><td>180</td><td>46.1</td><td>0.335</td><td>46</td><td>1</td></tr><tr><td>8</td><td>107</td><td>80</td><td>0</td><td>0</td><td>24.6</td><td>0.856</td><td>34</td><td>0</td></tr><tr><td>13</td><td>158</td><td>114</td><td>0</td><td>0</td><td>42.3</td><td>0.257</td><td>44</td><td>1</td></tr><tr><td>2</td><td>121</td><td>70</td><td>32</td><td>95</td><td>39.1</td><td>0.886</td><td>23</td><td>0</td></tr><tr><td>7</td><td>129</td><td>68</td><td>49</td><td>125</td><td>38.5</td><td>0.439</td><td>43</td><td>1</td></tr><tr><td>2</td><td>90</td><td>60</td><td>0</td><td>0</td><td>23.5</td><td>0.191</td><td>25</td><td>0</td></tr><tr><td>7</td><td>142</td><td>90</td><td>24</td><td>480</td><td>30.4</td><td>0.128</td><td>43</td><td>1</td></tr><tr><td>3</td><td>169</td><td>74</td><td>19</td><td>125</td><td>29.9</td><td>0.268</td><td>31</td><td>1</td></tr><tr><td>0</td><td>99</td><td>0</td><td>0</td><td>0</td><td>25.0</td><td>0.253</td><td>22</td><td>0</td></tr><tr><td>4</td><td>127</td><td>88</td><td>11</td><td>155</td><td>34.5</td><td>0.598</td><td>28</td><td>0</td></tr><tr><td>4</td><td>118</td><td>70</td><td>0</td><td>0</td><td>44.5</td><td>0.904</td><td>26</td><td>0</td></tr><tr><td>2</td><td>122</td><td>76</td><td>27</td><td>200</td><td>35.9</td><td>0.483</td><td>26</td><td>0</td></tr><tr><td>6</td><td>125</td><td>78</td><td>31</td><td>0</td><td>27.6</td><td>0.565</td><td>49</td><td>1</td></tr><tr><td>1</td><td>168</td><td>88</td><td>29</td><td>0</td><td>35.0</td><td>0.905</td><td>52</td><td>1</td></tr><tr><td>2</td><td>129</td><td>0</td><td>0</td><td>0</td><td>38.5</td><td>0.304</td><td>41</td><td>0</td></tr><tr><td>4</td><td>110</td><td>76</td><td>20</td><td>100</td><td>28.4</td><td>0.118</td><td>27</td><td>0</td></tr><tr><td>6</td><td>80</td><td>80</td><td>36</td><td>0</td><td>39.8</td><td>0.177</td><td>28</td><td>0</td></tr><tr><td>10</td><td>115</td><td>0</td><td>0</td><td>0</td><td>0.0</td><td>0.261</td><td>30</td><td>1</td></tr><tr><td>2</td><td>127</td><td>46</td><td>21</td><td>335</td><td>34.4</td><td>0.176</td><td>22</td><td>0</td></tr><tr><td>9</td><td>164</td><td>78</td><td>0</td><td>0</td><td>32.8</td><td>0.148</td><td>45</td><td>1</td></tr><tr><td>2</td><td>93</td><td>64</td><td>32</td><td>160</td><td>38.0</td><td>0.674</td><td>23</td><td>1</td></tr><tr><td>3</td><td>158</td><td>64</td><td>13</td><td>387</td><td>31.2</td><td>0.295</td><td>24</td><td>0</td></tr><tr><td>5</td><td>126</td><td>78</td><td>27</td><td>22</td><td>29.6</td><td>0.439</td><td>40</td><td>0</td></tr><tr><td>10</td><td>129</td><td>62</td><td>36</td><td>0</td><td>41.2</td><td>0.441</td><td>38</td><td>1</td></tr><tr><td>0</td><td>134</td><td>58</td><td>20</td><td>291</td><td>26.4</td><td>0.352</td><td>21</td><td>0</td></tr><tr><td>3</td><td>102</td><td>74</td><td>0</td><td>0</td><td>29.5</td><td>0.121</td><td>32</td><td>0</td></tr><tr><td>7</td><td>187</td><td>50</td><td>33</td><td>392</td><td>33.9</td><td>0.826</td><td>34</td><td>1</td></tr><tr><td>3</td><td>173</td><td>78</td><td>39</td><td>185</td><td>33.8</td><td>0.97</td><td>31</td><td>1</td></tr><tr><td>10</td><td>94</td><td>72</td><td>18</td><td>0</td><td>23.1</td><td>0.595</td><td>56</td><td>0</td></tr><tr><td>1</td><td>108</td><td>60</td><td>46</td><td>178</td><td>35.5</td><td>0.415</td><td>24</td><td>0</td></tr><tr><td>5</td><td>97</td><td>76</td><td>27</td><td>0</td><td>35.6</td><td>0.378</td><td>52</td><td>1</td></tr><tr><td>4</td><td>83</td><td>86</td><td>19</td><td>0</td><td>29.3</td><td>0.317</td><td>34</td><td>0</td></tr><tr><td>1</td><td>114</td><td>66</td><td>36</td><td>200</td><td>38.1</td><td>0.289</td><td>21</td><td>0</td></tr><tr><td>1</td><td>149</td><td>68</td><td>29</td><td>127</td><td>29.3</td><td>0.349</td><td>42</td><td>1</td></tr><tr><td>5</td><td>117</td><td>86</td><td>30</td><td>105</td><td>39.1</td><td>0.251</td><td>42</td><td>0</td></tr><tr><td>1</td><td>111</td><td>94</td><td>0</td><td>0</td><td>32.8</td><td>0.265</td><td>45</td><td>0</td></tr><tr><td>4</td><td>112</td><td>78</td><td>40</td><td>0</td><td>39.4</td><td>0.236</td><td>38</td><td>0</td></tr><tr><td>1</td><td>116</td><td>78</td><td>29</td><td>180</td><td>36.1</td><td>0.496</td><td>25</td><td>0</td></tr><tr><td>0</td><td>141</td><td>84</td><td>26</td><td>0</td><td>32.4</td><td>0.433</td><td>22</td><td>0</td></tr><tr><td>2</td><td>175</td><td>88</td><td>0</td><td>0</td><td>22.9</td><td>0.326</td><td>22</td><td>0</td></tr><tr><td>2</td><td>92</td><td>52</td><td>0</td><td>0</td><td>30.1</td><td>0.141</td><td>22</td><td>0</td></tr><tr><td>3</td><td>130</td><td>78</td><td>23</td><td>79</td><td>28.4</td><td>0.323</td><td>34</td><td>1</td></tr><tr><td>8</td><td>120</td><td>86</td><td>0</td><td>0</td><td>28.4</td><td>0.259</td><td>22</td><td>1</td></tr><tr><td>2</td><td>174</td><td>88</td><td>37</td><td>120</td><td>44.5</td><td>0.646</td><td>24</td><td>1</td></tr><tr><td>2</td><td>106</td><td>56</td><td>27</td><td>165</td><td>29.0</td><td>0.426</td><td>22</td><td>0</td></tr><tr><td>2</td><td>105</td><td>75</td><td>0</td><td>0</td><td>23.3</td><td>0.56</td><td>53</td><td>0</td></tr><tr><td>4</td><td>95</td><td>60</td><td>32</td><td>0</td><td>35.4</td><td>0.284</td><td>28</td><td>0</td></tr><tr><td>0</td><td>126</td><td>86</td><td>27</td><td>120</td><td>27.4</td><td>0.515</td><td>21</td><td>0</td></tr><tr><td>8</td><td>65</td><td>72</td><td>23</td><td>0</td><td>32.0</td><td>0.6</td><td>42</td><td>0</td></tr><tr><td>2</td><td>99</td><td>60</td><td>17</td><td>160</td><td>36.6</td><td>0.453</td><td>21</td><td>0</td></tr><tr><td>1</td><td>102</td><td>74</td><td>0</td><td>0</td><td>39.5</td><td>0.293</td><td>42</td><td>1</td></tr><tr><td>11</td><td>120</td><td>80</td><td>37</td><td>150</td><td>42.3</td><td>0.785</td><td>48</td><td>1</td></tr><tr><td>3</td><td>102</td><td>44</td><td>20</td><td>94</td><td>30.8</td><td>0.4</td><td>26</td><td>0</td></tr><tr><td>1</td><td>109</td><td>58</td><td>18</td><td>116</td><td>28.5</td><td>0.219</td><td>22</td><td>0</td></tr><tr><td>9</td><td>140</td><td>94</td><td>0</td><td>0</td><td>32.7</td><td>0.734</td><td>45</td><td>1</td></tr><tr><td>13</td><td>153</td><td>88</td><td>37</td><td>140</td><td>40.6</td><td>1.174</td><td>39</td><td>0</td></tr><tr><td>12</td><td>100</td><td>84</td><td>33</td><td>105</td><td>30.0</td><td>0.488</td><td>46</td><td>0</td></tr><tr><td>1</td><td>147</td><td>94</td><td>41</td><td>0</td><td>49.3</td><td>0.358</td><td>27</td><td>1</td></tr><tr><td>1</td><td>81</td><td>74</td><td>41</td><td>57</td><td>46.3</td><td>1.096</td><td>32</td><td>0</td></tr><tr><td>3</td><td>187</td><td>70</td><td>22</td><td>200</td><td>36.4</td><td>0.408</td><td>36</td><td>1</td></tr><tr><td>6</td><td>162</td><td>62</td><td>0</td><td>0</td><td>24.3</td><td>0.178</td><td>50</td><td>1</td></tr><tr><td>4</td><td>136</td><td>70</td><td>0</td><td>0</td><td>31.2</td><td>1.182</td><td>22</td><td>1</td></tr><tr><td>1</td><td>121</td><td>78</td><td>39</td><td>74</td><td>39.0</td><td>0.261</td><td>28</td><td>0</td></tr><tr><td>3</td><td>108</td><td>62</td><td>24</td><td>0</td><td>26.0</td><td>0.223</td><td>25</td><td>0</td></tr><tr><td>0</td><td>181</td><td>88</td><td>44</td><td>510</td><td>43.3</td><td>0.222</td><td>26</td><td>1</td></tr><tr><td>8</td><td>154</td><td>78</td><td>32</td><td>0</td><td>32.4</td><td>0.443</td><td>45</td><td>1</td></tr><tr><td>1</td><td>128</td><td>88</td><td>39</td><td>110</td><td>36.5</td><td>1.057</td><td>37</td><td>1</td></tr><tr><td>7</td><td>137</td><td>90</td><td>41</td><td>0</td><td>32.0</td><td>0.391</td><td>39</td><td>0</td></tr><tr><td>0</td><td>123</td><td>72</td><td>0</td><td>0</td><td>36.3</td><td>0.258</td><td>52</td><td>1</td></tr><tr><td>1</td><td>106</td><td>76</td><td>0</td><td>0</td><td>37.5</td><td>0.197</td><td>26</td><td>0</td></tr><tr><td>6</td><td>190</td><td>92</td><td>0</td><td>0</td><td>35.5</td><td>0.278</td><td>66</td><td>1</td></tr><tr><td>2</td><td>88</td><td>58</td><td>26</td><td>16</td><td>28.4</td><td>0.766</td><td>22</td><td>0</td></tr><tr><td>9</td><td>170</td><td>74</td><td>31</td><td>0</td><td>44.0</td><td>0.403</td><td>43</td><td>1</td></tr><tr><td>9</td><td>89</td><td>62</td><td>0</td><td>0</td><td>22.5</td><td>0.142</td><td>33</td><td>0</td></tr><tr><td>10</td><td>101</td><td>76</td><td>48</td><td>180</td><td>32.9</td><td>0.171</td><td>63</td><td>0</td></tr><tr><td>2</td><td>122</td><td>70</td><td>27</td><td>0</td><td>36.8</td><td>0.34</td><td>27</td><td>0</td></tr><tr><td>5</td><td>121</td><td>72</td><td>23</td><td>112</td><td>26.2</td><td>0.245</td><td>30</td><td>0</td></tr><tr><td>1</td><td>126</td><td>60</td><td>0</td><td>0</td><td>30.1</td><td>0.349</td><td>47</td><td>1</td></tr><tr><td>1</td><td>93</td><td>70</td><td>31</td><td>0</td><td>30.4</td><td>0.315</td><td>23</td><td>0</td></tr></tbody></table></div>"
      ]
     },
     "metadata": {
      "application/vnd.databricks.v1+output": {
       "addedWidgets": {},
       "aggData": [],
       "aggError": "",
       "aggOverflow": false,
       "aggSchema": [],
       "aggSeriesLimitReached": false,
       "aggType": "",
       "arguments": {},
       "columnCustomDisplayInfos": {},
       "data": [
        [
         6,
         148,
         72,
         35,
         0,
         33.6,
         0.627,
         50,
         1
        ],
        [
         1,
         85,
         66,
         29,
         0,
         26.6,
         0.351,
         31,
         0
        ],
        [
         8,
         183,
         64,
         0,
         0,
         23.3,
         0.672,
         32,
         1
        ],
        [
         1,
         89,
         66,
         23,
         94,
         28.1,
         0.167,
         21,
         0
        ],
        [
         0,
         137,
         40,
         35,
         168,
         43.1,
         2.288,
         33,
         1
        ],
        [
         5,
         116,
         74,
         0,
         0,
         25.6,
         0.201,
         30,
         0
        ],
        [
         3,
         78,
         50,
         32,
         88,
         31.0,
         0.248,
         26,
         1
        ],
        [
         10,
         115,
         0,
         0,
         0,
         35.3,
         0.134,
         29,
         0
        ],
        [
         2,
         197,
         70,
         45,
         543,
         30.5,
         0.158,
         53,
         1
        ],
        [
         8,
         125,
         96,
         0,
         0,
         0.0,
         0.232,
         54,
         1
        ],
        [
         4,
         110,
         92,
         0,
         0,
         37.6,
         0.191,
         30,
         0
        ],
        [
         10,
         168,
         74,
         0,
         0,
         38.0,
         0.537,
         34,
         1
        ],
        [
         10,
         139,
         80,
         0,
         0,
         27.1,
         1.441,
         57,
         0
        ],
        [
         1,
         189,
         60,
         23,
         846,
         30.1,
         0.398,
         59,
         1
        ],
        [
         5,
         166,
         72,
         19,
         175,
         25.8,
         0.587,
         51,
         1
        ],
        [
         7,
         100,
         0,
         0,
         0,
         30.0,
         0.484,
         32,
         1
        ],
        [
         0,
         118,
         84,
         47,
         230,
         45.8,
         0.551,
         31,
         1
        ],
        [
         7,
         107,
         74,
         0,
         0,
         29.6,
         0.254,
         31,
         1
        ],
        [
         1,
         103,
         30,
         38,
         83,
         43.3,
         0.183,
         33,
         0
        ],
        [
         1,
         115,
         70,
         30,
         96,
         34.6,
         0.529,
         32,
         1
        ],
        [
         3,
         126,
         88,
         41,
         235,
         39.3,
         0.704,
         27,
         0
        ],
        [
         8,
         99,
         84,
         0,
         0,
         35.4,
         0.388,
         50,
         0
        ],
        [
         7,
         196,
         90,
         0,
         0,
         39.8,
         0.451,
         41,
         1
        ],
        [
         9,
         119,
         80,
         35,
         0,
         29.0,
         0.263,
         29,
         1
        ],
        [
         11,
         143,
         94,
         33,
         146,
         36.6,
         0.254,
         51,
         1
        ],
        [
         10,
         125,
         70,
         26,
         115,
         31.1,
         0.205,
         41,
         1
        ],
        [
         7,
         147,
         76,
         0,
         0,
         39.4,
         0.257,
         43,
         1
        ],
        [
         1,
         97,
         66,
         15,
         140,
         23.2,
         0.487,
         22,
         0
        ],
        [
         13,
         145,
         82,
         19,
         110,
         22.2,
         0.245,
         57,
         0
        ],
        [
         5,
         117,
         92,
         0,
         0,
         34.1,
         0.337,
         38,
         0
        ],
        [
         5,
         109,
         75,
         26,
         0,
         36.0,
         0.546,
         60,
         0
        ],
        [
         3,
         158,
         76,
         36,
         245,
         31.6,
         0.851,
         28,
         1
        ],
        [
         3,
         88,
         58,
         11,
         54,
         24.8,
         0.267,
         22,
         0
        ],
        [
         6,
         92,
         92,
         0,
         0,
         19.9,
         0.188,
         28,
         0
        ],
        [
         10,
         122,
         78,
         31,
         0,
         27.6,
         0.512,
         45,
         0
        ],
        [
         4,
         103,
         60,
         33,
         192,
         24.0,
         0.966,
         33,
         0
        ],
        [
         11,
         138,
         76,
         0,
         0,
         33.2,
         0.42,
         35,
         0
        ],
        [
         9,
         102,
         76,
         37,
         0,
         32.9,
         0.665,
         46,
         1
        ],
        [
         2,
         90,
         68,
         42,
         0,
         38.2,
         0.503,
         27,
         1
        ],
        [
         4,
         111,
         72,
         47,
         207,
         37.1,
         1.39,
         56,
         1
        ],
        [
         3,
         180,
         64,
         25,
         70,
         34.0,
         0.271,
         26,
         0
        ],
        [
         7,
         133,
         84,
         0,
         0,
         40.2,
         0.696,
         37,
         0
        ],
        [
         7,
         106,
         92,
         18,
         0,
         22.7,
         0.235,
         48,
         0
        ],
        [
         9,
         171,
         110,
         24,
         240,
         45.4,
         0.721,
         54,
         1
        ],
        [
         7,
         159,
         64,
         0,
         0,
         27.4,
         0.294,
         40,
         0
        ],
        [
         0,
         180,
         66,
         39,
         0,
         42.0,
         1.893,
         25,
         1
        ],
        [
         1,
         146,
         56,
         0,
         0,
         29.7,
         0.564,
         29,
         0
        ],
        [
         2,
         71,
         70,
         27,
         0,
         28.0,
         0.586,
         22,
         0
        ],
        [
         7,
         103,
         66,
         32,
         0,
         39.1,
         0.344,
         31,
         1
        ],
        [
         7,
         105,
         0,
         0,
         0,
         0.0,
         0.305,
         24,
         0
        ],
        [
         1,
         103,
         80,
         11,
         82,
         19.4,
         0.491,
         22,
         0
        ],
        [
         1,
         101,
         50,
         15,
         36,
         24.2,
         0.526,
         26,
         0
        ],
        [
         5,
         88,
         66,
         21,
         23,
         24.4,
         0.342,
         30,
         0
        ],
        [
         8,
         176,
         90,
         34,
         300,
         33.7,
         0.467,
         58,
         1
        ],
        [
         7,
         150,
         66,
         42,
         342,
         34.7,
         0.718,
         42,
         0
        ],
        [
         1,
         73,
         50,
         10,
         0,
         23.0,
         0.248,
         21,
         0
        ],
        [
         7,
         187,
         68,
         39,
         304,
         37.7,
         0.254,
         41,
         1
        ],
        [
         0,
         100,
         88,
         60,
         110,
         46.8,
         0.962,
         31,
         0
        ],
        [
         0,
         146,
         82,
         0,
         0,
         40.5,
         1.781,
         44,
         0
        ],
        [
         0,
         105,
         64,
         41,
         142,
         41.5,
         0.173,
         22,
         0
        ],
        [
         2,
         84,
         0,
         0,
         0,
         0.0,
         0.304,
         21,
         0
        ],
        [
         8,
         133,
         72,
         0,
         0,
         32.9,
         0.27,
         39,
         1
        ],
        [
         5,
         44,
         62,
         0,
         0,
         25.0,
         0.587,
         36,
         0
        ],
        [
         2,
         141,
         58,
         34,
         128,
         25.4,
         0.699,
         24,
         0
        ],
        [
         7,
         114,
         66,
         0,
         0,
         32.8,
         0.258,
         42,
         1
        ],
        [
         5,
         99,
         74,
         27,
         0,
         29.0,
         0.203,
         32,
         0
        ],
        [
         0,
         109,
         88,
         30,
         0,
         32.5,
         0.855,
         38,
         1
        ],
        [
         2,
         109,
         92,
         0,
         0,
         42.7,
         0.845,
         54,
         0
        ],
        [
         1,
         95,
         66,
         13,
         38,
         19.6,
         0.334,
         25,
         0
        ],
        [
         4,
         146,
         85,
         27,
         100,
         28.9,
         0.189,
         27,
         0
        ],
        [
         2,
         100,
         66,
         20,
         90,
         32.9,
         0.867,
         28,
         1
        ],
        [
         5,
         139,
         64,
         35,
         140,
         28.6,
         0.411,
         26,
         0
        ],
        [
         13,
         126,
         90,
         0,
         0,
         43.4,
         0.583,
         42,
         1
        ],
        [
         4,
         129,
         86,
         20,
         270,
         35.1,
         0.231,
         23,
         0
        ],
        [
         1,
         79,
         75,
         30,
         0,
         32.0,
         0.396,
         22,
         0
        ],
        [
         1,
         0,
         48,
         20,
         0,
         24.7,
         0.14,
         22,
         0
        ],
        [
         7,
         62,
         78,
         0,
         0,
         32.6,
         0.391,
         41,
         0
        ],
        [
         5,
         95,
         72,
         33,
         0,
         37.7,
         0.37,
         27,
         0
        ],
        [
         0,
         131,
         0,
         0,
         0,
         43.2,
         0.27,
         26,
         1
        ],
        [
         2,
         112,
         66,
         22,
         0,
         25.0,
         0.307,
         24,
         0
        ],
        [
         3,
         113,
         44,
         13,
         0,
         22.4,
         0.14,
         22,
         0
        ],
        [
         2,
         74,
         0,
         0,
         0,
         0.0,
         0.102,
         22,
         0
        ],
        [
         7,
         83,
         78,
         26,
         71,
         29.3,
         0.767,
         36,
         0
        ],
        [
         0,
         101,
         65,
         28,
         0,
         24.6,
         0.237,
         22,
         0
        ],
        [
         5,
         137,
         108,
         0,
         0,
         48.8,
         0.227,
         37,
         1
        ],
        [
         2,
         110,
         74,
         29,
         125,
         32.4,
         0.698,
         27,
         0
        ],
        [
         13,
         106,
         72,
         54,
         0,
         36.6,
         0.178,
         45,
         0
        ],
        [
         2,
         100,
         68,
         25,
         71,
         38.5,
         0.324,
         26,
         0
        ],
        [
         15,
         136,
         70,
         32,
         110,
         37.1,
         0.153,
         43,
         1
        ],
        [
         1,
         107,
         68,
         19,
         0,
         26.5,
         0.165,
         24,
         0
        ],
        [
         1,
         80,
         55,
         0,
         0,
         19.1,
         0.258,
         21,
         0
        ],
        [
         4,
         123,
         80,
         15,
         176,
         32.0,
         0.443,
         34,
         0
        ],
        [
         7,
         81,
         78,
         40,
         48,
         46.7,
         0.261,
         42,
         0
        ],
        [
         4,
         134,
         72,
         0,
         0,
         23.8,
         0.277,
         60,
         1
        ],
        [
         2,
         142,
         82,
         18,
         64,
         24.7,
         0.761,
         21,
         0
        ],
        [
         6,
         144,
         72,
         27,
         228,
         33.9,
         0.255,
         40,
         0
        ],
        [
         2,
         92,
         62,
         28,
         0,
         31.6,
         0.13,
         24,
         0
        ],
        [
         1,
         71,
         48,
         18,
         76,
         20.4,
         0.323,
         22,
         0
        ],
        [
         6,
         93,
         50,
         30,
         64,
         28.7,
         0.356,
         23,
         0
        ],
        [
         1,
         122,
         90,
         51,
         220,
         49.7,
         0.325,
         31,
         1
        ],
        [
         1,
         163,
         72,
         0,
         0,
         39.0,
         1.222,
         33,
         1
        ],
        [
         1,
         151,
         60,
         0,
         0,
         26.1,
         0.179,
         22,
         0
        ],
        [
         0,
         125,
         96,
         0,
         0,
         22.5,
         0.262,
         21,
         0
        ],
        [
         1,
         81,
         72,
         18,
         40,
         26.6,
         0.283,
         24,
         0
        ],
        [
         2,
         85,
         65,
         0,
         0,
         39.6,
         0.93,
         27,
         0
        ],
        [
         1,
         126,
         56,
         29,
         152,
         28.7,
         0.801,
         21,
         0
        ],
        [
         1,
         96,
         122,
         0,
         0,
         22.4,
         0.207,
         27,
         0
        ],
        [
         4,
         144,
         58,
         28,
         140,
         29.5,
         0.287,
         37,
         0
        ],
        [
         3,
         83,
         58,
         31,
         18,
         34.3,
         0.336,
         25,
         0
        ],
        [
         0,
         95,
         85,
         25,
         36,
         37.4,
         0.247,
         24,
         1
        ],
        [
         3,
         171,
         72,
         33,
         135,
         33.3,
         0.199,
         24,
         1
        ],
        [
         8,
         155,
         62,
         26,
         495,
         34.0,
         0.543,
         46,
         1
        ],
        [
         1,
         89,
         76,
         34,
         37,
         31.2,
         0.192,
         23,
         0
        ],
        [
         4,
         76,
         62,
         0,
         0,
         34.0,
         0.391,
         25,
         0
        ],
        [
         7,
         160,
         54,
         32,
         175,
         30.5,
         0.588,
         39,
         1
        ],
        [
         4,
         146,
         92,
         0,
         0,
         31.2,
         0.539,
         61,
         1
        ],
        [
         5,
         124,
         74,
         0,
         0,
         34.0,
         0.22,
         38,
         1
        ],
        [
         5,
         78,
         48,
         0,
         0,
         33.7,
         0.654,
         25,
         0
        ],
        [
         4,
         97,
         60,
         23,
         0,
         28.2,
         0.443,
         22,
         0
        ],
        [
         4,
         99,
         76,
         15,
         51,
         23.2,
         0.223,
         21,
         0
        ],
        [
         0,
         162,
         76,
         56,
         100,
         53.2,
         0.759,
         25,
         1
        ],
        [
         6,
         111,
         64,
         39,
         0,
         34.2,
         0.26,
         24,
         0
        ],
        [
         2,
         107,
         74,
         30,
         100,
         33.6,
         0.404,
         23,
         0
        ],
        [
         5,
         132,
         80,
         0,
         0,
         26.8,
         0.186,
         69,
         0
        ],
        [
         0,
         113,
         76,
         0,
         0,
         33.3,
         0.278,
         23,
         1
        ],
        [
         1,
         88,
         30,
         42,
         99,
         55.0,
         0.496,
         26,
         1
        ],
        [
         3,
         120,
         70,
         30,
         135,
         42.9,
         0.452,
         30,
         0
        ],
        [
         1,
         118,
         58,
         36,
         94,
         33.3,
         0.261,
         23,
         0
        ],
        [
         1,
         117,
         88,
         24,
         145,
         34.5,
         0.403,
         40,
         1
        ],
        [
         0,
         105,
         84,
         0,
         0,
         27.9,
         0.741,
         62,
         1
        ],
        [
         4,
         173,
         70,
         14,
         168,
         29.7,
         0.361,
         33,
         1
        ],
        [
         9,
         122,
         56,
         0,
         0,
         33.3,
         1.114,
         33,
         1
        ],
        [
         3,
         170,
         64,
         37,
         225,
         34.5,
         0.356,
         30,
         1
        ],
        [
         8,
         84,
         74,
         31,
         0,
         38.3,
         0.457,
         39,
         0
        ],
        [
         2,
         96,
         68,
         13,
         49,
         21.1,
         0.647,
         26,
         0
        ],
        [
         2,
         125,
         60,
         20,
         140,
         33.8,
         0.088,
         31,
         0
        ],
        [
         0,
         100,
         70,
         26,
         50,
         30.8,
         0.597,
         21,
         0
        ],
        [
         0,
         93,
         60,
         25,
         92,
         28.7,
         0.532,
         22,
         0
        ],
        [
         0,
         129,
         80,
         0,
         0,
         31.2,
         0.703,
         29,
         0
        ],
        [
         5,
         105,
         72,
         29,
         325,
         36.9,
         0.159,
         28,
         0
        ],
        [
         3,
         128,
         78,
         0,
         0,
         21.1,
         0.268,
         55,
         0
        ],
        [
         5,
         106,
         82,
         30,
         0,
         39.5,
         0.286,
         38,
         0
        ],
        [
         2,
         108,
         52,
         26,
         63,
         32.5,
         0.318,
         22,
         0
        ],
        [
         10,
         108,
         66,
         0,
         0,
         32.4,
         0.272,
         42,
         1
        ],
        [
         4,
         154,
         62,
         31,
         284,
         32.8,
         0.237,
         23,
         0
        ],
        [
         0,
         102,
         75,
         23,
         0,
         0.0,
         0.572,
         21,
         0
        ],
        [
         9,
         57,
         80,
         37,
         0,
         32.8,
         0.096,
         41,
         0
        ],
        [
         2,
         106,
         64,
         35,
         119,
         30.5,
         1.4,
         34,
         0
        ],
        [
         5,
         147,
         78,
         0,
         0,
         33.7,
         0.218,
         65,
         0
        ],
        [
         2,
         90,
         70,
         17,
         0,
         27.3,
         0.085,
         22,
         0
        ],
        [
         1,
         136,
         74,
         50,
         204,
         37.4,
         0.399,
         24,
         0
        ],
        [
         4,
         114,
         65,
         0,
         0,
         21.9,
         0.432,
         37,
         0
        ],
        [
         9,
         156,
         86,
         28,
         155,
         34.3,
         1.189,
         42,
         1
        ],
        [
         1,
         153,
         82,
         42,
         485,
         40.6,
         0.687,
         23,
         0
        ],
        [
         8,
         188,
         78,
         0,
         0,
         47.9,
         0.137,
         43,
         1
        ],
        [
         7,
         152,
         88,
         44,
         0,
         50.0,
         0.337,
         36,
         1
        ],
        [
         2,
         99,
         52,
         15,
         94,
         24.6,
         0.637,
         21,
         0
        ],
        [
         1,
         109,
         56,
         21,
         135,
         25.2,
         0.833,
         23,
         0
        ],
        [
         2,
         88,
         74,
         19,
         53,
         29.0,
         0.229,
         22,
         0
        ],
        [
         17,
         163,
         72,
         41,
         114,
         40.9,
         0.817,
         47,
         1
        ],
        [
         4,
         151,
         90,
         38,
         0,
         29.7,
         0.294,
         36,
         0
        ],
        [
         7,
         102,
         74,
         40,
         105,
         37.2,
         0.204,
         45,
         0
        ],
        [
         0,
         114,
         80,
         34,
         285,
         44.2,
         0.167,
         27,
         0
        ],
        [
         2,
         100,
         64,
         23,
         0,
         29.7,
         0.368,
         21,
         0
        ],
        [
         0,
         131,
         88,
         0,
         0,
         31.6,
         0.743,
         32,
         1
        ],
        [
         6,
         104,
         74,
         18,
         156,
         29.9,
         0.722,
         41,
         1
        ],
        [
         3,
         148,
         66,
         25,
         0,
         32.5,
         0.256,
         22,
         0
        ],
        [
         4,
         120,
         68,
         0,
         0,
         29.6,
         0.709,
         34,
         0
        ],
        [
         4,
         110,
         66,
         0,
         0,
         31.9,
         0.471,
         29,
         0
        ],
        [
         3,
         111,
         90,
         12,
         78,
         28.4,
         0.495,
         29,
         0
        ],
        [
         6,
         102,
         82,
         0,
         0,
         30.8,
         0.18,
         36,
         1
        ],
        [
         6,
         134,
         70,
         23,
         130,
         35.4,
         0.542,
         29,
         1
        ],
        [
         2,
         87,
         0,
         23,
         0,
         28.9,
         0.773,
         25,
         0
        ],
        [
         1,
         79,
         60,
         42,
         48,
         43.5,
         0.678,
         23,
         0
        ],
        [
         2,
         75,
         64,
         24,
         55,
         29.7,
         0.37,
         33,
         0
        ],
        [
         8,
         179,
         72,
         42,
         130,
         32.7,
         0.719,
         36,
         1
        ],
        [
         6,
         85,
         78,
         0,
         0,
         31.2,
         0.382,
         42,
         0
        ],
        [
         0,
         129,
         110,
         46,
         130,
         67.1,
         0.319,
         26,
         1
        ],
        [
         5,
         143,
         78,
         0,
         0,
         45.0,
         0.19,
         47,
         0
        ],
        [
         5,
         130,
         82,
         0,
         0,
         39.1,
         0.956,
         37,
         1
        ],
        [
         6,
         87,
         80,
         0,
         0,
         23.2,
         0.084,
         32,
         0
        ],
        [
         0,
         119,
         64,
         18,
         92,
         34.9,
         0.725,
         23,
         0
        ],
        [
         1,
         0,
         74,
         20,
         23,
         27.7,
         0.299,
         21,
         0
        ],
        [
         5,
         73,
         60,
         0,
         0,
         26.8,
         0.268,
         27,
         0
        ],
        [
         4,
         141,
         74,
         0,
         0,
         27.6,
         0.244,
         40,
         0
        ],
        [
         7,
         194,
         68,
         28,
         0,
         35.9,
         0.745,
         41,
         1
        ],
        [
         8,
         181,
         68,
         36,
         495,
         30.1,
         0.615,
         60,
         1
        ],
        [
         1,
         128,
         98,
         41,
         58,
         32.0,
         1.321,
         33,
         1
        ],
        [
         8,
         109,
         76,
         39,
         114,
         27.9,
         0.64,
         31,
         1
        ],
        [
         5,
         139,
         80,
         35,
         160,
         31.6,
         0.361,
         25,
         1
        ],
        [
         3,
         111,
         62,
         0,
         0,
         22.6,
         0.142,
         21,
         0
        ],
        [
         9,
         123,
         70,
         44,
         94,
         33.1,
         0.374,
         40,
         0
        ],
        [
         7,
         159,
         66,
         0,
         0,
         30.4,
         0.383,
         36,
         1
        ],
        [
         11,
         135,
         0,
         0,
         0,
         52.3,
         0.578,
         40,
         1
        ],
        [
         8,
         85,
         55,
         20,
         0,
         24.4,
         0.136,
         42,
         0
        ],
        [
         5,
         158,
         84,
         41,
         210,
         39.4,
         0.395,
         29,
         1
        ],
        [
         1,
         105,
         58,
         0,
         0,
         24.3,
         0.187,
         21,
         0
        ],
        [
         3,
         107,
         62,
         13,
         48,
         22.9,
         0.678,
         23,
         1
        ],
        [
         4,
         109,
         64,
         44,
         99,
         34.8,
         0.905,
         26,
         1
        ],
        [
         4,
         148,
         60,
         27,
         318,
         30.9,
         0.15,
         29,
         1
        ],
        [
         0,
         113,
         80,
         16,
         0,
         31.0,
         0.874,
         21,
         0
        ],
        [
         1,
         138,
         82,
         0,
         0,
         40.1,
         0.236,
         28,
         0
        ],
        [
         0,
         108,
         68,
         20,
         0,
         27.3,
         0.787,
         32,
         0
        ],
        [
         2,
         99,
         70,
         16,
         44,
         20.4,
         0.235,
         27,
         0
        ],
        [
         6,
         103,
         72,
         32,
         190,
         37.7,
         0.324,
         55,
         0
        ],
        [
         5,
         111,
         72,
         28,
         0,
         23.9,
         0.407,
         27,
         0
        ],
        [
         8,
         196,
         76,
         29,
         280,
         37.5,
         0.605,
         57,
         1
        ],
        [
         5,
         162,
         104,
         0,
         0,
         37.7,
         0.151,
         52,
         1
        ],
        [
         1,
         96,
         64,
         27,
         87,
         33.2,
         0.289,
         21,
         0
        ],
        [
         7,
         184,
         84,
         33,
         0,
         35.5,
         0.355,
         41,
         1
        ],
        [
         2,
         81,
         60,
         22,
         0,
         27.7,
         0.29,
         25,
         0
        ],
        [
         0,
         147,
         85,
         54,
         0,
         42.8,
         0.375,
         24,
         0
        ],
        [
         7,
         179,
         95,
         31,
         0,
         34.2,
         0.164,
         60,
         0
        ],
        [
         0,
         140,
         65,
         26,
         130,
         42.6,
         0.431,
         24,
         1
        ],
        [
         9,
         112,
         82,
         32,
         175,
         34.2,
         0.26,
         36,
         1
        ],
        [
         12,
         151,
         70,
         40,
         271,
         41.8,
         0.742,
         38,
         1
        ],
        [
         5,
         109,
         62,
         41,
         129,
         35.8,
         0.514,
         25,
         1
        ],
        [
         6,
         125,
         68,
         30,
         120,
         30.0,
         0.464,
         32,
         0
        ],
        [
         5,
         85,
         74,
         22,
         0,
         29.0,
         1.224,
         32,
         1
        ],
        [
         5,
         112,
         66,
         0,
         0,
         37.8,
         0.261,
         41,
         1
        ],
        [
         0,
         177,
         60,
         29,
         478,
         34.6,
         1.072,
         21,
         1
        ],
        [
         2,
         158,
         90,
         0,
         0,
         31.6,
         0.805,
         66,
         1
        ],
        [
         7,
         119,
         0,
         0,
         0,
         25.2,
         0.209,
         37,
         0
        ],
        [
         7,
         142,
         60,
         33,
         190,
         28.8,
         0.687,
         61,
         0
        ],
        [
         1,
         100,
         66,
         15,
         56,
         23.6,
         0.666,
         26,
         0
        ],
        [
         1,
         87,
         78,
         27,
         32,
         34.6,
         0.101,
         22,
         0
        ],
        [
         0,
         101,
         76,
         0,
         0,
         35.7,
         0.198,
         26,
         0
        ],
        [
         3,
         162,
         52,
         38,
         0,
         37.2,
         0.652,
         24,
         1
        ],
        [
         4,
         197,
         70,
         39,
         744,
         36.7,
         2.329,
         31,
         0
        ],
        [
         0,
         117,
         80,
         31,
         53,
         45.2,
         0.089,
         24,
         0
        ],
        [
         4,
         142,
         86,
         0,
         0,
         44.0,
         0.645,
         22,
         1
        ],
        [
         6,
         134,
         80,
         37,
         370,
         46.2,
         0.238,
         46,
         1
        ],
        [
         1,
         79,
         80,
         25,
         37,
         25.4,
         0.583,
         22,
         0
        ],
        [
         4,
         122,
         68,
         0,
         0,
         35.0,
         0.394,
         29,
         0
        ],
        [
         3,
         74,
         68,
         28,
         45,
         29.7,
         0.293,
         23,
         0
        ],
        [
         4,
         171,
         72,
         0,
         0,
         43.6,
         0.479,
         26,
         1
        ],
        [
         7,
         181,
         84,
         21,
         192,
         35.9,
         0.586,
         51,
         1
        ],
        [
         0,
         179,
         90,
         27,
         0,
         44.1,
         0.686,
         23,
         1
        ],
        [
         9,
         164,
         84,
         21,
         0,
         30.8,
         0.831,
         32,
         1
        ],
        [
         0,
         104,
         76,
         0,
         0,
         18.4,
         0.582,
         27,
         0
        ],
        [
         1,
         91,
         64,
         24,
         0,
         29.2,
         0.192,
         21,
         0
        ],
        [
         4,
         91,
         70,
         32,
         88,
         33.1,
         0.446,
         22,
         0
        ],
        [
         3,
         139,
         54,
         0,
         0,
         25.6,
         0.402,
         22,
         1
        ],
        [
         6,
         119,
         50,
         22,
         176,
         27.1,
         1.318,
         33,
         1
        ],
        [
         2,
         146,
         76,
         35,
         194,
         38.2,
         0.329,
         29,
         0
        ],
        [
         9,
         184,
         85,
         15,
         0,
         30.0,
         1.213,
         49,
         1
        ],
        [
         10,
         122,
         68,
         0,
         0,
         31.2,
         0.258,
         41,
         0
        ],
        [
         0,
         165,
         90,
         33,
         680,
         52.3,
         0.427,
         23,
         0
        ],
        [
         9,
         124,
         70,
         33,
         402,
         35.4,
         0.282,
         34,
         0
        ],
        [
         1,
         111,
         86,
         19,
         0,
         30.1,
         0.143,
         23,
         0
        ],
        [
         9,
         106,
         52,
         0,
         0,
         31.2,
         0.38,
         42,
         0
        ],
        [
         2,
         129,
         84,
         0,
         0,
         28.0,
         0.284,
         27,
         0
        ],
        [
         2,
         90,
         80,
         14,
         55,
         24.4,
         0.249,
         24,
         0
        ],
        [
         0,
         86,
         68,
         32,
         0,
         35.8,
         0.238,
         25,
         0
        ],
        [
         12,
         92,
         62,
         7,
         258,
         27.6,
         0.926,
         44,
         1
        ],
        [
         1,
         113,
         64,
         35,
         0,
         33.6,
         0.543,
         21,
         1
        ],
        [
         3,
         111,
         56,
         39,
         0,
         30.1,
         0.557,
         30,
         0
        ],
        [
         2,
         114,
         68,
         22,
         0,
         28.7,
         0.092,
         25,
         0
        ],
        [
         1,
         193,
         50,
         16,
         375,
         25.9,
         0.655,
         24,
         0
        ],
        [
         11,
         155,
         76,
         28,
         150,
         33.3,
         1.353,
         51,
         1
        ],
        [
         3,
         191,
         68,
         15,
         130,
         30.9,
         0.299,
         34,
         0
        ],
        [
         3,
         141,
         0,
         0,
         0,
         30.0,
         0.761,
         27,
         1
        ],
        [
         4,
         95,
         70,
         32,
         0,
         32.1,
         0.612,
         24,
         0
        ],
        [
         3,
         142,
         80,
         15,
         0,
         32.4,
         0.2,
         63,
         0
        ],
        [
         4,
         123,
         62,
         0,
         0,
         32.0,
         0.226,
         35,
         1
        ],
        [
         5,
         96,
         74,
         18,
         67,
         33.6,
         0.997,
         43,
         0
        ],
        [
         0,
         138,
         0,
         0,
         0,
         36.3,
         0.933,
         25,
         1
        ],
        [
         2,
         128,
         64,
         42,
         0,
         40.0,
         1.101,
         24,
         0
        ],
        [
         0,
         102,
         52,
         0,
         0,
         25.1,
         0.078,
         21,
         0
        ],
        [
         2,
         146,
         0,
         0,
         0,
         27.5,
         0.24,
         28,
         1
        ],
        [
         10,
         101,
         86,
         37,
         0,
         45.6,
         1.136,
         38,
         1
        ],
        [
         2,
         108,
         62,
         32,
         56,
         25.2,
         0.128,
         21,
         0
        ],
        [
         3,
         122,
         78,
         0,
         0,
         23.0,
         0.254,
         40,
         0
        ],
        [
         1,
         71,
         78,
         50,
         45,
         33.2,
         0.422,
         21,
         0
        ],
        [
         13,
         106,
         70,
         0,
         0,
         34.2,
         0.251,
         52,
         0
        ],
        [
         2,
         100,
         70,
         52,
         57,
         40.5,
         0.677,
         25,
         0
        ],
        [
         7,
         106,
         60,
         24,
         0,
         26.5,
         0.296,
         29,
         1
        ],
        [
         0,
         104,
         64,
         23,
         116,
         27.8,
         0.454,
         23,
         0
        ],
        [
         5,
         114,
         74,
         0,
         0,
         24.9,
         0.744,
         57,
         0
        ],
        [
         2,
         108,
         62,
         10,
         278,
         25.3,
         0.881,
         22,
         0
        ],
        [
         0,
         146,
         70,
         0,
         0,
         37.9,
         0.334,
         28,
         1
        ],
        [
         10,
         129,
         76,
         28,
         122,
         35.9,
         0.28,
         39,
         0
        ],
        [
         7,
         133,
         88,
         15,
         155,
         32.4,
         0.262,
         37,
         0
        ],
        [
         7,
         161,
         86,
         0,
         0,
         30.4,
         0.165,
         47,
         1
        ],
        [
         2,
         108,
         80,
         0,
         0,
         27.0,
         0.259,
         52,
         1
        ],
        [
         7,
         136,
         74,
         26,
         135,
         26.0,
         0.647,
         51,
         0
        ],
        [
         5,
         155,
         84,
         44,
         545,
         38.7,
         0.619,
         34,
         0
        ],
        [
         1,
         119,
         86,
         39,
         220,
         45.6,
         0.808,
         29,
         1
        ],
        [
         4,
         96,
         56,
         17,
         49,
         20.8,
         0.34,
         26,
         0
        ],
        [
         5,
         108,
         72,
         43,
         75,
         36.1,
         0.263,
         33,
         0
        ],
        [
         0,
         78,
         88,
         29,
         40,
         36.9,
         0.434,
         21,
         0
        ],
        [
         0,
         107,
         62,
         30,
         74,
         36.6,
         0.757,
         25,
         1
        ],
        [
         2,
         128,
         78,
         37,
         182,
         43.3,
         1.224,
         31,
         1
        ],
        [
         1,
         128,
         48,
         45,
         194,
         40.5,
         0.613,
         24,
         1
        ],
        [
         0,
         161,
         50,
         0,
         0,
         21.9,
         0.254,
         65,
         0
        ],
        [
         6,
         151,
         62,
         31,
         120,
         35.5,
         0.692,
         28,
         0
        ],
        [
         2,
         146,
         70,
         38,
         360,
         28.0,
         0.337,
         29,
         1
        ],
        [
         0,
         126,
         84,
         29,
         215,
         30.7,
         0.52,
         24,
         0
        ],
        [
         14,
         100,
         78,
         25,
         184,
         36.6,
         0.412,
         46,
         1
        ],
        [
         8,
         112,
         72,
         0,
         0,
         23.6,
         0.84,
         58,
         0
        ],
        [
         0,
         167,
         0,
         0,
         0,
         32.3,
         0.839,
         30,
         1
        ],
        [
         2,
         144,
         58,
         33,
         135,
         31.6,
         0.422,
         25,
         1
        ],
        [
         5,
         77,
         82,
         41,
         42,
         35.8,
         0.156,
         35,
         0
        ],
        [
         5,
         115,
         98,
         0,
         0,
         52.9,
         0.209,
         28,
         1
        ],
        [
         3,
         150,
         76,
         0,
         0,
         21.0,
         0.207,
         37,
         0
        ],
        [
         2,
         120,
         76,
         37,
         105,
         39.7,
         0.215,
         29,
         0
        ],
        [
         10,
         161,
         68,
         23,
         132,
         25.5,
         0.326,
         47,
         1
        ],
        [
         0,
         137,
         68,
         14,
         148,
         24.8,
         0.143,
         21,
         0
        ],
        [
         0,
         128,
         68,
         19,
         180,
         30.5,
         1.391,
         25,
         1
        ],
        [
         2,
         124,
         68,
         28,
         205,
         32.9,
         0.875,
         30,
         1
        ],
        [
         6,
         80,
         66,
         30,
         0,
         26.2,
         0.313,
         41,
         0
        ],
        [
         0,
         106,
         70,
         37,
         148,
         39.4,
         0.605,
         22,
         0
        ],
        [
         2,
         155,
         74,
         17,
         96,
         26.6,
         0.433,
         27,
         1
        ],
        [
         3,
         113,
         50,
         10,
         85,
         29.5,
         0.626,
         25,
         0
        ],
        [
         7,
         109,
         80,
         31,
         0,
         35.9,
         1.127,
         43,
         1
        ],
        [
         2,
         112,
         68,
         22,
         94,
         34.1,
         0.315,
         26,
         0
        ],
        [
         3,
         99,
         80,
         11,
         64,
         19.3,
         0.284,
         30,
         0
        ],
        [
         3,
         182,
         74,
         0,
         0,
         30.5,
         0.345,
         29,
         1
        ],
        [
         3,
         115,
         66,
         39,
         140,
         38.1,
         0.15,
         28,
         0
        ],
        [
         6,
         194,
         78,
         0,
         0,
         23.5,
         0.129,
         59,
         1
        ],
        [
         4,
         129,
         60,
         12,
         231,
         27.5,
         0.527,
         31,
         0
        ],
        [
         3,
         112,
         74,
         30,
         0,
         31.6,
         0.197,
         25,
         1
        ],
        [
         0,
         124,
         70,
         20,
         0,
         27.4,
         0.254,
         36,
         1
        ],
        [
         13,
         152,
         90,
         33,
         29,
         26.8,
         0.731,
         43,
         1
        ],
        [
         2,
         112,
         75,
         32,
         0,
         35.7,
         0.148,
         21,
         0
        ],
        [
         1,
         157,
         72,
         21,
         168,
         25.6,
         0.123,
         24,
         0
        ],
        [
         1,
         122,
         64,
         32,
         156,
         35.1,
         0.692,
         30,
         1
        ],
        [
         10,
         179,
         70,
         0,
         0,
         35.1,
         0.2,
         37,
         0
        ],
        [
         2,
         102,
         86,
         36,
         120,
         45.5,
         0.127,
         23,
         1
        ],
        [
         6,
         105,
         70,
         32,
         68,
         30.8,
         0.122,
         37,
         0
        ],
        [
         8,
         118,
         72,
         19,
         0,
         23.1,
         1.476,
         46,
         0
        ],
        [
         2,
         87,
         58,
         16,
         52,
         32.7,
         0.166,
         25,
         0
        ],
        [
         1,
         180,
         0,
         0,
         0,
         43.3,
         0.282,
         41,
         1
        ],
        [
         12,
         106,
         80,
         0,
         0,
         23.6,
         0.137,
         44,
         0
        ],
        [
         1,
         95,
         60,
         18,
         58,
         23.9,
         0.26,
         22,
         0
        ],
        [
         0,
         165,
         76,
         43,
         255,
         47.9,
         0.259,
         26,
         0
        ],
        [
         0,
         117,
         0,
         0,
         0,
         33.8,
         0.932,
         44,
         0
        ],
        [
         5,
         115,
         76,
         0,
         0,
         31.2,
         0.343,
         44,
         1
        ],
        [
         9,
         152,
         78,
         34,
         171,
         34.2,
         0.893,
         33,
         1
        ],
        [
         7,
         178,
         84,
         0,
         0,
         39.9,
         0.331,
         41,
         1
        ],
        [
         1,
         130,
         70,
         13,
         105,
         25.9,
         0.472,
         22,
         0
        ],
        [
         1,
         95,
         74,
         21,
         73,
         25.9,
         0.673,
         36,
         0
        ],
        [
         1,
         0,
         68,
         35,
         0,
         32.0,
         0.389,
         22,
         0
        ],
        [
         5,
         122,
         86,
         0,
         0,
         34.7,
         0.29,
         33,
         0
        ],
        [
         8,
         95,
         72,
         0,
         0,
         36.8,
         0.485,
         57,
         0
        ],
        [
         8,
         126,
         88,
         36,
         108,
         38.5,
         0.349,
         49,
         0
        ],
        [
         1,
         139,
         46,
         19,
         83,
         28.7,
         0.654,
         22,
         0
        ],
        [
         3,
         116,
         0,
         0,
         0,
         23.5,
         0.187,
         23,
         0
        ],
        [
         3,
         99,
         62,
         19,
         74,
         21.8,
         0.279,
         26,
         0
        ],
        [
         5,
         0,
         80,
         32,
         0,
         41.0,
         0.346,
         37,
         1
        ],
        [
         4,
         92,
         80,
         0,
         0,
         42.2,
         0.237,
         29,
         0
        ],
        [
         4,
         137,
         84,
         0,
         0,
         31.2,
         0.252,
         30,
         0
        ],
        [
         3,
         61,
         82,
         28,
         0,
         34.4,
         0.243,
         46,
         0
        ],
        [
         1,
         90,
         62,
         12,
         43,
         27.2,
         0.58,
         24,
         0
        ],
        [
         3,
         90,
         78,
         0,
         0,
         42.7,
         0.559,
         21,
         0
        ],
        [
         9,
         165,
         88,
         0,
         0,
         30.4,
         0.302,
         49,
         1
        ],
        [
         1,
         125,
         50,
         40,
         167,
         33.3,
         0.962,
         28,
         1
        ],
        [
         13,
         129,
         0,
         30,
         0,
         39.9,
         0.569,
         44,
         1
        ],
        [
         12,
         88,
         74,
         40,
         54,
         35.3,
         0.378,
         48,
         0
        ],
        [
         1,
         196,
         76,
         36,
         249,
         36.5,
         0.875,
         29,
         1
        ],
        [
         5,
         189,
         64,
         33,
         325,
         31.2,
         0.583,
         29,
         1
        ],
        [
         5,
         158,
         70,
         0,
         0,
         29.8,
         0.207,
         63,
         0
        ],
        [
         5,
         103,
         108,
         37,
         0,
         39.2,
         0.305,
         65,
         0
        ],
        [
         4,
         146,
         78,
         0,
         0,
         38.5,
         0.52,
         67,
         1
        ],
        [
         4,
         147,
         74,
         25,
         293,
         34.9,
         0.385,
         30,
         0
        ],
        [
         5,
         99,
         54,
         28,
         83,
         34.0,
         0.499,
         30,
         0
        ],
        [
         6,
         124,
         72,
         0,
         0,
         27.6,
         0.368,
         29,
         1
        ],
        [
         0,
         101,
         64,
         17,
         0,
         21.0,
         0.252,
         21,
         0
        ],
        [
         3,
         81,
         86,
         16,
         66,
         27.5,
         0.306,
         22,
         0
        ],
        [
         1,
         133,
         102,
         28,
         140,
         32.8,
         0.234,
         45,
         1
        ],
        [
         3,
         173,
         82,
         48,
         465,
         38.4,
         2.137,
         25,
         1
        ],
        [
         0,
         118,
         64,
         23,
         89,
         0.0,
         1.731,
         21,
         0
        ],
        [
         0,
         84,
         64,
         22,
         66,
         35.8,
         0.545,
         21,
         0
        ],
        [
         2,
         105,
         58,
         40,
         94,
         34.9,
         0.225,
         25,
         0
        ],
        [
         2,
         122,
         52,
         43,
         158,
         36.2,
         0.816,
         28,
         0
        ],
        [
         12,
         140,
         82,
         43,
         325,
         39.2,
         0.528,
         58,
         1
        ],
        [
         0,
         98,
         82,
         15,
         84,
         25.2,
         0.299,
         22,
         0
        ],
        [
         1,
         87,
         60,
         37,
         75,
         37.2,
         0.509,
         22,
         0
        ],
        [
         4,
         156,
         75,
         0,
         0,
         48.3,
         0.238,
         32,
         1
        ],
        [
         0,
         93,
         100,
         39,
         72,
         43.4,
         1.021,
         35,
         0
        ],
        [
         1,
         107,
         72,
         30,
         82,
         30.8,
         0.821,
         24,
         0
        ],
        [
         0,
         105,
         68,
         22,
         0,
         20.0,
         0.236,
         22,
         0
        ],
        [
         1,
         109,
         60,
         8,
         182,
         25.4,
         0.947,
         21,
         0
        ],
        [
         1,
         90,
         62,
         18,
         59,
         25.1,
         1.268,
         25,
         0
        ],
        [
         1,
         125,
         70,
         24,
         110,
         24.3,
         0.221,
         25,
         0
        ],
        [
         1,
         119,
         54,
         13,
         50,
         22.3,
         0.205,
         24,
         0
        ],
        [
         5,
         116,
         74,
         29,
         0,
         32.3,
         0.66,
         35,
         1
        ],
        [
         8,
         105,
         100,
         36,
         0,
         43.3,
         0.239,
         45,
         1
        ],
        [
         5,
         144,
         82,
         26,
         285,
         32.0,
         0.452,
         58,
         1
        ],
        [
         3,
         100,
         68,
         23,
         81,
         31.6,
         0.949,
         28,
         0
        ],
        [
         1,
         100,
         66,
         29,
         196,
         32.0,
         0.444,
         42,
         0
        ],
        [
         5,
         166,
         76,
         0,
         0,
         45.7,
         0.34,
         27,
         1
        ],
        [
         1,
         131,
         64,
         14,
         415,
         23.7,
         0.389,
         21,
         0
        ],
        [
         4,
         116,
         72,
         12,
         87,
         22.1,
         0.463,
         37,
         0
        ],
        [
         4,
         158,
         78,
         0,
         0,
         32.9,
         0.803,
         31,
         1
        ],
        [
         2,
         127,
         58,
         24,
         275,
         27.7,
         1.6,
         25,
         0
        ],
        [
         3,
         96,
         56,
         34,
         115,
         24.7,
         0.944,
         39,
         0
        ],
        [
         0,
         131,
         66,
         40,
         0,
         34.3,
         0.196,
         22,
         1
        ],
        [
         3,
         82,
         70,
         0,
         0,
         21.1,
         0.389,
         25,
         0
        ],
        [
         3,
         193,
         70,
         31,
         0,
         34.9,
         0.241,
         25,
         1
        ],
        [
         4,
         95,
         64,
         0,
         0,
         32.0,
         0.161,
         31,
         1
        ],
        [
         6,
         137,
         61,
         0,
         0,
         24.2,
         0.151,
         55,
         0
        ],
        [
         5,
         136,
         84,
         41,
         88,
         35.0,
         0.286,
         35,
         1
        ],
        [
         9,
         72,
         78,
         25,
         0,
         31.6,
         0.28,
         38,
         0
        ],
        [
         5,
         168,
         64,
         0,
         0,
         32.9,
         0.135,
         41,
         1
        ],
        [
         2,
         123,
         48,
         32,
         165,
         42.1,
         0.52,
         26,
         0
        ],
        [
         4,
         115,
         72,
         0,
         0,
         28.9,
         0.376,
         46,
         1
        ],
        [
         0,
         101,
         62,
         0,
         0,
         21.9,
         0.336,
         25,
         0
        ],
        [
         8,
         197,
         74,
         0,
         0,
         25.9,
         1.191,
         39,
         1
        ],
        [
         1,
         172,
         68,
         49,
         579,
         42.4,
         0.702,
         28,
         1
        ],
        [
         6,
         102,
         90,
         39,
         0,
         35.7,
         0.674,
         28,
         0
        ],
        [
         1,
         112,
         72,
         30,
         176,
         34.4,
         0.528,
         25,
         0
        ],
        [
         1,
         143,
         84,
         23,
         310,
         42.4,
         1.076,
         22,
         0
        ],
        [
         1,
         143,
         74,
         22,
         61,
         26.2,
         0.256,
         21,
         0
        ],
        [
         0,
         138,
         60,
         35,
         167,
         34.6,
         0.534,
         21,
         1
        ],
        [
         3,
         173,
         84,
         33,
         474,
         35.7,
         0.258,
         22,
         1
        ],
        [
         1,
         97,
         68,
         21,
         0,
         27.2,
         1.095,
         22,
         0
        ],
        [
         4,
         144,
         82,
         32,
         0,
         38.5,
         0.554,
         37,
         1
        ],
        [
         1,
         83,
         68,
         0,
         0,
         18.2,
         0.624,
         27,
         0
        ],
        [
         3,
         129,
         64,
         29,
         115,
         26.4,
         0.219,
         28,
         1
        ],
        [
         1,
         119,
         88,
         41,
         170,
         45.3,
         0.507,
         26,
         0
        ],
        [
         2,
         94,
         68,
         18,
         76,
         26.0,
         0.561,
         21,
         0
        ],
        [
         0,
         102,
         64,
         46,
         78,
         40.6,
         0.496,
         21,
         0
        ],
        [
         2,
         115,
         64,
         22,
         0,
         30.8,
         0.421,
         21,
         0
        ],
        [
         8,
         151,
         78,
         32,
         210,
         42.9,
         0.516,
         36,
         1
        ],
        [
         4,
         184,
         78,
         39,
         277,
         37.0,
         0.264,
         31,
         1
        ],
        [
         0,
         94,
         0,
         0,
         0,
         0.0,
         0.256,
         25,
         0
        ],
        [
         1,
         181,
         64,
         30,
         180,
         34.1,
         0.328,
         38,
         1
        ],
        [
         0,
         135,
         94,
         46,
         145,
         40.6,
         0.284,
         26,
         0
        ],
        [
         1,
         95,
         82,
         25,
         180,
         35.0,
         0.233,
         43,
         1
        ],
        [
         2,
         99,
         0,
         0,
         0,
         22.2,
         0.108,
         23,
         0
        ],
        [
         3,
         89,
         74,
         16,
         85,
         30.4,
         0.551,
         38,
         0
        ],
        [
         1,
         80,
         74,
         11,
         60,
         30.0,
         0.527,
         22,
         0
        ],
        [
         2,
         139,
         75,
         0,
         0,
         25.6,
         0.167,
         29,
         0
        ],
        [
         1,
         90,
         68,
         8,
         0,
         24.5,
         1.138,
         36,
         0
        ],
        [
         0,
         141,
         0,
         0,
         0,
         42.4,
         0.205,
         29,
         1
        ],
        [
         12,
         140,
         85,
         33,
         0,
         37.4,
         0.244,
         41,
         0
        ],
        [
         5,
         147,
         75,
         0,
         0,
         29.9,
         0.434,
         28,
         0
        ],
        [
         1,
         97,
         70,
         15,
         0,
         18.2,
         0.147,
         21,
         0
        ],
        [
         6,
         107,
         88,
         0,
         0,
         36.8,
         0.727,
         31,
         0
        ],
        [
         0,
         189,
         104,
         25,
         0,
         34.3,
         0.435,
         41,
         1
        ],
        [
         2,
         83,
         66,
         23,
         50,
         32.2,
         0.497,
         22,
         0
        ],
        [
         4,
         117,
         64,
         27,
         120,
         33.2,
         0.23,
         24,
         0
        ],
        [
         8,
         108,
         70,
         0,
         0,
         30.5,
         0.955,
         33,
         1
        ],
        [
         4,
         117,
         62,
         12,
         0,
         29.7,
         0.38,
         30,
         1
        ],
        [
         0,
         180,
         78,
         63,
         14,
         59.4,
         2.42,
         25,
         1
        ],
        [
         1,
         100,
         72,
         12,
         70,
         25.3,
         0.658,
         28,
         0
        ],
        [
         0,
         95,
         80,
         45,
         92,
         36.5,
         0.33,
         26,
         0
        ],
        [
         0,
         104,
         64,
         37,
         64,
         33.6,
         0.51,
         22,
         1
        ],
        [
         0,
         120,
         74,
         18,
         63,
         30.5,
         0.285,
         26,
         0
        ],
        [
         1,
         82,
         64,
         13,
         95,
         21.2,
         0.415,
         23,
         0
        ],
        [
         2,
         134,
         70,
         0,
         0,
         28.9,
         0.542,
         23,
         1
        ],
        [
         0,
         91,
         68,
         32,
         210,
         39.9,
         0.381,
         25,
         0
        ],
        [
         2,
         119,
         0,
         0,
         0,
         19.6,
         0.832,
         72,
         0
        ],
        [
         2,
         100,
         54,
         28,
         105,
         37.8,
         0.498,
         24,
         0
        ],
        [
         14,
         175,
         62,
         30,
         0,
         33.6,
         0.212,
         38,
         1
        ],
        [
         1,
         135,
         54,
         0,
         0,
         26.7,
         0.687,
         62,
         0
        ],
        [
         5,
         86,
         68,
         28,
         71,
         30.2,
         0.364,
         24,
         0
        ],
        [
         10,
         148,
         84,
         48,
         237,
         37.6,
         1.001,
         51,
         1
        ],
        [
         9,
         134,
         74,
         33,
         60,
         25.9,
         0.46,
         81,
         0
        ],
        [
         9,
         120,
         72,
         22,
         56,
         20.8,
         0.733,
         48,
         0
        ],
        [
         1,
         71,
         62,
         0,
         0,
         21.8,
         0.416,
         26,
         0
        ],
        [
         8,
         74,
         70,
         40,
         49,
         35.3,
         0.705,
         39,
         0
        ],
        [
         5,
         88,
         78,
         30,
         0,
         27.6,
         0.258,
         37,
         0
        ],
        [
         10,
         115,
         98,
         0,
         0,
         24.0,
         1.022,
         34,
         0
        ],
        [
         0,
         124,
         56,
         13,
         105,
         21.8,
         0.452,
         21,
         0
        ],
        [
         0,
         74,
         52,
         10,
         36,
         27.8,
         0.269,
         22,
         0
        ],
        [
         0,
         97,
         64,
         36,
         100,
         36.8,
         0.6,
         25,
         0
        ],
        [
         8,
         120,
         0,
         0,
         0,
         30.0,
         0.183,
         38,
         1
        ],
        [
         6,
         154,
         78,
         41,
         140,
         46.1,
         0.571,
         27,
         0
        ],
        [
         1,
         144,
         82,
         40,
         0,
         41.3,
         0.607,
         28,
         0
        ],
        [
         0,
         137,
         70,
         38,
         0,
         33.2,
         0.17,
         22,
         0
        ],
        [
         0,
         119,
         66,
         27,
         0,
         38.8,
         0.259,
         22,
         0
        ],
        [
         7,
         136,
         90,
         0,
         0,
         29.9,
         0.21,
         50,
         0
        ],
        [
         4,
         114,
         64,
         0,
         0,
         28.9,
         0.126,
         24,
         0
        ],
        [
         0,
         137,
         84,
         27,
         0,
         27.3,
         0.231,
         59,
         0
        ],
        [
         2,
         105,
         80,
         45,
         191,
         33.7,
         0.711,
         29,
         1
        ],
        [
         7,
         114,
         76,
         17,
         110,
         23.8,
         0.466,
         31,
         0
        ],
        [
         8,
         126,
         74,
         38,
         75,
         25.9,
         0.162,
         39,
         0
        ],
        [
         4,
         132,
         86,
         31,
         0,
         28.0,
         0.419,
         63,
         0
        ],
        [
         3,
         158,
         70,
         30,
         328,
         35.5,
         0.344,
         35,
         1
        ],
        [
         0,
         123,
         88,
         37,
         0,
         35.2,
         0.197,
         29,
         0
        ],
        [
         4,
         85,
         58,
         22,
         49,
         27.8,
         0.306,
         28,
         0
        ],
        [
         0,
         84,
         82,
         31,
         125,
         38.2,
         0.233,
         23,
         0
        ],
        [
         0,
         145,
         0,
         0,
         0,
         44.2,
         0.63,
         31,
         1
        ],
        [
         0,
         135,
         68,
         42,
         250,
         42.3,
         0.365,
         24,
         1
        ],
        [
         1,
         139,
         62,
         41,
         480,
         40.7,
         0.536,
         21,
         0
        ],
        [
         0,
         173,
         78,
         32,
         265,
         46.5,
         1.159,
         58,
         0
        ],
        [
         4,
         99,
         72,
         17,
         0,
         25.6,
         0.294,
         28,
         0
        ],
        [
         8,
         194,
         80,
         0,
         0,
         26.1,
         0.551,
         67,
         0
        ],
        [
         2,
         83,
         65,
         28,
         66,
         36.8,
         0.629,
         24,
         0
        ],
        [
         2,
         89,
         90,
         30,
         0,
         33.5,
         0.292,
         42,
         0
        ],
        [
         4,
         99,
         68,
         38,
         0,
         32.8,
         0.145,
         33,
         0
        ],
        [
         4,
         125,
         70,
         18,
         122,
         28.9,
         1.144,
         45,
         1
        ],
        [
         3,
         80,
         0,
         0,
         0,
         0.0,
         0.174,
         22,
         0
        ],
        [
         6,
         166,
         74,
         0,
         0,
         26.6,
         0.304,
         66,
         0
        ],
        [
         5,
         110,
         68,
         0,
         0,
         26.0,
         0.292,
         30,
         0
        ],
        [
         2,
         81,
         72,
         15,
         76,
         30.1,
         0.547,
         25,
         0
        ],
        [
         7,
         195,
         70,
         33,
         145,
         25.1,
         0.163,
         55,
         1
        ],
        [
         6,
         154,
         74,
         32,
         193,
         29.3,
         0.839,
         39,
         0
        ],
        [
         2,
         117,
         90,
         19,
         71,
         25.2,
         0.313,
         21,
         0
        ],
        [
         3,
         84,
         72,
         32,
         0,
         37.2,
         0.267,
         28,
         0
        ],
        [
         6,
         0,
         68,
         41,
         0,
         39.0,
         0.727,
         41,
         1
        ],
        [
         7,
         94,
         64,
         25,
         79,
         33.3,
         0.738,
         41,
         0
        ],
        [
         3,
         96,
         78,
         39,
         0,
         37.3,
         0.238,
         40,
         0
        ],
        [
         10,
         75,
         82,
         0,
         0,
         33.3,
         0.263,
         38,
         0
        ],
        [
         0,
         180,
         90,
         26,
         90,
         36.5,
         0.314,
         35,
         1
        ],
        [
         1,
         130,
         60,
         23,
         170,
         28.6,
         0.692,
         21,
         0
        ],
        [
         2,
         84,
         50,
         23,
         76,
         30.4,
         0.968,
         21,
         0
        ],
        [
         8,
         120,
         78,
         0,
         0,
         25.0,
         0.409,
         64,
         0
        ],
        [
         12,
         84,
         72,
         31,
         0,
         29.7,
         0.297,
         46,
         1
        ],
        [
         0,
         139,
         62,
         17,
         210,
         22.1,
         0.207,
         21,
         0
        ],
        [
         9,
         91,
         68,
         0,
         0,
         24.2,
         0.2,
         58,
         0
        ],
        [
         2,
         91,
         62,
         0,
         0,
         27.3,
         0.525,
         22,
         0
        ],
        [
         3,
         99,
         54,
         19,
         86,
         25.6,
         0.154,
         24,
         0
        ],
        [
         3,
         163,
         70,
         18,
         105,
         31.6,
         0.268,
         28,
         1
        ],
        [
         9,
         145,
         88,
         34,
         165,
         30.3,
         0.771,
         53,
         1
        ],
        [
         7,
         125,
         86,
         0,
         0,
         37.6,
         0.304,
         51,
         0
        ],
        [
         13,
         76,
         60,
         0,
         0,
         32.8,
         0.18,
         41,
         0
        ],
        [
         6,
         129,
         90,
         7,
         326,
         19.6,
         0.582,
         60,
         0
        ],
        [
         2,
         68,
         70,
         32,
         66,
         25.0,
         0.187,
         25,
         0
        ],
        [
         3,
         124,
         80,
         33,
         130,
         33.2,
         0.305,
         26,
         0
        ],
        [
         6,
         114,
         0,
         0,
         0,
         0.0,
         0.189,
         26,
         0
        ],
        [
         9,
         130,
         70,
         0,
         0,
         34.2,
         0.652,
         45,
         1
        ],
        [
         3,
         125,
         58,
         0,
         0,
         31.6,
         0.151,
         24,
         0
        ],
        [
         3,
         87,
         60,
         18,
         0,
         21.8,
         0.444,
         21,
         0
        ],
        [
         1,
         97,
         64,
         19,
         82,
         18.2,
         0.299,
         21,
         0
        ],
        [
         3,
         116,
         74,
         15,
         105,
         26.3,
         0.107,
         24,
         0
        ],
        [
         0,
         117,
         66,
         31,
         188,
         30.8,
         0.493,
         22,
         0
        ],
        [
         0,
         111,
         65,
         0,
         0,
         24.6,
         0.66,
         31,
         0
        ],
        [
         2,
         122,
         60,
         18,
         106,
         29.8,
         0.717,
         22,
         0
        ],
        [
         0,
         107,
         76,
         0,
         0,
         45.3,
         0.686,
         24,
         0
        ],
        [
         1,
         86,
         66,
         52,
         65,
         41.3,
         0.917,
         29,
         0
        ],
        [
         6,
         91,
         0,
         0,
         0,
         29.8,
         0.501,
         31,
         0
        ],
        [
         1,
         77,
         56,
         30,
         56,
         33.3,
         1.251,
         24,
         0
        ],
        [
         4,
         132,
         0,
         0,
         0,
         32.9,
         0.302,
         23,
         1
        ],
        [
         0,
         105,
         90,
         0,
         0,
         29.6,
         0.197,
         46,
         0
        ],
        [
         0,
         57,
         60,
         0,
         0,
         21.7,
         0.735,
         67,
         0
        ],
        [
         0,
         127,
         80,
         37,
         210,
         36.3,
         0.804,
         23,
         0
        ],
        [
         3,
         129,
         92,
         49,
         155,
         36.4,
         0.968,
         32,
         1
        ],
        [
         8,
         100,
         74,
         40,
         215,
         39.4,
         0.661,
         43,
         1
        ],
        [
         3,
         128,
         72,
         25,
         190,
         32.4,
         0.549,
         27,
         1
        ],
        [
         10,
         90,
         85,
         32,
         0,
         34.9,
         0.825,
         56,
         1
        ],
        [
         4,
         84,
         90,
         23,
         56,
         39.5,
         0.159,
         25,
         0
        ],
        [
         1,
         88,
         78,
         29,
         76,
         32.0,
         0.365,
         29,
         0
        ],
        [
         8,
         186,
         90,
         35,
         225,
         34.5,
         0.423,
         37,
         1
        ],
        [
         5,
         187,
         76,
         27,
         207,
         43.6,
         1.034,
         53,
         1
        ],
        [
         4,
         131,
         68,
         21,
         166,
         33.1,
         0.16,
         28,
         0
        ],
        [
         1,
         164,
         82,
         43,
         67,
         32.8,
         0.341,
         50,
         0
        ],
        [
         4,
         189,
         110,
         31,
         0,
         28.5,
         0.68,
         37,
         0
        ],
        [
         1,
         116,
         70,
         28,
         0,
         27.4,
         0.204,
         21,
         0
        ],
        [
         3,
         84,
         68,
         30,
         106,
         31.9,
         0.591,
         25,
         0
        ],
        [
         6,
         114,
         88,
         0,
         0,
         27.8,
         0.247,
         66,
         0
        ],
        [
         1,
         88,
         62,
         24,
         44,
         29.9,
         0.422,
         23,
         0
        ],
        [
         1,
         84,
         64,
         23,
         115,
         36.9,
         0.471,
         28,
         0
        ],
        [
         7,
         124,
         70,
         33,
         215,
         25.5,
         0.161,
         37,
         0
        ],
        [
         1,
         97,
         70,
         40,
         0,
         38.1,
         0.218,
         30,
         0
        ],
        [
         8,
         110,
         76,
         0,
         0,
         27.8,
         0.237,
         58,
         0
        ],
        [
         11,
         103,
         68,
         40,
         0,
         46.2,
         0.126,
         42,
         0
        ],
        [
         11,
         85,
         74,
         0,
         0,
         30.1,
         0.3,
         35,
         0
        ],
        [
         6,
         125,
         76,
         0,
         0,
         33.8,
         0.121,
         54,
         1
        ],
        [
         0,
         198,
         66,
         32,
         274,
         41.3,
         0.502,
         28,
         1
        ],
        [
         1,
         87,
         68,
         34,
         77,
         37.6,
         0.401,
         24,
         0
        ],
        [
         6,
         99,
         60,
         19,
         54,
         26.9,
         0.497,
         32,
         0
        ],
        [
         0,
         91,
         80,
         0,
         0,
         32.4,
         0.601,
         27,
         0
        ],
        [
         2,
         95,
         54,
         14,
         88,
         26.1,
         0.748,
         22,
         0
        ],
        [
         1,
         99,
         72,
         30,
         18,
         38.6,
         0.412,
         21,
         0
        ],
        [
         6,
         92,
         62,
         32,
         126,
         32.0,
         0.085,
         46,
         0
        ],
        [
         4,
         154,
         72,
         29,
         126,
         31.3,
         0.338,
         37,
         0
        ],
        [
         0,
         121,
         66,
         30,
         165,
         34.3,
         0.203,
         33,
         1
        ],
        [
         3,
         78,
         70,
         0,
         0,
         32.5,
         0.27,
         39,
         0
        ],
        [
         2,
         130,
         96,
         0,
         0,
         22.6,
         0.268,
         21,
         0
        ],
        [
         3,
         111,
         58,
         31,
         44,
         29.5,
         0.43,
         22,
         0
        ],
        [
         2,
         98,
         60,
         17,
         120,
         34.7,
         0.198,
         22,
         0
        ],
        [
         1,
         143,
         86,
         30,
         330,
         30.1,
         0.892,
         23,
         0
        ],
        [
         1,
         119,
         44,
         47,
         63,
         35.5,
         0.28,
         25,
         0
        ],
        [
         6,
         108,
         44,
         20,
         130,
         24.0,
         0.813,
         35,
         0
        ],
        [
         2,
         118,
         80,
         0,
         0,
         42.9,
         0.693,
         21,
         1
        ],
        [
         10,
         133,
         68,
         0,
         0,
         27.0,
         0.245,
         36,
         0
        ],
        [
         2,
         197,
         70,
         99,
         0,
         34.7,
         0.575,
         62,
         1
        ],
        [
         0,
         151,
         90,
         46,
         0,
         42.1,
         0.371,
         21,
         1
        ],
        [
         6,
         109,
         60,
         27,
         0,
         25.0,
         0.206,
         27,
         0
        ],
        [
         12,
         121,
         78,
         17,
         0,
         26.5,
         0.259,
         62,
         0
        ],
        [
         8,
         100,
         76,
         0,
         0,
         38.7,
         0.19,
         42,
         0
        ],
        [
         8,
         124,
         76,
         24,
         600,
         28.7,
         0.687,
         52,
         1
        ],
        [
         1,
         93,
         56,
         11,
         0,
         22.5,
         0.417,
         22,
         0
        ],
        [
         8,
         143,
         66,
         0,
         0,
         34.9,
         0.129,
         41,
         1
        ],
        [
         6,
         103,
         66,
         0,
         0,
         24.3,
         0.249,
         29,
         0
        ],
        [
         3,
         176,
         86,
         27,
         156,
         33.3,
         1.154,
         52,
         1
        ],
        [
         0,
         73,
         0,
         0,
         0,
         21.1,
         0.342,
         25,
         0
        ],
        [
         11,
         111,
         84,
         40,
         0,
         46.8,
         0.925,
         45,
         1
        ],
        [
         2,
         112,
         78,
         50,
         140,
         39.4,
         0.175,
         24,
         0
        ],
        [
         3,
         132,
         80,
         0,
         0,
         34.4,
         0.402,
         44,
         1
        ],
        [
         2,
         82,
         52,
         22,
         115,
         28.5,
         1.699,
         25,
         0
        ],
        [
         6,
         123,
         72,
         45,
         230,
         33.6,
         0.733,
         34,
         0
        ],
        [
         0,
         188,
         82,
         14,
         185,
         32.0,
         0.682,
         22,
         1
        ],
        [
         0,
         67,
         76,
         0,
         0,
         45.3,
         0.194,
         46,
         0
        ],
        [
         1,
         89,
         24,
         19,
         25,
         27.8,
         0.559,
         21,
         0
        ],
        [
         1,
         173,
         74,
         0,
         0,
         36.8,
         0.088,
         38,
         1
        ],
        [
         1,
         109,
         38,
         18,
         120,
         23.1,
         0.407,
         26,
         0
        ],
        [
         1,
         108,
         88,
         19,
         0,
         27.1,
         0.4,
         24,
         0
        ],
        [
         6,
         96,
         0,
         0,
         0,
         23.7,
         0.19,
         28,
         0
        ],
        [
         1,
         124,
         74,
         36,
         0,
         27.8,
         0.1,
         30,
         0
        ],
        [
         7,
         150,
         78,
         29,
         126,
         35.2,
         0.692,
         54,
         1
        ],
        [
         4,
         183,
         0,
         0,
         0,
         28.4,
         0.212,
         36,
         1
        ],
        [
         1,
         124,
         60,
         32,
         0,
         35.8,
         0.514,
         21,
         0
        ],
        [
         1,
         181,
         78,
         42,
         293,
         40.0,
         1.258,
         22,
         1
        ],
        [
         1,
         92,
         62,
         25,
         41,
         19.5,
         0.482,
         25,
         0
        ],
        [
         0,
         152,
         82,
         39,
         272,
         41.5,
         0.27,
         27,
         0
        ],
        [
         1,
         111,
         62,
         13,
         182,
         24.0,
         0.138,
         23,
         0
        ],
        [
         3,
         106,
         54,
         21,
         158,
         30.9,
         0.292,
         24,
         0
        ],
        [
         3,
         174,
         58,
         22,
         194,
         32.9,
         0.593,
         36,
         1
        ],
        [
         7,
         168,
         88,
         42,
         321,
         38.2,
         0.787,
         40,
         1
        ],
        [
         6,
         105,
         80,
         28,
         0,
         32.5,
         0.878,
         26,
         0
        ],
        [
         11,
         138,
         74,
         26,
         144,
         36.1,
         0.557,
         50,
         1
        ],
        [
         3,
         106,
         72,
         0,
         0,
         25.8,
         0.207,
         27,
         0
        ],
        [
         6,
         117,
         96,
         0,
         0,
         28.7,
         0.157,
         30,
         0
        ],
        [
         2,
         68,
         62,
         13,
         15,
         20.1,
         0.257,
         23,
         0
        ],
        [
         9,
         112,
         82,
         24,
         0,
         28.2,
         1.282,
         50,
         1
        ],
        [
         0,
         119,
         0,
         0,
         0,
         32.4,
         0.141,
         24,
         1
        ],
        [
         2,
         112,
         86,
         42,
         160,
         38.4,
         0.246,
         28,
         0
        ],
        [
         2,
         92,
         76,
         20,
         0,
         24.2,
         1.698,
         28,
         0
        ],
        [
         6,
         183,
         94,
         0,
         0,
         40.8,
         1.461,
         45,
         0
        ],
        [
         0,
         94,
         70,
         27,
         115,
         43.5,
         0.347,
         21,
         0
        ],
        [
         2,
         108,
         64,
         0,
         0,
         30.8,
         0.158,
         21,
         0
        ],
        [
         4,
         90,
         88,
         47,
         54,
         37.7,
         0.362,
         29,
         0
        ],
        [
         0,
         125,
         68,
         0,
         0,
         24.7,
         0.206,
         21,
         0
        ],
        [
         0,
         132,
         78,
         0,
         0,
         32.4,
         0.393,
         21,
         0
        ],
        [
         5,
         128,
         80,
         0,
         0,
         34.6,
         0.144,
         45,
         0
        ],
        [
         4,
         94,
         65,
         22,
         0,
         24.7,
         0.148,
         21,
         0
        ],
        [
         7,
         114,
         64,
         0,
         0,
         27.4,
         0.732,
         34,
         1
        ],
        [
         0,
         102,
         78,
         40,
         90,
         34.5,
         0.238,
         24,
         0
        ],
        [
         2,
         111,
         60,
         0,
         0,
         26.2,
         0.343,
         23,
         0
        ],
        [
         1,
         128,
         82,
         17,
         183,
         27.5,
         0.115,
         22,
         0
        ],
        [
         10,
         92,
         62,
         0,
         0,
         25.9,
         0.167,
         31,
         0
        ],
        [
         13,
         104,
         72,
         0,
         0,
         31.2,
         0.465,
         38,
         1
        ],
        [
         5,
         104,
         74,
         0,
         0,
         28.8,
         0.153,
         48,
         0
        ],
        [
         2,
         94,
         76,
         18,
         66,
         31.6,
         0.649,
         23,
         0
        ],
        [
         7,
         97,
         76,
         32,
         91,
         40.9,
         0.871,
         32,
         1
        ],
        [
         1,
         100,
         74,
         12,
         46,
         19.5,
         0.149,
         28,
         0
        ],
        [
         0,
         102,
         86,
         17,
         105,
         29.3,
         0.695,
         27,
         0
        ],
        [
         4,
         128,
         70,
         0,
         0,
         34.3,
         0.303,
         24,
         0
        ],
        [
         6,
         147,
         80,
         0,
         0,
         29.5,
         0.178,
         50,
         1
        ],
        [
         4,
         90,
         0,
         0,
         0,
         28.0,
         0.61,
         31,
         0
        ],
        [
         3,
         103,
         72,
         30,
         152,
         27.6,
         0.73,
         27,
         0
        ],
        [
         2,
         157,
         74,
         35,
         440,
         39.4,
         0.134,
         30,
         0
        ],
        [
         1,
         167,
         74,
         17,
         144,
         23.4,
         0.447,
         33,
         1
        ],
        [
         0,
         179,
         50,
         36,
         159,
         37.8,
         0.455,
         22,
         1
        ],
        [
         11,
         136,
         84,
         35,
         130,
         28.3,
         0.26,
         42,
         1
        ],
        [
         0,
         107,
         60,
         25,
         0,
         26.4,
         0.133,
         23,
         0
        ],
        [
         1,
         91,
         54,
         25,
         100,
         25.2,
         0.234,
         23,
         0
        ],
        [
         1,
         117,
         60,
         23,
         106,
         33.8,
         0.466,
         27,
         0
        ],
        [
         5,
         123,
         74,
         40,
         77,
         34.1,
         0.269,
         28,
         0
        ],
        [
         2,
         120,
         54,
         0,
         0,
         26.8,
         0.455,
         27,
         0
        ],
        [
         1,
         106,
         70,
         28,
         135,
         34.2,
         0.142,
         22,
         0
        ],
        [
         2,
         155,
         52,
         27,
         540,
         38.7,
         0.24,
         25,
         1
        ],
        [
         2,
         101,
         58,
         35,
         90,
         21.8,
         0.155,
         22,
         0
        ],
        [
         1,
         120,
         80,
         48,
         200,
         38.9,
         1.162,
         41,
         0
        ],
        [
         11,
         127,
         106,
         0,
         0,
         39.0,
         0.19,
         51,
         0
        ],
        [
         3,
         80,
         82,
         31,
         70,
         34.2,
         1.292,
         27,
         1
        ],
        [
         10,
         162,
         84,
         0,
         0,
         27.7,
         0.182,
         54,
         0
        ],
        [
         1,
         199,
         76,
         43,
         0,
         42.9,
         1.394,
         22,
         1
        ],
        [
         8,
         167,
         106,
         46,
         231,
         37.6,
         0.165,
         43,
         1
        ],
        [
         9,
         145,
         80,
         46,
         130,
         37.9,
         0.637,
         40,
         1
        ],
        [
         6,
         115,
         60,
         39,
         0,
         33.7,
         0.245,
         40,
         1
        ],
        [
         1,
         112,
         80,
         45,
         132,
         34.8,
         0.217,
         24,
         0
        ],
        [
         4,
         145,
         82,
         18,
         0,
         32.5,
         0.235,
         70,
         1
        ],
        [
         10,
         111,
         70,
         27,
         0,
         27.5,
         0.141,
         40,
         1
        ],
        [
         6,
         98,
         58,
         33,
         190,
         34.0,
         0.43,
         43,
         0
        ],
        [
         9,
         154,
         78,
         30,
         100,
         30.9,
         0.164,
         45,
         0
        ],
        [
         6,
         165,
         68,
         26,
         168,
         33.6,
         0.631,
         49,
         0
        ],
        [
         1,
         99,
         58,
         10,
         0,
         25.4,
         0.551,
         21,
         0
        ],
        [
         10,
         68,
         106,
         23,
         49,
         35.5,
         0.285,
         47,
         0
        ],
        [
         3,
         123,
         100,
         35,
         240,
         57.3,
         0.88,
         22,
         0
        ],
        [
         8,
         91,
         82,
         0,
         0,
         35.6,
         0.587,
         68,
         0
        ],
        [
         6,
         195,
         70,
         0,
         0,
         30.9,
         0.328,
         31,
         1
        ],
        [
         9,
         156,
         86,
         0,
         0,
         24.8,
         0.23,
         53,
         1
        ],
        [
         0,
         93,
         60,
         0,
         0,
         35.3,
         0.263,
         25,
         0
        ],
        [
         3,
         121,
         52,
         0,
         0,
         36.0,
         0.127,
         25,
         1
        ],
        [
         2,
         101,
         58,
         17,
         265,
         24.2,
         0.614,
         23,
         0
        ],
        [
         2,
         56,
         56,
         28,
         45,
         24.2,
         0.332,
         22,
         0
        ],
        [
         0,
         162,
         76,
         36,
         0,
         49.6,
         0.364,
         26,
         1
        ],
        [
         0,
         95,
         64,
         39,
         105,
         44.6,
         0.366,
         22,
         0
        ],
        [
         4,
         125,
         80,
         0,
         0,
         32.3,
         0.536,
         27,
         1
        ],
        [
         5,
         136,
         82,
         0,
         0,
         0.0,
         0.64,
         69,
         0
        ],
        [
         2,
         129,
         74,
         26,
         205,
         33.2,
         0.591,
         25,
         0
        ],
        [
         3,
         130,
         64,
         0,
         0,
         23.1,
         0.314,
         22,
         0
        ],
        [
         1,
         107,
         50,
         19,
         0,
         28.3,
         0.181,
         29,
         0
        ],
        [
         1,
         140,
         74,
         26,
         180,
         24.1,
         0.828,
         23,
         0
        ],
        [
         1,
         144,
         82,
         46,
         180,
         46.1,
         0.335,
         46,
         1
        ],
        [
         8,
         107,
         80,
         0,
         0,
         24.6,
         0.856,
         34,
         0
        ],
        [
         13,
         158,
         114,
         0,
         0,
         42.3,
         0.257,
         44,
         1
        ],
        [
         2,
         121,
         70,
         32,
         95,
         39.1,
         0.886,
         23,
         0
        ],
        [
         7,
         129,
         68,
         49,
         125,
         38.5,
         0.439,
         43,
         1
        ],
        [
         2,
         90,
         60,
         0,
         0,
         23.5,
         0.191,
         25,
         0
        ],
        [
         7,
         142,
         90,
         24,
         480,
         30.4,
         0.128,
         43,
         1
        ],
        [
         3,
         169,
         74,
         19,
         125,
         29.9,
         0.268,
         31,
         1
        ],
        [
         0,
         99,
         0,
         0,
         0,
         25.0,
         0.253,
         22,
         0
        ],
        [
         4,
         127,
         88,
         11,
         155,
         34.5,
         0.598,
         28,
         0
        ],
        [
         4,
         118,
         70,
         0,
         0,
         44.5,
         0.904,
         26,
         0
        ],
        [
         2,
         122,
         76,
         27,
         200,
         35.9,
         0.483,
         26,
         0
        ],
        [
         6,
         125,
         78,
         31,
         0,
         27.6,
         0.565,
         49,
         1
        ],
        [
         1,
         168,
         88,
         29,
         0,
         35.0,
         0.905,
         52,
         1
        ],
        [
         2,
         129,
         0,
         0,
         0,
         38.5,
         0.304,
         41,
         0
        ],
        [
         4,
         110,
         76,
         20,
         100,
         28.4,
         0.118,
         27,
         0
        ],
        [
         6,
         80,
         80,
         36,
         0,
         39.8,
         0.177,
         28,
         0
        ],
        [
         10,
         115,
         0,
         0,
         0,
         0.0,
         0.261,
         30,
         1
        ],
        [
         2,
         127,
         46,
         21,
         335,
         34.4,
         0.176,
         22,
         0
        ],
        [
         9,
         164,
         78,
         0,
         0,
         32.8,
         0.148,
         45,
         1
        ],
        [
         2,
         93,
         64,
         32,
         160,
         38.0,
         0.674,
         23,
         1
        ],
        [
         3,
         158,
         64,
         13,
         387,
         31.2,
         0.295,
         24,
         0
        ],
        [
         5,
         126,
         78,
         27,
         22,
         29.6,
         0.439,
         40,
         0
        ],
        [
         10,
         129,
         62,
         36,
         0,
         41.2,
         0.441,
         38,
         1
        ],
        [
         0,
         134,
         58,
         20,
         291,
         26.4,
         0.352,
         21,
         0
        ],
        [
         3,
         102,
         74,
         0,
         0,
         29.5,
         0.121,
         32,
         0
        ],
        [
         7,
         187,
         50,
         33,
         392,
         33.9,
         0.826,
         34,
         1
        ],
        [
         3,
         173,
         78,
         39,
         185,
         33.8,
         0.97,
         31,
         1
        ],
        [
         10,
         94,
         72,
         18,
         0,
         23.1,
         0.595,
         56,
         0
        ],
        [
         1,
         108,
         60,
         46,
         178,
         35.5,
         0.415,
         24,
         0
        ],
        [
         5,
         97,
         76,
         27,
         0,
         35.6,
         0.378,
         52,
         1
        ],
        [
         4,
         83,
         86,
         19,
         0,
         29.3,
         0.317,
         34,
         0
        ],
        [
         1,
         114,
         66,
         36,
         200,
         38.1,
         0.289,
         21,
         0
        ],
        [
         1,
         149,
         68,
         29,
         127,
         29.3,
         0.349,
         42,
         1
        ],
        [
         5,
         117,
         86,
         30,
         105,
         39.1,
         0.251,
         42,
         0
        ],
        [
         1,
         111,
         94,
         0,
         0,
         32.8,
         0.265,
         45,
         0
        ],
        [
         4,
         112,
         78,
         40,
         0,
         39.4,
         0.236,
         38,
         0
        ],
        [
         1,
         116,
         78,
         29,
         180,
         36.1,
         0.496,
         25,
         0
        ],
        [
         0,
         141,
         84,
         26,
         0,
         32.4,
         0.433,
         22,
         0
        ],
        [
         2,
         175,
         88,
         0,
         0,
         22.9,
         0.326,
         22,
         0
        ],
        [
         2,
         92,
         52,
         0,
         0,
         30.1,
         0.141,
         22,
         0
        ],
        [
         3,
         130,
         78,
         23,
         79,
         28.4,
         0.323,
         34,
         1
        ],
        [
         8,
         120,
         86,
         0,
         0,
         28.4,
         0.259,
         22,
         1
        ],
        [
         2,
         174,
         88,
         37,
         120,
         44.5,
         0.646,
         24,
         1
        ],
        [
         2,
         106,
         56,
         27,
         165,
         29.0,
         0.426,
         22,
         0
        ],
        [
         2,
         105,
         75,
         0,
         0,
         23.3,
         0.56,
         53,
         0
        ],
        [
         4,
         95,
         60,
         32,
         0,
         35.4,
         0.284,
         28,
         0
        ],
        [
         0,
         126,
         86,
         27,
         120,
         27.4,
         0.515,
         21,
         0
        ],
        [
         8,
         65,
         72,
         23,
         0,
         32.0,
         0.6,
         42,
         0
        ],
        [
         2,
         99,
         60,
         17,
         160,
         36.6,
         0.453,
         21,
         0
        ],
        [
         1,
         102,
         74,
         0,
         0,
         39.5,
         0.293,
         42,
         1
        ],
        [
         11,
         120,
         80,
         37,
         150,
         42.3,
         0.785,
         48,
         1
        ],
        [
         3,
         102,
         44,
         20,
         94,
         30.8,
         0.4,
         26,
         0
        ],
        [
         1,
         109,
         58,
         18,
         116,
         28.5,
         0.219,
         22,
         0
        ],
        [
         9,
         140,
         94,
         0,
         0,
         32.7,
         0.734,
         45,
         1
        ],
        [
         13,
         153,
         88,
         37,
         140,
         40.6,
         1.174,
         39,
         0
        ],
        [
         12,
         100,
         84,
         33,
         105,
         30.0,
         0.488,
         46,
         0
        ],
        [
         1,
         147,
         94,
         41,
         0,
         49.3,
         0.358,
         27,
         1
        ],
        [
         1,
         81,
         74,
         41,
         57,
         46.3,
         1.096,
         32,
         0
        ],
        [
         3,
         187,
         70,
         22,
         200,
         36.4,
         0.408,
         36,
         1
        ],
        [
         6,
         162,
         62,
         0,
         0,
         24.3,
         0.178,
         50,
         1
        ],
        [
         4,
         136,
         70,
         0,
         0,
         31.2,
         1.182,
         22,
         1
        ],
        [
         1,
         121,
         78,
         39,
         74,
         39.0,
         0.261,
         28,
         0
        ],
        [
         3,
         108,
         62,
         24,
         0,
         26.0,
         0.223,
         25,
         0
        ],
        [
         0,
         181,
         88,
         44,
         510,
         43.3,
         0.222,
         26,
         1
        ],
        [
         8,
         154,
         78,
         32,
         0,
         32.4,
         0.443,
         45,
         1
        ],
        [
         1,
         128,
         88,
         39,
         110,
         36.5,
         1.057,
         37,
         1
        ],
        [
         7,
         137,
         90,
         41,
         0,
         32.0,
         0.391,
         39,
         0
        ],
        [
         0,
         123,
         72,
         0,
         0,
         36.3,
         0.258,
         52,
         1
        ],
        [
         1,
         106,
         76,
         0,
         0,
         37.5,
         0.197,
         26,
         0
        ],
        [
         6,
         190,
         92,
         0,
         0,
         35.5,
         0.278,
         66,
         1
        ],
        [
         2,
         88,
         58,
         26,
         16,
         28.4,
         0.766,
         22,
         0
        ],
        [
         9,
         170,
         74,
         31,
         0,
         44.0,
         0.403,
         43,
         1
        ],
        [
         9,
         89,
         62,
         0,
         0,
         22.5,
         0.142,
         33,
         0
        ],
        [
         10,
         101,
         76,
         48,
         180,
         32.9,
         0.171,
         63,
         0
        ],
        [
         2,
         122,
         70,
         27,
         0,
         36.8,
         0.34,
         27,
         0
        ],
        [
         5,
         121,
         72,
         23,
         112,
         26.2,
         0.245,
         30,
         0
        ],
        [
         1,
         126,
         60,
         0,
         0,
         30.1,
         0.349,
         47,
         1
        ],
        [
         1,
         93,
         70,
         31,
         0,
         30.4,
         0.315,
         23,
         0
        ]
       ],
       "datasetInfos": [],
       "dbfsResultPath": null,
       "isJsonSchema": true,
       "metadata": {},
       "overflow": false,
       "plotOptions": {
        "customPlotOptions": {},
        "displayType": "table",
        "pivotAggregation": null,
        "pivotColumns": null,
        "xColumns": null,
        "yColumns": null
       },
       "removedWidgets": [],
       "schema": [
        {
         "metadata": "{}",
         "name": "Pregnancies",
         "type": "\"long\""
        },
        {
         "metadata": "{}",
         "name": "Glucose",
         "type": "\"long\""
        },
        {
         "metadata": "{}",
         "name": "BloodPressure",
         "type": "\"long\""
        },
        {
         "metadata": "{}",
         "name": "SkinThickness",
         "type": "\"long\""
        },
        {
         "metadata": "{}",
         "name": "Insulin",
         "type": "\"long\""
        },
        {
         "metadata": "{}",
         "name": "BMI",
         "type": "\"double\""
        },
        {
         "metadata": "{}",
         "name": "DiabetesPedigreeFunction",
         "type": "\"double\""
        },
        {
         "metadata": "{}",
         "name": "Age",
         "type": "\"long\""
        },
        {
         "metadata": "{}",
         "name": "Outcome",
         "type": "\"long\""
        }
       ],
       "type": "table"
      }
     },
     "output_type": "display_data"
    }
   ],
   "source": [
    "# Download the CSV file using requests\n",
    "response = requests.get(df_url)\n",
    "response.raise_for_status()  # Raise an exception for bad responses\n",
    "\n",
    "# Read the CSV data into a Pandas DataFrame\n",
    "diabetes = pd.read_csv(io.StringIO(response.text), sep=',')\n",
    "\n",
    "# Convert the Pandas DataFrame to a Spark DataFrame\n",
    "df = spark.createDataFrame(diabetes)\n",
    "\n",
    "display(df)"
   ]
  },
  {
   "cell_type": "markdown",
   "metadata": {
    "application/vnd.databricks.v1+cell": {
     "cellMetadata": {},
     "inputWidgets": {},
     "nuid": "1d4fe870-1cc2-4464-810e-84161b1a49b8",
     "showTitle": false,
     "title": ""
    },
    "papermill": {
     "duration": 0.035373,
     "end_time": "2022-08-26T14:24:47.945216",
     "exception": false,
     "start_time": "2022-08-26T14:24:47.909843",
     "status": "completed"
    },
    "tags": []
   },
   "source": [
    "\n",
    "# 5. Understanding Data"
   ]
  },
  {
   "cell_type": "markdown",
   "metadata": {
    "application/vnd.databricks.v1+cell": {
     "cellMetadata": {},
     "inputWidgets": {},
     "nuid": "ee9fa962-271c-4ee8-814b-c9f7df4b5f82",
     "showTitle": false,
     "title": ""
    },
    "papermill": {
     "duration": 0.0247,
     "end_time": "2022-08-26T14:24:47.995201",
     "exception": false,
     "start_time": "2022-08-26T14:24:47.970501",
     "status": "completed"
    },
    "tags": []
   },
   "source": [
    "Echemos un vistazo a las primeras diez filas del conjunto de datos con el método `show`."
   ]
  },
  {
   "cell_type": "code",
   "execution_count": 0,
   "metadata": {
    "application/vnd.databricks.v1+cell": {
     "cellMetadata": {
      "byteLimit": 2048000,
      "rowLimit": 10000
     },
     "inputWidgets": {},
     "nuid": "3a763922-7892-41c7-8f2a-0a5b09c2b3a6",
     "showTitle": false,
     "title": ""
    },
    "execution": {
     "iopub.execute_input": "2022-08-26T14:24:48.047126Z",
     "iopub.status.busy": "2022-08-26T14:24:48.046550Z",
     "iopub.status.idle": "2022-08-26T14:24:48.498873Z",
     "shell.execute_reply": "2022-08-26T14:24:48.497677Z"
    },
    "papermill": {
     "duration": 0.483282,
     "end_time": "2022-08-26T14:24:48.503328",
     "exception": false,
     "start_time": "2022-08-26T14:24:48.020046",
     "status": "completed"
    },
    "tags": []
   },
   "outputs": [
    {
     "output_type": "stream",
     "name": "stdout",
     "output_type": "stream",
     "text": [
      "+-----------+-------+-------------+-------------+-------+----+------------------------+---+-------+\n|Pregnancies|Glucose|BloodPressure|SkinThickness|Insulin| BMI|DiabetesPedigreeFunction|Age|Outcome|\n+-----------+-------+-------------+-------------+-------+----+------------------------+---+-------+\n|          6|    148|           72|           35|      0|33.6|                   0.627| 50|      1|\n|          1|     85|           66|           29|      0|26.6|                   0.351| 31|      0|\n|          8|    183|           64|            0|      0|23.3|                   0.672| 32|      1|\n|          1|     89|           66|           23|     94|28.1|                   0.167| 21|      0|\n|          0|    137|           40|           35|    168|43.1|                   2.288| 33|      1|\n|          5|    116|           74|            0|      0|25.6|                   0.201| 30|      0|\n|          3|     78|           50|           32|     88|31.0|                   0.248| 26|      1|\n|         10|    115|            0|            0|      0|35.3|                   0.134| 29|      0|\n|          2|    197|           70|           45|    543|30.5|                   0.158| 53|      1|\n|          8|    125|           96|            0|      0| 0.0|                   0.232| 54|      1|\n+-----------+-------+-------------+-------------+-------+----+------------------------+---+-------+\nonly showing top 10 rows\n\n"
     ]
    }
   ],
   "source": [
    "# looking at the first rows the dataset\n",
    "df.show(10)"
   ]
  },
  {
   "cell_type": "markdown",
   "metadata": {
    "application/vnd.databricks.v1+cell": {
     "cellMetadata": {},
     "inputWidgets": {},
     "nuid": "7064670d-ab10-4931-8a88-3d4636793095",
     "showTitle": false,
     "title": ""
    },
    "papermill": {
     "duration": 0.035962,
     "end_time": "2022-08-26T14:24:48.575295",
     "exception": false,
     "start_time": "2022-08-26T14:24:48.539333",
     "status": "completed"
    },
    "tags": []
   },
   "source": [
    "Puede imprimir los nombres de las columnas de su conjunto de datos con el método `columns`."
   ]
  },
  {
   "cell_type": "code",
   "execution_count": 0,
   "metadata": {
    "application/vnd.databricks.v1+cell": {
     "cellMetadata": {
      "byteLimit": 2048000,
      "rowLimit": 10000
     },
     "inputWidgets": {},
     "nuid": "303604e6-482e-48b7-859b-995b975c3a91",
     "showTitle": false,
     "title": ""
    },
    "execution": {
     "iopub.execute_input": "2022-08-26T14:24:48.647397Z",
     "iopub.status.busy": "2022-08-26T14:24:48.646787Z",
     "iopub.status.idle": "2022-08-26T14:24:48.696176Z",
     "shell.execute_reply": "2022-08-26T14:24:48.694580Z"
    },
    "papermill": {
     "duration": 0.08829,
     "end_time": "2022-08-26T14:24:48.699751",
     "exception": false,
     "start_time": "2022-08-26T14:24:48.611461",
     "status": "completed"
    },
    "tags": []
   },
   "outputs": [
    {
     "output_type": "stream",
     "name": "stdout",
     "output_type": "stream",
     "text": [
      "Out[7]: ['Pregnancies',\n 'Glucose',\n 'BloodPressure',\n 'SkinThickness',\n 'Insulin',\n 'BMI',\n 'DiabetesPedigreeFunction',\n 'Age',\n 'Outcome']"
     ]
    }
   ],
   "source": [
    "# Columns of dataframe\n",
    "df.columns"
   ]
  },
  {
   "cell_type": "markdown",
   "metadata": {
    "application/vnd.databricks.v1+cell": {
     "cellMetadata": {},
     "inputWidgets": {},
     "nuid": "d28c4334-ea7e-4408-8beb-b17c0cd7add9",
     "showTitle": false,
     "title": ""
    },
    "papermill": {
     "duration": 0.025756,
     "end_time": "2022-08-26T14:24:48.764101",
     "exception": false,
     "start_time": "2022-08-26T14:24:48.738345",
     "status": "completed"
    },
    "tags": []
   },
   "source": [
    "Puede utilizar el método `count` para obtener la cantidad total de registros en el DataFrame. El método `len` le permite ver la cantidad de columnas en el DataFrame. Echemos un vistazo a la forma de nuestro conjunto de datos con los métodos `count` y `len`."
   ]
  },
  {
   "cell_type": "code",
   "execution_count": 0,
   "metadata": {
    "application/vnd.databricks.v1+cell": {
     "cellMetadata": {
      "byteLimit": 2048000,
      "rowLimit": 10000
     },
     "inputWidgets": {},
     "nuid": "52b62df8-b943-4793-83cf-59ee2285af11",
     "showTitle": false,
     "title": ""
    },
    "execution": {
     "iopub.execute_input": "2022-08-26T14:24:48.815756Z",
     "iopub.status.busy": "2022-08-26T14:24:48.815359Z",
     "iopub.status.idle": "2022-08-26T14:24:49.725625Z",
     "shell.execute_reply": "2022-08-26T14:24:49.723995Z"
    },
    "papermill": {
     "duration": 0.942042,
     "end_time": "2022-08-26T14:24:49.731088",
     "exception": false,
     "start_time": "2022-08-26T14:24:48.789046",
     "status": "completed"
    },
    "tags": []
   },
   "outputs": [
    {
     "output_type": "stream",
     "name": "stdout",
     "output_type": "stream",
     "text": [
      "(768, 9)\n"
     ]
    }
   ],
   "source": [
    "# Shape of dataset\n",
    "print((df.count(),len(df.columns)))"
   ]
  },
  {
   "cell_type": "markdown",
   "metadata": {
    "application/vnd.databricks.v1+cell": {
     "cellMetadata": {},
     "inputWidgets": {},
     "nuid": "c92530fe-f06b-4a7b-8537-07405d02e50e",
     "showTitle": false,
     "title": ""
    },
    "papermill": {
     "duration": 0.038912,
     "end_time": "2022-08-26T14:24:49.831856",
     "exception": false,
     "start_time": "2022-08-26T14:24:49.792944",
     "status": "completed"
    },
    "tags": []
   },
   "source": [
    "Para obtener la información del esquema del conjunto de datos, puede utilizar el método `printSchema` que a menudo se utiliza para comprender datos con el método `show` en el análisis de datos."
   ]
  },
  {
   "cell_type": "code",
   "execution_count": 0,
   "metadata": {
    "application/vnd.databricks.v1+cell": {
     "cellMetadata": {
      "byteLimit": 2048000,
      "rowLimit": 10000
     },
     "inputWidgets": {},
     "nuid": "4128bca1-f725-4eb5-84f6-e3e13ade1377",
     "showTitle": false,
     "title": ""
    },
    "execution": {
     "iopub.execute_input": "2022-08-26T14:24:49.899571Z",
     "iopub.status.busy": "2022-08-26T14:24:49.898372Z",
     "iopub.status.idle": "2022-08-26T14:24:49.916868Z",
     "shell.execute_reply": "2022-08-26T14:24:49.914725Z"
    },
    "papermill": {
     "duration": 0.053792,
     "end_time": "2022-08-26T14:24:49.921191",
     "exception": false,
     "start_time": "2022-08-26T14:24:49.867399",
     "status": "completed"
    },
    "tags": []
   },
   "outputs": [
    {
     "output_type": "stream",
     "name": "stdout",
     "output_type": "stream",
     "text": [
      "root\n |-- Pregnancies: long (nullable = true)\n |-- Glucose: long (nullable = true)\n |-- BloodPressure: long (nullable = true)\n |-- SkinThickness: long (nullable = true)\n |-- Insulin: long (nullable = true)\n |-- BMI: double (nullable = true)\n |-- DiabetesPedigreeFunction: double (nullable = true)\n |-- Age: long (nullable = true)\n |-- Outcome: long (nullable = true)\n\n"
     ]
    }
   ],
   "source": [
    "# printSchema\n",
    "df.printSchema()"
   ]
  },
  {
   "cell_type": "markdown",
   "metadata": {
    "application/vnd.databricks.v1+cell": {
     "cellMetadata": {},
     "inputWidgets": {},
     "nuid": "2a8b496c-cbed-4837-b21f-e24782da34e3",
     "showTitle": false,
     "title": ""
    },
    "papermill": {
     "duration": 0.025131,
     "end_time": "2022-08-26T14:24:49.977950",
     "exception": false,
     "start_time": "2022-08-26T14:24:49.952819",
     "status": "completed"
    },
    "tags": []
   },
   "source": [
    "Puedes usar `describe().show()` para ver las estadísticas de descripción del conjunto de datos. Voy a usar el parámetro `truncate` para ver solo 8 caracteres."
   ]
  },
  {
   "cell_type": "code",
   "execution_count": 0,
   "metadata": {
    "application/vnd.databricks.v1+cell": {
     "cellMetadata": {
      "byteLimit": 2048000,
      "rowLimit": 10000
     },
     "inputWidgets": {},
     "nuid": "53bf39fb-2084-4f66-b03f-d141368bd189",
     "showTitle": false,
     "title": ""
    },
    "execution": {
     "iopub.execute_input": "2022-08-26T14:24:50.046224Z",
     "iopub.status.busy": "2022-08-26T14:24:50.044709Z",
     "iopub.status.idle": "2022-08-26T14:24:51.409211Z",
     "shell.execute_reply": "2022-08-26T14:24:51.407076Z"
    },
    "papermill": {
     "duration": 1.409838,
     "end_time": "2022-08-26T14:24:51.412944",
     "exception": false,
     "start_time": "2022-08-26T14:24:50.003106",
     "status": "completed"
    },
    "tags": []
   },
   "outputs": [
    {
     "output_type": "stream",
     "name": "stdout",
     "output_type": "stream",
     "text": [
      "+-------+-----------+--------+-------------+-------------+--------+--------+------------------------+--------+--------+\n|summary|Pregnancies| Glucose|BloodPressure|SkinThickness| Insulin|     BMI|DiabetesPedigreeFunction|     Age| Outcome|\n+-------+-----------+--------+-------------+-------------+--------+--------+------------------------+--------+--------+\n|  count|        768|     768|          768|          768|     768|     768|                     768|     768|     768|\n|   mean|   3.845...|120.8...|     69.10...|     20.53...|79.79...|31.99...|                0.471...|33.24...|0.348...|\n| stddev|   3.369...|31.97...|     19.35...|     15.95...|115.2...|7.884...|                0.331...|11.76...|0.476...|\n|    min|          0|       0|            0|            0|       0|     0.0|                   0.078|      21|       0|\n|    max|         17|     199|          122|           99|     846|    67.1|                    2.42|      81|       1|\n+-------+-----------+--------+-------------+-------------+--------+--------+------------------------+--------+--------+\n\n"
     ]
    }
   ],
   "source": [
    "# description statistics\n",
    "df.describe().show(truncate=8)"
   ]
  },
  {
   "cell_type": "markdown",
   "metadata": {
    "application/vnd.databricks.v1+cell": {
     "cellMetadata": {},
     "inputWidgets": {},
     "nuid": "46fcadd7-62fd-436f-bb3e-00cb2e3aa7c3",
     "showTitle": false,
     "title": ""
    },
    "papermill": {
     "duration": 0.03702,
     "end_time": "2022-08-26T14:24:51.487886",
     "exception": false,
     "start_time": "2022-08-26T14:24:51.450866",
     "status": "completed"
    },
    "tags": []
   },
   "source": [
    "\n",
    "# 6. Selecting Columns"
   ]
  },
  {
   "cell_type": "markdown",
   "metadata": {
    "application/vnd.databricks.v1+cell": {
     "cellMetadata": {},
     "inputWidgets": {},
     "nuid": "c45015b2-3a4e-44a9-9886-3fc5a1caf2b7",
     "showTitle": false,
     "title": ""
    },
    "papermill": {
     "duration": 0.03807,
     "end_time": "2022-08-26T14:24:51.566848",
     "exception": false,
     "start_time": "2022-08-26T14:24:51.528778",
     "status": "completed"
    },
    "tags": []
   },
   "source": [
    "Puede utilizar el método `select` para seleccionar columnas específicas. Tomemos las columnas Embarazos y Edad del conjunto de datos con el método `select`."
   ]
  },
  {
   "cell_type": "code",
   "execution_count": 0,
   "metadata": {
    "application/vnd.databricks.v1+cell": {
     "cellMetadata": {
      "byteLimit": 2048000,
      "rowLimit": 10000
     },
     "inputWidgets": {},
     "nuid": "c782fbbf-f15b-4573-b7ec-469bb61d94a3",
     "showTitle": false,
     "title": ""
    },
    "execution": {
     "iopub.execute_input": "2022-08-26T14:24:51.636003Z",
     "iopub.status.busy": "2022-08-26T14:24:51.635538Z",
     "iopub.status.idle": "2022-08-26T14:24:51.855441Z",
     "shell.execute_reply": "2022-08-26T14:24:51.853529Z"
    },
    "papermill": {
     "duration": 0.254685,
     "end_time": "2022-08-26T14:24:51.859334",
     "exception": false,
     "start_time": "2022-08-26T14:24:51.604649",
     "status": "completed"
    },
    "tags": []
   },
   "outputs": [
    {
     "output_type": "stream",
     "name": "stdout",
     "output_type": "stream",
     "text": [
      "+-----------+---+\n|Pregnancies|Age|\n+-----------+---+\n|          6| 50|\n|          1| 31|\n|          8| 32|\n|          1| 21|\n|          0| 33|\n|          5| 30|\n|          3| 26|\n|         10| 29|\n|          2| 53|\n|          8| 54|\n+-----------+---+\nonly showing top 10 rows\n\n"
     ]
    }
   ],
   "source": [
    "# Selecting\n",
    "df.select(\"Pregnancies\", \"Age\").show(10)"
   ]
  },
  {
   "cell_type": "markdown",
   "metadata": {
    "application/vnd.databricks.v1+cell": {
     "cellMetadata": {},
     "inputWidgets": {},
     "nuid": "12239f26-ffab-4752-9ae3-545504b8d115",
     "showTitle": false,
     "title": ""
    },
    "papermill": {
     "duration": 0.04306,
     "end_time": "2022-08-26T14:24:51.945724",
     "exception": false,
     "start_time": "2022-08-26T14:24:51.902664",
     "status": "completed"
    },
    "tags": []
   },
   "source": [
    "También puedes usar la función `col` en el módulo pyspark.sql.functions para seleccionar columnas. Te lo mostraré."
   ]
  },
  {
   "cell_type": "code",
   "execution_count": 0,
   "metadata": {
    "application/vnd.databricks.v1+cell": {
     "cellMetadata": {
      "byteLimit": 2048000,
      "rowLimit": 10000
     },
     "inputWidgets": {},
     "nuid": "d205fe37-9e16-4f4c-bb6f-7cf53aab3031",
     "showTitle": false,
     "title": ""
    },
    "execution": {
     "iopub.execute_input": "2022-08-26T14:24:52.030817Z",
     "iopub.status.busy": "2022-08-26T14:24:52.030281Z",
     "iopub.status.idle": "2022-08-26T14:24:52.199057Z",
     "shell.execute_reply": "2022-08-26T14:24:52.197130Z"
    },
    "papermill": {
     "duration": 0.213385,
     "end_time": "2022-08-26T14:24:52.202409",
     "exception": false,
     "start_time": "2022-08-26T14:24:51.989024",
     "status": "completed"
    },
    "tags": []
   },
   "outputs": [
    {
     "output_type": "stream",
     "name": "stdout",
     "output_type": "stream",
     "text": [
      "+-----------+---+\n|Pregnancies|Age|\n+-----------+---+\n|          6| 50|\n|          1| 31|\n|          8| 32|\n|          1| 21|\n|          0| 33|\n|          5| 30|\n|          3| 26|\n|         10| 29|\n|          2| 53|\n|          8| 54|\n+-----------+---+\nonly showing top 10 rows\n\n"
     ]
    }
   ],
   "source": [
    "# Selecting the col method\n",
    "import pyspark.sql.functions as F\n",
    "df.select(F.col(\"Pregnancies\"), F.col(\"Age\")).show(10)"
   ]
  },
  {
   "cell_type": "markdown",
   "metadata": {
    "application/vnd.databricks.v1+cell": {
     "cellMetadata": {},
     "inputWidgets": {},
     "nuid": "1f899815-4c50-4665-9e6c-20c9955b716b",
     "showTitle": false,
     "title": ""
    },
    "papermill": {
     "duration": 0.026326,
     "end_time": "2022-08-26T14:24:52.259365",
     "exception": false,
     "start_time": "2022-08-26T14:24:52.233039",
     "status": "completed"
    },
    "tags": []
   },
   "source": [
    "\n",
    "# 7. Data Filtering"
   ]
  },
  {
   "cell_type": "markdown",
   "metadata": {
    "application/vnd.databricks.v1+cell": {
     "cellMetadata": {},
     "inputWidgets": {},
     "nuid": "7f9a4a9e-59e6-4b48-85a8-33aa35c42205",
     "showTitle": false,
     "title": ""
    },
    "papermill": {
     "duration": 0.026202,
     "end_time": "2022-08-26T14:24:52.312185",
     "exception": false,
     "start_time": "2022-08-26T14:24:52.285983",
     "status": "completed"
    },
    "tags": []
   },
   "source": [
    "Para limpiar el conjunto de datos y conservar solo los registros que desee, puede filtrar los registros en función de las condiciones. Hay dos métodos para filtrar datos: `filter()` y `where()`. Filtremos los datos en los que el valor de la columna de edad sea inferior a 40 con el método `filter`."
   ]
  },
  {
   "cell_type": "code",
   "execution_count": 0,
   "metadata": {
    "application/vnd.databricks.v1+cell": {
     "cellMetadata": {
      "byteLimit": 2048000,
      "rowLimit": 10000
     },
     "inputWidgets": {},
     "nuid": "6cc20a09-0b52-4a20-bea4-8b1ab075ecba",
     "showTitle": false,
     "title": ""
    },
    "execution": {
     "iopub.execute_input": "2022-08-26T14:24:52.367193Z",
     "iopub.status.busy": "2022-08-26T14:24:52.366307Z",
     "iopub.status.idle": "2022-08-26T14:24:52.685816Z",
     "shell.execute_reply": "2022-08-26T14:24:52.684183Z"
    },
    "papermill": {
     "duration": 0.350514,
     "end_time": "2022-08-26T14:24:52.689331",
     "exception": false,
     "start_time": "2022-08-26T14:24:52.338817",
     "status": "completed"
    },
    "tags": []
   },
   "outputs": [
    {
     "output_type": "stream",
     "name": "stdout",
     "output_type": "stream",
     "text": [
      "+-----------+-------+-------------+-------------+-------+----+------------------------+---+-------+\n|Pregnancies|Glucose|BloodPressure|SkinThickness|Insulin| BMI|DiabetesPedigreeFunction|Age|Outcome|\n+-----------+-------+-------------+-------------+-------+----+------------------------+---+-------+\n|          1|     85|           66|           29|      0|26.6|                   0.351| 31|      0|\n|          8|    183|           64|            0|      0|23.3|                   0.672| 32|      1|\n|          1|     89|           66|           23|     94|28.1|                   0.167| 21|      0|\n|          0|    137|           40|           35|    168|43.1|                   2.288| 33|      1|\n|          5|    116|           74|            0|      0|25.6|                   0.201| 30|      0|\n|          3|     78|           50|           32|     88|31.0|                   0.248| 26|      1|\n|         10|    115|            0|            0|      0|35.3|                   0.134| 29|      0|\n|          4|    110|           92|            0|      0|37.6|                   0.191| 30|      0|\n|         10|    168|           74|            0|      0|38.0|                   0.537| 34|      1|\n|          7|    100|            0|            0|      0|30.0|                   0.484| 32|      1|\n+-----------+-------+-------------+-------------+-------+----+------------------------+---+-------+\nonly showing top 10 rows\n\n"
     ]
    }
   ],
   "source": [
    "# Filtering\n",
    "df.filter(df['Age'] < 40).show(10)"
   ]
  },
  {
   "cell_type": "markdown",
   "metadata": {
    "application/vnd.databricks.v1+cell": {
     "cellMetadata": {},
     "inputWidgets": {},
     "nuid": "9fddef0d-1ca8-4b17-941f-20421c806981",
     "showTitle": false,
     "title": ""
    },
    "papermill": {
     "duration": 0.037994,
     "end_time": "2022-08-26T14:24:52.763844",
     "exception": false,
     "start_time": "2022-08-26T14:24:52.725850",
     "status": "completed"
    },
    "tags": []
   },
   "source": [
    "Puede realizar un filtrado adicional utilizando el método \"seleccionar\" para ver solo columnas específicas."
   ]
  },
  {
   "cell_type": "code",
   "execution_count": 0,
   "metadata": {
    "application/vnd.databricks.v1+cell": {
     "cellMetadata": {
      "byteLimit": 2048000,
      "rowLimit": 10000
     },
     "inputWidgets": {},
     "nuid": "b149175b-ced7-425f-aa6a-2826aa24bd46",
     "showTitle": false,
     "title": ""
    },
    "execution": {
     "iopub.execute_input": "2022-08-26T14:24:52.846081Z",
     "iopub.status.busy": "2022-08-26T14:24:52.844819Z",
     "iopub.status.idle": "2022-08-26T14:24:53.073775Z",
     "shell.execute_reply": "2022-08-26T14:24:53.072529Z"
    },
    "papermill": {
     "duration": 0.274535,
     "end_time": "2022-08-26T14:24:53.077721",
     "exception": false,
     "start_time": "2022-08-26T14:24:52.803186",
     "status": "completed"
    },
    "tags": []
   },
   "outputs": [
    {
     "output_type": "stream",
     "name": "stdout",
     "output_type": "stream",
     "text": [
      "+-------+-------+\n|Insulin|Outcome|\n+-------+-------+\n|      0|      0|\n|      0|      1|\n|     94|      0|\n|    168|      1|\n|      0|      0|\n|     88|      1|\n|      0|      0|\n|      0|      0|\n|      0|      1|\n|      0|      1|\n+-------+-------+\nonly showing top 10 rows\n\n"
     ]
    }
   ],
   "source": [
    "# Filtering for two columns\n",
    "df.filter(df['age'] < 40).select('Insulin','Outcome').show(10)"
   ]
  },
  {
   "cell_type": "markdown",
   "metadata": {
    "application/vnd.databricks.v1+cell": {
     "cellMetadata": {},
     "inputWidgets": {},
     "nuid": "1f9537f8-2d2a-4edb-8b40-e0198c22197e",
     "showTitle": false,
     "title": ""
    },
    "papermill": {
     "duration": 0.03734,
     "end_time": "2022-08-26T14:24:53.156541",
     "exception": false,
     "start_time": "2022-08-26T14:24:53.119201",
     "status": "completed"
    },
    "tags": []
   },
   "source": [
    "También puedes aplicar filtros a los registros según las condiciones. Buscamos registros con más de 60 años y personas que solo están enfermas."
   ]
  },
  {
   "cell_type": "code",
   "execution_count": 0,
   "metadata": {
    "application/vnd.databricks.v1+cell": {
     "cellMetadata": {
      "byteLimit": 2048000,
      "rowLimit": 10000
     },
     "inputWidgets": {},
     "nuid": "91398df4-f026-4842-8833-b01910fb81fd",
     "showTitle": false,
     "title": ""
    },
    "execution": {
     "iopub.execute_input": "2022-08-26T14:24:53.232982Z",
     "iopub.status.busy": "2022-08-26T14:24:53.232218Z",
     "iopub.status.idle": "2022-08-26T14:24:53.461538Z",
     "shell.execute_reply": "2022-08-26T14:24:53.459779Z"
    },
    "papermill": {
     "duration": 0.270871,
     "end_time": "2022-08-26T14:24:53.465065",
     "exception": false,
     "start_time": "2022-08-26T14:24:53.194194",
     "status": "completed"
    },
    "tags": []
   },
   "outputs": [
    {
     "output_type": "stream",
     "name": "stdout",
     "output_type": "stream",
     "text": [
      "+-----------+-------+-------------+-------------+-------+----+------------------------+---+-------+\n|Pregnancies|Glucose|BloodPressure|SkinThickness|Insulin| BMI|DiabetesPedigreeFunction|Age|Outcome|\n+-----------+-------+-------------+-------------+-------+----+------------------------+---+-------+\n|          4|    146|           92|            0|      0|31.2|                   0.539| 61|      1|\n|          0|    105|           84|            0|      0|27.9|                   0.741| 62|      1|\n|          2|    158|           90|            0|      0|31.6|                   0.805| 66|      1|\n|          4|    146|           78|            0|      0|38.5|                    0.52| 67|      1|\n|          2|    197|           70|           99|      0|34.7|                   0.575| 62|      1|\n|          4|    145|           82|           18|      0|32.5|                   0.235| 70|      1|\n|          6|    190|           92|            0|      0|35.5|                   0.278| 66|      1|\n+-----------+-------+-------------+-------------+-------+----+------------------------+---+-------+\n\n"
     ]
    }
   ],
   "source": [
    "# Filtering with multiple conditions\n",
    "df.filter(df['age'] > 60).filter(df['Outcome'] == '1').show(10)"
   ]
  },
  {
   "cell_type": "markdown",
   "metadata": {
    "application/vnd.databricks.v1+cell": {
     "cellMetadata": {},
     "inputWidgets": {},
     "nuid": "bd145502-a844-4bc2-b4aa-0fc664064ac2",
     "showTitle": false,
     "title": ""
    },
    "papermill": {
     "duration": 0.030645,
     "end_time": "2022-08-26T14:24:53.524754",
     "exception": false,
     "start_time": "2022-08-26T14:24:53.494109",
     "status": "completed"
    },
    "tags": []
   },
   "source": [
    "Puede utilizar operadores como el signo `&` y `|` para aplicar múltiples condiciones de filtro. Filtremos a las personas que están enfermas y tienen 10 o más embarazos utilizando &."
   ]
  },
  {
   "cell_type": "code",
   "execution_count": 0,
   "metadata": {
    "application/vnd.databricks.v1+cell": {
     "cellMetadata": {
      "byteLimit": 2048000,
      "rowLimit": 10000
     },
     "inputWidgets": {},
     "nuid": "6c6d997f-3fd4-4409-911d-ca0fb3b33f4a",
     "showTitle": false,
     "title": ""
    },
    "execution": {
     "iopub.execute_input": "2022-08-26T14:24:53.582882Z",
     "iopub.status.busy": "2022-08-26T14:24:53.582427Z",
     "iopub.status.idle": "2022-08-26T14:24:53.768595Z",
     "shell.execute_reply": "2022-08-26T14:24:53.767397Z"
    },
    "papermill": {
     "duration": 0.218936,
     "end_time": "2022-08-26T14:24:53.771705",
     "exception": false,
     "start_time": "2022-08-26T14:24:53.552769",
     "status": "completed"
    },
    "tags": []
   },
   "outputs": [
    {
     "output_type": "stream",
     "name": "stdout",
     "output_type": "stream",
     "text": [
      "+-----------+-------+-------------+-------------+-------+----+------------------------+---+-------+\n|Pregnancies|Glucose|BloodPressure|SkinThickness|Insulin| BMI|DiabetesPedigreeFunction|Age|Outcome|\n+-----------+-------+-------------+-------------+-------+----+------------------------+---+-------+\n|         10|    168|           74|            0|      0|38.0|                   0.537| 34|      1|\n|          9|    119|           80|           35|      0|29.0|                   0.263| 29|      1|\n|         11|    143|           94|           33|    146|36.6|                   0.254| 51|      1|\n|         10|    125|           70|           26|    115|31.1|                   0.205| 41|      1|\n|          9|    102|           76|           37|      0|32.9|                   0.665| 46|      1|\n|          9|    171|          110|           24|    240|45.4|                   0.721| 54|      1|\n|         13|    126|           90|            0|      0|43.4|                   0.583| 42|      1|\n|         15|    136|           70|           32|    110|37.1|                   0.153| 43|      1|\n|          9|    122|           56|            0|      0|33.3|                   1.114| 33|      1|\n|         10|    108|           66|            0|      0|32.4|                   0.272| 42|      1|\n+-----------+-------+-------------+-------------+-------+----+------------------------+---+-------+\nonly showing top 10 rows\n\n"
     ]
    }
   ],
   "source": [
    "# Filtering with multiple conditions\n",
    "df.filter((df['Outcome']==1) & (df['Pregnancies'] >=9)).show(10)"
   ]
  },
  {
   "cell_type": "markdown",
   "metadata": {
    "application/vnd.databricks.v1+cell": {
     "cellMetadata": {},
     "inputWidgets": {},
     "nuid": "56259493-54d5-4f9b-92dc-dd68d2d9d41c",
     "showTitle": false,
     "title": ""
    },
    "papermill": {
     "duration": 0.026882,
     "end_time": "2022-08-26T14:24:53.837205",
     "exception": false,
     "start_time": "2022-08-26T14:24:53.810323",
     "status": "completed"
    },
    "tags": []
   },
   "source": [
    "Para encontrar un recuento de la cantidad de registros después del filtrado, puede utilizar el método 'count'."
   ]
  },
  {
   "cell_type": "code",
   "execution_count": 0,
   "metadata": {
    "application/vnd.databricks.v1+cell": {
     "cellMetadata": {
      "byteLimit": 2048000,
      "rowLimit": 10000
     },
     "inputWidgets": {},
     "nuid": "16cd22fe-b369-4240-a39a-4d8456838ab5",
     "showTitle": false,
     "title": ""
    },
    "execution": {
     "iopub.execute_input": "2022-08-26T14:24:53.891207Z",
     "iopub.status.busy": "2022-08-26T14:24:53.890738Z",
     "iopub.status.idle": "2022-08-26T14:24:54.118949Z",
     "shell.execute_reply": "2022-08-26T14:24:54.117646Z"
    },
    "papermill": {
     "duration": 0.258655,
     "end_time": "2022-08-26T14:24:54.122196",
     "exception": false,
     "start_time": "2022-08-26T14:24:53.863541",
     "status": "completed"
    },
    "tags": []
   },
   "outputs": [
    {
     "output_type": "stream",
     "name": "stdout",
     "output_type": "stream",
     "text": [
      "Out[17]: 194"
     ]
    }
   ],
   "source": [
    "# Counting after filtering\n",
    "df.filter(df['age']>40).count()"
   ]
  },
  {
   "cell_type": "markdown",
   "metadata": {
    "application/vnd.databricks.v1+cell": {
     "cellMetadata": {},
     "inputWidgets": {},
     "nuid": "ecc7c714-69f6-4a36-a464-bbc10667c1e1",
     "showTitle": false,
     "title": ""
    },
    "papermill": {
     "duration": 0.039074,
     "end_time": "2022-08-26T14:24:54.201304",
     "exception": false,
     "start_time": "2022-08-26T14:24:54.162230",
     "status": "completed"
    },
    "tags": []
   },
   "source": [
    "Puedes filtrar datos con el método `where` como con el método `filter`. Te lo mostraré."
   ]
  },
  {
   "cell_type": "code",
   "execution_count": 0,
   "metadata": {
    "application/vnd.databricks.v1+cell": {
     "cellMetadata": {
      "byteLimit": 2048000,
      "rowLimit": 10000
     },
     "inputWidgets": {},
     "nuid": "a3c01faa-11eb-4e42-9807-56fefe2e2a60",
     "showTitle": false,
     "title": ""
    },
    "execution": {
     "iopub.execute_input": "2022-08-26T14:24:54.280756Z",
     "iopub.status.busy": "2022-08-26T14:24:54.279258Z",
     "iopub.status.idle": "2022-08-26T14:24:54.470923Z",
     "shell.execute_reply": "2022-08-26T14:24:54.469713Z"
    },
    "papermill": {
     "duration": 0.233341,
     "end_time": "2022-08-26T14:24:54.474250",
     "exception": false,
     "start_time": "2022-08-26T14:24:54.240909",
     "status": "completed"
    },
    "tags": []
   },
   "outputs": [
    {
     "output_type": "stream",
     "name": "stdout",
     "output_type": "stream",
     "text": [
      "+-----------+-------+-------------+-------------+-------+----+------------------------+---+-------+\n|Pregnancies|Glucose|BloodPressure|SkinThickness|Insulin| BMI|DiabetesPedigreeFunction|Age|Outcome|\n+-----------+-------+-------------+-------------+-------+----+------------------------+---+-------+\n|         10|    168|           74|            0|      0|38.0|                   0.537| 34|      1|\n|          9|    119|           80|           35|      0|29.0|                   0.263| 29|      1|\n|         11|    143|           94|           33|    146|36.6|                   0.254| 51|      1|\n|         10|    125|           70|           26|    115|31.1|                   0.205| 41|      1|\n|          9|    102|           76|           37|      0|32.9|                   0.665| 46|      1|\n|          9|    171|          110|           24|    240|45.4|                   0.721| 54|      1|\n|         13|    126|           90|            0|      0|43.4|                   0.583| 42|      1|\n|         15|    136|           70|           32|    110|37.1|                   0.153| 43|      1|\n|          9|    122|           56|            0|      0|33.3|                   1.114| 33|      1|\n|         10|    108|           66|            0|      0|32.4|                   0.272| 42|      1|\n+-----------+-------+-------------+-------------+-------+----+------------------------+---+-------+\nonly showing top 10 rows\n\n"
     ]
    }
   ],
   "source": [
    "# Filtering with the where method\n",
    "df.where((df['Outcome']==1) & (df['Pregnancies'] >=9)).show(10)"
   ]
  },
  {
   "cell_type": "markdown",
   "metadata": {
    "application/vnd.databricks.v1+cell": {
     "cellMetadata": {},
     "inputWidgets": {},
     "nuid": "a7e0d29b-9861-4c2f-b7a4-f3abf9b0d0bf",
     "showTitle": false,
     "title": ""
    },
    "papermill": {
     "duration": 0.039461,
     "end_time": "2022-08-26T14:24:54.554259",
     "exception": false,
     "start_time": "2022-08-26T14:24:54.514798",
     "status": "completed"
    },
    "tags": []
   },
   "source": [
    "También puedes utilizar el método `where` junto con el método `count`."
   ]
  },
  {
   "cell_type": "code",
   "execution_count": 0,
   "metadata": {
    "application/vnd.databricks.v1+cell": {
     "cellMetadata": {
      "byteLimit": 2048000,
      "rowLimit": 10000
     },
     "inputWidgets": {},
     "nuid": "5c49d028-5630-43b8-b739-c86fd533c091",
     "showTitle": false,
     "title": ""
    },
    "execution": {
     "iopub.execute_input": "2022-08-26T14:24:54.613120Z",
     "iopub.status.busy": "2022-08-26T14:24:54.612093Z",
     "iopub.status.idle": "2022-08-26T14:24:54.805542Z",
     "shell.execute_reply": "2022-08-26T14:24:54.804250Z"
    },
    "papermill": {
     "duration": 0.226306,
     "end_time": "2022-08-26T14:24:54.808548",
     "exception": false,
     "start_time": "2022-08-26T14:24:54.582242",
     "status": "completed"
    },
    "tags": []
   },
   "outputs": [
    {
     "output_type": "stream",
     "name": "stdout",
     "output_type": "stream",
     "text": [
      "Out[19]: 194"
     ]
    }
   ],
   "source": [
    "# Filtering the where method\n",
    "df.where(df['age']>40).count()"
   ]
  },
  {
   "cell_type": "markdown",
   "metadata": {
    "application/vnd.databricks.v1+cell": {
     "cellMetadata": {},
     "inputWidgets": {},
     "nuid": "56fea889-d461-4005-91b3-2fda6cb2a1c4",
     "showTitle": false,
     "title": ""
    },
    "papermill": {
     "duration": 0.028365,
     "end_time": "2022-08-26T14:24:54.867939",
     "exception": false,
     "start_time": "2022-08-26T14:24:54.839574",
     "status": "completed"
    },
    "tags": []
   },
   "source": [
    "\n",
    "# 8. Adding New Columns"
   ]
  },
  {
   "cell_type": "markdown",
   "metadata": {
    "application/vnd.databricks.v1+cell": {
     "cellMetadata": {},
     "inputWidgets": {},
     "nuid": "caf59ec1-5db7-439e-b345-899c2f37fbd2",
     "showTitle": false,
     "title": ""
    },
    "papermill": {
     "duration": 0.028093,
     "end_time": "2022-08-26T14:24:54.924573",
     "exception": false,
     "start_time": "2022-08-26T14:24:54.896480",
     "status": "completed"
    },
    "tags": []
   },
   "source": [
    "Puede utilizar el método `withColumn` para agregar una nueva columna. Vamos a crear una nueva columna utilizando la columna de edad. Para ello, voy a añadir los valores de edad a diez valores."
   ]
  },
  {
   "cell_type": "code",
   "execution_count": 0,
   "metadata": {
    "application/vnd.databricks.v1+cell": {
     "cellMetadata": {
      "byteLimit": 2048000,
      "rowLimit": 10000
     },
     "inputWidgets": {},
     "nuid": "9d1da98d-61a2-468a-921d-de23d53cae69",
     "showTitle": false,
     "title": ""
    },
    "execution": {
     "iopub.execute_input": "2022-08-26T14:24:54.981564Z",
     "iopub.status.busy": "2022-08-26T14:24:54.981126Z",
     "iopub.status.idle": "2022-08-26T14:24:55.216690Z",
     "shell.execute_reply": "2022-08-26T14:24:55.215491Z"
    },
    "papermill": {
     "duration": 0.268198,
     "end_time": "2022-08-26T14:24:55.220349",
     "exception": false,
     "start_time": "2022-08-26T14:24:54.952151",
     "status": "completed"
    },
    "tags": []
   },
   "outputs": [
    {
     "output_type": "stream",
     "name": "stdout",
     "output_type": "stream",
     "text": [
      "+-----------+-------+-------------+-------------+-------+----+------------------------+---+-------+-------+\n|Pregnancies|Glucose|BloodPressure|SkinThickness|Insulin| BMI|DiabetesPedigreeFunction|Age|Outcome|New_Age|\n+-----------+-------+-------------+-------------+-------+----+------------------------+---+-------+-------+\n|          6|    148|           72|           35|      0|33.6|                   0.627| 50|      1|     60|\n|          1|     85|           66|           29|      0|26.6|                   0.351| 31|      0|     41|\n|          8|    183|           64|            0|      0|23.3|                   0.672| 32|      1|     42|\n|          1|     89|           66|           23|     94|28.1|                   0.167| 21|      0|     31|\n|          0|    137|           40|           35|    168|43.1|                   2.288| 33|      1|     43|\n|          5|    116|           74|            0|      0|25.6|                   0.201| 30|      0|     40|\n|          3|     78|           50|           32|     88|31.0|                   0.248| 26|      1|     36|\n|         10|    115|            0|            0|      0|35.3|                   0.134| 29|      0|     39|\n|          2|    197|           70|           45|    543|30.5|                   0.158| 53|      1|     63|\n|          8|    125|           96|            0|      0| 0.0|                   0.232| 54|      1|     64|\n+-----------+-------+-------------+-------------+-------+----+------------------------+---+-------+-------+\nonly showing top 10 rows\n\n"
     ]
    }
   ],
   "source": [
    "# Creating a new column\n",
    "df.withColumn('New_Age',df['age']+10).show(10)"
   ]
  },
  {
   "cell_type": "markdown",
   "metadata": {
    "application/vnd.databricks.v1+cell": {
     "cellMetadata": {},
     "inputWidgets": {},
     "nuid": "676ecb2f-a556-4e0d-82e3-21338192cdf8",
     "showTitle": false,
     "title": ""
    },
    "papermill": {
     "duration": 0.036194,
     "end_time": "2022-08-26T14:24:55.298146",
     "exception": false,
     "start_time": "2022-08-26T14:24:55.261952",
     "status": "completed"
    },
    "tags": []
   },
   "source": [
    "\n",
    "# 9. Grouping Data"
   ]
  },
  {
   "cell_type": "markdown",
   "metadata": {
    "application/vnd.databricks.v1+cell": {
     "cellMetadata": {},
     "inputWidgets": {},
     "nuid": "1d4e8e79-fb32-4da7-a41d-c28ed0c4b568",
     "showTitle": false,
     "title": ""
    },
    "papermill": {
     "duration": 0.039193,
     "end_time": "2022-08-26T14:24:55.377764",
     "exception": false,
     "start_time": "2022-08-26T14:24:55.338571",
     "status": "completed"
    },
    "tags": []
   },
   "source": [
    "Cuando trabajamos con grandes cantidades de datos, a menudo utilizamos el método `groupBy` para resumir los datos. Después de agrupar los datos, puede aplicar una función de agregación a cada uno de ellos. Echemos un vistazo a la suma de cada valor categórico de la columna de resultados."
   ]
  },
  {
   "cell_type": "code",
   "execution_count": 0,
   "metadata": {
    "application/vnd.databricks.v1+cell": {
     "cellMetadata": {
      "byteLimit": 2048000,
      "rowLimit": 10000
     },
     "inputWidgets": {},
     "nuid": "780829f6-7500-43c9-a143-36984e46fff2",
     "showTitle": false,
     "title": ""
    },
    "execution": {
     "iopub.execute_input": "2022-08-26T14:24:55.459821Z",
     "iopub.status.busy": "2022-08-26T14:24:55.459323Z",
     "iopub.status.idle": "2022-08-26T14:24:56.082388Z",
     "shell.execute_reply": "2022-08-26T14:24:56.080228Z"
    },
    "papermill": {
     "duration": 0.669833,
     "end_time": "2022-08-26T14:24:56.087267",
     "exception": false,
     "start_time": "2022-08-26T14:24:55.417434",
     "status": "completed"
    },
    "tags": []
   },
   "outputs": [
    {
     "output_type": "stream",
     "name": "stdout",
     "output_type": "stream",
     "text": [
      "+-------+-----+\n|Outcome|count|\n+-------+-----+\n|      0|  500|\n|      1|  268|\n+-------+-----+\n\n"
     ]
    }
   ],
   "source": [
    "# Grouping data\n",
    "df.groupBy('Outcome').count().show()"
   ]
  },
  {
   "cell_type": "markdown",
   "metadata": {
    "application/vnd.databricks.v1+cell": {
     "cellMetadata": {},
     "inputWidgets": {},
     "nuid": "70be072c-3c08-4da3-b127-45566134e2ff",
     "showTitle": false,
     "title": ""
    },
    "papermill": {
     "duration": 0.040536,
     "end_time": "2022-08-26T14:24:56.168261",
     "exception": false,
     "start_time": "2022-08-26T14:24:56.127725",
     "status": "completed"
    },
    "tags": []
   },
   "source": [
    "También puede utilizar los métodos `distinct` y `count` para buscar valores distintos en una columna. Echemos un vistazo a los valores de distrito en la columna Embarazos."
   ]
  },
  {
   "cell_type": "code",
   "execution_count": 0,
   "metadata": {
    "application/vnd.databricks.v1+cell": {
     "cellMetadata": {
      "byteLimit": 2048000,
      "rowLimit": 10000
     },
     "inputWidgets": {},
     "nuid": "d17e044e-8cd3-4661-b586-4ac4b10aae4f",
     "showTitle": false,
     "title": ""
    },
    "execution": {
     "iopub.execute_input": "2022-08-26T14:24:56.251086Z",
     "iopub.status.busy": "2022-08-26T14:24:56.250417Z",
     "iopub.status.idle": "2022-08-26T14:24:56.610757Z",
     "shell.execute_reply": "2022-08-26T14:24:56.609561Z"
    },
    "papermill": {
     "duration": 0.405159,
     "end_time": "2022-08-26T14:24:56.614230",
     "exception": false,
     "start_time": "2022-08-26T14:24:56.209071",
     "status": "completed"
    },
    "tags": []
   },
   "outputs": [
    {
     "output_type": "stream",
     "name": "stdout",
     "output_type": "stream",
     "text": [
      "Out[22]: 17"
     ]
    }
   ],
   "source": [
    "# Finding distinct values\n",
    "df.select('Pregnancies').distinct().count()"
   ]
  },
  {
   "cell_type": "markdown",
   "metadata": {
    "application/vnd.databricks.v1+cell": {
     "cellMetadata": {},
     "inputWidgets": {},
     "nuid": "da8dfcd4-4c5b-4cc2-9fd5-6c3896b1d24a",
     "showTitle": false,
     "title": ""
    },
    "papermill": {
     "duration": 0.038343,
     "end_time": "2022-08-26T14:24:56.692494",
     "exception": false,
     "start_time": "2022-08-26T14:24:56.654151",
     "status": "completed"
    },
    "tags": []
   },
   "source": [
    "Puede utilizar otras funciones agregadas, como suma, media o mínima. Busquemos la media de la edad después de agrupar la columna de resultados. Tenga en cuenta que se utiliza el método \"alias\" para nombrar la nueva columna."
   ]
  },
  {
   "cell_type": "code",
   "execution_count": 0,
   "metadata": {
    "application/vnd.databricks.v1+cell": {
     "cellMetadata": {
      "byteLimit": 2048000,
      "rowLimit": 10000
     },
     "inputWidgets": {},
     "nuid": "d6c542f3-0f29-46d6-8b99-b6bd32452962",
     "showTitle": false,
     "title": ""
    },
    "execution": {
     "iopub.execute_input": "2022-08-26T14:24:56.769788Z",
     "iopub.status.busy": "2022-08-26T14:24:56.769395Z",
     "iopub.status.idle": "2022-08-26T14:24:57.084430Z",
     "shell.execute_reply": "2022-08-26T14:24:57.082977Z"
    },
    "papermill": {
     "duration": 0.356133,
     "end_time": "2022-08-26T14:24:57.087120",
     "exception": false,
     "start_time": "2022-08-26T14:24:56.730987",
     "status": "completed"
    },
    "tags": []
   },
   "outputs": [
    {
     "output_type": "stream",
     "name": "stdout",
     "output_type": "stream",
     "text": [
      "+-------+-----------------+\n|Outcome|         age_mean|\n+-------+-----------------+\n|      0|            31.19|\n|      1|37.06716417910448|\n+-------+-----------------+\n\n"
     ]
    }
   ],
   "source": [
    "# Applying the aggregate functions\n",
    "df.groupBy('Outcome').agg(F.mean(\"age\").alias(\"age_mean\")).show(10)"
   ]
  },
  {
   "cell_type": "markdown",
   "metadata": {
    "application/vnd.databricks.v1+cell": {
     "cellMetadata": {},
     "inputWidgets": {},
     "nuid": "59291ecc-2d05-43f2-9d68-c37a8389796e",
     "showTitle": false,
     "title": ""
    },
    "papermill": {
     "duration": 0.026896,
     "end_time": "2022-08-26T14:24:57.140993",
     "exception": false,
     "start_time": "2022-08-26T14:24:57.114097",
     "status": "completed"
    },
    "tags": []
   },
   "source": [
    "\n",
    "# 10. Applying User-Defined Functions"
   ]
  },
  {
   "cell_type": "markdown",
   "metadata": {
    "application/vnd.databricks.v1+cell": {
     "cellMetadata": {},
     "inputWidgets": {},
     "nuid": "e0cf08e3-49f8-4fa0-a85b-914f02a67e22",
     "showTitle": false,
     "title": ""
    },
    "papermill": {
     "duration": 0.026408,
     "end_time": "2022-08-26T14:24:57.194208",
     "exception": false,
     "start_time": "2022-08-26T14:24:57.167800",
     "status": "completed"
    },
    "tags": []
   },
   "source": [
    "También puede aplicar su propia función a los datos agrupados con UDF (funciones definidas por el usuario) en el módulo pyspark.sql.functions. Para demostrarlo, primero crearemos una función denominada diabetes."
   ]
  },
  {
   "cell_type": "code",
   "execution_count": 0,
   "metadata": {
    "application/vnd.databricks.v1+cell": {
     "cellMetadata": {
      "byteLimit": 2048000,
      "rowLimit": 10000
     },
     "inputWidgets": {},
     "nuid": "1bf275b7-3093-4ff0-82c2-3d5b5a1ecf21",
     "showTitle": false,
     "title": ""
    },
    "execution": {
     "iopub.execute_input": "2022-08-26T14:24:57.248800Z",
     "iopub.status.busy": "2022-08-26T14:24:57.248296Z",
     "iopub.status.idle": "2022-08-26T14:24:57.254280Z",
     "shell.execute_reply": "2022-08-26T14:24:57.253058Z"
    },
    "papermill": {
     "duration": 0.036013,
     "end_time": "2022-08-26T14:24:57.256576",
     "exception": false,
     "start_time": "2022-08-26T14:24:57.220563",
     "status": "completed"
    },
    "tags": []
   },
   "outputs": [],
   "source": [
    "# Creating a function\n",
    "def diabete(case):\n",
    "    if case == 1 :\n",
    "        return \"diabete\"\n",
    "    else:\n",
    "        return 'no diabete'"
   ]
  },
  {
   "cell_type": "markdown",
   "metadata": {
    "application/vnd.databricks.v1+cell": {
     "cellMetadata": {},
     "inputWidgets": {},
     "nuid": "194c3fb8-d4a1-4fb3-a843-398986de37fa",
     "showTitle": false,
     "title": ""
    },
    "papermill": {
     "duration": 0.026382,
     "end_time": "2022-08-26T14:24:57.309506",
     "exception": false,
     "start_time": "2022-08-26T14:24:57.283124",
     "status": "completed"
    },
    "tags": []
   },
   "source": [
    "Ahora, declaremos la UDF y su tipo de retorno (StringType en este ejemplo). Después de eso, usaré withColumn para crear una nueva columna y luego pasaré la columna Dataframe relevante (Resultado):"
   ]
  },
  {
   "cell_type": "code",
   "execution_count": 0,
   "metadata": {
    "application/vnd.databricks.v1+cell": {
     "cellMetadata": {
      "byteLimit": 2048000,
      "rowLimit": 10000
     },
     "inputWidgets": {},
     "nuid": "18902bd3-b1cb-4417-a5ef-01420cb95d7d",
     "showTitle": false,
     "title": ""
    },
    "execution": {
     "iopub.execute_input": "2022-08-26T14:24:57.364997Z",
     "iopub.status.busy": "2022-08-26T14:24:57.364587Z",
     "iopub.status.idle": "2022-08-26T14:24:58.638900Z",
     "shell.execute_reply": "2022-08-26T14:24:58.637591Z"
    },
    "papermill": {
     "duration": 1.306384,
     "end_time": "2022-08-26T14:24:58.642676",
     "exception": false,
     "start_time": "2022-08-26T14:24:57.336292",
     "status": "completed"
    },
    "tags": []
   },
   "outputs": [
    {
     "output_type": "stream",
     "name": "stdout",
     "output_type": "stream",
     "text": [
      "+-----------+-------+-------------+-------------+-------+----+------------------------+---+-------+------------+\n|Pregnancies|Glucose|BloodPressure|SkinThickness|Insulin| BMI|DiabetesPedigreeFunction|Age|Outcome|diabete_case|\n+-----------+-------+-------------+-------------+-------+----+------------------------+---+-------+------------+\n|          6|    148|           72|           35|      0|33.6|                   0.627| 50|      1|     diabete|\n|          1|     85|           66|           29|      0|26.6|                   0.351| 31|      0|  no diabete|\n|          8|    183|           64|            0|      0|23.3|                   0.672| 32|      1|     diabete|\n|          1|     89|           66|           23|     94|28.1|                   0.167| 21|      0|  no diabete|\n|          0|    137|           40|           35|    168|43.1|                   2.288| 33|      1|     diabete|\n|          5|    116|           74|            0|      0|25.6|                   0.201| 30|      0|  no diabete|\n|          3|     78|           50|           32|     88|31.0|                   0.248| 26|      1|     diabete|\n|         10|    115|            0|            0|      0|35.3|                   0.134| 29|      0|  no diabete|\n|          2|    197|           70|           45|    543|30.5|                   0.158| 53|      1|     diabete|\n|          8|    125|           96|            0|      0| 0.0|                   0.232| 54|      1|     diabete|\n+-----------+-------+-------------+-------------+-------+----+------------------------+---+-------+------------+\nonly showing top 10 rows\n\n"
     ]
    }
   ],
   "source": [
    "# Applying your own function\n",
    "from pyspark.sql.types import *\n",
    "diabete_udf = F.udf(diabete, StringType())\n",
    "df.withColumn('diabete_case', diabete_udf(df['Outcome'])).show(10)"
   ]
  },
  {
   "cell_type": "markdown",
   "metadata": {
    "application/vnd.databricks.v1+cell": {
     "cellMetadata": {},
     "inputWidgets": {},
     "nuid": "a5199c44-30f7-4ef0-a723-50c75ad37bd1",
     "showTitle": false,
     "title": ""
    },
    "papermill": {
     "duration": 0.026725,
     "end_time": "2022-08-26T14:24:58.708757",
     "exception": false,
     "start_time": "2022-08-26T14:24:58.682032",
     "status": "completed"
    },
    "tags": []
   },
   "source": [
    "\n",
    "# 11. Deleting Data"
   ]
  },
  {
   "cell_type": "markdown",
   "metadata": {
    "application/vnd.databricks.v1+cell": {
     "cellMetadata": {},
     "inputWidgets": {},
     "nuid": "9866874c-eaf4-49c8-8fa8-0ca9d196399d",
     "showTitle": false,
     "title": ""
    },
    "papermill": {
     "duration": 0.026316,
     "end_time": "2022-08-26T14:24:58.761901",
     "exception": false,
     "start_time": "2022-08-26T14:24:58.735585",
     "status": "completed"
    },
    "tags": []
   },
   "source": [
    "Para eliminar una o varias columnas, puede utilizar el método `drop` en PySpark. Eliminemos la columna `Insulin` con el método `drop`."
   ]
  },
  {
   "cell_type": "code",
   "execution_count": 0,
   "metadata": {
    "application/vnd.databricks.v1+cell": {
     "cellMetadata": {
      "byteLimit": 2048000,
      "rowLimit": 10000
     },
     "inputWidgets": {},
     "nuid": "66cc54b7-44a7-4f6d-93ad-4b47d58877bb",
     "showTitle": false,
     "title": ""
    },
    "execution": {
     "iopub.execute_input": "2022-08-26T14:24:58.817242Z",
     "iopub.status.busy": "2022-08-26T14:24:58.816821Z",
     "iopub.status.idle": "2022-08-26T14:24:59.062415Z",
     "shell.execute_reply": "2022-08-26T14:24:59.060895Z"
    },
    "papermill": {
     "duration": 0.277103,
     "end_time": "2022-08-26T14:24:59.065844",
     "exception": false,
     "start_time": "2022-08-26T14:24:58.788741",
     "status": "completed"
    },
    "tags": []
   },
   "outputs": [
    {
     "output_type": "stream",
     "name": "stdout",
     "output_type": "stream",
     "text": [
      "+-----------+-------+-------------+-------------+----+------------------------+---+-------+\n|Pregnancies|Glucose|BloodPressure|SkinThickness| BMI|DiabetesPedigreeFunction|Age|Outcome|\n+-----------+-------+-------------+-------------+----+------------------------+---+-------+\n|          6|    148|           72|           35|33.6|                   0.627| 50|      1|\n|          1|     85|           66|           29|26.6|                   0.351| 31|      0|\n|          8|    183|           64|            0|23.3|                   0.672| 32|      1|\n|          1|     89|           66|           23|28.1|                   0.167| 21|      0|\n|          0|    137|           40|           35|43.1|                   2.288| 33|      1|\n|          5|    116|           74|            0|25.6|                   0.201| 30|      0|\n|          3|     78|           50|           32|31.0|                   0.248| 26|      1|\n|         10|    115|            0|            0|35.3|                   0.134| 29|      0|\n|          2|    197|           70|           45|30.5|                   0.158| 53|      1|\n|          8|    125|           96|            0| 0.0|                   0.232| 54|      1|\n+-----------+-------+-------------+-------------+----+------------------------+---+-------+\nonly showing top 10 rows\n\n"
     ]
    }
   ],
   "source": [
    "# Deleting a column\n",
    "df.drop('Insulin').show(10)"
   ]
  },
  {
   "cell_type": "markdown",
   "metadata": {
    "application/vnd.databricks.v1+cell": {
     "cellMetadata": {},
     "inputWidgets": {},
     "nuid": "c496e91c-1c9b-49c2-b3fe-dcc9bcf61666",
     "showTitle": false,
     "title": ""
    },
    "papermill": {
     "duration": 0.041495,
     "end_time": "2022-08-26T14:24:59.165637",
     "exception": false,
     "start_time": "2022-08-26T14:24:59.124142",
     "status": "completed"
    },
    "tags": []
   },
   "source": [
    "Para eliminar los registros duplicados del Dataframe, puede utilizar el método `dropDuplicates`."
   ]
  },
  {
   "cell_type": "code",
   "execution_count": 0,
   "metadata": {
    "application/vnd.databricks.v1+cell": {
     "cellMetadata": {
      "byteLimit": 2048000,
      "rowLimit": 10000
     },
     "inputWidgets": {},
     "nuid": "ae6ea209-ac7c-4181-b846-a1a5e9663509",
     "showTitle": false,
     "title": ""
    },
    "execution": {
     "iopub.execute_input": "2022-08-26T14:24:59.239692Z",
     "iopub.status.busy": "2022-08-26T14:24:59.239089Z",
     "iopub.status.idle": "2022-08-26T14:24:59.799445Z",
     "shell.execute_reply": "2022-08-26T14:24:59.797176Z"
    },
    "papermill": {
     "duration": 0.598688,
     "end_time": "2022-08-26T14:24:59.803895",
     "exception": false,
     "start_time": "2022-08-26T14:24:59.205207",
     "status": "completed"
    },
    "tags": []
   },
   "outputs": [
    {
     "output_type": "stream",
     "name": "stdout",
     "output_type": "stream",
     "text": [
      "The number of records:  768\nThe number of records after removing the duplicate :  768\n"
     ]
    }
   ],
   "source": [
    "# Deleting the duplicate records\n",
    "print(\"The number of records: \", df.count())\n",
    "df=df.dropDuplicates()\n",
    "print(\"The number of records after removing the duplicate : \", df.count())"
   ]
  },
  {
   "cell_type": "markdown",
   "metadata": {
    "application/vnd.databricks.v1+cell": {
     "cellMetadata": {},
     "inputWidgets": {},
     "nuid": "0f7eec2d-0918-4563-bed4-6af72e94f525",
     "showTitle": false,
     "title": ""
    },
    "papermill": {
     "duration": 0.04146,
     "end_time": "2022-08-26T14:24:59.889564",
     "exception": false,
     "start_time": "2022-08-26T14:24:59.848104",
     "status": "completed"
    },
    "tags": []
   },
   "source": [
    "Como puede ver, no hay registros duplicados en el conjunto de datos."
   ]
  },
  {
   "cell_type": "markdown",
   "metadata": {
    "application/vnd.databricks.v1+cell": {
     "cellMetadata": {},
     "inputWidgets": {},
     "nuid": "dfb8fcb1-56aa-4a0e-bbc3-8abc8d419109",
     "showTitle": false,
     "title": ""
    },
    "papermill": {
     "duration": 0.038861,
     "end_time": "2022-08-26T14:24:59.972278",
     "exception": false,
     "start_time": "2022-08-26T14:24:59.933417",
     "status": "completed"
    },
    "tags": []
   },
   "source": [
    "\n",
    "# 12. Writing Data"
   ]
  },
  {
   "cell_type": "markdown",
   "metadata": {
    "application/vnd.databricks.v1+cell": {
     "cellMetadata": {},
     "inputWidgets": {},
     "nuid": "7d2b8b46-a990-441c-8a36-d0cd05aebfa7",
     "showTitle": false,
     "title": ""
    },
    "papermill": {
     "duration": 0.038146,
     "end_time": "2022-08-26T14:25:00.051708",
     "exception": false,
     "start_time": "2022-08-26T14:25:00.013562",
     "status": "completed"
    },
    "tags": []
   },
   "source": [
    "Después de realizar la manipulación de datos, a menudo querrás exportar los resultados. Puedes escribir el Dataframe limpio en la ubicación deseada en el formato requerido con el método `write`.\n",
    "\n",
    "Escribamos nuestros resultados en archivos CSV."
   ]
  },
  {
   "cell_type": "code",
   "execution_count": 0,
   "metadata": {
    "application/vnd.databricks.v1+cell": {
     "cellMetadata": {
      "byteLimit": 2048000,
      "rowLimit": 10000
     },
     "inputWidgets": {},
     "nuid": "966d19ac-d6c5-4292-ad78-34744dd38597",
     "showTitle": false,
     "title": ""
    }
   },
   "outputs": [],
   "source": [
    "# Guardar el DataFrame como CSV\n",
    "df.write.format(\"csv\").option(\"header\", \"true\").save(\"./Curso PySpark/prueba\")\n"
   ]
  },
  {
   "cell_type": "code",
   "execution_count": 0,
   "metadata": {
    "application/vnd.databricks.v1+cell": {
     "cellMetadata": {
      "byteLimit": 2048000,
      "rowLimit": 10000
     },
     "inputWidgets": {},
     "nuid": "e48d2ab2-7d16-4db7-bec9-f52e6873ac7c",
     "showTitle": false,
     "title": ""
    },
    "execution": {
     "iopub.execute_input": "2022-08-26T14:25:00.108827Z",
     "iopub.status.busy": "2022-08-26T14:25:00.108260Z",
     "iopub.status.idle": "2022-08-26T14:25:01.000880Z",
     "shell.execute_reply": "2022-08-26T14:25:00.999563Z"
    },
    "papermill": {
     "duration": 0.925514,
     "end_time": "2022-08-26T14:25:01.004761",
     "exception": false,
     "start_time": "2022-08-26T14:25:00.079247",
     "status": "completed"
    },
    "tags": []
   },
   "outputs": [],
   "source": [
    "# Exporting data\n",
    "df.write.csv(\"./data/my_dataset.csv\")"
   ]
  }
 ],
 "metadata": {
  "application/vnd.databricks.v1+notebook": {
   "dashboards": [],
   "environmentMetadata": null,
   "language": "python",
   "notebookMetadata": {
    "pythonIndentUnit": 4
   },
   "notebookName": "Manipulación de Datos con pyspark",
   "widgets": {}
  },
  "kernelspec": {
   "display_name": "Python 3",
   "language": "python",
   "name": "python3"
  },
  "language_info": {
   "codemirror_mode": {
    "name": "ipython",
    "version": 3
   },
   "file_extension": ".py",
   "mimetype": "text/x-python",
   "name": "python",
   "nbconvert_exporter": "python",
   "pygments_lexer": "ipython3",
   "version": "3.7.12"
  },
  "papermill": {
   "default_parameters": {},
   "duration": 91.504364,
   "end_time": "2022-08-26T14:25:04.785113",
   "environment_variables": {},
   "exception": null,
   "input_path": "__notebook__.ipynb",
   "output_path": "__notebook__.ipynb",
   "parameters": {},
   "start_time": "2022-08-26T14:23:33.280749",
   "version": "2.3.4"
  }
 },
 "nbformat": 4,
 "nbformat_minor": 0
}
