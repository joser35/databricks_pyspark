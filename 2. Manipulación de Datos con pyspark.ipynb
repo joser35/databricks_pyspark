{
 "cells": [
  {
   "cell_type": "markdown",
   "metadata": {
    "application/vnd.databricks.v1+cell": {
     "cellMetadata": {},
     "inputWidgets": {},
     "nuid": "5114b320-3605-4c52-ac50-57d704451b31",
     "showTitle": false,
     "title": ""
    },
    "papermill": {
     "duration": 0.016306,
     "end_time": "2022-08-26T14:23:42.392249",
     "exception": false,
     "start_time": "2022-08-26T14:23:42.375943",
     "status": "completed"
    },
    "tags": []
   },
   "source": [
    "# Manipulación de Datos con `PySpark`"
   ]
  },
  {
   "cell_type": "markdown",
   "metadata": {
    "application/vnd.databricks.v1+cell": {
     "cellMetadata": {},
     "inputWidgets": {},
     "nuid": "6f545224-9010-4673-a0e2-ac3d3d3d29f6",
     "showTitle": false,
     "title": ""
    },
    "papermill": {
     "duration": 0.014821,
     "end_time": "2022-08-26T14:23:42.452150",
     "exception": false,
     "start_time": "2022-08-26T14:23:42.437329",
     "status": "completed"
    },
    "tags": []
   },
   "source": [
    "\n",
    "# Contenido\n",
    "---\n",
    "**1.**  [**Introducción**](#Step1)<br>\n",
    "**2.**  [**Operaciones**](#Step2)<br>\n",
    "**3.**  [**Creating SparkSession**](#Step3)<br>\n",
    "**4.**  [**Reading Data**](#Step4)<br>\n",
    "**5.**  [**Understanding Data**](#Step5)<br>\n",
    "**6.**  [**Selecting Columns**](#Step6)<br>\n",
    "**7.**  [**Data Filtering**](#Step7)<br>\n",
    "**8.**  [**Adding New Columns**](#Step8)<br>\n",
    "**9.**  [**Grouping Data**](#Step9)<br>\n",
    "**10.**  [**Applying User-Defined Functions**](#Step10)<br>\n",
    "**11.**  [**Deleting Data**](#Step11)<br>\n",
    "**12.** [**Writing Data**](#Step12)<br>"
   ]
  },
  {
   "cell_type": "markdown",
   "metadata": {
    "application/vnd.databricks.v1+cell": {
     "cellMetadata": {},
     "inputWidgets": {},
     "nuid": "6d71fb08-d710-4ad5-9ccd-f2f882f9d824",
     "showTitle": false,
     "title": ""
    },
    "papermill": {
     "duration": 0.015716,
     "end_time": "2022-08-26T14:23:42.481923",
     "exception": false,
     "start_time": "2022-08-26T14:23:42.466207",
     "status": "completed"
    },
    "tags": []
   },
   "source": [
    "# 1. Introducción\n",
    "\n",
    "La manipulación de datos es un proceso fundamental en el ámbito de la ciencia de datos y el análisis de datos. Consiste en la `transformación, limpieza, reorganización o modificación de conjuntos de datos` con el objetivo de prepararlos para su análisis, visualización o modelado. \n",
    "\n",
    "### Importancia de la manipulación de datos:\n",
    "\n",
    "1. **Preparación de datos**:\n",
    "   - Antes de poder realizar un análisis significativo, es crucial preparar los datos de manera adecuada, lo que implica limpiarlos, transformarlos y estructurarlos de manera que sean aptos para el análisis.\n",
    "\n",
    "2. **Calidad de los datos**:\n",
    "   - La calidad de los datos influye directamente en la calidad de los resultados obtenidos. La manipulación de datos incluye la identificación y corrección de errores, valores atípicos, datos faltantes y otros problemas que puedan afectar la integridad de los datos.\n",
    "\n",
    "3. **Toma de decisiones informadas**:\n",
    "   - Una manipulación efectiva de los datos proporciona una base sólida para la toma de decisiones informadas. Los datos limpios y bien estructurados permiten extraer información significativa y generar conocimientos útiles.\n",
    "\n",
    "### Procesos comunes de manipulación de datos:\n",
    "\n",
    "1. **Limpieza de datos**:\n",
    "   - Esto implica identificar y corregir errores en los datos, eliminar duplicados, tratar valores faltantes y valores atípicos, y asegurarse de que los datos estén en el formato correcto.\n",
    "\n",
    "2. **Transformación de datos**:\n",
    "   - Incluye convertir datos a un formato adecuado, realizar cálculos, aplicar funciones matemáticas o estadísticas, normalizar datos y crear nuevas variables derivadas.\n",
    "\n",
    "3. **Filtrado y selección de datos**:\n",
    "   - Consiste en seleccionar columnas o filas específicas, filtrar datos basados en condiciones específicas y eliminar datos irrelevantes para el análisis.\n",
    "\n",
    "4. **Agregación y agrupación de datos**:\n",
    "   - Implica combinar datos en grupos, calcular estadísticas resumidas como sumas, promedios, máximos, mínimos, contar valores, etc., dentro de esos grupos.\n",
    "\n",
    "5. **Unión y combinación de datos**:\n",
    "   - Permite combinar múltiples conjuntos de datos en uno solo, ya sea mediante uniones por columnas comunes o a través de concatenación.\n",
    "\n",
    "### Herramientas para la manipulación de datos:\n",
    "\n",
    "- **Lenguajes de programación** como Python, R, SQL, que ofrecen bibliotecas y funciones especializadas para la manipulación de datos.\n",
    "- **Bibliotecas y herramientas** como pandas, NumPy, dplyr, SQL, PySpark, que facilitan operaciones específicas de manipulación de datos.\n",
    "- **Herramientas de visualización de datos** que pueden ayudar a comprender mejor los datos durante el proceso de manipulación.\n",
    "\n",
    "En resumen, la manipulación de datos es una etapa crítica en el proceso de análisis de datos que implica limpiar, transformar y preparar los datos para su posterior análisis, visualización y modelado. Una manipulación efectiva de los datos es esencial para garantizar la calidad y la integridad de los resultados obtenidos a partir de ellos."
   ]
  },
  {
   "cell_type": "markdown",
   "metadata": {
    "application/vnd.databricks.v1+cell": {
     "cellMetadata": {},
     "inputWidgets": {},
     "nuid": "54769113-ea83-41fa-95c2-013a18a6e372",
     "showTitle": false,
     "title": ""
    }
   },
   "source": [
    "# 2. Operaciones con Pyspark\n",
    "\n",
    "La manipulación de datos con `PySpark` es una parte fundamental del análisis de datos a gran escala en entornos distribuidos. `PySpark` proporciona una interfaz de alto nivel para trabajar con conjuntos de datos distribuidos a través de la API `DataFrame`, que permite manipular datos de manera eficiente y escalable. A continuación, se presentan algunas de las operaciones comunes de manipulación de datos que se pueden realizar con PySpark:\n",
    "\n",
    "### Lectura y escritura de datos:\n",
    "- PySpark permite leer y escribir datos desde y hacia una variedad de fuentes de datos como archivos CSV, JSON, Parquet, bases de datos, etc., utilizando métodos como `spark.read.format()` y `df.write.format()`.\n",
    "\n",
    "### Selección y filtrado de datos:\n",
    "- Puedes seleccionar columnas específicas de un DataFrame utilizando `df.select()` o filtrar filas basadas en una condición utilizando `df.filter()` o `df.where()`.\n",
    "\n",
    "### Agregaciones y agrupaciones:\n",
    "- PySpark permite realizar operaciones de agregación como `groupby()`, `agg()` para realizar cálculos estadísticos en grupos de datos, y funciones de agregación como `sum()`, `mean()`, `max()`, `min()`.\n",
    "\n",
    "### Creación y modificación de columnas:\n",
    "- Puedes añadir, renombrar o eliminar columnas en un DataFrame utilizando métodos como `withColumn()`, `withColumnRenamed()`, `drop()`, y también aplicar transformaciones a columnas existentes.\n",
    "\n",
    "### Unión de DataFrames:\n",
    "- PySpark permite unir DataFrames utilizando diferentes tipos de uniones como `join()`, `union()`, `intersect()`, `subtract()`, etc., para combinar datos de múltiples fuentes.\n",
    "\n",
    "### Operaciones de ventana:\n",
    "- Puedes realizar operaciones de ventana como `rank()`, `lead()`, `lag()`, `row_number()` para realizar cálculos en grupos de filas en un DataFrame.\n",
    "\n",
    "### Manejo de valores nulos:\n",
    "- PySpark proporciona funciones para manejar valores nulos como `fillna()`, `dropna()`, `na.drop()`, `na.fill()` para limpiar los datos antes de realizar análisis.\n",
    "\n",
    "\n",
    "La manipulación de datos en `PySpark` es una parte esencial del flujo de trabajo de análisis de datos a gran escala, permitiendo realizar transformaciones complejas y operaciones estadísticas en conjuntos de datos distribuidos de manera eficiente."
   ]
  },
  {
   "cell_type": "markdown",
   "metadata": {
    "application/vnd.databricks.v1+cell": {
     "cellMetadata": {},
     "inputWidgets": {},
     "nuid": "b8ff7e19-a829-4a5d-ad6d-ad7c55fb54c2",
     "showTitle": false,
     "title": ""
    },
    "papermill": {
     "duration": 0.024052,
     "end_time": "2022-08-26T14:24:34.387498",
     "exception": false,
     "start_time": "2022-08-26T14:24:34.363446",
     "status": "completed"
    },
    "tags": []
   },
   "source": [
    "\n",
    "# 3. Creating SparkSession\n"
   ]
  },
  {
   "cell_type": "markdown",
   "metadata": {
    "application/vnd.databricks.v1+cell": {
     "cellMetadata": {},
     "inputWidgets": {},
     "nuid": "65a90909-4e79-4700-b957-81aec2a6704b",
     "showTitle": false,
     "title": ""
    },
    "papermill": {
     "duration": 0.023789,
     "end_time": "2022-08-26T14:24:34.435478",
     "exception": false,
     "start_time": "2022-08-26T14:24:34.411689",
     "status": "completed"
    },
    "tags": []
   },
   "source": [
    "Para trabajar con `PySpark`, primero debes crear `SparkSession`. `SparkSession` es un punto de entrada a la funcionalidad de `PySpark`.\n",
    "\n",
    "Cargamos las librerias que vamos a usar, para luego crear nuestro `SparkSession`"
   ]
  },
  {
   "cell_type": "code",
   "execution_count": 0,
   "metadata": {
    "application/vnd.databricks.v1+cell": {
     "cellMetadata": {
      "byteLimit": 2048000,
      "rowLimit": 10000
     },
     "inputWidgets": {},
     "nuid": "2fdadc7f-1481-4da8-b365-c6f5ede9f128",
     "showTitle": false,
     "title": ""
    },
    "execution": {
     "iopub.execute_input": "2022-08-26T14:24:34.487356Z",
     "iopub.status.busy": "2022-08-26T14:24:34.486306Z",
     "iopub.status.idle": "2022-08-26T14:24:40.291776Z",
     "shell.execute_reply": "2022-08-26T14:24:40.290494Z"
    },
    "papermill": {
     "duration": 5.835552,
     "end_time": "2022-08-26T14:24:40.295087",
     "exception": false,
     "start_time": "2022-08-26T14:24:34.459535",
     "status": "completed"
    },
    "tags": []
   },
   "outputs": [],
   "source": [
    "from pyspark.sql import SparkSession\n",
    "import requests\n",
    "import pandas as pd\n",
    "import io\n",
    "import warnings\n",
    "warnings.filterwarnings(\"ignore\")\n"
   ]
  },
  {
   "cell_type": "code",
   "execution_count": 0,
   "metadata": {
    "application/vnd.databricks.v1+cell": {
     "cellMetadata": {
      "byteLimit": 2048000,
      "rowLimit": 10000
     },
     "inputWidgets": {},
     "nuid": "e84b63ac-d3de-43aa-8a75-fd374b67f8a8",
     "showTitle": false,
     "title": ""
    }
   },
   "outputs": [],
   "source": [
    "# Creating spar session object\n",
    "spark = SparkSession.builder.appName('manipulacion_data').getOrCreate()"
   ]
  },
  {
   "cell_type": "markdown",
   "metadata": {
    "application/vnd.databricks.v1+cell": {
     "cellMetadata": {},
     "inputWidgets": {},
     "nuid": "bc035611-4ebb-46b2-9bbb-9b4ee53e7db8",
     "showTitle": false,
     "title": ""
    },
    "papermill": {
     "duration": 0.024203,
     "end_time": "2022-08-26T14:24:40.344078",
     "exception": false,
     "start_time": "2022-08-26T14:24:40.319875",
     "status": "completed"
    },
    "tags": []
   },
   "source": [
    "\n",
    "# 4. Reading Data\n"
   ]
  },
  {
   "cell_type": "markdown",
   "metadata": {
    "application/vnd.databricks.v1+cell": {
     "cellMetadata": {},
     "inputWidgets": {},
     "nuid": "8fd6fad5-e4eb-425d-9bab-ceb056458d67",
     "showTitle": false,
     "title": ""
    },
    "papermill": {
     "duration": 0.024121,
     "end_time": "2022-08-26T14:24:40.392536",
     "exception": false,
     "start_time": "2022-08-26T14:24:40.368415",
     "status": "completed"
    },
    "tags": []
   },
   "source": [
    "`PySpark` ofrece dos estructuras principales para almacenar datos al realizar manipulaciones: el RDD y el DataFrame. Puedes pensar en el RDD como una colección distribuida de objetos (o filas). Puedes pensar en el DataFrame como si fuera una tabla. Leamos nuestro conjunto de datos como DataFrame."
   ]
  },
  {
   "cell_type": "code",
   "execution_count": 0,
   "metadata": {
    "application/vnd.databricks.v1+cell": {
     "cellMetadata": {
      "byteLimit": 2048000,
      "rowLimit": 10000
     },
     "inputWidgets": {},
     "nuid": "bbe05c07-af21-4f35-9906-4d0043a8559b",
     "showTitle": false,
     "title": ""
    }
   },
   "outputs": [],
   "source": [
    "df_url = \"https://raw.githubusercontent.com/narencastellon/Mi-Dataset/refs/heads/main/diabetes_data.csv\""
   ]
  },
  {
   "cell_type": "code",
   "execution_count": 0,
   "metadata": {
    "application/vnd.databricks.v1+cell": {
     "cellMetadata": {
      "byteLimit": 2048000,
      "rowLimit": 10000
     },
     "inputWidgets": {},
     "nuid": "282a252b-a749-4ab7-bf4f-b1fc4bf7dadf",
     "showTitle": false,
     "title": ""
    },
    "execution": {
     "iopub.execute_input": "2022-08-26T14:24:40.443968Z",
     "iopub.status.busy": "2022-08-26T14:24:40.442658Z",
     "iopub.status.idle": "2022-08-26T14:24:47.867217Z",
     "shell.execute_reply": "2022-08-26T14:24:47.865878Z"
    },
    "papermill": {
     "duration": 7.454437,
     "end_time": "2022-08-26T14:24:47.871203",
     "exception": false,
     "start_time": "2022-08-26T14:24:40.416766",
     "status": "completed"
    },
    "tags": []
   },
   "outputs": [
    {
     "output_type": "stream",
     "name": "stdout",
     "output_type": "stream",
     "text": [
      "+-----------+-------+-------------+-------------+-------+----+------------------------+---+-------+\n|Pregnancies|Glucose|BloodPressure|SkinThickness|Insulin| BMI|DiabetesPedigreeFunction|Age|Outcome|\n+-----------+-------+-------------+-------------+-------+----+------------------------+---+-------+\n|          6|    148|           72|           35|      0|33.6|                   0.627| 50|      1|\n|          1|     85|           66|           29|      0|26.6|                   0.351| 31|      0|\n|          8|    183|           64|            0|      0|23.3|                   0.672| 32|      1|\n|          1|     89|           66|           23|     94|28.1|                   0.167| 21|      0|\n|          0|    137|           40|           35|    168|43.1|                   2.288| 33|      1|\n|          5|    116|           74|            0|      0|25.6|                   0.201| 30|      0|\n|          3|     78|           50|           32|     88|31.0|                   0.248| 26|      1|\n|         10|    115|            0|            0|      0|35.3|                   0.134| 29|      0|\n|          2|    197|           70|           45|    543|30.5|                   0.158| 53|      1|\n|          8|    125|           96|            0|      0| 0.0|                   0.232| 54|      1|\n|          4|    110|           92|            0|      0|37.6|                   0.191| 30|      0|\n|         10|    168|           74|            0|      0|38.0|                   0.537| 34|      1|\n|         10|    139|           80|            0|      0|27.1|                   1.441| 57|      0|\n|          1|    189|           60|           23|    846|30.1|                   0.398| 59|      1|\n|          5|    166|           72|           19|    175|25.8|                   0.587| 51|      1|\n|          7|    100|            0|            0|      0|30.0|                   0.484| 32|      1|\n|          0|    118|           84|           47|    230|45.8|                   0.551| 31|      1|\n|          7|    107|           74|            0|      0|29.6|                   0.254| 31|      1|\n|          1|    103|           30|           38|     83|43.3|                   0.183| 33|      0|\n|          1|    115|           70|           30|     96|34.6|                   0.529| 32|      1|\n+-----------+-------+-------------+-------------+-------+----+------------------------+---+-------+\nonly showing top 20 rows\n\n"
     ]
    }
   ],
   "source": [
    "# Download the CSV file using requests\n",
    "response = requests.get(df_url)\n",
    "response.raise_for_status()  # Raise an exception for bad responses\n",
    "\n",
    "# Read the CSV data into a Pandas DataFrame\n",
    "diabetes = pd.read_csv(io.StringIO(response.text), sep=',')\n",
    "\n",
    "# Convert the Pandas DataFrame to a Spark DataFrame\n",
    "df = spark.createDataFrame(diabetes)\n",
    "\n",
    "df.show()"
   ]
  },
  {
   "cell_type": "markdown",
   "metadata": {
    "application/vnd.databricks.v1+cell": {
     "cellMetadata": {},
     "inputWidgets": {},
     "nuid": "1d4fe870-1cc2-4464-810e-84161b1a49b8",
     "showTitle": false,
     "title": ""
    },
    "papermill": {
     "duration": 0.035373,
     "end_time": "2022-08-26T14:24:47.945216",
     "exception": false,
     "start_time": "2022-08-26T14:24:47.909843",
     "status": "completed"
    },
    "tags": []
   },
   "source": [
    "\n",
    "# 5. Understanding Data"
   ]
  },
  {
   "cell_type": "markdown",
   "metadata": {
    "application/vnd.databricks.v1+cell": {
     "cellMetadata": {},
     "inputWidgets": {},
     "nuid": "ee9fa962-271c-4ee8-814b-c9f7df4b5f82",
     "showTitle": false,
     "title": ""
    },
    "papermill": {
     "duration": 0.0247,
     "end_time": "2022-08-26T14:24:47.995201",
     "exception": false,
     "start_time": "2022-08-26T14:24:47.970501",
     "status": "completed"
    },
    "tags": []
   },
   "source": [
    "Echemos un vistazo a las primeras diez filas del conjunto de datos con el método `show`."
   ]
  },
  {
   "cell_type": "code",
   "execution_count": 0,
   "metadata": {
    "application/vnd.databricks.v1+cell": {
     "cellMetadata": {
      "byteLimit": 2048000,
      "rowLimit": 10000
     },
     "inputWidgets": {},
     "nuid": "3a763922-7892-41c7-8f2a-0a5b09c2b3a6",
     "showTitle": false,
     "title": ""
    },
    "execution": {
     "iopub.execute_input": "2022-08-26T14:24:48.047126Z",
     "iopub.status.busy": "2022-08-26T14:24:48.046550Z",
     "iopub.status.idle": "2022-08-26T14:24:48.498873Z",
     "shell.execute_reply": "2022-08-26T14:24:48.497677Z"
    },
    "papermill": {
     "duration": 0.483282,
     "end_time": "2022-08-26T14:24:48.503328",
     "exception": false,
     "start_time": "2022-08-26T14:24:48.020046",
     "status": "completed"
    },
    "tags": []
   },
   "outputs": [
    {
     "output_type": "stream",
     "name": "stdout",
     "output_type": "stream",
     "text": [
      "+-----------+-------+-------------+-------------+-------+----+------------------------+---+-------+\n|Pregnancies|Glucose|BloodPressure|SkinThickness|Insulin| BMI|DiabetesPedigreeFunction|Age|Outcome|\n+-----------+-------+-------------+-------------+-------+----+------------------------+---+-------+\n|          6|    148|           72|           35|      0|33.6|                   0.627| 50|      1|\n|          1|     85|           66|           29|      0|26.6|                   0.351| 31|      0|\n|          8|    183|           64|            0|      0|23.3|                   0.672| 32|      1|\n|          1|     89|           66|           23|     94|28.1|                   0.167| 21|      0|\n|          0|    137|           40|           35|    168|43.1|                   2.288| 33|      1|\n|          5|    116|           74|            0|      0|25.6|                   0.201| 30|      0|\n|          3|     78|           50|           32|     88|31.0|                   0.248| 26|      1|\n|         10|    115|            0|            0|      0|35.3|                   0.134| 29|      0|\n|          2|    197|           70|           45|    543|30.5|                   0.158| 53|      1|\n|          8|    125|           96|            0|      0| 0.0|                   0.232| 54|      1|\n+-----------+-------+-------------+-------------+-------+----+------------------------+---+-------+\nonly showing top 10 rows\n\n"
     ]
    }
   ],
   "source": [
    "# looking at the first rows the dataset\n",
    "df.show(10)"
   ]
  },
  {
   "cell_type": "markdown",
   "metadata": {
    "application/vnd.databricks.v1+cell": {
     "cellMetadata": {},
     "inputWidgets": {},
     "nuid": "7064670d-ab10-4931-8a88-3d4636793095",
     "showTitle": false,
     "title": ""
    },
    "papermill": {
     "duration": 0.035962,
     "end_time": "2022-08-26T14:24:48.575295",
     "exception": false,
     "start_time": "2022-08-26T14:24:48.539333",
     "status": "completed"
    },
    "tags": []
   },
   "source": [
    "Puede imprimir los nombres de las columnas de su conjunto de datos con el método `columns`."
   ]
  },
  {
   "cell_type": "code",
   "execution_count": 0,
   "metadata": {
    "application/vnd.databricks.v1+cell": {
     "cellMetadata": {
      "byteLimit": 2048000,
      "rowLimit": 10000
     },
     "inputWidgets": {},
     "nuid": "303604e6-482e-48b7-859b-995b975c3a91",
     "showTitle": false,
     "title": ""
    },
    "execution": {
     "iopub.execute_input": "2022-08-26T14:24:48.647397Z",
     "iopub.status.busy": "2022-08-26T14:24:48.646787Z",
     "iopub.status.idle": "2022-08-26T14:24:48.696176Z",
     "shell.execute_reply": "2022-08-26T14:24:48.694580Z"
    },
    "papermill": {
     "duration": 0.08829,
     "end_time": "2022-08-26T14:24:48.699751",
     "exception": false,
     "start_time": "2022-08-26T14:24:48.611461",
     "status": "completed"
    },
    "tags": []
   },
   "outputs": [
    {
     "output_type": "stream",
     "name": "stdout",
     "output_type": "stream",
     "text": [
      "Out[7]: ['Pregnancies',\n 'Glucose',\n 'BloodPressure',\n 'SkinThickness',\n 'Insulin',\n 'BMI',\n 'DiabetesPedigreeFunction',\n 'Age',\n 'Outcome']"
     ]
    }
   ],
   "source": [
    "# Columns of dataframe\n",
    "df.columns"
   ]
  },
  {
   "cell_type": "markdown",
   "metadata": {
    "application/vnd.databricks.v1+cell": {
     "cellMetadata": {},
     "inputWidgets": {},
     "nuid": "d28c4334-ea7e-4408-8beb-b17c0cd7add9",
     "showTitle": false,
     "title": ""
    },
    "papermill": {
     "duration": 0.025756,
     "end_time": "2022-08-26T14:24:48.764101",
     "exception": false,
     "start_time": "2022-08-26T14:24:48.738345",
     "status": "completed"
    },
    "tags": []
   },
   "source": [
    "Puede utilizar el método `count` para obtener la cantidad total de registros en el DataFrame. El método `len` le permite ver la cantidad de columnas en el DataFrame. Echemos un vistazo a la forma de nuestro conjunto de datos con los métodos `count` y `len`."
   ]
  },
  {
   "cell_type": "code",
   "execution_count": 0,
   "metadata": {
    "application/vnd.databricks.v1+cell": {
     "cellMetadata": {
      "byteLimit": 2048000,
      "rowLimit": 10000
     },
     "inputWidgets": {},
     "nuid": "52b62df8-b943-4793-83cf-59ee2285af11",
     "showTitle": false,
     "title": ""
    },
    "execution": {
     "iopub.execute_input": "2022-08-26T14:24:48.815756Z",
     "iopub.status.busy": "2022-08-26T14:24:48.815359Z",
     "iopub.status.idle": "2022-08-26T14:24:49.725625Z",
     "shell.execute_reply": "2022-08-26T14:24:49.723995Z"
    },
    "papermill": {
     "duration": 0.942042,
     "end_time": "2022-08-26T14:24:49.731088",
     "exception": false,
     "start_time": "2022-08-26T14:24:48.789046",
     "status": "completed"
    },
    "tags": []
   },
   "outputs": [
    {
     "output_type": "stream",
     "name": "stdout",
     "output_type": "stream",
     "text": [
      "(768, 9)\n"
     ]
    }
   ],
   "source": [
    "# Shape of dataset\n",
    "print((df.count(),len(df.columns)))"
   ]
  },
  {
   "cell_type": "markdown",
   "metadata": {
    "application/vnd.databricks.v1+cell": {
     "cellMetadata": {},
     "inputWidgets": {},
     "nuid": "c92530fe-f06b-4a7b-8537-07405d02e50e",
     "showTitle": false,
     "title": ""
    },
    "papermill": {
     "duration": 0.038912,
     "end_time": "2022-08-26T14:24:49.831856",
     "exception": false,
     "start_time": "2022-08-26T14:24:49.792944",
     "status": "completed"
    },
    "tags": []
   },
   "source": [
    "Para obtener la información del esquema del conjunto de datos, puede utilizar el método `printSchema` que a menudo se utiliza para comprender datos con el método `show` en el análisis de datos."
   ]
  },
  {
   "cell_type": "code",
   "execution_count": 0,
   "metadata": {
    "application/vnd.databricks.v1+cell": {
     "cellMetadata": {
      "byteLimit": 2048000,
      "rowLimit": 10000
     },
     "inputWidgets": {},
     "nuid": "4128bca1-f725-4eb5-84f6-e3e13ade1377",
     "showTitle": false,
     "title": ""
    },
    "execution": {
     "iopub.execute_input": "2022-08-26T14:24:49.899571Z",
     "iopub.status.busy": "2022-08-26T14:24:49.898372Z",
     "iopub.status.idle": "2022-08-26T14:24:49.916868Z",
     "shell.execute_reply": "2022-08-26T14:24:49.914725Z"
    },
    "papermill": {
     "duration": 0.053792,
     "end_time": "2022-08-26T14:24:49.921191",
     "exception": false,
     "start_time": "2022-08-26T14:24:49.867399",
     "status": "completed"
    },
    "tags": []
   },
   "outputs": [
    {
     "output_type": "stream",
     "name": "stdout",
     "output_type": "stream",
     "text": [
      "root\n |-- Pregnancies: long (nullable = true)\n |-- Glucose: long (nullable = true)\n |-- BloodPressure: long (nullable = true)\n |-- SkinThickness: long (nullable = true)\n |-- Insulin: long (nullable = true)\n |-- BMI: double (nullable = true)\n |-- DiabetesPedigreeFunction: double (nullable = true)\n |-- Age: long (nullable = true)\n |-- Outcome: long (nullable = true)\n\n"
     ]
    }
   ],
   "source": [
    "# printSchema\n",
    "df.printSchema()"
   ]
  },
  {
   "cell_type": "markdown",
   "metadata": {
    "application/vnd.databricks.v1+cell": {
     "cellMetadata": {},
     "inputWidgets": {},
     "nuid": "2a8b496c-cbed-4837-b21f-e24782da34e3",
     "showTitle": false,
     "title": ""
    },
    "papermill": {
     "duration": 0.025131,
     "end_time": "2022-08-26T14:24:49.977950",
     "exception": false,
     "start_time": "2022-08-26T14:24:49.952819",
     "status": "completed"
    },
    "tags": []
   },
   "source": [
    "Puedes usar `describe().show()` para ver las estadísticas de descripción del conjunto de datos. Voy a usar el parámetro `truncate` para ver solo 8 caracteres."
   ]
  },
  {
   "cell_type": "code",
   "execution_count": 0,
   "metadata": {
    "application/vnd.databricks.v1+cell": {
     "cellMetadata": {
      "byteLimit": 2048000,
      "rowLimit": 10000
     },
     "inputWidgets": {},
     "nuid": "53bf39fb-2084-4f66-b03f-d141368bd189",
     "showTitle": false,
     "title": ""
    },
    "execution": {
     "iopub.execute_input": "2022-08-26T14:24:50.046224Z",
     "iopub.status.busy": "2022-08-26T14:24:50.044709Z",
     "iopub.status.idle": "2022-08-26T14:24:51.409211Z",
     "shell.execute_reply": "2022-08-26T14:24:51.407076Z"
    },
    "papermill": {
     "duration": 1.409838,
     "end_time": "2022-08-26T14:24:51.412944",
     "exception": false,
     "start_time": "2022-08-26T14:24:50.003106",
     "status": "completed"
    },
    "tags": []
   },
   "outputs": [
    {
     "output_type": "stream",
     "name": "stdout",
     "output_type": "stream",
     "text": [
      "+-------+-----------+--------+-------------+-------------+--------+--------+------------------------+--------+--------+\n|summary|Pregnancies| Glucose|BloodPressure|SkinThickness| Insulin|     BMI|DiabetesPedigreeFunction|     Age| Outcome|\n+-------+-----------+--------+-------------+-------------+--------+--------+------------------------+--------+--------+\n|  count|        768|     768|          768|          768|     768|     768|                     768|     768|     768|\n|   mean|   3.845...|120.8...|     69.10...|     20.53...|79.79...|31.99...|                0.471...|33.24...|0.348...|\n| stddev|   3.369...|31.97...|     19.35...|     15.95...|115.2...|7.884...|                0.331...|11.76...|0.476...|\n|    min|          0|       0|            0|            0|       0|     0.0|                   0.078|      21|       0|\n|    max|         17|     199|          122|           99|     846|    67.1|                    2.42|      81|       1|\n+-------+-----------+--------+-------------+-------------+--------+--------+------------------------+--------+--------+\n\n"
     ]
    }
   ],
   "source": [
    "# description statistics\n",
    "df.describe().show(truncate=8)"
   ]
  },
  {
   "cell_type": "markdown",
   "metadata": {
    "application/vnd.databricks.v1+cell": {
     "cellMetadata": {},
     "inputWidgets": {},
     "nuid": "46fcadd7-62fd-436f-bb3e-00cb2e3aa7c3",
     "showTitle": false,
     "title": ""
    },
    "papermill": {
     "duration": 0.03702,
     "end_time": "2022-08-26T14:24:51.487886",
     "exception": false,
     "start_time": "2022-08-26T14:24:51.450866",
     "status": "completed"
    },
    "tags": []
   },
   "source": [
    "\n",
    "# 6. Selecting Columns"
   ]
  },
  {
   "cell_type": "markdown",
   "metadata": {
    "application/vnd.databricks.v1+cell": {
     "cellMetadata": {},
     "inputWidgets": {},
     "nuid": "c45015b2-3a4e-44a9-9886-3fc5a1caf2b7",
     "showTitle": false,
     "title": ""
    },
    "papermill": {
     "duration": 0.03807,
     "end_time": "2022-08-26T14:24:51.566848",
     "exception": false,
     "start_time": "2022-08-26T14:24:51.528778",
     "status": "completed"
    },
    "tags": []
   },
   "source": [
    "Puede utilizar el método `select` para seleccionar columnas específicas. Tomemos las columnas Embarazos y Edad del conjunto de datos con el método `select`."
   ]
  },
  {
   "cell_type": "code",
   "execution_count": 0,
   "metadata": {
    "application/vnd.databricks.v1+cell": {
     "cellMetadata": {
      "byteLimit": 2048000,
      "rowLimit": 10000
     },
     "inputWidgets": {},
     "nuid": "c782fbbf-f15b-4573-b7ec-469bb61d94a3",
     "showTitle": false,
     "title": ""
    },
    "execution": {
     "iopub.execute_input": "2022-08-26T14:24:51.636003Z",
     "iopub.status.busy": "2022-08-26T14:24:51.635538Z",
     "iopub.status.idle": "2022-08-26T14:24:51.855441Z",
     "shell.execute_reply": "2022-08-26T14:24:51.853529Z"
    },
    "papermill": {
     "duration": 0.254685,
     "end_time": "2022-08-26T14:24:51.859334",
     "exception": false,
     "start_time": "2022-08-26T14:24:51.604649",
     "status": "completed"
    },
    "tags": []
   },
   "outputs": [
    {
     "output_type": "stream",
     "name": "stdout",
     "output_type": "stream",
     "text": [
      "+-----------+---+\n|Pregnancies|Age|\n+-----------+---+\n|          6| 50|\n|          1| 31|\n|          8| 32|\n|          1| 21|\n|          0| 33|\n|          5| 30|\n|          3| 26|\n|         10| 29|\n|          2| 53|\n|          8| 54|\n+-----------+---+\nonly showing top 10 rows\n\n"
     ]
    }
   ],
   "source": [
    "# Selecting\n",
    "df.select(\"Pregnancies\", \"Age\").show(10)"
   ]
  },
  {
   "cell_type": "markdown",
   "metadata": {
    "application/vnd.databricks.v1+cell": {
     "cellMetadata": {},
     "inputWidgets": {},
     "nuid": "12239f26-ffab-4752-9ae3-545504b8d115",
     "showTitle": false,
     "title": ""
    },
    "papermill": {
     "duration": 0.04306,
     "end_time": "2022-08-26T14:24:51.945724",
     "exception": false,
     "start_time": "2022-08-26T14:24:51.902664",
     "status": "completed"
    },
    "tags": []
   },
   "source": [
    "También puedes usar la función `col` en el módulo pyspark.sql.functions para seleccionar columnas. Te lo mostraré."
   ]
  },
  {
   "cell_type": "code",
   "execution_count": 0,
   "metadata": {
    "application/vnd.databricks.v1+cell": {
     "cellMetadata": {
      "byteLimit": 2048000,
      "rowLimit": 10000
     },
     "inputWidgets": {},
     "nuid": "d205fe37-9e16-4f4c-bb6f-7cf53aab3031",
     "showTitle": false,
     "title": ""
    },
    "execution": {
     "iopub.execute_input": "2022-08-26T14:24:52.030817Z",
     "iopub.status.busy": "2022-08-26T14:24:52.030281Z",
     "iopub.status.idle": "2022-08-26T14:24:52.199057Z",
     "shell.execute_reply": "2022-08-26T14:24:52.197130Z"
    },
    "papermill": {
     "duration": 0.213385,
     "end_time": "2022-08-26T14:24:52.202409",
     "exception": false,
     "start_time": "2022-08-26T14:24:51.989024",
     "status": "completed"
    },
    "tags": []
   },
   "outputs": [
    {
     "output_type": "stream",
     "name": "stdout",
     "output_type": "stream",
     "text": [
      "+-----------+---+\n|Pregnancies|Age|\n+-----------+---+\n|          6| 50|\n|          1| 31|\n|          8| 32|\n|          1| 21|\n|          0| 33|\n|          5| 30|\n|          3| 26|\n|         10| 29|\n|          2| 53|\n|          8| 54|\n+-----------+---+\nonly showing top 10 rows\n\n"
     ]
    }
   ],
   "source": [
    "# Selecting the col method\n",
    "import pyspark.sql.functions as F\n",
    "df.select(F.col(\"Pregnancies\"), F.col(\"Age\")).show(10)"
   ]
  },
  {
   "cell_type": "markdown",
   "metadata": {
    "application/vnd.databricks.v1+cell": {
     "cellMetadata": {},
     "inputWidgets": {},
     "nuid": "1f899815-4c50-4665-9e6c-20c9955b716b",
     "showTitle": false,
     "title": ""
    },
    "papermill": {
     "duration": 0.026326,
     "end_time": "2022-08-26T14:24:52.259365",
     "exception": false,
     "start_time": "2022-08-26T14:24:52.233039",
     "status": "completed"
    },
    "tags": []
   },
   "source": [
    "\n",
    "# 7. Data Filtering"
   ]
  },
  {
   "cell_type": "markdown",
   "metadata": {
    "application/vnd.databricks.v1+cell": {
     "cellMetadata": {},
     "inputWidgets": {},
     "nuid": "7f9a4a9e-59e6-4b48-85a8-33aa35c42205",
     "showTitle": false,
     "title": ""
    },
    "papermill": {
     "duration": 0.026202,
     "end_time": "2022-08-26T14:24:52.312185",
     "exception": false,
     "start_time": "2022-08-26T14:24:52.285983",
     "status": "completed"
    },
    "tags": []
   },
   "source": [
    "Para limpiar el conjunto de datos y conservar solo los registros que desee, puede filtrar los registros en función de las condiciones. Hay dos métodos para filtrar datos: `filter()` y `where()`. Filtremos los datos en los que el valor de la columna de edad sea inferior a 40 con el método `filter`."
   ]
  },
  {
   "cell_type": "code",
   "execution_count": 0,
   "metadata": {
    "application/vnd.databricks.v1+cell": {
     "cellMetadata": {
      "byteLimit": 2048000,
      "rowLimit": 10000
     },
     "inputWidgets": {},
     "nuid": "6cc20a09-0b52-4a20-bea4-8b1ab075ecba",
     "showTitle": false,
     "title": ""
    },
    "execution": {
     "iopub.execute_input": "2022-08-26T14:24:52.367193Z",
     "iopub.status.busy": "2022-08-26T14:24:52.366307Z",
     "iopub.status.idle": "2022-08-26T14:24:52.685816Z",
     "shell.execute_reply": "2022-08-26T14:24:52.684183Z"
    },
    "papermill": {
     "duration": 0.350514,
     "end_time": "2022-08-26T14:24:52.689331",
     "exception": false,
     "start_time": "2022-08-26T14:24:52.338817",
     "status": "completed"
    },
    "tags": []
   },
   "outputs": [
    {
     "output_type": "stream",
     "name": "stdout",
     "output_type": "stream",
     "text": [
      "+-----------+-------+-------------+-------------+-------+----+------------------------+---+-------+\n|Pregnancies|Glucose|BloodPressure|SkinThickness|Insulin| BMI|DiabetesPedigreeFunction|Age|Outcome|\n+-----------+-------+-------------+-------------+-------+----+------------------------+---+-------+\n|          1|     85|           66|           29|      0|26.6|                   0.351| 31|      0|\n|          8|    183|           64|            0|      0|23.3|                   0.672| 32|      1|\n|          1|     89|           66|           23|     94|28.1|                   0.167| 21|      0|\n|          0|    137|           40|           35|    168|43.1|                   2.288| 33|      1|\n|          5|    116|           74|            0|      0|25.6|                   0.201| 30|      0|\n|          3|     78|           50|           32|     88|31.0|                   0.248| 26|      1|\n|         10|    115|            0|            0|      0|35.3|                   0.134| 29|      0|\n|          4|    110|           92|            0|      0|37.6|                   0.191| 30|      0|\n|         10|    168|           74|            0|      0|38.0|                   0.537| 34|      1|\n|          7|    100|            0|            0|      0|30.0|                   0.484| 32|      1|\n+-----------+-------+-------------+-------------+-------+----+------------------------+---+-------+\nonly showing top 10 rows\n\n"
     ]
    }
   ],
   "source": [
    "# Filtering\n",
    "df.filter(df['Age'] < 40).show(10)"
   ]
  },
  {
   "cell_type": "markdown",
   "metadata": {
    "application/vnd.databricks.v1+cell": {
     "cellMetadata": {},
     "inputWidgets": {},
     "nuid": "9fddef0d-1ca8-4b17-941f-20421c806981",
     "showTitle": false,
     "title": ""
    },
    "papermill": {
     "duration": 0.037994,
     "end_time": "2022-08-26T14:24:52.763844",
     "exception": false,
     "start_time": "2022-08-26T14:24:52.725850",
     "status": "completed"
    },
    "tags": []
   },
   "source": [
    "Puede realizar un filtrado adicional utilizando el método \"seleccionar\" para ver solo columnas específicas."
   ]
  },
  {
   "cell_type": "code",
   "execution_count": 0,
   "metadata": {
    "application/vnd.databricks.v1+cell": {
     "cellMetadata": {
      "byteLimit": 2048000,
      "rowLimit": 10000
     },
     "inputWidgets": {},
     "nuid": "b149175b-ced7-425f-aa6a-2826aa24bd46",
     "showTitle": false,
     "title": ""
    },
    "execution": {
     "iopub.execute_input": "2022-08-26T14:24:52.846081Z",
     "iopub.status.busy": "2022-08-26T14:24:52.844819Z",
     "iopub.status.idle": "2022-08-26T14:24:53.073775Z",
     "shell.execute_reply": "2022-08-26T14:24:53.072529Z"
    },
    "papermill": {
     "duration": 0.274535,
     "end_time": "2022-08-26T14:24:53.077721",
     "exception": false,
     "start_time": "2022-08-26T14:24:52.803186",
     "status": "completed"
    },
    "tags": []
   },
   "outputs": [
    {
     "output_type": "stream",
     "name": "stdout",
     "output_type": "stream",
     "text": [
      "+-------+-------+\n|Insulin|Outcome|\n+-------+-------+\n|      0|      0|\n|      0|      1|\n|     94|      0|\n|    168|      1|\n|      0|      0|\n|     88|      1|\n|      0|      0|\n|      0|      0|\n|      0|      1|\n|      0|      1|\n+-------+-------+\nonly showing top 10 rows\n\n"
     ]
    }
   ],
   "source": [
    "# Filtering for two columns\n",
    "df.filter(df['age'] < 40).select('Insulin','Outcome').show(10)"
   ]
  },
  {
   "cell_type": "markdown",
   "metadata": {
    "application/vnd.databricks.v1+cell": {
     "cellMetadata": {},
     "inputWidgets": {},
     "nuid": "1f9537f8-2d2a-4edb-8b40-e0198c22197e",
     "showTitle": false,
     "title": ""
    },
    "papermill": {
     "duration": 0.03734,
     "end_time": "2022-08-26T14:24:53.156541",
     "exception": false,
     "start_time": "2022-08-26T14:24:53.119201",
     "status": "completed"
    },
    "tags": []
   },
   "source": [
    "También puedes aplicar filtros a los registros según las condiciones. Buscamos registros con más de 60 años y personas que solo están enfermas."
   ]
  },
  {
   "cell_type": "code",
   "execution_count": 0,
   "metadata": {
    "application/vnd.databricks.v1+cell": {
     "cellMetadata": {
      "byteLimit": 2048000,
      "rowLimit": 10000
     },
     "inputWidgets": {},
     "nuid": "91398df4-f026-4842-8833-b01910fb81fd",
     "showTitle": false,
     "title": ""
    },
    "execution": {
     "iopub.execute_input": "2022-08-26T14:24:53.232982Z",
     "iopub.status.busy": "2022-08-26T14:24:53.232218Z",
     "iopub.status.idle": "2022-08-26T14:24:53.461538Z",
     "shell.execute_reply": "2022-08-26T14:24:53.459779Z"
    },
    "papermill": {
     "duration": 0.270871,
     "end_time": "2022-08-26T14:24:53.465065",
     "exception": false,
     "start_time": "2022-08-26T14:24:53.194194",
     "status": "completed"
    },
    "tags": []
   },
   "outputs": [
    {
     "output_type": "stream",
     "name": "stdout",
     "output_type": "stream",
     "text": [
      "+-----------+-------+-------------+-------------+-------+----+------------------------+---+-------+\n|Pregnancies|Glucose|BloodPressure|SkinThickness|Insulin| BMI|DiabetesPedigreeFunction|Age|Outcome|\n+-----------+-------+-------------+-------------+-------+----+------------------------+---+-------+\n|          4|    146|           92|            0|      0|31.2|                   0.539| 61|      1|\n|          0|    105|           84|            0|      0|27.9|                   0.741| 62|      1|\n|          2|    158|           90|            0|      0|31.6|                   0.805| 66|      1|\n|          4|    146|           78|            0|      0|38.5|                    0.52| 67|      1|\n|          2|    197|           70|           99|      0|34.7|                   0.575| 62|      1|\n|          4|    145|           82|           18|      0|32.5|                   0.235| 70|      1|\n|          6|    190|           92|            0|      0|35.5|                   0.278| 66|      1|\n+-----------+-------+-------------+-------------+-------+----+------------------------+---+-------+\n\n"
     ]
    }
   ],
   "source": [
    "# Filtering with multiple conditions\n",
    "df.filter(df['age'] > 60).filter(df['Outcome'] == '1').show(10)"
   ]
  },
  {
   "cell_type": "markdown",
   "metadata": {
    "application/vnd.databricks.v1+cell": {
     "cellMetadata": {},
     "inputWidgets": {},
     "nuid": "bd145502-a844-4bc2-b4aa-0fc664064ac2",
     "showTitle": false,
     "title": ""
    },
    "papermill": {
     "duration": 0.030645,
     "end_time": "2022-08-26T14:24:53.524754",
     "exception": false,
     "start_time": "2022-08-26T14:24:53.494109",
     "status": "completed"
    },
    "tags": []
   },
   "source": [
    "Puede utilizar operadores como el signo `&` y `|` para aplicar múltiples condiciones de filtro. Filtremos a las personas que están enfermas y tienen 10 o más embarazos utilizando &."
   ]
  },
  {
   "cell_type": "code",
   "execution_count": 0,
   "metadata": {
    "application/vnd.databricks.v1+cell": {
     "cellMetadata": {
      "byteLimit": 2048000,
      "rowLimit": 10000
     },
     "inputWidgets": {},
     "nuid": "6c6d997f-3fd4-4409-911d-ca0fb3b33f4a",
     "showTitle": false,
     "title": ""
    },
    "execution": {
     "iopub.execute_input": "2022-08-26T14:24:53.582882Z",
     "iopub.status.busy": "2022-08-26T14:24:53.582427Z",
     "iopub.status.idle": "2022-08-26T14:24:53.768595Z",
     "shell.execute_reply": "2022-08-26T14:24:53.767397Z"
    },
    "papermill": {
     "duration": 0.218936,
     "end_time": "2022-08-26T14:24:53.771705",
     "exception": false,
     "start_time": "2022-08-26T14:24:53.552769",
     "status": "completed"
    },
    "tags": []
   },
   "outputs": [
    {
     "output_type": "stream",
     "name": "stdout",
     "output_type": "stream",
     "text": [
      "+-----------+-------+-------------+-------------+-------+----+------------------------+---+-------+\n|Pregnancies|Glucose|BloodPressure|SkinThickness|Insulin| BMI|DiabetesPedigreeFunction|Age|Outcome|\n+-----------+-------+-------------+-------------+-------+----+------------------------+---+-------+\n|         10|    168|           74|            0|      0|38.0|                   0.537| 34|      1|\n|          9|    119|           80|           35|      0|29.0|                   0.263| 29|      1|\n|         11|    143|           94|           33|    146|36.6|                   0.254| 51|      1|\n|         10|    125|           70|           26|    115|31.1|                   0.205| 41|      1|\n|          9|    102|           76|           37|      0|32.9|                   0.665| 46|      1|\n|          9|    171|          110|           24|    240|45.4|                   0.721| 54|      1|\n|         13|    126|           90|            0|      0|43.4|                   0.583| 42|      1|\n|         15|    136|           70|           32|    110|37.1|                   0.153| 43|      1|\n|          9|    122|           56|            0|      0|33.3|                   1.114| 33|      1|\n|         10|    108|           66|            0|      0|32.4|                   0.272| 42|      1|\n+-----------+-------+-------------+-------------+-------+----+------------------------+---+-------+\nonly showing top 10 rows\n\n"
     ]
    }
   ],
   "source": [
    "# Filtering with multiple conditions\n",
    "df.filter((df['Outcome']==1) & (df['Pregnancies'] >=9)).show(10)"
   ]
  },
  {
   "cell_type": "markdown",
   "metadata": {
    "application/vnd.databricks.v1+cell": {
     "cellMetadata": {},
     "inputWidgets": {},
     "nuid": "56259493-54d5-4f9b-92dc-dd68d2d9d41c",
     "showTitle": false,
     "title": ""
    },
    "papermill": {
     "duration": 0.026882,
     "end_time": "2022-08-26T14:24:53.837205",
     "exception": false,
     "start_time": "2022-08-26T14:24:53.810323",
     "status": "completed"
    },
    "tags": []
   },
   "source": [
    "Para encontrar un recuento de la cantidad de registros después del filtrado, puede utilizar el método 'count'."
   ]
  },
  {
   "cell_type": "code",
   "execution_count": 0,
   "metadata": {
    "application/vnd.databricks.v1+cell": {
     "cellMetadata": {
      "byteLimit": 2048000,
      "rowLimit": 10000
     },
     "inputWidgets": {},
     "nuid": "16cd22fe-b369-4240-a39a-4d8456838ab5",
     "showTitle": false,
     "title": ""
    },
    "execution": {
     "iopub.execute_input": "2022-08-26T14:24:53.891207Z",
     "iopub.status.busy": "2022-08-26T14:24:53.890738Z",
     "iopub.status.idle": "2022-08-26T14:24:54.118949Z",
     "shell.execute_reply": "2022-08-26T14:24:54.117646Z"
    },
    "papermill": {
     "duration": 0.258655,
     "end_time": "2022-08-26T14:24:54.122196",
     "exception": false,
     "start_time": "2022-08-26T14:24:53.863541",
     "status": "completed"
    },
    "tags": []
   },
   "outputs": [
    {
     "output_type": "stream",
     "name": "stdout",
     "output_type": "stream",
     "text": [
      "Out[17]: 194"
     ]
    }
   ],
   "source": [
    "# Counting after filtering\n",
    "df.filter(df['age']>40).count()"
   ]
  },
  {
   "cell_type": "markdown",
   "metadata": {
    "application/vnd.databricks.v1+cell": {
     "cellMetadata": {},
     "inputWidgets": {},
     "nuid": "ecc7c714-69f6-4a36-a464-bbc10667c1e1",
     "showTitle": false,
     "title": ""
    },
    "papermill": {
     "duration": 0.039074,
     "end_time": "2022-08-26T14:24:54.201304",
     "exception": false,
     "start_time": "2022-08-26T14:24:54.162230",
     "status": "completed"
    },
    "tags": []
   },
   "source": [
    "Puedes filtrar datos con el método `where` como con el método `filter`. Te lo mostraré."
   ]
  },
  {
   "cell_type": "code",
   "execution_count": 0,
   "metadata": {
    "application/vnd.databricks.v1+cell": {
     "cellMetadata": {
      "byteLimit": 2048000,
      "rowLimit": 10000
     },
     "inputWidgets": {},
     "nuid": "a3c01faa-11eb-4e42-9807-56fefe2e2a60",
     "showTitle": false,
     "title": ""
    },
    "execution": {
     "iopub.execute_input": "2022-08-26T14:24:54.280756Z",
     "iopub.status.busy": "2022-08-26T14:24:54.279258Z",
     "iopub.status.idle": "2022-08-26T14:24:54.470923Z",
     "shell.execute_reply": "2022-08-26T14:24:54.469713Z"
    },
    "papermill": {
     "duration": 0.233341,
     "end_time": "2022-08-26T14:24:54.474250",
     "exception": false,
     "start_time": "2022-08-26T14:24:54.240909",
     "status": "completed"
    },
    "tags": []
   },
   "outputs": [
    {
     "output_type": "stream",
     "name": "stdout",
     "output_type": "stream",
     "text": [
      "+-----------+-------+-------------+-------------+-------+----+------------------------+---+-------+\n|Pregnancies|Glucose|BloodPressure|SkinThickness|Insulin| BMI|DiabetesPedigreeFunction|Age|Outcome|\n+-----------+-------+-------------+-------------+-------+----+------------------------+---+-------+\n|         10|    168|           74|            0|      0|38.0|                   0.537| 34|      1|\n|          9|    119|           80|           35|      0|29.0|                   0.263| 29|      1|\n|         11|    143|           94|           33|    146|36.6|                   0.254| 51|      1|\n|         10|    125|           70|           26|    115|31.1|                   0.205| 41|      1|\n|          9|    102|           76|           37|      0|32.9|                   0.665| 46|      1|\n|          9|    171|          110|           24|    240|45.4|                   0.721| 54|      1|\n|         13|    126|           90|            0|      0|43.4|                   0.583| 42|      1|\n|         15|    136|           70|           32|    110|37.1|                   0.153| 43|      1|\n|          9|    122|           56|            0|      0|33.3|                   1.114| 33|      1|\n|         10|    108|           66|            0|      0|32.4|                   0.272| 42|      1|\n+-----------+-------+-------------+-------------+-------+----+------------------------+---+-------+\nonly showing top 10 rows\n\n"
     ]
    }
   ],
   "source": [
    "# Filtering with the where method\n",
    "df.where((df['Outcome']==1) & (df['Pregnancies'] >=9)).show(10)"
   ]
  },
  {
   "cell_type": "markdown",
   "metadata": {
    "application/vnd.databricks.v1+cell": {
     "cellMetadata": {},
     "inputWidgets": {},
     "nuid": "a7e0d29b-9861-4c2f-b7a4-f3abf9b0d0bf",
     "showTitle": false,
     "title": ""
    },
    "papermill": {
     "duration": 0.039461,
     "end_time": "2022-08-26T14:24:54.554259",
     "exception": false,
     "start_time": "2022-08-26T14:24:54.514798",
     "status": "completed"
    },
    "tags": []
   },
   "source": [
    "También puedes utilizar el método `where` junto con el método `count`."
   ]
  },
  {
   "cell_type": "code",
   "execution_count": 0,
   "metadata": {
    "application/vnd.databricks.v1+cell": {
     "cellMetadata": {
      "byteLimit": 2048000,
      "rowLimit": 10000
     },
     "inputWidgets": {},
     "nuid": "5c49d028-5630-43b8-b739-c86fd533c091",
     "showTitle": false,
     "title": ""
    },
    "execution": {
     "iopub.execute_input": "2022-08-26T14:24:54.613120Z",
     "iopub.status.busy": "2022-08-26T14:24:54.612093Z",
     "iopub.status.idle": "2022-08-26T14:24:54.805542Z",
     "shell.execute_reply": "2022-08-26T14:24:54.804250Z"
    },
    "papermill": {
     "duration": 0.226306,
     "end_time": "2022-08-26T14:24:54.808548",
     "exception": false,
     "start_time": "2022-08-26T14:24:54.582242",
     "status": "completed"
    },
    "tags": []
   },
   "outputs": [
    {
     "output_type": "stream",
     "name": "stdout",
     "output_type": "stream",
     "text": [
      "Out[19]: 194"
     ]
    }
   ],
   "source": [
    "# Filtering the where method\n",
    "df.where(df['age']>40).count()"
   ]
  },
  {
   "cell_type": "markdown",
   "metadata": {
    "application/vnd.databricks.v1+cell": {
     "cellMetadata": {},
     "inputWidgets": {},
     "nuid": "56fea889-d461-4005-91b3-2fda6cb2a1c4",
     "showTitle": false,
     "title": ""
    },
    "papermill": {
     "duration": 0.028365,
     "end_time": "2022-08-26T14:24:54.867939",
     "exception": false,
     "start_time": "2022-08-26T14:24:54.839574",
     "status": "completed"
    },
    "tags": []
   },
   "source": [
    "\n",
    "# 8. Adding New Columns"
   ]
  },
  {
   "cell_type": "markdown",
   "metadata": {
    "application/vnd.databricks.v1+cell": {
     "cellMetadata": {},
     "inputWidgets": {},
     "nuid": "caf59ec1-5db7-439e-b345-899c2f37fbd2",
     "showTitle": false,
     "title": ""
    },
    "papermill": {
     "duration": 0.028093,
     "end_time": "2022-08-26T14:24:54.924573",
     "exception": false,
     "start_time": "2022-08-26T14:24:54.896480",
     "status": "completed"
    },
    "tags": []
   },
   "source": [
    "Puede utilizar el método `withColumn` para agregar una nueva columna. Vamos a crear una nueva columna utilizando la columna de edad. Para ello, voy a añadir los valores de edad a diez valores."
   ]
  },
  {
   "cell_type": "code",
   "execution_count": 0,
   "metadata": {
    "application/vnd.databricks.v1+cell": {
     "cellMetadata": {
      "byteLimit": 2048000,
      "rowLimit": 10000
     },
     "inputWidgets": {},
     "nuid": "9d1da98d-61a2-468a-921d-de23d53cae69",
     "showTitle": false,
     "title": ""
    },
    "execution": {
     "iopub.execute_input": "2022-08-26T14:24:54.981564Z",
     "iopub.status.busy": "2022-08-26T14:24:54.981126Z",
     "iopub.status.idle": "2022-08-26T14:24:55.216690Z",
     "shell.execute_reply": "2022-08-26T14:24:55.215491Z"
    },
    "papermill": {
     "duration": 0.268198,
     "end_time": "2022-08-26T14:24:55.220349",
     "exception": false,
     "start_time": "2022-08-26T14:24:54.952151",
     "status": "completed"
    },
    "tags": []
   },
   "outputs": [
    {
     "output_type": "stream",
     "name": "stdout",
     "output_type": "stream",
     "text": [
      "+-----------+-------+-------------+-------------+-------+----+------------------------+---+-------+-------+\n|Pregnancies|Glucose|BloodPressure|SkinThickness|Insulin| BMI|DiabetesPedigreeFunction|Age|Outcome|New_Age|\n+-----------+-------+-------------+-------------+-------+----+------------------------+---+-------+-------+\n|          6|    148|           72|           35|      0|33.6|                   0.627| 50|      1|     60|\n|          1|     85|           66|           29|      0|26.6|                   0.351| 31|      0|     41|\n|          8|    183|           64|            0|      0|23.3|                   0.672| 32|      1|     42|\n|          1|     89|           66|           23|     94|28.1|                   0.167| 21|      0|     31|\n|          0|    137|           40|           35|    168|43.1|                   2.288| 33|      1|     43|\n|          5|    116|           74|            0|      0|25.6|                   0.201| 30|      0|     40|\n|          3|     78|           50|           32|     88|31.0|                   0.248| 26|      1|     36|\n|         10|    115|            0|            0|      0|35.3|                   0.134| 29|      0|     39|\n|          2|    197|           70|           45|    543|30.5|                   0.158| 53|      1|     63|\n|          8|    125|           96|            0|      0| 0.0|                   0.232| 54|      1|     64|\n+-----------+-------+-------------+-------------+-------+----+------------------------+---+-------+-------+\nonly showing top 10 rows\n\n"
     ]
    }
   ],
   "source": [
    "# Creating a new column\n",
    "df.withColumn('New_Age',df['age']+10).show(10)"
   ]
  },
  {
   "cell_type": "markdown",
   "metadata": {
    "application/vnd.databricks.v1+cell": {
     "cellMetadata": {},
     "inputWidgets": {},
     "nuid": "676ecb2f-a556-4e0d-82e3-21338192cdf8",
     "showTitle": false,
     "title": ""
    },
    "papermill": {
     "duration": 0.036194,
     "end_time": "2022-08-26T14:24:55.298146",
     "exception": false,
     "start_time": "2022-08-26T14:24:55.261952",
     "status": "completed"
    },
    "tags": []
   },
   "source": [
    "\n",
    "# 9. Grouping Data"
   ]
  },
  {
   "cell_type": "markdown",
   "metadata": {
    "application/vnd.databricks.v1+cell": {
     "cellMetadata": {},
     "inputWidgets": {},
     "nuid": "1d4e8e79-fb32-4da7-a41d-c28ed0c4b568",
     "showTitle": false,
     "title": ""
    },
    "papermill": {
     "duration": 0.039193,
     "end_time": "2022-08-26T14:24:55.377764",
     "exception": false,
     "start_time": "2022-08-26T14:24:55.338571",
     "status": "completed"
    },
    "tags": []
   },
   "source": [
    "Cuando trabajamos con grandes cantidades de datos, a menudo utilizamos el método `groupBy` para resumir los datos. Después de agrupar los datos, puede aplicar una función de agregación a cada uno de ellos. Echemos un vistazo a la suma de cada valor categórico de la columna de resultados."
   ]
  },
  {
   "cell_type": "code",
   "execution_count": 0,
   "metadata": {
    "application/vnd.databricks.v1+cell": {
     "cellMetadata": {
      "byteLimit": 2048000,
      "rowLimit": 10000
     },
     "inputWidgets": {},
     "nuid": "780829f6-7500-43c9-a143-36984e46fff2",
     "showTitle": false,
     "title": ""
    },
    "execution": {
     "iopub.execute_input": "2022-08-26T14:24:55.459821Z",
     "iopub.status.busy": "2022-08-26T14:24:55.459323Z",
     "iopub.status.idle": "2022-08-26T14:24:56.082388Z",
     "shell.execute_reply": "2022-08-26T14:24:56.080228Z"
    },
    "papermill": {
     "duration": 0.669833,
     "end_time": "2022-08-26T14:24:56.087267",
     "exception": false,
     "start_time": "2022-08-26T14:24:55.417434",
     "status": "completed"
    },
    "tags": []
   },
   "outputs": [
    {
     "output_type": "stream",
     "name": "stdout",
     "output_type": "stream",
     "text": [
      "+-------+-----+\n|Outcome|count|\n+-------+-----+\n|      0|  500|\n|      1|  268|\n+-------+-----+\n\n"
     ]
    }
   ],
   "source": [
    "# Grouping data\n",
    "df.groupBy('Outcome').count().show()"
   ]
  },
  {
   "cell_type": "markdown",
   "metadata": {
    "application/vnd.databricks.v1+cell": {
     "cellMetadata": {},
     "inputWidgets": {},
     "nuid": "70be072c-3c08-4da3-b127-45566134e2ff",
     "showTitle": false,
     "title": ""
    },
    "papermill": {
     "duration": 0.040536,
     "end_time": "2022-08-26T14:24:56.168261",
     "exception": false,
     "start_time": "2022-08-26T14:24:56.127725",
     "status": "completed"
    },
    "tags": []
   },
   "source": [
    "También puede utilizar los métodos `distinct` y `count` para buscar valores distintos en una columna. Echemos un vistazo a los valores de distrito en la columna Embarazos."
   ]
  },
  {
   "cell_type": "code",
   "execution_count": 0,
   "metadata": {
    "application/vnd.databricks.v1+cell": {
     "cellMetadata": {
      "byteLimit": 2048000,
      "rowLimit": 10000
     },
     "inputWidgets": {},
     "nuid": "d17e044e-8cd3-4661-b586-4ac4b10aae4f",
     "showTitle": false,
     "title": ""
    },
    "execution": {
     "iopub.execute_input": "2022-08-26T14:24:56.251086Z",
     "iopub.status.busy": "2022-08-26T14:24:56.250417Z",
     "iopub.status.idle": "2022-08-26T14:24:56.610757Z",
     "shell.execute_reply": "2022-08-26T14:24:56.609561Z"
    },
    "papermill": {
     "duration": 0.405159,
     "end_time": "2022-08-26T14:24:56.614230",
     "exception": false,
     "start_time": "2022-08-26T14:24:56.209071",
     "status": "completed"
    },
    "tags": []
   },
   "outputs": [
    {
     "output_type": "stream",
     "name": "stdout",
     "output_type": "stream",
     "text": [
      "Out[22]: 17"
     ]
    }
   ],
   "source": [
    "# Finding distinct values\n",
    "df.select('Pregnancies').distinct().count()"
   ]
  },
  {
   "cell_type": "markdown",
   "metadata": {
    "application/vnd.databricks.v1+cell": {
     "cellMetadata": {},
     "inputWidgets": {},
     "nuid": "da8dfcd4-4c5b-4cc2-9fd5-6c3896b1d24a",
     "showTitle": false,
     "title": ""
    },
    "papermill": {
     "duration": 0.038343,
     "end_time": "2022-08-26T14:24:56.692494",
     "exception": false,
     "start_time": "2022-08-26T14:24:56.654151",
     "status": "completed"
    },
    "tags": []
   },
   "source": [
    "Puede utilizar otras funciones agregadas, como suma, media o mínima. Busquemos la media de la edad después de agrupar la columna de resultados. Tenga en cuenta que se utiliza el método \"alias\" para nombrar la nueva columna."
   ]
  },
  {
   "cell_type": "code",
   "execution_count": 0,
   "metadata": {
    "application/vnd.databricks.v1+cell": {
     "cellMetadata": {
      "byteLimit": 2048000,
      "rowLimit": 10000
     },
     "inputWidgets": {},
     "nuid": "d6c542f3-0f29-46d6-8b99-b6bd32452962",
     "showTitle": false,
     "title": ""
    },
    "execution": {
     "iopub.execute_input": "2022-08-26T14:24:56.769788Z",
     "iopub.status.busy": "2022-08-26T14:24:56.769395Z",
     "iopub.status.idle": "2022-08-26T14:24:57.084430Z",
     "shell.execute_reply": "2022-08-26T14:24:57.082977Z"
    },
    "papermill": {
     "duration": 0.356133,
     "end_time": "2022-08-26T14:24:57.087120",
     "exception": false,
     "start_time": "2022-08-26T14:24:56.730987",
     "status": "completed"
    },
    "tags": []
   },
   "outputs": [
    {
     "output_type": "stream",
     "name": "stdout",
     "output_type": "stream",
     "text": [
      "+-------+-----------------+\n|Outcome|         age_mean|\n+-------+-----------------+\n|      0|            31.19|\n|      1|37.06716417910448|\n+-------+-----------------+\n\n"
     ]
    }
   ],
   "source": [
    "# Applying the aggregate functions\n",
    "df.groupBy('Outcome').agg(F.mean(\"age\").alias(\"age_mean\")).show(10)"
   ]
  },
  {
   "cell_type": "markdown",
   "metadata": {
    "application/vnd.databricks.v1+cell": {
     "cellMetadata": {},
     "inputWidgets": {},
     "nuid": "59291ecc-2d05-43f2-9d68-c37a8389796e",
     "showTitle": false,
     "title": ""
    },
    "papermill": {
     "duration": 0.026896,
     "end_time": "2022-08-26T14:24:57.140993",
     "exception": false,
     "start_time": "2022-08-26T14:24:57.114097",
     "status": "completed"
    },
    "tags": []
   },
   "source": [
    "\n",
    "# 10. Applying User-Defined Functions"
   ]
  },
  {
   "cell_type": "markdown",
   "metadata": {
    "application/vnd.databricks.v1+cell": {
     "cellMetadata": {},
     "inputWidgets": {},
     "nuid": "e0cf08e3-49f8-4fa0-a85b-914f02a67e22",
     "showTitle": false,
     "title": ""
    },
    "papermill": {
     "duration": 0.026408,
     "end_time": "2022-08-26T14:24:57.194208",
     "exception": false,
     "start_time": "2022-08-26T14:24:57.167800",
     "status": "completed"
    },
    "tags": []
   },
   "source": [
    "También puede aplicar su propia función a los datos agrupados con UDF (funciones definidas por el usuario) en el módulo pyspark.sql.functions. Para demostrarlo, primero crearemos una función denominada diabetes."
   ]
  },
  {
   "cell_type": "code",
   "execution_count": 0,
   "metadata": {
    "application/vnd.databricks.v1+cell": {
     "cellMetadata": {
      "byteLimit": 2048000,
      "rowLimit": 10000
     },
     "inputWidgets": {},
     "nuid": "1bf275b7-3093-4ff0-82c2-3d5b5a1ecf21",
     "showTitle": false,
     "title": ""
    },
    "execution": {
     "iopub.execute_input": "2022-08-26T14:24:57.248800Z",
     "iopub.status.busy": "2022-08-26T14:24:57.248296Z",
     "iopub.status.idle": "2022-08-26T14:24:57.254280Z",
     "shell.execute_reply": "2022-08-26T14:24:57.253058Z"
    },
    "papermill": {
     "duration": 0.036013,
     "end_time": "2022-08-26T14:24:57.256576",
     "exception": false,
     "start_time": "2022-08-26T14:24:57.220563",
     "status": "completed"
    },
    "tags": []
   },
   "outputs": [],
   "source": [
    "# Creating a function\n",
    "def diabete(case):\n",
    "    if case == 1 :\n",
    "        return \"diabete\"\n",
    "    else:\n",
    "        return 'no diabete'"
   ]
  },
  {
   "cell_type": "markdown",
   "metadata": {
    "application/vnd.databricks.v1+cell": {
     "cellMetadata": {},
     "inputWidgets": {},
     "nuid": "194c3fb8-d4a1-4fb3-a843-398986de37fa",
     "showTitle": false,
     "title": ""
    },
    "papermill": {
     "duration": 0.026382,
     "end_time": "2022-08-26T14:24:57.309506",
     "exception": false,
     "start_time": "2022-08-26T14:24:57.283124",
     "status": "completed"
    },
    "tags": []
   },
   "source": [
    "Ahora, declaremos la UDF y su tipo de retorno (StringType en este ejemplo). Después de eso, usaré withColumn para crear una nueva columna y luego pasaré la columna Dataframe relevante (Resultado):"
   ]
  },
  {
   "cell_type": "code",
   "execution_count": 0,
   "metadata": {
    "application/vnd.databricks.v1+cell": {
     "cellMetadata": {
      "byteLimit": 2048000,
      "rowLimit": 10000
     },
     "inputWidgets": {},
     "nuid": "18902bd3-b1cb-4417-a5ef-01420cb95d7d",
     "showTitle": false,
     "title": ""
    },
    "execution": {
     "iopub.execute_input": "2022-08-26T14:24:57.364997Z",
     "iopub.status.busy": "2022-08-26T14:24:57.364587Z",
     "iopub.status.idle": "2022-08-26T14:24:58.638900Z",
     "shell.execute_reply": "2022-08-26T14:24:58.637591Z"
    },
    "papermill": {
     "duration": 1.306384,
     "end_time": "2022-08-26T14:24:58.642676",
     "exception": false,
     "start_time": "2022-08-26T14:24:57.336292",
     "status": "completed"
    },
    "tags": []
   },
   "outputs": [
    {
     "output_type": "stream",
     "name": "stdout",
     "output_type": "stream",
     "text": [
      "+-----------+-------+-------------+-------------+-------+----+------------------------+---+-------+------------+\n|Pregnancies|Glucose|BloodPressure|SkinThickness|Insulin| BMI|DiabetesPedigreeFunction|Age|Outcome|diabete_case|\n+-----------+-------+-------------+-------------+-------+----+------------------------+---+-------+------------+\n|          6|    148|           72|           35|      0|33.6|                   0.627| 50|      1|     diabete|\n|          1|     85|           66|           29|      0|26.6|                   0.351| 31|      0|  no diabete|\n|          8|    183|           64|            0|      0|23.3|                   0.672| 32|      1|     diabete|\n|          1|     89|           66|           23|     94|28.1|                   0.167| 21|      0|  no diabete|\n|          0|    137|           40|           35|    168|43.1|                   2.288| 33|      1|     diabete|\n|          5|    116|           74|            0|      0|25.6|                   0.201| 30|      0|  no diabete|\n|          3|     78|           50|           32|     88|31.0|                   0.248| 26|      1|     diabete|\n|         10|    115|            0|            0|      0|35.3|                   0.134| 29|      0|  no diabete|\n|          2|    197|           70|           45|    543|30.5|                   0.158| 53|      1|     diabete|\n|          8|    125|           96|            0|      0| 0.0|                   0.232| 54|      1|     diabete|\n+-----------+-------+-------------+-------------+-------+----+------------------------+---+-------+------------+\nonly showing top 10 rows\n\n"
     ]
    }
   ],
   "source": [
    "# Applying your own function\n",
    "from pyspark.sql.types import *\n",
    "diabete_udf = F.udf(diabete, StringType())\n",
    "df.withColumn('diabete_case', diabete_udf(df['Outcome'])).show(10)"
   ]
  },
  {
   "cell_type": "markdown",
   "metadata": {
    "application/vnd.databricks.v1+cell": {
     "cellMetadata": {},
     "inputWidgets": {},
     "nuid": "a5199c44-30f7-4ef0-a723-50c75ad37bd1",
     "showTitle": false,
     "title": ""
    },
    "papermill": {
     "duration": 0.026725,
     "end_time": "2022-08-26T14:24:58.708757",
     "exception": false,
     "start_time": "2022-08-26T14:24:58.682032",
     "status": "completed"
    },
    "tags": []
   },
   "source": [
    "\n",
    "# 11. Deleting Data"
   ]
  },
  {
   "cell_type": "markdown",
   "metadata": {
    "application/vnd.databricks.v1+cell": {
     "cellMetadata": {},
     "inputWidgets": {},
     "nuid": "9866874c-eaf4-49c8-8fa8-0ca9d196399d",
     "showTitle": false,
     "title": ""
    },
    "papermill": {
     "duration": 0.026316,
     "end_time": "2022-08-26T14:24:58.761901",
     "exception": false,
     "start_time": "2022-08-26T14:24:58.735585",
     "status": "completed"
    },
    "tags": []
   },
   "source": [
    "Para eliminar una o varias columnas, puede utilizar el método `drop` en PySpark. Eliminemos la columna `Insulin` con el método `drop`."
   ]
  },
  {
   "cell_type": "code",
   "execution_count": 0,
   "metadata": {
    "application/vnd.databricks.v1+cell": {
     "cellMetadata": {
      "byteLimit": 2048000,
      "rowLimit": 10000
     },
     "inputWidgets": {},
     "nuid": "66cc54b7-44a7-4f6d-93ad-4b47d58877bb",
     "showTitle": false,
     "title": ""
    },
    "execution": {
     "iopub.execute_input": "2022-08-26T14:24:58.817242Z",
     "iopub.status.busy": "2022-08-26T14:24:58.816821Z",
     "iopub.status.idle": "2022-08-26T14:24:59.062415Z",
     "shell.execute_reply": "2022-08-26T14:24:59.060895Z"
    },
    "papermill": {
     "duration": 0.277103,
     "end_time": "2022-08-26T14:24:59.065844",
     "exception": false,
     "start_time": "2022-08-26T14:24:58.788741",
     "status": "completed"
    },
    "tags": []
   },
   "outputs": [
    {
     "output_type": "stream",
     "name": "stdout",
     "output_type": "stream",
     "text": [
      "+-----------+-------+-------------+-------------+----+------------------------+---+-------+\n|Pregnancies|Glucose|BloodPressure|SkinThickness| BMI|DiabetesPedigreeFunction|Age|Outcome|\n+-----------+-------+-------------+-------------+----+------------------------+---+-------+\n|          6|    148|           72|           35|33.6|                   0.627| 50|      1|\n|          1|     85|           66|           29|26.6|                   0.351| 31|      0|\n|          8|    183|           64|            0|23.3|                   0.672| 32|      1|\n|          1|     89|           66|           23|28.1|                   0.167| 21|      0|\n|          0|    137|           40|           35|43.1|                   2.288| 33|      1|\n|          5|    116|           74|            0|25.6|                   0.201| 30|      0|\n|          3|     78|           50|           32|31.0|                   0.248| 26|      1|\n|         10|    115|            0|            0|35.3|                   0.134| 29|      0|\n|          2|    197|           70|           45|30.5|                   0.158| 53|      1|\n|          8|    125|           96|            0| 0.0|                   0.232| 54|      1|\n+-----------+-------+-------------+-------------+----+------------------------+---+-------+\nonly showing top 10 rows\n\n"
     ]
    }
   ],
   "source": [
    "# Deleting a column\n",
    "df.drop('Insulin').show(10)"
   ]
  },
  {
   "cell_type": "markdown",
   "metadata": {
    "application/vnd.databricks.v1+cell": {
     "cellMetadata": {},
     "inputWidgets": {},
     "nuid": "c496e91c-1c9b-49c2-b3fe-dcc9bcf61666",
     "showTitle": false,
     "title": ""
    },
    "papermill": {
     "duration": 0.041495,
     "end_time": "2022-08-26T14:24:59.165637",
     "exception": false,
     "start_time": "2022-08-26T14:24:59.124142",
     "status": "completed"
    },
    "tags": []
   },
   "source": [
    "Para eliminar los registros duplicados del Dataframe, puede utilizar el método `dropDuplicates`."
   ]
  },
  {
   "cell_type": "code",
   "execution_count": 0,
   "metadata": {
    "application/vnd.databricks.v1+cell": {
     "cellMetadata": {
      "byteLimit": 2048000,
      "rowLimit": 10000
     },
     "inputWidgets": {},
     "nuid": "ae6ea209-ac7c-4181-b846-a1a5e9663509",
     "showTitle": false,
     "title": ""
    },
    "execution": {
     "iopub.execute_input": "2022-08-26T14:24:59.239692Z",
     "iopub.status.busy": "2022-08-26T14:24:59.239089Z",
     "iopub.status.idle": "2022-08-26T14:24:59.799445Z",
     "shell.execute_reply": "2022-08-26T14:24:59.797176Z"
    },
    "papermill": {
     "duration": 0.598688,
     "end_time": "2022-08-26T14:24:59.803895",
     "exception": false,
     "start_time": "2022-08-26T14:24:59.205207",
     "status": "completed"
    },
    "tags": []
   },
   "outputs": [
    {
     "output_type": "stream",
     "name": "stdout",
     "output_type": "stream",
     "text": [
      "The number of records:  768\nThe number of records after removing the duplicate :  768\n"
     ]
    }
   ],
   "source": [
    "# Deleting the duplicate records\n",
    "print(\"The number of records: \", df.count())\n",
    "df=df.dropDuplicates()\n",
    "print(\"The number of records after removing the duplicate : \", df.count())"
   ]
  },
  {
   "cell_type": "markdown",
   "metadata": {
    "application/vnd.databricks.v1+cell": {
     "cellMetadata": {},
     "inputWidgets": {},
     "nuid": "0f7eec2d-0918-4563-bed4-6af72e94f525",
     "showTitle": false,
     "title": ""
    },
    "papermill": {
     "duration": 0.04146,
     "end_time": "2022-08-26T14:24:59.889564",
     "exception": false,
     "start_time": "2022-08-26T14:24:59.848104",
     "status": "completed"
    },
    "tags": []
   },
   "source": [
    "Como puede ver, no hay registros duplicados en el conjunto de datos."
   ]
  },
  {
   "cell_type": "markdown",
   "metadata": {
    "application/vnd.databricks.v1+cell": {
     "cellMetadata": {},
     "inputWidgets": {},
     "nuid": "dfb8fcb1-56aa-4a0e-bbc3-8abc8d419109",
     "showTitle": false,
     "title": ""
    },
    "papermill": {
     "duration": 0.038861,
     "end_time": "2022-08-26T14:24:59.972278",
     "exception": false,
     "start_time": "2022-08-26T14:24:59.933417",
     "status": "completed"
    },
    "tags": []
   },
   "source": [
    "\n",
    "# 12. Writing Data"
   ]
  },
  {
   "cell_type": "markdown",
   "metadata": {
    "application/vnd.databricks.v1+cell": {
     "cellMetadata": {},
     "inputWidgets": {},
     "nuid": "7d2b8b46-a990-441c-8a36-d0cd05aebfa7",
     "showTitle": false,
     "title": ""
    },
    "papermill": {
     "duration": 0.038146,
     "end_time": "2022-08-26T14:25:00.051708",
     "exception": false,
     "start_time": "2022-08-26T14:25:00.013562",
     "status": "completed"
    },
    "tags": []
   },
   "source": [
    "Después de realizar la manipulación de datos, a menudo querrás exportar los resultados. Puedes escribir el Dataframe limpio en la ubicación deseada en el formato requerido con el método `write`.\n",
    "\n",
    "Escribamos nuestros resultados en archivos CSV."
   ]
  },
  {
   "cell_type": "code",
   "execution_count": 0,
   "metadata": {
    "application/vnd.databricks.v1+cell": {
     "cellMetadata": {
      "byteLimit": 2048000,
      "rowLimit": 10000
     },
     "inputWidgets": {},
     "nuid": "966d19ac-d6c5-4292-ad78-34744dd38597",
     "showTitle": false,
     "title": ""
    }
   },
   "outputs": [],
   "source": [
    "# Guardar el DataFrame como CSV\n",
    "df.write.format(\"csv\").option(\"header\", \"true\").save(\"./Curso PySpark/prueba\")\n"
   ]
  },
  {
   "cell_type": "code",
   "execution_count": 0,
   "metadata": {
    "application/vnd.databricks.v1+cell": {
     "cellMetadata": {
      "byteLimit": 2048000,
      "rowLimit": 10000
     },
     "inputWidgets": {},
     "nuid": "e48d2ab2-7d16-4db7-bec9-f52e6873ac7c",
     "showTitle": false,
     "title": ""
    },
    "execution": {
     "iopub.execute_input": "2022-08-26T14:25:00.108827Z",
     "iopub.status.busy": "2022-08-26T14:25:00.108260Z",
     "iopub.status.idle": "2022-08-26T14:25:01.000880Z",
     "shell.execute_reply": "2022-08-26T14:25:00.999563Z"
    },
    "papermill": {
     "duration": 0.925514,
     "end_time": "2022-08-26T14:25:01.004761",
     "exception": false,
     "start_time": "2022-08-26T14:25:00.079247",
     "status": "completed"
    },
    "tags": []
   },
   "outputs": [],
   "source": [
    "# Exporting data\n",
    "df.write.csv(\"./data/my_dataset.csv\")"
   ]
  }
 ],
 "metadata": {
  "application/vnd.databricks.v1+notebook": {
   "dashboards": [],
   "environmentMetadata": null,
   "language": "python",
   "notebookMetadata": {
    "pythonIndentUnit": 4
   },
   "notebookName": "Manipulación de Datos con pyspark",
   "widgets": {}
  },
  "kernelspec": {
   "display_name": "Python 3",
   "language": "python",
   "name": "python3"
  },
  "language_info": {
   "codemirror_mode": {
    "name": "ipython",
    "version": 3
   },
   "file_extension": ".py",
   "mimetype": "text/x-python",
   "name": "python",
   "nbconvert_exporter": "python",
   "pygments_lexer": "ipython3",
   "version": "3.7.12"
  },
  "papermill": {
   "default_parameters": {},
   "duration": 91.504364,
   "end_time": "2022-08-26T14:25:04.785113",
   "environment_variables": {},
   "exception": null,
   "input_path": "__notebook__.ipynb",
   "output_path": "__notebook__.ipynb",
   "parameters": {},
   "start_time": "2022-08-26T14:23:33.280749",
   "version": "2.3.4"
  }
 },
 "nbformat": 4,
 "nbformat_minor": 0
}
